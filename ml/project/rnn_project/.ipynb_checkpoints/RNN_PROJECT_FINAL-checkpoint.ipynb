{
 "cells": [
  {
   "cell_type": "code",
   "execution_count": 0,
   "metadata": {
    "colab": {},
    "colab_type": "code",
    "id": "9D0Xrtnw8yJ3"
   },
   "outputs": [],
   "source": [
    "# 코랩으로 돌리면 이거 실행하기 (코랩만)\n",
    "\n",
    "# !apt-get update\n",
    "\n",
    "# !apt-get install g++ openjdk-8-jdk python-dev python3-dev\n",
    "\n",
    "# !pip3 install JPype1-py3\n",
    "\n",
    "# !pip3 install konlpy\n",
    "\n",
    "# !JAVA_HOME=\"/usr/lib/jvm/java-8-openjdk-amd64\""
   ]
  },
  {
   "cell_type": "code",
   "execution_count": 0,
   "metadata": {
    "colab": {},
    "colab_type": "code",
    "id": "ohGX-lI18yJ8"
   },
   "outputs": [],
   "source": [
    "import pandas as pd\n",
    "import numpy as np\n",
    "%matplotlib inline\n",
    "import matplotlib.pyplot as plt\n",
    "import re\n",
    "from tensorflow.keras.preprocessing.text import Tokenizer\n",
    "from tensorflow.keras.preprocessing.sequence import pad_sequences\n",
    "from konlpy.tag import Okt, Kkma"
   ]
  },
  {
   "cell_type": "code",
   "execution_count": 8,
   "metadata": {
    "colab": {
     "base_uri": "https://localhost:8080/",
     "height": 355
    },
    "colab_type": "code",
    "id": "ofK4trEW8yJ-",
    "outputId": "6749b7d3-522b-4ba6-ba4d-b20a85310a37"
   },
   "outputs": [
    {
     "data": {
      "text/html": [
       "<div>\n",
       "<style scoped>\n",
       "    .dataframe tbody tr th:only-of-type {\n",
       "        vertical-align: middle;\n",
       "    }\n",
       "\n",
       "    .dataframe tbody tr th {\n",
       "        vertical-align: top;\n",
       "    }\n",
       "\n",
       "    .dataframe thead th {\n",
       "        text-align: right;\n",
       "    }\n",
       "</style>\n",
       "<table border=\"1\" class=\"dataframe\">\n",
       "  <thead>\n",
       "    <tr style=\"text-align: right;\">\n",
       "      <th></th>\n",
       "      <th>score</th>\n",
       "      <th>review</th>\n",
       "    </tr>\n",
       "  </thead>\n",
       "  <tbody>\n",
       "    <tr>\n",
       "      <th>0</th>\n",
       "      <td>10</td>\n",
       "      <td>최고의 영화, 정말 감동입니다</td>\n",
       "    </tr>\n",
       "    <tr>\n",
       "      <th>1</th>\n",
       "      <td>10</td>\n",
       "      <td>오랜만에 좋은 영화봤네요</td>\n",
       "    </tr>\n",
       "    <tr>\n",
       "      <th>2</th>\n",
       "      <td>10</td>\n",
       "      <td>다 보고 박수 쳤습니다.</td>\n",
       "    </tr>\n",
       "    <tr>\n",
       "      <th>3</th>\n",
       "      <td>10</td>\n",
       "      <td>평점낮을이유전혀없어요.. 재미있게 잘봤습니다.</td>\n",
       "    </tr>\n",
       "    <tr>\n",
       "      <th>4</th>\n",
       "      <td>10</td>\n",
       "      <td>와  넷플릭스 요즘 영화 정말 잘 만든다. 최고~~!!</td>\n",
       "    </tr>\n",
       "    <tr>\n",
       "      <th>5</th>\n",
       "      <td>1</td>\n",
       "      <td>평점이 9.5 실화냐? 미친 눈깔이 쳐 뼈뿐나?</td>\n",
       "    </tr>\n",
       "    <tr>\n",
       "      <th>6</th>\n",
       "      <td>10</td>\n",
       "      <td>마지막 장면을 위해서 보는 영화. 처음엔 진지가 무섭고 싫었는데</td>\n",
       "    </tr>\n",
       "    <tr>\n",
       "      <th>7</th>\n",
       "      <td>5</td>\n",
       "      <td>솔직히 이거도 OO같은영화는 맞는데 최근에나온 라이즈오즈스카이워커인지 설정파괴 스카...</td>\n",
       "    </tr>\n",
       "    <tr>\n",
       "      <th>8</th>\n",
       "      <td>10</td>\n",
       "      <td>민주화운동 영화 중에서 제일 웰메이드로 만든거 같다 모든 아시아국들이 봤으면 좋겠다...</td>\n",
       "    </tr>\n",
       "    <tr>\n",
       "      <th>9</th>\n",
       "      <td>9</td>\n",
       "      <td>영화에서 현실성을 따지는 사람은 대체 뭘까?</td>\n",
       "    </tr>\n",
       "  </tbody>\n",
       "</table>\n",
       "</div>"
      ],
      "text/plain": [
       "   score                                             review\n",
       "0     10                                  최고의 영화, 정말 감동입니다 \n",
       "1     10                                     오랜만에 좋은 영화봤네요 \n",
       "2     10                                     다 보고 박수 쳤습니다. \n",
       "3     10                         평점낮을이유전혀없어요.. 재미있게 잘봤습니다. \n",
       "4     10                    와  넷플릭스 요즘 영화 정말 잘 만든다. 최고~~!! \n",
       "5      1                        평점이 9.5 실화냐? 미친 눈깔이 쳐 뼈뿐나? \n",
       "6     10               마지막 장면을 위해서 보는 영화. 처음엔 진지가 무섭고 싫었는데 \n",
       "7      5  솔직히 이거도 OO같은영화는 맞는데 최근에나온 라이즈오즈스카이워커인지 설정파괴 스카...\n",
       "8     10  민주화운동 영화 중에서 제일 웰메이드로 만든거 같다 모든 아시아국들이 봤으면 좋겠다...\n",
       "9      9                          영화에서 현실성을 따지는 사람은 대체 뭘까? "
      ]
     },
     "execution_count": 8,
     "metadata": {
      "tags": []
     },
     "output_type": "execute_result"
    }
   ],
   "source": [
    "train_data = pd.read_csv('result_1_1000.csv', sep=\",\", encoding='utf-8')  # 파일 이름 바꾸기, 파일&코드 위치에 있기\n",
    "train_data.head(10)"
   ]
  },
  {
   "cell_type": "code",
   "execution_count": 0,
   "metadata": {
    "colab": {},
    "colab_type": "code",
    "id": "8vpS8i_z8yKD"
   },
   "outputs": [],
   "source": [
    "train_data = train_data.dropna(how='any')"
   ]
  },
  {
   "cell_type": "code",
   "execution_count": 0,
   "metadata": {
    "colab": {},
    "colab_type": "code",
    "id": "ijtAiJfO8yKO"
   },
   "outputs": [],
   "source": [
    "# label\n",
    "def labeling(x):\n",
    "    if x >= 7:\n",
    "        x = 1\n",
    "    elif x <= 4:\n",
    "        x = 0\n",
    "    else:\n",
    "        x = None\n",
    "    return x\n",
    "\n",
    "train_data['score'] = train_data['score'].apply(labeling)"
   ]
  },
  {
   "cell_type": "code",
   "execution_count": 11,
   "metadata": {
    "colab": {
     "base_uri": "https://localhost:8080/",
     "height": 415
    },
    "colab_type": "code",
    "id": "TWxVQCq88yKT",
    "outputId": "f461585d-4b1a-4d0b-9f9d-296874ef87a4"
   },
   "outputs": [
    {
     "data": {
      "text/html": [
       "<div>\n",
       "<style scoped>\n",
       "    .dataframe tbody tr th:only-of-type {\n",
       "        vertical-align: middle;\n",
       "    }\n",
       "\n",
       "    .dataframe tbody tr th {\n",
       "        vertical-align: top;\n",
       "    }\n",
       "\n",
       "    .dataframe thead th {\n",
       "        text-align: right;\n",
       "    }\n",
       "</style>\n",
       "<table border=\"1\" class=\"dataframe\">\n",
       "  <thead>\n",
       "    <tr style=\"text-align: right;\">\n",
       "      <th></th>\n",
       "      <th>score</th>\n",
       "      <th>review</th>\n",
       "    </tr>\n",
       "  </thead>\n",
       "  <tbody>\n",
       "    <tr>\n",
       "      <th>0</th>\n",
       "      <td>1.0</td>\n",
       "      <td>최고의 영화, 정말 감동입니다</td>\n",
       "    </tr>\n",
       "    <tr>\n",
       "      <th>1</th>\n",
       "      <td>1.0</td>\n",
       "      <td>오랜만에 좋은 영화봤네요</td>\n",
       "    </tr>\n",
       "    <tr>\n",
       "      <th>2</th>\n",
       "      <td>1.0</td>\n",
       "      <td>다 보고 박수 쳤습니다.</td>\n",
       "    </tr>\n",
       "    <tr>\n",
       "      <th>3</th>\n",
       "      <td>1.0</td>\n",
       "      <td>평점낮을이유전혀없어요.. 재미있게 잘봤습니다.</td>\n",
       "    </tr>\n",
       "    <tr>\n",
       "      <th>4</th>\n",
       "      <td>1.0</td>\n",
       "      <td>와  넷플릭스 요즘 영화 정말 잘 만든다. 최고~~!!</td>\n",
       "    </tr>\n",
       "    <tr>\n",
       "      <th>...</th>\n",
       "      <td>...</td>\n",
       "      <td>...</td>\n",
       "    </tr>\n",
       "    <tr>\n",
       "      <th>9994</th>\n",
       "      <td>0.0</td>\n",
       "      <td>음...스토리풀게 ㅈㄹ많을 것 같았는데 영화시간이 10분남은걸보고 망작의 스멜이 났...</td>\n",
       "    </tr>\n",
       "    <tr>\n",
       "      <th>9995</th>\n",
       "      <td>0.0</td>\n",
       "      <td>파수꾼배우들! 기대하는 마음 티비켰는데 리얼 남는건 실망뿐... 아 이게 무슨 얘기...</td>\n",
       "    </tr>\n",
       "    <tr>\n",
       "      <th>9996</th>\n",
       "      <td>1.0</td>\n",
       "      <td>진짜 먹먹해지는 영화 ㅠ 쓰다만 데이브의 이름이 미치도록 짠하고 우울하다 ㅠ 명작</td>\n",
       "    </tr>\n",
       "    <tr>\n",
       "      <th>9997</th>\n",
       "      <td>1.0</td>\n",
       "      <td>난 재밌게 봤다.존윅 개봉 당시 재밌다고 추천 도 하고 했는데 ,사실 존윅 2보면 ...</td>\n",
       "    </tr>\n",
       "    <tr>\n",
       "      <th>9999</th>\n",
       "      <td>1.0</td>\n",
       "      <td>크리스틴이 팬텀에게 자꾸 음악의 천사 음악의 천사 하지만 본인이 천사가 아니신지.,...</td>\n",
       "    </tr>\n",
       "  </tbody>\n",
       "</table>\n",
       "<p>8240 rows × 2 columns</p>\n",
       "</div>"
      ],
      "text/plain": [
       "      score                                             review\n",
       "0       1.0                                  최고의 영화, 정말 감동입니다 \n",
       "1       1.0                                     오랜만에 좋은 영화봤네요 \n",
       "2       1.0                                     다 보고 박수 쳤습니다. \n",
       "3       1.0                         평점낮을이유전혀없어요.. 재미있게 잘봤습니다. \n",
       "4       1.0                    와  넷플릭스 요즘 영화 정말 잘 만든다. 최고~~!! \n",
       "...     ...                                                ...\n",
       "9994    0.0  음...스토리풀게 ㅈㄹ많을 것 같았는데 영화시간이 10분남은걸보고 망작의 스멜이 났...\n",
       "9995    0.0  파수꾼배우들! 기대하는 마음 티비켰는데 리얼 남는건 실망뿐... 아 이게 무슨 얘기...\n",
       "9996    1.0     진짜 먹먹해지는 영화 ㅠ 쓰다만 데이브의 이름이 미치도록 짠하고 우울하다 ㅠ 명작 \n",
       "9997    1.0  난 재밌게 봤다.존윅 개봉 당시 재밌다고 추천 도 하고 했는데 ,사실 존윅 2보면 ...\n",
       "9999    1.0  크리스틴이 팬텀에게 자꾸 음악의 천사 음악의 천사 하지만 본인이 천사가 아니신지.,...\n",
       "\n",
       "[8240 rows x 2 columns]"
      ]
     },
     "execution_count": 11,
     "metadata": {
      "tags": []
     },
     "output_type": "execute_result"
    }
   ],
   "source": [
    "train_data = train_data.dropna(how='any')\n",
    "train_data"
   ]
  },
  {
   "cell_type": "code",
   "execution_count": 0,
   "metadata": {
    "colab": {},
    "colab_type": "code",
    "id": "n20KKaUs8yKV"
   },
   "outputs": [],
   "source": [
    "train_data['score'] = pd.to_numeric(train_data['score'], downcast='integer')"
   ]
  },
  {
   "cell_type": "code",
   "execution_count": 13,
   "metadata": {
    "colab": {
     "base_uri": "https://localhost:8080/",
     "height": 73
    },
    "colab_type": "code",
    "id": "Razf7YMS8yKY",
    "outputId": "d2b38965-a71a-4f3f-d286-a24d39784391"
   },
   "outputs": [
    {
     "data": {
      "text/plain": [
       "1    5676\n",
       "0    2564\n",
       "Name: score, dtype: int64"
      ]
     },
     "execution_count": 13,
     "metadata": {
      "tags": []
     },
     "output_type": "execute_result"
    }
   ],
   "source": [
    "train_data['score'].value_counts()"
   ]
  },
  {
   "cell_type": "code",
   "execution_count": 14,
   "metadata": {
    "colab": {
     "base_uri": "https://localhost:8080/",
     "height": 281
    },
    "colab_type": "code",
    "id": "snVGf-LX8yKb",
    "outputId": "2391f0cb-874b-4c0d-b1d1-8c0f6c451b7e"
   },
   "outputs": [
    {
     "data": {
      "text/plain": [
       "<matplotlib.axes._subplots.AxesSubplot at 0x7fad2e3efcf8>"
      ]
     },
     "execution_count": 14,
     "metadata": {
      "tags": []
     },
     "output_type": "execute_result"
    },
    {
     "data": {
      "image/png": "[encoded data removed]",
      "text/plain": [
       "<Figure size 432x288 with 1 Axes>"
      ]
     },
     "metadata": {
      "needs_background": "light",
      "tags": []
     },
     "output_type": "display_data"
    }
   ],
   "source": [
    "train_data['score'].value_counts().plot(kind='bar')"
   ]
  },
  {
   "cell_type": "code",
   "execution_count": 15,
   "metadata": {
    "colab": {
     "base_uri": "https://localhost:8080/",
     "height": 415
    },
    "colab_type": "code",
    "id": "i6fGVfBr8yKf",
    "outputId": "adeb57c3-a64f-4896-b6c0-7b40e8935831"
   },
   "outputs": [
    {
     "data": {
      "text/html": [
       "<div>\n",
       "<style scoped>\n",
       "    .dataframe tbody tr th:only-of-type {\n",
       "        vertical-align: middle;\n",
       "    }\n",
       "\n",
       "    .dataframe tbody tr th {\n",
       "        vertical-align: top;\n",
       "    }\n",
       "\n",
       "    .dataframe thead th {\n",
       "        text-align: right;\n",
       "    }\n",
       "</style>\n",
       "<table border=\"1\" class=\"dataframe\">\n",
       "  <thead>\n",
       "    <tr style=\"text-align: right;\">\n",
       "      <th></th>\n",
       "      <th>score</th>\n",
       "      <th>review</th>\n",
       "    </tr>\n",
       "  </thead>\n",
       "  <tbody>\n",
       "    <tr>\n",
       "      <th>0</th>\n",
       "      <td>1</td>\n",
       "      <td>최고의영화정말감동입니다</td>\n",
       "    </tr>\n",
       "    <tr>\n",
       "      <th>1</th>\n",
       "      <td>1</td>\n",
       "      <td>오랜만에좋은영화봤네요</td>\n",
       "    </tr>\n",
       "    <tr>\n",
       "      <th>2</th>\n",
       "      <td>1</td>\n",
       "      <td>다보고박수쳤습니다</td>\n",
       "    </tr>\n",
       "    <tr>\n",
       "      <th>3</th>\n",
       "      <td>1</td>\n",
       "      <td>평점낮을이유전혀없어요재미있게잘봤습니다</td>\n",
       "    </tr>\n",
       "    <tr>\n",
       "      <th>4</th>\n",
       "      <td>1</td>\n",
       "      <td>와넷플릭스요즘영화정말잘만든다최고</td>\n",
       "    </tr>\n",
       "    <tr>\n",
       "      <th>...</th>\n",
       "      <td>...</td>\n",
       "      <td>...</td>\n",
       "    </tr>\n",
       "    <tr>\n",
       "      <th>9994</th>\n",
       "      <td>0</td>\n",
       "      <td>음스토리풀게ㅈㄹ많을것같았는데영화시간이분남은걸보고망작의스멜이났다편이나오지않고서야이건뭔...</td>\n",
       "    </tr>\n",
       "    <tr>\n",
       "      <th>9995</th>\n",
       "      <td>0</td>\n",
       "      <td>파수꾼배우들기대하는마음티비켰는데리얼남는건실망뿐아이게무슨얘기임대쳌ㅋㅋ</td>\n",
       "    </tr>\n",
       "    <tr>\n",
       "      <th>9996</th>\n",
       "      <td>1</td>\n",
       "      <td>진짜먹먹해지는영화ㅠ쓰다만데이브의이름이미치도록짠하고우울하다ㅠ명작</td>\n",
       "    </tr>\n",
       "    <tr>\n",
       "      <th>9997</th>\n",
       "      <td>1</td>\n",
       "      <td>난재밌게봤다존윅개봉당시재밌다고추천도하고했는데사실존윅보면총검술이무용같지않냐예전중국영화...</td>\n",
       "    </tr>\n",
       "    <tr>\n",
       "      <th>9999</th>\n",
       "      <td>1</td>\n",
       "      <td>크리스틴이팬텀에게자꾸음악의천사음악의천사하지만본인이천사가아니신지하는굿굿베리굿잡영화였습...</td>\n",
       "    </tr>\n",
       "  </tbody>\n",
       "</table>\n",
       "<p>8240 rows × 2 columns</p>\n",
       "</div>"
      ],
      "text/plain": [
       "      score                                             review\n",
       "0         1                                       최고의영화정말감동입니다\n",
       "1         1                                        오랜만에좋은영화봤네요\n",
       "2         1                                          다보고박수쳤습니다\n",
       "3         1                               평점낮을이유전혀없어요재미있게잘봤습니다\n",
       "4         1                                  와넷플릭스요즘영화정말잘만든다최고\n",
       "...     ...                                                ...\n",
       "9994      0  음스토리풀게ㅈㄹ많을것같았는데영화시간이분남은걸보고망작의스멜이났다편이나오지않고서야이건뭔...\n",
       "9995      0              파수꾼배우들기대하는마음티비켰는데리얼남는건실망뿐아이게무슨얘기임대쳌ㅋㅋ\n",
       "9996      1                 진짜먹먹해지는영화ㅠ쓰다만데이브의이름이미치도록짠하고우울하다ㅠ명작\n",
       "9997      1  난재밌게봤다존윅개봉당시재밌다고추천도하고했는데사실존윅보면총검술이무용같지않냐예전중국영화...\n",
       "9999      1  크리스틴이팬텀에게자꾸음악의천사음악의천사하지만본인이천사가아니신지하는굿굿베리굿잡영화였습...\n",
       "\n",
       "[8240 rows x 2 columns]"
      ]
     },
     "execution_count": 15,
     "metadata": {
      "tags": []
     },
     "output_type": "execute_result"
    }
   ],
   "source": [
    "train_data['review'] = train_data['review'].str.replace(\"[^ㄱ-ㅎㅏ-ㅣ가-힇]\", \"\")\n",
    "train_data"
   ]
  },
  {
   "cell_type": "code",
   "execution_count": 16,
   "metadata": {
    "colab": {
     "base_uri": "https://localhost:8080/",
     "height": 73
    },
    "colab_type": "code",
    "id": "0rm3a27z8yKk",
    "outputId": "a4e726a2-6600-4780-9a1e-6a0634bddb6b"
   },
   "outputs": [
    {
     "data": {
      "text/plain": [
       "score      0\n",
       "review    52\n",
       "dtype: int64"
      ]
     },
     "execution_count": 16,
     "metadata": {
      "tags": []
     },
     "output_type": "execute_result"
    }
   ],
   "source": [
    "train_data['review'].replace('', np.nan, inplace=True)\n",
    "train_data.isnull().sum()"
   ]
  },
  {
   "cell_type": "code",
   "execution_count": 0,
   "metadata": {
    "colab": {},
    "colab_type": "code",
    "id": "zOwCtf5D8yKm"
   },
   "outputs": [],
   "source": [
    "train_data = train_data.dropna(how='any')"
   ]
  },
  {
   "cell_type": "code",
   "execution_count": 18,
   "metadata": {
    "colab": {
     "base_uri": "https://localhost:8080/",
     "height": 73
    },
    "colab_type": "code",
    "id": "7ggCqVb98yKp",
    "outputId": "10282dd1-deef-4ab8-e0eb-5c2dceb9b28a"
   },
   "outputs": [
    {
     "data": {
      "text/plain": [
       "score     0\n",
       "review    0\n",
       "dtype: int64"
      ]
     },
     "execution_count": 18,
     "metadata": {
      "tags": []
     },
     "output_type": "execute_result"
    }
   ],
   "source": [
    "train_data.isnull().sum()"
   ]
  },
  {
   "cell_type": "markdown",
   "metadata": {
    "colab_type": "text",
    "id": "2cwZ3U928yKr"
   },
   "source": [
    "# 이거 전까지 돌려서 아래 stopword 고치기!!\n",
    "<br>\n",
    "## stopwords -> 한국어의 조사와 같이 의미가 없을 것 같은 단어 목록 <br>\n",
    "- 여기에 추가하고 나서 아래 코드 고치기!! <br>\n",
    "- stopwords=[여기에 적어오기]"
   ]
  },
  {
   "cell_type": "code",
   "execution_count": 0,
   "metadata": {
    "colab": {},
    "colab_type": "code",
    "id": "1pi-3qX08yKs"
   },
   "outputs": [],
   "source": [
    "# stopwords -> 한국어의 조사, 은,는,이,가,을,를,잘,도...\n",
    "# stopwords=['의','가','이','는','은','들','잘','좀','과','도','을','를','으로','한','하다','에']"
   ]
  },
  {
   "cell_type": "markdown",
   "metadata": {
    "colab_type": "text",
    "id": "4mlkzMhT8yKu"
   },
   "source": [
    "# 여기 아래는 건들지 맙시다~~"
   ]
  },
  {
   "cell_type": "code",
   "execution_count": 0,
   "metadata": {
    "colab": {},
    "colab_type": "code",
    "id": "2eaTWqBy8yKu"
   },
   "outputs": [],
   "source": [
    "# # 불용어 제거, 형태소 토큰화 작업\n",
    "# okt = Okt() \n",
    "\n",
    "# X_train = []\n",
    "# for sentence in train_data['review']:\n",
    "#     temp_x = []\n",
    "#     temp_x = okt.morphs(sentence, stem=True) # Tokenizing\n",
    "#     temp_x = [word for word in temp_x if not word in stopwords] # 불용어\n",
    "#     X_train.append(temp_x)\n",
    "# print(X_train[:5])"
   ]
  },
  {
   "cell_type": "code",
   "execution_count": 0,
   "metadata": {
    "colab": {},
    "colab_type": "code",
    "id": "UISLGN088yKy"
   },
   "outputs": [],
   "source": [
    "# kkma = Kkma()\n",
    "# X_train = []\n",
    "# for sentence in train_data['review']:\n",
    "#     temp_x = []\n",
    "#     temp_x = kkma.morphs(sentence) # Tokenizing\n",
    "#     X_train.append(temp_x)\n",
    "# print(X_train[:5])"
   ]
  },
  {
   "cell_type": "markdown",
   "metadata": {
    "colab_type": "text",
    "id": "qpXrLE7SJc7u"
   },
   "source": [
    "# 불용어 작업이 된 파일을 불러오고 싶을 때"
   ]
  },
  {
   "cell_type": "code",
   "execution_count": 0,
   "metadata": {
    "colab": {},
    "colab_type": "code",
    "id": "csDe8flW8yK0"
   },
   "outputs": [],
   "source": [
    "import pickle\n",
    "\n",
    "# with open(\"X_train.txt\", \"wb\") as fp:   #Pickling\n",
    "#     pickle.dump(X_train, fp)\n",
    "\n",
    "with open(\"X_train_kkma.txt\", \"rb\") as fp:   # Unpickling\n",
    "    X_train = pickle.load(fp)\n",
    "    "
   ]
  },
  {
   "cell_type": "code",
   "execution_count": 23,
   "metadata": {
    "colab": {
     "base_uri": "https://localhost:8080/",
     "height": 56
    },
    "colab_type": "code",
    "collapsed": true,
    "id": "eoCoqR4I8yK-",
    "jupyter": {
     "outputs_hidden": true
    },
    "outputId": "d34fb1a8-2b64-4119-f42d-3d8e6a76b22f"
   },
   "outputs": [
    {
     "name": "stdout",
     "output_type": "stream",
     "text": [
      "{'이': 1, '하': 2, '는': 3, 'ㄴ': 4, '고': 5, '영화': 6, '었': 7, '보': 8, '다': 9, '을': 10, '은': 11, '에': 12, 'ㄹ': 13, '어': 14, '가': 15, '의': 16, '도': 17, '들': 18, '았': 19, '게': 20, '것': 21, '를': 22, '있': 23, '지': 24, '아': 25, '좋': 26, '없': 27, '는데': 28, '나': 29, '되': 30, '으로': 31, '음': 32, '너무': 33, '스토리': 34, 'ㅁ': 35, '로': 36, '에서': 37, '같': 38, '연기': 39, '어서': 40, '더': 41, '배우': 42, '만': 43, 'ㅂ니다': 44, '재밌': 45, '거': 46, '지만': 47, '진짜': 48, '수': 49, '어요': 50, '아니': 51, '긴장감': 52, '않': 53, '그': 54, '습니다': 55, '면': 56, '과': 57, '생각': 58, '네요': 59, '주': 60, 'ㄴ다': 61, '평점': 62, '기': 63, '네': 64, '만들': 65, '안': 66, '시간': 67, '나오': 68, '라': 69, '겠': 70, '잘': 71, '니': 72, '사람': 73, '때': 74, '알': 75, '까지': 76, '싶': 77, '정말': 78, '그냥': 79, '왜': 80, '액션': 81, '연출': 82, '감독': 83, '오': 84, '와': 85, 'ㄴ데': 86, '면서': 87, '아서': 88, '점': 89, '듯': 90, '말': 91, '최고': 92, '보다': 93, '으면': 94, '서': 95, 'ㄴ지': 96, '기대': 97, '넷': 98, '분': 99, '많': 100, '정도': 101, '모르': 102, '저': 103, '요': 104, '잼': 105, '냐': 106, '한국': 107, '시': 108, '좀': 109, '내': 110, '라고': 111, '느낌': 112, '장면': 113, '다는': 114, '이런': 115, '내용': 116, '이것': 117, '남': 118, 'ㅋㅋ': 119, '못': 120, '어야': 121, '끝': 122, '아쉽': 123, '뭐': 124, '몰입': 125, '재미있': 126, '사냥': 127, '라는': 128, '다가': 129, '크': 130, '작품': 131, '개': 132, '어도': 133, '많이': 134, '중': 135, '님': 136, '마지막': 137, '처음': 138, 'ㄴ가': 139, '없이': 140, '아도': 141, '줄': 142, '다시': 143, '이렇': 144, '며': 145, '내내': 146, '못하': 147, '하나': 148, '그렇': 149, '살': 150, '두': 151, '부터': 152, 'ㅠㅠ': 153, '쓰': 154, '에게': 155, '사랑': 156, '만하': 157, '듣': 158, '는지': 159, '은데': 160, '임': 161, '긴장': 162, '전': 163, '리': 164, '아깝': 165, '무엇': 166, '영상미': 167, '건': 168, '데': 169, '느끼': 170, '부분': 171, '개봉': 172, '아요': 173, '배경': 174, '보고': 175, '플릭스': 176, '그리': 177, '그리하': 178, '낮': 179, '괜찮': 180, '개연성': 181, '돈': 182, '버리': 183, '이제': 184, '맞': 185, '이해': 186, '하다': 187, '야': 188, '때문': 189, '까': 190, '인생': 191, '대하': 192, '이야기': 193, '처럼': 194, '자': 195, '다고': 196, '이나': 197, '갈': 198, '편': 199, '잘하': 200, '드': 201, '노': 202, '애': 203, '여': 204, '감동': 205, '꼭': 206, '음악': 207, '적': 208, '키': 209, '당하': 210, '미': 211, '주인공': 212, '죽': 213, '받': 214, 'ㅋㅋㅋ': 215, '스럽': 216, '대': 217, '타임': 218, '년': 219, '아야': 220, '재미': 221, '지루': 222, '세요': 223, '터': 224, '치': 225, '연기력': 226, '높': 227, '그러': 228, '뭔': 229, '중간': 230, '또': 231, '이상': 232, '결말': 233, '작': 234, '좋아하': 235, '극장': 236, '우': 237, '재미없': 238, '무슨': 239, '일': 240, '놓': 241, '훈': 242, '안되': 243, '모든': 244, '마음': 245, '추천': 246, '감': 247, '영화관': 248, '지금': 249, '우리': 250, '초반': 251, '가지': 252, '한': 253, '총': 254, '참': 255, '이거': 256, '배': 257, '속': 258, '보이': 259, '보여주': 260, '마': 261, '넘': 262, '봄': 263, '한번': 264, '여도': 265, '구': 266, '울': 267, '수준': 268, '별': 269, '표현': 270, '스': 271, '낳': 272, '화': 273, '무섭': 274, '씬': 275, '박': 276, '려': 277, '늘': 278, 'ㅠ': 279, '말하': 280, '감정': 281, '이랑': 282, '위하': 283, '듯하': 284, '번': 285, '그리고': 286, '대사': 287, '다면': 288, '공포': 289, '설정': 290, '끝나': 291, '이렇게': 292, '을까': 293, 'ㄹ까': 294, '연': 295, 'ㅎㅎ': 296, '답답': 297, '랑': 298, '김': 299, '였': 300, '걸': 301, '링': 302, '어떻': 303, '명작': 304, '찍': 305, '코로나': 306, '내가': 307, '사': 308, '전개': 309, 'ㄷ': 310, '딱': 311, '영상': 312, '믿': 313, '적인': 314, '평': 315, '캐릭터': 316, '미치': 317, '모두': 318, '몇': 319, '쓰레기': 320, '글': 321, '나름': 322, '러': 323, '먹': 324, '소재': 325, '이유': 326, '계속': 327, '오랜만': 328, '다른': 329, '설명': 330, '자체': 331, 'ㄹ지': 332, '식': 333, '분위기': 334, '넘치': 335, '훌륭': 336, '급': 337, '눈': 338, '현실': 339, 'ㅋ': 340, '디': 341, '정': 342, 'ㄴ다는': 343, '세상': 344, '완전': 345, '란': 346, '볼만': 347, '최악': 348, '감사': 349, '집': 350, '근데': 351, '여자': 352, 'ㅇ': 353, '테러': 354, '알바': 355, '친구': 356, '려고': 357, '개인적': 358, '용': 359, '완벽': 360, '토': 361, '기억': 362, '이러': 363, '후': 364, '다니': 365, '나쁘': 366, '엄청': 367, '슬프': 368, '조금': 369, '찾': 370, '뻔하': 371, '길': 372, '부족': 373, '남자': 374, '기에': 375, '상황': 376, '해지': 377, '만큼': 378, '별로': 379, '모습': 380, '미래': 381, '허': 382, '라면': 383, '눈물': 384, '느껴지': 385, '같이': 386, '뿐': 387, '가장': 388, '망': 389, '충': 390, '물': 391, '아이': 392, '역시': 393, '인간': 394, '으나': 395, '앞': 396, '간': 397, '그것': 398, '롭': 399, '시키': 400, '세': 401, '한테': 402, '다르': 403, '라도': 404, '남기': 405, '끄': 406, '떨어지': 407, '마다': 408, '전혀': 409, '덜': 410, '전쟁': 411, '영': 412, '밖에': 413, '트': 414, '신선': 415, '타': 416, '일본': 417, '스릴러': 418, '해보': 419, '간만': 420, '아주': 421, '댓': 422, '재': 423, '죠': 424, '가족': 425, 'ㄴ다고': 426, '시대': 427, '파수꾼': 428, '관객': 429, '존': 430, '결국': 431, '실망': 432, '누': 433, '삶': 434, '솔': 435, '선': 436, '뻔': 437, '플': 438, '등': 439, '최': 440, '네이버': 441, '아름답': 442, '문': 443, '빠지': 444, 'ㅋㅋㅋㅋ': 445, '엔딩': 446, '쩔': 447, '아직': 448, '직': 449, '레': 450, '의미': 451, '빼': 452, '죽이': 453, '차': 454, '나라': 455, '떡밥': 456, '여운': 457, '이정': 458, '기분': 459, '있다': 460, '매력': 461, '웃': 462, 'ㅎ': 463, '시작': 464, '반전': 465, '사실': 466, '대박': 467, '상': 468, '놈': 469, '대단': 470, '어리': 471, '동안': 472, '티': 473, '니까': 474, '스릴': 475, '요즘': 476, '슬': 477, '가슴': 478, '피': 479, '안하': 480, '집중': 481, '던데': 482, '초': 483, '얼굴': 484, '답': 485, '평가': 486, '인물': 487, '심장': 488, '하지만': 489, '짱': 490, '소리': 491, '예쁘': 492, '절대': 493, '문제': 494, '피아': 495, '잡': 496, '위': 497, '욕': 498, '있음': 499, '시절': 500, '그런': 501, '우리나라': 502, '둘': 503, '다이': 504, '성': 505, '거지': 506, '웃기': 507, '이후': 508, '어느': 509, '혼자': 510, 'ㄴ다면': 511, '짓': 512, '호': 513, '특': 514, '함께': 515, '감상': 516, '자신': 517, '굿': 518, '쏘': 519, '넣': 520, '명': 521, '아무': 522, '얼마나': 523, '필요': 524, '거나': 525, '정민': 526, '안타깝': 527, '그래서': 528, '닿': 529, '시리즈': 530, '멋지': 531, '행복': 532, '신': 533, '살리': 534, '씨': 535, '몰': 536, '누구': 537, '멋있': 538, '르': 539, '귀엽': 540, '시나리오': 541, '중국': 542, '감성': 543, '극': 544, '가능': 545, '기다리': 546, '손': 547, '더라': 548, '디스': 549, '베': 550, '소름': 551, '녀': 552, '풀': 553, '길래': 554, '다하': 555, '제일': 556, '막': 557, '잇': 558, '진심': 559, '매우': 560, '진실': 561, '짜': 562, '장': 563, '제목': 564, '당': 565, '드리': 566, '사운드': 567, '보시': 568, '다행': 569, '걸리': 570, '중반': 571, '입': 572, '고하': 573, 'ㅜㅜ': 574, '잊': 575, '장르': 576, '팔': 577, '장난': 578, '어떤': 579, '숨': 580, '무': 581, '뒤': 582, '노래': 583, '반': 584, 'ㅈ': 585, '드라마': 586, '촬영': 587, '유치': 588, '잔인': 589, '공감': 590, '나이': 591, '어울리': 592, '벌': 593, '후속': 594, '잔잔': 595, '단순': 596, 'ㅡㅡ': 597, '여기': 598, '감동적': 599, '꿈': 600, '생': 601, '형': 602, '흥미': 603, '함': 604, '메': 605, '들이': 606, '억지': 607, '나가': 608, '역': 609, '날': 610, '데이': 611, '바': 612, '도면': 613, '원작': 614, '다그': 615, '점수': 616, '사회': 617, '아프': 618, '만나': 619, '들어가': 620, '다만': 621, '제대로': 622, '본': 623, '발': 624, '여러': 625, '굳이': 626, '억': 627, '대체': 628, '낫': 629, '나도': 630, '식이': 631, '으면서': 632, '역사': 633, '햄': 634, '담': 635, '짐': 636, '물론': 637, '라서': 638, '외': 639, '으며': 640, '똥': 641, '그나마': 642, '쫄깃': 643, '수작': 644, '엄청나': 645, '어설프': 646, '데리': 647, '일단': 648, '비': 649, '불': 650, '다음': 651, '미국': 652, '러닝': 653, '이번': 654, '어쩌': 655, '카': 656, '조': 657, '존재': 658, '얘기': 659, '어디': 660, '거기': 661, '너무나': 662, '전부': 663, '후회': 664, '플릭': 665, '약간': 666, '구나': 667, '아까': 668, '차라리': 669, '아쉬움': 670, '졸': 671, '서로': 672, '코': 673, '어색': 674, '바라': 675, '또한': 676, '생각나': 677, '대한민국': 678, '소': 679, '제': 680, '당시': 681, '해': 682, '킬러': 683, '판': 684, '연출력': 685, '든': 686, '잘못': 687, '부': 688, '보기': 689, '나요': 690, '엄마': 691, '여주': 692, '훨씬': 693, '게임': 694, '고는': 695, '제작': 696, '좀더': 697, '원': 698, '바로': 699, '국': 700, '봉': 701, '돋': 702, '맘': 703, '포인트': 704, '그저': 705, '아무리': 706, '주고': 707, '으니': 708, '윤': 709, '떨': 710, '강추': 711, '화면': 712, '달': 713, '그대로': 714, '매': 715, '꺼': 716, '망하': 717, '요소': 718, '세계': 719, '팬': 720, '도대체': 721, '점대': 722, '그때': 723, '등장': 724, '오늘': 725, '리얼': 726, '류': 727, '사건': 728, '더니': 729, '멀': 730, '비하': 731, '잃': 732, '룡': 733, '후반': 734, '고자': 735, '런': 736, '지나': 737, '회수': 738, '세계관': 739, '민': 740, '제발': 741, '역대': 742, '운': 743, '어른': 744, '존나': 745, '뛰어나': 746, '순간': 747, '심': 748, '코미디': 749, '즐기': 750, '최근': 751, '맨': 752, '카메라': 753, '깨': 754, '머리': 755, '밋': 756, '인': 757, '통하': 758, 'ㄹ라': 759, '느': 760, '질': 761, '싫': 762, '후반부': 763, '생기': 764, '너': 765, '밖': 766, '어이': 767, '이리': 768, '에요': 769, '하나하나': 770, '따뜻': 771, '주연': 772, '한데': 773, '서점': 774, '놀라': 775, '각': 776, '진부': 777, '암': 778, '더빙': 779, '구요': 780, '불편': 781, '선택': 782, '찾아보': 783, '예상': 784, '여성': 785, '쫄': 786, '자기': 787, '땀': 788, '한이': 789, '없다': 790, '송': 791, '관람': 792, '희망': 793, '싸우': 794, '디테일': 795, '딩': 796, '윅': 797, '죽음': 798, '캐스팅': 799, '맞추': 800, '가볍': 801, '이름': 802, '걍': 803, '보세': 804, '떠나': 805, '필요없': 806, '새': 807, '추격': 808, '올해': 809, '털': 810, '맛': 811, '현': 812, '꿀': 813, '봣': 814, '첨': 815, '궁금': 816, '주제': 817, '쉬': 818, '오지': 819, '빌': 820, '유': 821, '뜨': 822, '빨리': 823, '머': 824, '짜리': 825, '줌': 826, '약하': 827, '고생': 828, '이지만': 829, '로맨스': 830, '쉽': 831, '잘생기': 832, '만족': 833, '실적': 834, '도로': 835, 'ㅅ': 836, '실제': 837, '테이크': 838, '언': 839, '봐': 840, '쥐': 841, '라니': 842, '살아가': 843, '우정': 844, '편집': 845, '저러': 846, '깊': 847, '잠': 848, '지리': 849, '뭐하': 850, '다소': 851, '왕': 852, '려는': 853, '터지': 854, '대로': 855, '마무리': 856, '굉장': 857, '거의': 858, '곳': 859, '이하': 860, '예': 861, '셰': 862, '트롤': 863, '강': 864, '진': 865, '가치': 866, '비슷': 867, '냥': 868, '시도': 869, '행동': 870, '속편': 871, '나의': 872, '만점': 873, '추억': 874, '세월': 875, '너무너무': 876, '싸움': 877, '금': 878, '절': 879, '병': 880, '끼': 881, '특유': 882, '청춘': 883, '추': 884, '도박장': 885, '출연': 886, '분명': 887, '과정': 888, '구성': 889, '놀': 890, '충분': 891, '심하': 892, '바꾸': 893, '번째': 894, '솔직': 895, '으시': 896, '점점': 897, '꽤': 898, '도망': 899, '푸': 900, '긴하': 901, '단': 902, '접하': 903, '몰르': 904, '거리': 905, 'ㅠㅠㅠ': 906, '결론': 907, '전체적': 908, '박해': 909, '옛날': 910, '론': 911, '대충': 912, '안재홍': 913, '네이': 914, '탄탄': 915, '언제': 916, '따': 917, '코믹': 918, '의도': 919, '떠오르': 920, '기생충': 921, '총기': 922, '돋보이': 923, '끝내': 924, '견': 925, '총질': 926, '순': 927, '중요': 928, '멋': 929, '노력': 930, '열': 931, '아빠': 932, '상상': 933, '저렇': 934, '먹먹': 935, '범죄': 936, '역할': 937, '음향': 938, '이미': 939, '곤': 940, '아저씨': 941, '자꾸': 942, '평범': 943, '관계': 944, '불쌍': 945, '끌': 946, '허술': 947, '씩': 948, '상당': 949, '그거': 950, '있었': 951, '성공': 952, '경찰': 953, '편이': 954, '메세지': 955, '어렵': 956, '어로': 957, 'ㅜ': 958, '확': 959, 'ㄱ': 960, '평론가': 961, '천': 962, '토르': 963, '내시': 964, '법': 965, '표정': 966, '쫓기': 967, '담배': 968, '현재': 969, '갈수록': 970, '날리': 971, '던지': 972, '갖': 973, '젊': 974, '신나': 975, '없었': 976, '독특': 977, '엽': 978, '마시': 979, '갑자기': 980, '도시': 981, '이기': 982, '어야지': 983, '근': 984, '이야': 985, '기력': 986, '읽': 987, '얼': 988, '마저': 989, '입감': 990, '더하': 991, '쫄리': 992, '깔': 993, '조작': 994, '포기': 995, '시기': 996, '마라': 997, '무조건': 998, '새롭': 999, '작가': 1000, '새끼': 1001, '감도': 1002, '폭': 1003, '진행': 1004, '매력적': 1005, '첫': 1006, '능력': 1007, '짧': 1008, '던': 1009, '오글거리': 1010, '빨': 1011, '흥행': 1012, '처': 1013, '실': 1014, '신파': 1015, '명이': 1016, '이래': 1017, '신기': 1018, '헤': 1019, '감이': 1020, '도망가': 1021, '이제야': 1022, '땋': 1023, '자단': 1024, '티비': 1025, '실화': 1026, '웨': 1027, '오락': 1028, '심지어': 1029, '군': 1030, '겁': 1031, '리뷰': 1032, '이건': 1033, '긷': 1034, '돌아가': 1035, '질질': 1036, '놓치': 1037, '인상깊': 1038, '도이': 1039, '설': 1040, '낭비': 1041, '박수': 1042, '모': 1043, '한명': 1044, '고민': 1045, '이시': 1046, '놀랍': 1047, '인정': 1048, '보내': 1049, '도록': 1050, '성장': 1051, '악': 1052, '되게': 1053, '움': 1054, '괜': 1055, '따지': 1056, '아무것': 1057, '블': 1058, '즐겁': 1059, '잖아': 1060, '은지': 1061, '목': 1062, '포': 1063, '눈빛': 1064, '인하': 1065, '의식': 1066, '올리': 1067, '예산': 1068, '그런데': 1069, '이딴': 1070, '본인': 1071, '멍청': 1072, '애초': 1073, '묻': 1074, '짜증': 1075, '커': 1076, '시즌': 1077, '바다': 1078, '따르': 1079, '완성도': 1080, '땜': 1081, 'ㅂ': 1082, '몸': 1083, '여유': 1084, '즈': 1085, '감탄': 1086, '넷플릭스': 1087, '각본': 1088, '아들': 1089, '발암': 1090, '빵': 1091, '핵': 1092, '준호': 1093, '로서': 1094, '살짝': 1095, '판타지': 1096, '색감': 1097, '타인': 1098, '덕': 1099, '다루': 1100, '포스터': 1101, '엉성': 1102, '허무': 1103, '인상적': 1104, '방': 1105, '화가': 1106, '갑': 1107, '확실': 1108, '깨닫': 1109, '제가': 1110, '먼저': 1111, '덕분': 1112, '걱정': 1113, '도망치': 1114, '개인': 1115, '빈약': 1116, '과거': 1117, '넘어가': 1118, '남편': 1119, '기도': 1120, '구멍': 1121, '이쁘': 1122, '소녀': 1123, '딸': 1124, '아버지': 1125, '귀': 1126, '테': 1127, '흥미진진': 1128, '골': 1129, '가득': 1130, '수많': 1131, 'ㄹ수록': 1132, '국민': 1133, '등장인물': 1134, '주의': 1135, '넘기': 1136, '학생': 1137, '망치': 1138, '판단': 1139, '관': 1140, '무서움': 1141, '에이': 1142, '시원': 1143, '바라보': 1144, '교훈': 1145, '마세': 1146, '하루': 1147, '뷰': 1148, '블랙': 1149, '느라': 1150, '메시지': 1151, '슬픔': 1152, '사이': 1153, '청년': 1154, '닮': 1155, '더럽': 1156, '폰': 1157, '효과': 1158, '투자': 1159, '이란': 1160, '무시': 1161, '높이': 1162, '겐': 1163, '똑같': 1164, '웃음': 1165, '젤': 1166, '화려': 1167, '사라지': 1168, '마블': 1169, '께': 1170, '탄': 1171, '롱': 1172, '그만': 1173, '나머지': 1174, '인도': 1175, '봐주': 1176, '신경': 1177, '뽕': 1178, '스타일': 1179, '싸': 1180, '으로서': 1181, '지키': 1182, '취향': 1183, '언제나': 1184, '불안': 1185, '백': 1186, '외국': 1187, '갱': 1188, 'ㅁ에도': 1189, '애니메이션': 1190, '부실': 1191, '오래': 1192, '오랫만': 1193, '제작비': 1194, '모으': 1195, '시작하': 1196, '근래': 1197, '흘러가': 1198, '돌리': 1199, '유명': 1200, '찌': 1201, '으': 1202, '어둡': 1203, '만화': 1204, '나중': 1205, '고요': 1206, '대부분': 1207, '당신': 1208, '정치': 1209, '홍': 1210, '다큐': 1211, '참신': 1212, '조차': 1213, '흐르': 1214, '와닿': 1215, '수가': 1216, '입도': 1217, '가이': 1218, '현실성': 1219, '방식': 1220, '거슬리': 1221, '퀄리티': 1222, '연결': 1223, 'ㄴ가요': 1224, '가리': 1225, '그림': 1226, '다가오': 1227, '톰': 1228, '만이': 1229, '살인': 1230, '빛': 1231, '희생': 1232, '전투': 1233, '가요': 1234, '부럽': 1235, '항상': 1236, '로써': 1237, '분량': 1238, '도가': 1239, '소설': 1240, '뿌리': 1241, '그러나': 1242, '운영': 1243, '깔끔': 1244, '눈물나': 1245, '짜증나': 1246, '잘되': 1247, '그녀': 1248, '소중': 1249, '쫓': 1250, '산': 1251, '황': 1252, '미안': 1253, '사고': 1254, '틀': 1255, '자연': 1256, '예술': 1257, '복수': 1258, '자유': 1259, '피하': 1260, '커버': 1261, '더욱': 1262, '더라도': 1263, '따라가': 1264, '조연': 1265, '죄': 1266, '일어나': 1267, '충격': 1268, '흐름': 1269, '후기': 1270, '노인': 1271, '이루': 1272, '총알': 1273, '신이': 1274, 'ㄴ들데': 1275, '흘리': 1276, '주인': 1277, '킹': 1278, '등등': 1279, '원하': 1280, '여주인공': 1281, '중이': 1282, '밝': 1283, '각자': 1284, '그만큼': 1285, '하드': 1286, '밤': 1287, '투': 1288, '설레': 1289, '콩': 1290, '느와': 1291, '지도': 1292, '을지': 1293, '수도': 1294, '점주': 1295, '특이': 1296, '톤': 1297, '결혼': 1298, '대화': 1299, '병원': 1300, '태': 1301, '토리': 1302, '루': 1303, '발전': 1304, '궁': 1305, '숨기': 1306, '막판': 1307, '공': 1308, '시대적': 1309, '합': 1310, '국내': 1311, '진영': 1312, '자본': 1313, '담기': 1314, '호불호': 1315, '내고': 1316, '행': 1317, '명의': 1318, '상상력': 1319, '마치': 1320, '쪽': 1321, '누군가': 1322, '게다': 1323, '듯이': 1324, '왠': 1325, '기대되': 1326, '엉망': 1327, '덤': 1328, '뛰': 1329, '입장': 1330, '알리': 1331, '흠': 1332, '안됨': 1333, '형님': 1334, '정신': 1335, '띵': 1336, '왤': 1337, '휴': 1338, '동': 1339, '삼': 1340, '안보': 1341, '그려내': 1342, '양아치': 1343, '우들': 1344, '위기': 1345, '약': 1346, '술': 1347, '조명': 1348, '라인': 1349, '겪': 1350, '내리': 1351, '개꿀': 1352, '무비': 1353, '아마': 1354, '담아내': 1355, '원래': 1356, '기회': 1357, '직접': 1358, '게이': 1359, '찾아오': 1360, '탈출': 1361, '납득': 1362, '우울': 1363, '짜임새': 1364, '져스': 1365, '전하': 1366, '편하': 1367, '채': 1368, '그립': 1369, '울리': 1370, '멈추': 1371, '한마디': 1372, '곱씹': 1373, '진정': 1374, '헐': 1375, '구도': 1376, '졸작': 1377, '가깝': 1378, '환': 1379, '고맙': 1380, '남녀': 1381, '의지': 1382, '이어지': 1383, '바람': 1384, '차이': 1385, '구리': 1386, '떼': 1387, '돌': 1388, '비교': 1389, '싫어하': 1390, '어제': 1391, '탓': 1392, '플렉스': 1393, '짝': 1394, '대신': 1395, '묘사': 1396, '가보': 1397, '태어나': 1398, '아예': 1399, '심리': 1400, '기법': 1401, '예고편': 1402, '욕하': 1403, '튿': 1404, '동네': 1405, '줄거리': 1406, '무너지': 1407, '상태': 1408, '벗어나': 1409, '색': 1410, '옆': 1411, '압도': 1412, '해수': 1413, '제대': 1414, '계획': 1415, '지가': 1416, '스스로': 1417, '강하': 1418, '국가': 1419, '독립': 1420, '말자': 1421, '미가': 1422, '들어오': 1423, '더라면': 1424, '지옥': 1425, '얻': 1426, '당연': 1427, '과의': 1428, '방금': 1429, '갈리': 1430, '상영': 1431, '경험': 1432, '그날': 1433, '트랙션': 1434, '틈': 1435, '신의': 1436, '용기': 1437, '달리': 1438, '기가': 1439, '걸작': 1440, '년대': 1441, '평생': 1442, '편도': 1443, '크리스': 1444, '반복': 1445, '이영': 1446, '프': 1447, '가가': 1448, '인줄': 1449, '적이': 1450, '불친절': 1451, '준석': 1452, 'ㅎㅎㅎ': 1453, '관심': 1454, '가시': 1455, '이병': 1456, '보통': 1457, '해석': 1458, '뽑': 1459, '척': 1460, '개연': 1461, '사용': 1462, '평소': 1463, '여전': 1464, '악평': 1465, '효': 1466, '때리': 1467, '첫사랑': 1468, '자면': 1469, '다양': 1470, '추격전': 1471, '전설': 1472, '성현': 1473, '스타': 1474, '이전': 1475, '걷': 1476, '관련': 1477, '생활': 1478, '고구마': 1479, '피해': 1480, '분노': 1481, '의리': 1482, '스타워즈': 1483, '하면': 1484, '미화': 1485, '사상': 1486, '경제': 1487, '이젠': 1488, '무료': 1489, '혹평': 1490, '및': 1491, '연기자': 1492, '규': 1493, '문화': 1494, '빠져들': 1495, '꾸': 1496, '내인': 1497, '기자': 1498, '익스': 1499, '공부': 1500, '본거': 1501, '가끔': 1502, '자막': 1503, '일하': 1504, '극중': 1505, '유지': 1506, '지하': 1507, '펑펑': 1508, '섬세': 1509, '주차장': 1510, '전반적': 1511, '기대감': 1512, '부르': 1513, '왜케': 1514, '해내': 1515, '이에': 1516, '자리': 1517, '려면': 1518, '스크린': 1519, '하늘': 1520, '열리': 1521, '뇌': 1522, '찧': 1523, '아내': 1524, '이용': 1525, '올라가': 1526, '기준': 1527, '페': 1528, '재개봉하': 1529, '간이': 1530, '조커': 1531, '순삭': 1532, '영원': 1533, '스포': 1534, '이미지': 1535, '끼치': 1536, '워': 1537, '본적': 1538, '유발': 1539, '으니까': 1540, '현실감': 1541, '대작': 1542, '재인': 1543, '진지': 1544, '무겁': 1545, '쪼': 1546, '전체': 1547, '정권': 1548, '검찰': 1549, '파': 1550, '수록': 1551, '관람객': 1552, '흔하': 1553, '의문': 1554, '구하': 1555, '칼': 1556, '월': 1557, '삼류': 1558, '바뀌': 1559, '혀': 1560, '신분': 1561, '서사': 1562, '서스펜스': 1563, 'ㅠㅠㅠㅠ': 1564, '선동': 1565, '갈등': 1566, '비극': 1567, '인상': 1568, '우연': 1569, '과연': 1570, '앉': 1571, '칭찬': 1572, '결과': 1573, '채우': 1574, '유머': 1575, '용서': 1576, '어머니': 1577, '안본': 1578, '림': 1579, '주변': 1580, '여러분': 1581, '시청': 1582, '천재': 1583, '밀': 1584, '이점': 1585, '지나치': 1586, '시점': 1587, '동물': 1588, '전도': 1589, '동시': 1590, '성인': 1591, '다리': 1592, '새벽': 1593, '일부러': 1594, '잊히': 1595, '늙': 1596, '쯤': 1597, '갖추': 1598, '따라하': 1599, '니들': 1600, '그동안': 1601, '차별': 1602, '옹': 1603, '스트레스': 1604, '군대': 1605, '좀비': 1606, '제외': 1607, '잠시': 1608, '무난': 1609, '결': 1610, '상하': 1611, '시선': 1612, '지나가': 1613, '이드': 1614, '총격': 1615, '잖아요': 1616, '루즈': 1617, '인건': 1618, '아무튼': 1619, '아픔': 1620, '제로': 1621, '재앙': 1622, '풀리': 1623, '탑': 1624, '악마': 1625, '책': 1626, '스토': 1627, '오려': 1628, '드러나': 1629, '섬': 1630, '억지로': 1631, '난리': 1632, '꿈꾸': 1633, '한참': 1634, '사회적': 1635, '돕': 1636, '귀신': 1637, '아련': 1638, '완성': 1639, '살아남': 1640, '값': 1641, '자극적': 1642, '미소': 1643, '니깐': 1644, '과하': 1645, '한번쯤': 1646, '맨날': 1647, '목숨': 1648, '요리': 1649, '어이없': 1650, '고통': 1651, '마냥': 1652, '예측': 1653, '부모님': 1654, '드물': 1655, '고어': 1656, '난이': 1657, '돌려주': 1658, '유쾌': 1659, '욕먹': 1660, '호구': 1661, '마약': 1662, '반갑': 1663, '는구나': 1664, '예전': 1665, '공간': 1666, '풀어내': 1667, '캐리': 1668, '미장': 1669, '조폭': 1670, '여행': 1671, '라이': 1672, '웠': 1673, '일상': 1674, '위로': 1675, '로이': 1676, '이자': 1677, '마주하': 1678, '응': 1679, '호강': 1680, '박정희': 1681, '빡': 1682, '크레딧': 1683, '무기': 1684, '군인': 1685, '바보': 1686, '암울': 1687, '연기파': 1688, '모이': 1689, '아름': 1690, '화나': 1691, 'ㅂ니까': 1692, '다섯': 1693, '쓸데없이': 1694, '참고': 1695, '적당': 1696, '복': 1697, '구조': 1698, '업': 1699, '맥': 1700, '전달': 1701, '정작': 1702, '사냥꾼': 1703, '주기': 1704, '단편': 1705, '한의': 1706, '통쾌': 1707, '특징': 1708, '범죄자': 1709, 'ㅊ': 1710, '잠깐': 1711, '정부': 1712, '좌': 1713, '실패': 1714, '응원': 1715, '오르': 1716, '조선': 1717, '족': 1718, '형사': 1719, '사가': 1720, '겠다': 1721, '거대': 1722, '혼란': 1723, '비판': 1724, '역겹': 1725, '체': 1726, '혹시나': 1727, '폭발': 1728, '조합': 1729, '돌아오': 1730, '구로': 1731, '제작자': 1732, '정서': 1733, '우드': 1734, '깊이': 1735, '빛나': 1736, '동생': 1737, '이입': 1738, '찰떡': 1739, 'ㅉㅉ': 1740, '소년': 1741, '치고': 1742, '지겹': 1743, '졸리': 1744, '노리': 1745, '비중': 1746, '놀래': 1747, '단어': 1748, '게끔': 1749, '아침': 1750, '츠': 1751, '자식': 1752, '훔치': 1753, '밑': 1754, '나타나': 1755, '승': 1756, '윌': 1757, '오브': 1758, '흡입력': 1759, '하면서': 1760, '해결': 1761, '가하': 1762, '정보': 1763, '거르': 1764, '밝혀지': 1765, '서도': 1766, '방법': 1767, '정의': 1768, '얼마': 1769, '스워스': 1770, '이제서야': 1771, '징': 1772, '더군요': 1773, '쿠': 1774, '잔': 1775, '짠하': 1776, '기로': 1777, '충격적': 1778, '공짜': 1779, '본영': 1780, '그럭저럭': 1781, '식상': 1782, '재미나': 1783, '우주': 1784, '스파이': 1785, '발견': 1786, '정선': 1787, '이만': 1788, '랜드': 1789, '형제': 1790, '와이': 1791, '줄이': 1792, '퀄': 1793, '꼽': 1794, '질리': 1795, '프리': 1796, '착하': 1797, '로만': 1798, '플릭스에': 1799, '관점': 1800, '클라': 1801, '왜곡': 1802, 'ㅠㅜ': 1803, '셋': 1804, '리메이크': 1805, '갓': 1806, 'ㄹ까요': 1807, '범인': 1808, '기존': 1809, '체험': 1810, '생략': 1811, '악당': 1812, '연속': 1813, '잔뜩': 1814, '혜': 1815, '남성': 1816, '수고': 1817, '째': 1818, '준비': 1819, '을까요': 1820, '일으키': 1821, '나아가': 1822, '해하': 1823, '단점': 1824, '요배': 1825, '빻': 1826, '중심': 1827, '괴물': 1828, '력': 1829, '컨셉': 1830, '정확': 1831, '석': 1832, '호흡': 1833, '어거지': 1834, '따위': 1835, '성우': 1836, '빨갱이': 1837, '션': 1838, '나르': 1839, '한편': 1840, '지수': 1841, '재개봉': 1842, '아야지': 1843, '저런': 1844, '주지': 1845, '방해': 1846, '도전': 1847, '키우': 1848, '다다': 1849, '순수': 1850, '쌍': 1851, '덜덜': 1852, '이것저것': 1853, '년도': 1854, '범': 1855, '레드': 1856, '엠': 1857, '받으': 1858, '전형': 1859, '못되': 1860, '벌써': 1861, '공이': 1862, '깜짝': 1863, '관계자': 1864, '시다': 1865, '이별': 1866, '불구하': 1867, '해외': 1868, '저지르': 1869, '깎': 1870, 'ㅂ시다': 1871, '증거': 1872, '특별': 1873, '철': 1874, '규명': 1875, '위험': 1876, '설마': 1877, '금융': 1878, '활': 1879, '받아들이': 1880, '내서': 1881, '부여': 1882, '정리': 1883, '부부': 1884, '끝내주': 1885, '버티': 1886, 'ㅣ': 1887, '부모': 1888, '만듬': 1889, '초점': 1890, '펴': 1891, '움직이': 1892, '처절': 1893, '그렇게': 1894, '됬': 1895, '동석': 1896, '다운': 1897, '리웃': 1898, '자마자': 1899, '직업': 1900, '좋아지': 1901, '굴': 1902, '먹이': 1903, '스케일': 1904, '개성': 1905, '음에도': 1906, '여배우': 1907, '주신': 1908, '들리': 1909, '짬뽕': 1910, '피해자': 1911, '준영': 1912, '감각': 1913, '헛웃음': 1914, '쓰이': 1915, '한국인': 1916, '자동차': 1917, '에는': 1918, '폭력': 1919, '변하': 1920, '얘': 1921, '하도': 1922, '기대치': 1923, '이재훈': 1924, '의하': 1925, '이르': 1926, '장점': 1927, '안녕': 1928, '풍자': 1929, '그라운드': 1930, '기본': 1931, '시민': 1932, '광주': 1933, '과장': 1934, '일품': 1935, '난무': 1936, '쇼': 1937, '프로': 1938, '고조': 1939, '열심': 1940, '주말': 1941, '별개': 1942, '너무하': 1943, '총격전': 1944, '개판': 1945, '건지': 1946, '옷': 1947, '사냥감': 1948, '서울': 1949, '영화인': 1950, '운동': 1951, '하정': 1952, '엿': 1953, '군더더기': 1954, '드시': 1955, '친': 1956, '볼거리': 1957, '조화': 1958, '연애': 1959, '멜로': 1960, '부대': 1961, '친절': 1962, '욕심': 1963, '청소년': 1964, '대가리': 1965, 'ㄹ게': 1966, '일수': 1967, '실제로': 1968, '어가': 1969, '선사': 1970, '자가': 1971, '인류': 1972, '몇몇': 1973, '곧': 1974, '떨리': 1975, '핸드폰': 1976, '화보': 1977, '혐오': 1978, '회사': 1979, '편안': 1980, '빠르': 1981, '혼': 1982, '반지': 1983, '일반': 1984, '아역': 1985, '어라': 1986, '인지': 1987, '조직': 1988, '향하': 1989, '켄': 1990, '시자': 1991, '와료': 1992, '맡': 1993, '관가': 1994, '끼리': 1995, '어찌': 1996, '한심': 1997, '필': 1998, '찌지': 1999, '저리': 2000, '풋풋': 2001, '중병': 2002, '치밀': 2003, '위대': 2004, '패': 2005, '샷': 2006, '주세': 2007, '뛰어넘': 2008, '침': 2009, '균': 2010, '지네': 2011, '반대': 2012, '척하': 2013, '이명': 2014, '스킵': 2015, '에다': 2016, '팀': 2017, '도와주': 2018, '잠들': 2019, '이때': 2020, '다시금': 2021, '암튼': 2022, '건강': 2023, '마스터': 2024, '아가': 2025, '권': 2026, '반드시': 2027, '대통령': 2028, '이끌': 2029, '선생': 2030, '회': 2031, '말투': 2032, '실사': 2033, '나누': 2034, '와중': 2035, '정말로': 2036, '작인': 2037, '워낙': 2038, '결제': 2039, '겨우': 2040, '맥락': 2041, '공효': 2042, '애기': 2043, '애매': 2044, '미리': 2045, '타짜': 2046, '실수': 2047, '감명깊': 2048, '독': 2049, '믿기': 2050, '고급': 2051, '기승': 2052, '흠잡': 2053, '씁쓸': 2054, 'ㅡ': 2055, '감내': 2056, '하와이': 2057, '누르': 2058, '가기': 2059, '음악도': 2060, '립': 2061, '학교': 2062, '역시나': 2063, '아냐': 2064, '다라': 2065, '조사': 2066, '존경': 2067, '맡기': 2068, '아웃': 2069, '트라': 2070, '이소': 2071, '써': 2072, '최선': 2073, '들보': 2074, '마녀': 2075, '별거': 2076, '제인': 2077, '아이언': 2078, '끔찍': 2079, '띄': 2080, '빅': 2081, '확인': 2082, '상업': 2083, '지식': 2084, '야하': 2085, '두려움': 2086, '마스크': 2087, '악역': 2088, '지원': 2089, '앵글': 2090, '낚시터': 2091, '실감': 2092, '엇': 2093, '정하': 2094, '휴대폰': 2095, '긴박감': 2096, '한순간': 2097, '마케팅': 2098, '로그': 2099, '어떻게': 2100, '새로': 2101, '반부': 2102, '묵직': 2103, '잘살': 2104, '불가': 2105, '만약': 2106, '습니다만': 2107, '오버': 2108, '연인': 2109, '비현': 2110, '아기': 2111, '따로': 2112, '가져오': 2113, '가운데': 2114, '함의': 2115, '어우러지': 2116, '고도': 2117, '볼려': 2118, 'ㄴ데요': 2119, '지영': 2120, '이상은': 2121, '엥': 2122, '광고': 2123, '꽤나': 2124, '사랑이': 2125, '참으로': 2126, '드럽': 2127, '멍': 2128, '적절': 2129, '뉴': 2130, '쓸데없': 2131, '말씀': 2132, '드립': 2133, '스미스': 2134, '출연진': 2135, '베스트': 2136, '모험': 2137, '박진감': 2138, '볼': 2139, '이따': 2140, '동화': 2141, '인기': 2142, '단하': 2143, '그놈': 2144, '튜브': 2145, '총소리': 2146, '엘': 2147, '열연': 2148, '최대': 2149, '상우': 2150, '감안': 2151, '착각': 2152, '느리': 2153, '액션물': 2154, '무지': 2155, '록': 2156, '캐릭': 2157, '복잡': 2158, '표': 2159, '빨갛': 2160, '케릭터': 2161, '국영': 2162, '극장가': 2163, '본지': 2164, '교': 2165, '지구': 2166, '가능성': 2167, '중학생': 2168, '오랜': 2169, '조성': 2170, '명품': 2171, '수의': 2172, '청': 2173, '람보': 2174, '혹시': 2175, '보신': 2176, '환경': 2177, '전문가': 2178, '출신': 2179, '생생': 2180, '쫄깃쫄깃': 2181, '추가': 2182, '깡': 2183, '올': 2184, '꽉': 2185, '최강': 2186, '자랑': 2187, '무한': 2188, '대안': 2189, '잉': 2190, '그닥': 2191, 'ㅆ': 2192, '찝찝': 2193, '튀': 2194, '조진': 2195, '돼': 2196, '제작진': 2197, '편만': 2198, '자라': 2199, '미루': 2200, '언젠가': 2201, '희대': 2202, '압권': 2203, '색다르': 2204, '익숙': 2205, '차기': 2206, '폐': 2207, '빵빵': 2208, '열정': 2209, '가스': 2210, '진이': 2211, '건물': 2212, '단체': 2213, '대배우': 2214, 'ㄹ까말까': 2215, '죄책감': 2216, '쫒기': 2217, '왠지': 2218, '아끼': 2219, '고한': 2220, '한두': 2221, '영화화': 2222, '조이': 2223, '부리': 2224, '한몫': 2225, '릴': 2226, '영화계': 2227, '격': 2228, '끊기': 2229, '진상': 2230, '비주얼': 2231, '큐': 2232, '무언가': 2233, '미술': 2234, '뜻': 2235, '정치적': 2236, '표하': 2237, '기획': 2238, '엽문': 2239, '평론': 2240, '는가': 2241, '도박': 2242, '고전': 2243, '영화배우': 2244, '평균': 2245, '기만': 2246, '늦추': 2247, '마음먹': 2248, '우선': 2249, '땀나': 2250, '배리': 2251, '기보': 2252, '구들': 2253, '두렵': 2254, '햇': 2255, '작화': 2256, '한숨': 2257, '욱': 2258, '시국': 2259, '다주': 2260, '언론': 2261, '기업': 2262, '천만': 2263, '야마': 2264, '성도': 2265, '허점': 2266, '천만다행': 2267, '금하': 2268, '세련': 2269, '지요': 2270, '선생님': 2271, '거든요': 2272, '학살': 2273, '가사': 2274, '긴박': 2275, '쿠키': 2276, '강렬': 2277, '자세': 2278, '부끄럽': 2279, '할리우드': 2280, '메이': 2281, '안감': 2282, '이한': 2283, '오열': 2284, '혼나': 2285, '이끌어가': 2286, '좌절': 2287, '고양이': 2288, '계': 2289, '무척': 2290, '무릎': 2291, '천국': 2292, '쏟': 2293, '벌어지': 2294, '웬만': 2295, '욕설': 2296, '배역': 2297, '부작': 2298, '현실적': 2299, '참혹': 2300, '양': 2301, '케이': 2302, '벨벳': 2303, '번은': 2304, '동원': 2305, '온갖': 2306, '꼴': 2307, '안해': 2308, '이요': 2309, '죄다': 2310, '겨울': 2311, '실력': 2312, '조정': 2313, '우성': 2314, '극복': 2315, '정석': 2316, '회상': 2317, '영웅': 2318, '평화': 2319, '순위': 2320, '확장': 2321, '점정': 2322, '요전': 2323, '프라이': 2324, '명확': 2325, '쌍둥이': 2326, '아카데미': 2327, '뭣': 2328, '쫌': 2329, '불륜': 2330, '비용': 2331, '반응': 2332, '발생': 2333, '피스': 2334, '돌아보': 2335, '오의': 2336, '마이': 2337, '어둠': 2338, '곳곳': 2339, '탄하': 2340, '머릿속': 2341, '지치': 2342, '소통': 2343, '차리': 2344, '쓰래기': 2345, '웹': 2346, '표절': 2347, '군요': 2348, '명배우': 2349, '십': 2350, '달라지': 2351, '예고': 2352, '재난': 2353, '임신': 2354, '감추': 2355, '자주': 2356, '반하': 2357, '에스': 2358, '과도': 2359, '가야': 2360, '끊': 2361, '이루어지': 2362, '런닝': 2363, '북': 2364, '난아': 2365, '대본': 2366, '드림': 2367, '시카리': 2368, '복선': 2369, '대중': 2370, '바래': 2371, '매일': 2372, '상처': 2373, '잡히': 2374, '정상': 2375, '싹': 2376, '고서': 2377, '흑인': 2378, '가정': 2379, '칫': 2380, '권력': 2381, '주가': 2382, '전결': 2383, '종': 2384, '웅': 2385, '이면서': 2386, '도저': 2387, '탕': 2388, '할거': 2389, '펑크': 2390, '여정': 2391, '밥': 2392, '대결': 2393, '신파극': 2394, '요약': 2395, '한국식': 2396, '상영관': 2397, '일부': 2398, '분만': 2399, '무장': 2400, '노출': 2401, '가방': 2402, 'ㄹ게요': 2403, '싸이코': 2404, '창': 2405, '으세요': 2406, '지이': 2407, '그다지': 2408, '승리': 2409, '손발': 2410, '목소리': 2411, '모양': 2412, '맛있': 2413, 'ㅜㅜㅜ': 2414, '상수': 2415, '충실': 2416, '비행기': 2417, '홍보': 2418, '쌓': 2419, '대가': 2420, '더불': 2421, '희': 2422, '는데요': 2423, '낚이': 2424, '피트': 2425, '젊은이': 2426, '세대': 2427, '즉': 2428, '지지': 2429, '사격': 2430, '뜬금없': 2431, '의견': 2432, '한국형': 2433, '득': 2434, '일찍': 2435, '삐': 2436, '별생각': 2437, '쫒': 2438, '배신': 2439, '내일': 2440, '늘어지': 2441, '이대': 2442, '굳': 2443, '비디오': 2444, '사태': 2445, '디지': 2446, '직원': 2447, '감옥': 2448, '추악': 2449, '오가': 2450, '결정': 2451, '마디': 2452, '반영': 2453, '신은': 2454, '옛': 2455, '예진': 2456, '경': 2457, '붉': 2458, '인가': 2459, '챙기': 2460, '앗': 2461, '우마': 2462, '델': 2463, '공개': 2464, '최소': 2465, '영향': 2466, '적어도': 2467, '뎅': 2468, '상과': 2469, '작전': 2470, '노예': 2471, '인종': 2472, '내면': 2473, '이터': 2474, '이구': 2475, '지적': 2476, '긋': 2477, '천사': 2478, '털이': 2479, '총포상': 2480, '띠': 2481, '유일': 2482, '린': 2483, '두말': 2484, '시각': 2485, '베리': 2486, '절제': 2487, '동기': 2488, '고치': 2489, '어린이': 2490, '악의': 2491, '와이프': 2492, '설득력': 2493, '심정': 2494, '어떠하': 2495, '최후': 2496, '건인': 2497, '고리': 2498, '지르': 2499, '약자': 2500, '간첩': 2501, '밝히': 2502, '잖': 2503, '떠들': 2504, '방영': 2505, '연관': 2506, '자극': 2507, '공유': 2508, '빙': 2509, '스터': 2510, '분기점': 2511, '고이': 2512, '미스': 2513, '일어': 2514, '지켜보': 2515, '한수': 2516, '카지노': 2517, '주위': 2518, '황금': 2519, '연휴': 2520, '소피': 2521, '매번': 2522, '불과': 2523, '오직': 2524, '팝': 2525, '포스': 2526, '렉': 2527, '팅': 2528, '남발': 2529, '이토록': 2530, '재료': 2531, '정체': 2532, '화장실': 2533, '낮추': 2534, '이마': 2535, '렘': 2536, '옮기': 2537, '오이': 2538, '우진': 2539, '무리': 2540, '고개': 2541, '레이': 2542, '점도': 2543, '지점': 2544, '달르': 2545, '찡하': 2546, '감개': 2547, '반분': 2548, '일반인': 2549, '외모': 2550, '전편': 2551, '물이': 2552, '통': 2553, '개이': 2554, '두근두근': 2555, '편견': 2556, '깡패': 2557, '안정': 2558, '잘못하': 2559, '펼쳐지': 2560, '호텔': 2561, '꺼지': 2562, '튀어나오': 2563, '년생': 2564, '대륙': 2565, '그간': 2566, '질문': 2567, '부장': 2568, '렌': 2569, '각색': 2570, '분의': 2571, '다스': 2572, '랙': 2573, '반성': 2574, '하루하루': 2575, '단지': 2576, '앞뒤': 2577, '도구': 2578, '툰': 2579, '만도': 2580, '살인마': 2581, '뜬금없이': 2582, '한가지': 2583, '럼': 2584, '암시': 2585, '께서': 2586, '소총': 2587, '집착': 2588, '개그': 2589, '쌓이': 2590, '탄생': 2591, '풍경': 2592, '태도': 2593, '피닉스': 2594, '내주': 2595, '거짓말': 2596, '장국': 2597, '재능': 2598, '품': 2599, '와대': 2600, '중국인': 2601, '다다르': 2602, '원인': 2603, '나한': 2604, '명대사': 2605, '세기': 2606, '죄송': 2607, '도아': 2608, '겹': 2609, '디카': 2610, '지대': 2611, '나무': 2612, '전율': 2613, '오래되': 2614, '금해서': 2615, '뚝뚝': 2616, '민주주의': 2617, '비추': 2618, '지경': 2619, '범벅': 2620, '처리': 2621, '사기': 2622, '사극': 2623, '추적': 2624, '시체': 2625, '쭉': 2626, '셈': 2627, '섹시하': 2628, '꽃': 2629, '땡': 2630, '온': 2631, '부재': 2632, '컴퓨터': 2633, '매니아': 2634, '프랑스': 2635, '곡': 2636, '의외로': 2637, '다나': 2638, '말로': 2639, '살아오': 2640, '스가': 2641, '같잖': 2642, '연관성': 2643, '브래드': 2644, '재림': 2645, '인터뷰': 2646, '지우': 2647, '울림': 2648, '타격': 2649, '이혼': 2650, '패스': 2651, '대기': 2652, '외로': 2653, '난': 2654, '으려고': 2655, '잃어버리': 2656, '너희': 2657, '게다가': 2658, '명예': 2659, '강도': 2660, '지브': 2661, '크루즈': 2662, '억울': 2663, '이주': 2664, '박근': 2665, '끝판': 2666, '늦': 2667, '이념': 2668, '심각': 2669, '간지': 2670, '종교': 2671, '멱살': 2672, '와우': 2673, '요인': 2674, '기타': 2675, '맥스': 2676, '측면': 2677, '종종': 2678, '고점': 2679, '조잡': 2680, '레이첼': 2681, '습': 2682, '저것': 2683, '성냥': 2684, '간의': 2685, '압도적': 2686, '나발': 2687, '인랑': 2688, '언급': 2689, '난해': 2690, '최소한': 2691, '노무현': 2692, '인정받': 2693, '막장': 2694, '놀이': 2695, '루프': 2696, '센과': 2697, '뭉클': 2698, '만남': 2699, '다도': 2700, '한국판': 2701, '미아': 2702, '컷': 2703, '피우': 2704, '외할머니': 2705, '하나님': 2706, '민주화': 2707, '박찬': 2708, '올드': 2709, '수상': 2710, '트리': 2711, '콜': 2712, '매기': 2713, '만세': 2714, '복싱': 2715, '심심': 2716, '정우': 2717, '욕망': 2718, '과한': 2719, '보스': 2720, '휘둘리': 2721, '양산': 2722, '흘러나오': 2723, '책임': 2724, '가아': 2725, '폼': 2726, '치유': 2727, '따름': 2728, '종일': 2729, 'ㅜㅠ': 2730, '기쁨': 2731, '조인': 2732, '그나저나': 2733, '손익': 2734, '파괴': 2735, '으라': 2736, '바쁘': 2737, '이성': 2738, '방구석': 2739, '논란': 2740, '이상한': 2741, '투성이': 2742, '만두': 2743, '덩어리': 2744, '특수': 2745, '되어가': 2746, '접': 2747, '음모': 2748, '달러': 2749, '자격': 2750, '어린애': 2751, '깃': 2752, '보라': 2753, '생존': 2754, '중년': 2755, '어딨': 2756, '본건': 2757, '내기': 2758, '결코': 2759, '가도': 2760, '인척': 2761, '사용하': 2762, '아슬아슬': 2763, 'ㄹ래': 2764, '모자라': 2765, '뇌리': 2766, '무방': 2767, '아무런': 2768, '방송': 2769, '자신감': 2770, '더더욱': 2771, '왕국': 2772, '허가': 2773, '광': 2774, '하여간': 2775, '이기적': 2776, '기부': 2777, '빗': 2778, '염두': 2779, '이러하': 2780, '속지': 2781, '과학': 2782, '자료': 2783, '의심': 2784, '조절': 2785, '여인': 2786, '라가': 2787, '기괴': 2788, '할리퀸': 2789, '텀': 2790, '뮤지컬': 2791, '놀람': 2792, '경우': 2793, '습니까': 2794, '걸치': 2795, '월드': 2796, '상징': 2797, '드러내': 2798, '돼지': 2799, '찬': 2800, '하라': 2801, '더이상': 2802, '비우': 2803, '깔리': 2804, '중후반': 2805, '선거': 2806, '는다는': 2807, '앤': 2808, '끊임없이': 2809, '다아': 2810, '즐거움': 2811, '광기': 2812, '소소': 2813, '장난치': 2814, '어쨌든': 2815, '내보': 2816, 'ㄴ대': 2817, '원탑': 2818, '경극': 2819, 'ㅁ다': 2820, '서의': 2821, '명연기': 2822, '아름다움': 2823, '거보': 2824, '능': 2825, '괴담': 2826, '혹은': 2827, '두개': 2828, '승부': 2829, '본전': 2830, '플러스': 2831, '둥': 2832, '고등': 2833, '묘': 2834, '좌파': 2835, '엉': 2836, '성은': 2837, '양심': 2838, '고증': 2839, '철저': 2840, '도무지': 2841, '다녀오': 2842, '연상': 2843, '아악': 2844, '뒷골목': 2845, '꽁': 2846, '려다': 2847, '취급': 2848, '붙': 2849, '사랑받': 2850, '다임': 2851, '저녁': 2852, '똑': 2853, '임기': 2854, '어지럽': 2855, '도중': 2856, '여당': 2857, '영화제': 2858, '신부님': 2859, '물고기': 2860, '해소': 2861, '더욱더': 2862, '박정': 2863, '근본': 2864, '어차피': 2865, '망설이': 2866, '내평': 2867, '누리': 2868, '픽션': 2869, '라지만': 2870, '개똥': 2871, '우려먹': 2872, '다듬': 2873, '성별': 2874, '기태': 2875, '스마트': 2876, '흐': 2877, '조지': 2878, '경이': 2879, '방탄': 2880, '맴돌': 2881, '요새': 2882, '목적': 2883, '푹': 2884, '집어넣': 2885, '동정': 2886, '홀로': 2887, '흑': 2888, '의대': 2889, '파티': 2890, '바이러스': 2891, '군데': 2892, '무열': 2893, '랄': 2894, '안가': 2895, '들어보': 2896, '자살': 2897, '본거지': 2898, '기억나': 2899, '알파': 2900, '희생자': 2901, '개념': 2902, '나이트': 2903, '절대적': 2904, '짓거리': 2905, '라고요': 2906, '언어': 2907, '활용': 2908, '으러': 2909, 'ㅎㅎㅎㅎ': 2910, '영화감독': 2911, '다점': 2912, '그럼': 2913, '빽': 2914, '인공': 2915, '형편없': 2916, '불법': 2917, '못가': 2918, '녀석': 2919, '신세계': 2920, '이지': 2921, '버전': 2922, '지들': 2923, '가뭄': 2924, '삭제': 2925, '소리지르': 2926, '진하': 2927, '판매': 2928, '사투리': 2929, '패왕': 2930, '붙이': 2931, '애새끼': 2932, '보완': 2933, '숨소리': 2934, '케이스': 2935, '기영': 2936, '변화': 2937, '외치': 2938, '곁': 2939, '이내': 2940, '비슷하': 2941, '내생': 2942, '키드': 2943, '은행': 2944, '천지': 2945, '하세': 2946, '이즈': 2947, '헤어지': 2948, '가수': 2949, 'ㄲ': 2950, '백배': 2951, '춤': 2952, '보정': 2953, '깨물': 2954, '숨죽이': 2955, '집중력': 2956, '멍청이': 2957, '겉멋': 2958, '중하': 2959, '현대': 2960, '널': 2961, '거구': 2962, '신랑': 2963, '파리': 2964, '거든': 2965, '악행': 2966, '상관없': 2967, '에피소드': 2968, '택하': 2969, '땅': 2970, '사전': 2971, '하여금': 2972, '개미': 2973, '서한': 2974, '대학생': 2975, '수십': 2976, '졸이': 2977, '미군': 2978, '짜릿': 2979, '홀': 2980, '차지': 2981, '옴': 2982, '로봇': 2983, '매끄럽': 2984, '외롭': 2985, '붕': 2986, '계산': 2987, '출연자': 2988, '혁명': 2989, '옥': 2990, '벽': 2991, '세바': 2992, '스찬': 2993, '잘나가': 2994, '어쩌면': 2995, '각오': 2996, '평하': 2997, '섹시': 2998, '뻥': 2999, '소지': 3000, '의사': 3001, '잡아내': 3002, '영어': 3003, '으로써': 3004, '때우': 3005, '진짜로': 3006, '준': 3007, '깨지': 3008, '나아지': 3009, '교과서': 3010, '배급사': 3011, '데시': 3012, '박이': 3013, '때로는': 3014, '눈치': 3015, '후보': 3016, '야지': 3017, '금방': 3018, '라인업': 3019, '감하': 3020, '낚시': 3021, '증': 3022, '다면서': 3023, '추리': 3024, '은폐': 3025, '상대': 3026, '계시': 3027, '작의': 3028, '훨': 3029, '공주': 3030, '젖': 3031, '아동': 3032, '마음속': 3033, '거짓': 3034, '즘': 3035, '우분': 3036, '베이': 3037, '웅장': 3038, '수성': 3039, '거랑': 3040, '개고': 3041, '전두환': 3042, '끼우': 3043, '구절': 3044, '뭉치': 3045, '페미니즘': 3046, '감정적': 3047, '시장': 3048, '위치': 3049, '나열': 3050, '라이어': 3051, '싸구려': 3052, '감당': 3053, '물타기': 3054, '열린': 3055, '해보면': 3056, '업자': 3057, '궁금증': 3058, '만명': 3059, '멀쩡': 3060, '채널': 3061, '닫': 3062, '지능': 3063, '간단': 3064, '긴장도': 3065, '조르': 3066, '찬가': 3067, '실종': 3068, '폐렴': 3069, 'ㄴ다니': 3070, '자고': 3071, '설명도': 3072, '솔직이': 3073, '환자': 3074, '정직': 3075, '나이키': 3076, '뼈': 3077, '메이드': 3078, '오스카': 3079, '독재': 3080, '국군': 3081, '말아먹': 3082, '잘만': 3083, '이외': 3084, '불허': 3085, '다며': 3086, '그야말로': 3087, '손가락': 3088, '그전': 3089, '인간성': 3090, '아리': 3091, '납치': 3092, '마사': 3093, 'ㅁ니다': 3094, '꾀': 3095, '매년': 3096, '포터': 3097, '우리집': 3098, '절대로': 3099, '날것': 3100, '승원': 3101, '클래식': 3102, '이슈': 3103, '당장': 3104, '채로': 3105, '일본식': 3106, '지게': 3107, '한지': 3108, '가르치': 3109, '눕': 3110, '스물': 3111, '어깨': 3112, '자만': 3113, '가게': 3114, '제왕': 3115, '증명': 3116, '모성애': 3117, '공허': 3118, '군가': 3119, '무대': 3120, '절하': 3121, '부성애': 3122, '가면': 3123, '때쯤': 3124, '스무': 3125, '맥주': 3126, '고작': 3127, '맴': 3128, '재평가': 3129, '사정': 3130, '알려주': 3131, '서툴': 3132, '수입': 3133, '전무': 3134, '쌈': 3135, '비싸': 3136, '압박': 3137, '릭': 3138, '상평': 3139, '샘': 3140, '부탁드리': 3141, '극한': 3142, '도하': 3143, '검': 3144, '다지만': 3145, '작년': 3146, '거래': 3147, '핀': 3148, '쟁': 3149, '온몸': 3150, '나뉘': 3151, '다예': 3152, '붕괴': 3153, '녹': 3154, '태양': 3155, '극도': 3156, '오점': 3157, '인사': 3158, '연극': 3159, '고르': 3160, '구분': 3161, '미모': 3162, '조건': 3163, '이해도': 3164, '다치': 3165, '검색': 3166, '부하': 3167, '시가': 3168, '말르': 3169, '소화': 3170, '각성': 3171, '캡': 3172, '타이': 3173, '성격': 3174, '담백': 3175, '연령': 3176, '박히': 3177, '아이디어': 3178, '수사': 3179, '불가능': 3180, '나타내': 3181, '색깔': 3182, '기와': 3183, '왕기': 3184, '향': 3185, '추구': 3186, '칸': 3187, '고난': 3188, '가짜': 3189, '소장': 3190, '걔': 3191, '써먹': 3192, '헷갈리': 3193, '촌스럽': 3194, '랜': 3195, '늘리': 3196, '하여': 3197, '수년': 3198, '한없이': 3199, '곡성': 3200, '오프닝': 3201, '가내': 3202, '포함': 3203, '견주': 3204, '블룸': 3205, '하우스': 3206, '우아': 3207, '외우': 3208, '불르': 3209, '중함': 3210, '인식': 3211, '이라': 3212, '도감독': 3213, '군사': 3214, '성찰': 3215, '미필': 3216, '한계': 3217, '차원': 3218, '아시': 3219, '쩜': 3220, '외계인': 3221, '씹': 3222, '손해': 3223, '행운': 3224, '고인': 3225, '하기는': 3226, '개뿔': 3227, '소개': 3228, '유사': 3229, '애틋': 3230, '낯설': 3231, '샬': 3232, '감과': 3233, '장군': 3234, '무기력': 3235, '파도': 3236, '장동': 3237, '거개': 3238, '운화': 3239, '사진': 3240, '어떠': 3241, '뜬금': 3242, '경지': 3243, '세종': 3244, '툭': 3245, '다재': 3246, '오나': 3247, '롤': 3248, '파워': 3249, '뮤': 3250, '늘어나': 3251, '테이': 3252, '길거리': 3253, '엉엉': 3254, '여왕': 3255, '종류': 3256, '브레이커': 3257, '스트': 3258, '본분': 3259, '테레사': 3260, '허구': 3261, '화만': 3262, '싱크로': 3263, '율': 3264, '버무리': 3265, '한잔': 3266, '함영': 3267, '퍼지': 3268, '은근': 3269, '가제': 3270, '뒤통수': 3271, '잠자': 3272, '뜨겁': 3273, '복수극': 3274, '퓨마': 3275, '고추': 3276, '기쁘': 3277, '쳐주': 3278, '흔적': 3279, '글쎄': 3280, '기계': 3281, '아진': 3282, '재현': 3283, '영매': 3284, '고용': 3285, '세우': 3286, '미러': 3287, '하이틴': 3288, '무고': 3289, '가미': 3290, '박하': 3291, '인연': 3292, '야자': 3293, '종이': 3294, '그래픽': 3295, '발휘': 3296, '플래': 3297, '넘쳐나': 3298, '한도': 3299, '돌려보': 3300, '하기': 3301, '녕': 3302, '이쯤': 3303, '욬': 3304, '중단': 3305, '캬': 3306, '영국': 3307, '가난': 3308, '못지않': 3309, '대구': 3310, '재즈': 3311, '자로': 3312, '고마': 3313, '꾸역꾸역': 3314, '든지': 3315, '겹치': 3316, '섞': 3317, '세련되': 3318, '날씨': 3319, '는다면': 3320, '쟝': 3321, '벌이': 3322, '부산': 3323, '쪽팔리': 3324, '콕': 3325, '죄악': 3326, '연성': 3327, '맞서': 3328, '자녀': 3329, '떠올리': 3330, '타령': 3331, '꼬마': 3332, '보상': 3333, '배끼': 3334, '객관적': 3335, '기지': 3336, '밌': 3337, '백인': 3338, '저렇게': 3339, '이브': 3340, '미들': 3341, '비유': 3342, '은유': 3343, '단비': 3344, '락': 3345, '폴': 3346, '가슴속': 3347, '순식간': 3348, '음식': 3349, '먹먹하': 3350, '참여': 3351, '폄하': 3352, '격투': 3353, '아류': 3354, '운명': 3355, '리지': 3356, '한영': 3357, '누나': 3358, '다지': 3359, '올바르': 3360, '불만': 3361, '라미': 3362, '올라오': 3363, '직전': 3364, '속이': 3365, '딱이': 3366, '리스': 3367, '별기': 3368, '간결': 3369, '심오': 3370, '자아': 3371, '술래잡기': 3372, '셜': 3373, '방황': 3374, '오랫동안': 3375, '예술적': 3376, '되돌아보': 3377, '전작': 3378, '제임스': 3379, '파이': 3380, '시원시원': 3381, '곤이': 3382, '하고': 3383, '임팩트': 3384, '수위': 3385, '전과': 3386, '그로': 3387, '의아': 3388, '에휴': 3389, '인영': 3390, '에로': 3391, '불필요': 3392, '느껴': 3393, '화이': 3394, '열받': 3395, '시가지': 3396, '망가지': 3397, '특성': 3398, '고니': 3399, '거부': 3400, '겉': 3401, '으려': 3402, '짐승': 3403, 'ㅉ': 3404, '감기': 3405, '우려': 3406, '하려': 3407, '폭탄': 3408, '시위': 3409, '항': 3410, '면도': 3411, '천안': 3412, '섭외': 3413, '민주': 3414, '인방': 3415, '자기도': 3416, '알맹이': 3417, '변경': 3418, '기적': 3419, '영화사': 3420, '중인': 3421, '감각적': 3422, '나위': 3423, '무어': 3424, '기발': 3425, '다잡': 3426, '중점': 3427, '이만큼': 3428, '기훈이': 3429, '거하': 3430, '도안': 3431, '소스': 3432, '겁나': 3433, '비트': 3434, '비가': 3435, '던데요': 3436, '바탕': 3437, '기원': 3438, '다망': 3439, '다대': 3440, '생동감': 3441, '할머니': 3442, '뉴스': 3443, '살이': 3444, '알차': 3445, '조승': 3446, '톡톡': 3447, '성적': 3448, '활약': 3449, '불쾌': 3450, '믿음': 3451, '장터': 3452, '계기': 3453, '배급': 3454, '특정': 3455, '건사': 3456, '총싸움': 3457, '가라': 3458, '덮': 3459, '으려는': 3460, '전세계': 3461, '주장': 3462, '행보': 3463, '어처구니': 3464, '썰': 3465, '코메디': 3466, '가의': 3467, '끌어올리': 3468, '고유': 3469, '끈': 3470, '현장감': 3471, '브랜드': 3472, '서진': 3473, '몫': 3474, '접근': 3475, '질주': 3476, '저의': 3477, '대의': 3478, '쟈': 3479, '찬란': 3480, '화끈': 3481, '마이너스': 3482, '기술': 3483, '남친': 3484, '주문': 3485, '뉴욕': 3486, '확신': 3487, '좇': 3488, '미흡': 3489, '은데요': 3490, '로인': 3491, '불러일으키': 3492, '청부': 3493, '내려놓': 3494, '본능': 3495, '외면': 3496, '이따위': 3497, '또는': 3498, '툼': 3499, '레이더': 3500, '실망감': 3501, '핫': 3502, '마니': 3503, '하이': 3504, '훗날': 3505, '좆': 3506, '자비': 3507, '냄새': 3508, '미국인': 3509, '지의': 3510, '요초': 3511, '주어지': 3512, '조리': 3513, '화관': 3514, '생하': 3515, '운송': 3516, '애쓰': 3517, '연우': 3518, '쿵후': 3519, '눈깔': 3520, '한나라': 3521, '반면': 3522, '디자인': 3523, '이나마': 3524, '다인': 3525, '보안': 3526, '불행': 3527, '손색없': 3528, '뜨거워지': 3529, '말길': 3530, '화지': 3531, '가만': 3532, '대만족': 3533, '관하': 3534, '비난': 3535, '통일': 3536, '세여': 3537, '들어주': 3538, '무능': 3539, '쏠쏠': 3540, '카레': 3541, '정이': 3542, '여태껏': 3543, '개막': 3544, '말리': 3545, '회복': 3546, '애절': 3547, '숨쉬': 3548, '랏': 3549, '해리': 3550, '어느덧': 3551, '동심': 3552, '티우': 3553, '첨보': 3554, '몸부림': 3555, '작용': 3556, '이로': 3557, '새기': 3558, '파라': 3559, '남다르': 3560, '미침': 3561, '영광': 3562, '탁': 3563, '도개': 3564, '콧물': 3565, '한쪽': 3566, '집기': 3567, 'ㄴ다느니': 3568, '나리': 3569, '애정': 3570, '항마': 3571, '철학적': 3572, '서른': 3573, '필름': 3574, '전문': 3575, '걸이': 3576, '경의': 3577, '전환': 3578, '요하': 3579, '디지털': 3580, '논리': 3581, '걸맞': 3582, '막히': 3583, '대사도': 3584, '소식': 3585, '임금': 3586, '고해도': 3587, '려나': 3588, '개월': 3589, '돔': 3590, '천식': 3591, '껏': 3592, '풀이': 3593, '렐': 3594, '함부로': 3595, '비비': 3596, '이놈': 3597, '서리': 3598, '귀요': 3599, '정화': 3600, '디즈니': 3601, '씻': 3602, '집안': 3603, '심리적': 3604, '열광': 3605, '권하': 3606, '어스': 3607, '고등학교': 3608, '주행': 3609, '한로': 3610, '이세영': 3611, '준거': 3612, '두고': 3613, '대립': 3614, '흑백': 3615, '깨달음': 3616, '메리': 3617, '존중': 3618, '마땅': 3619, '꿇': 3620, '수지': 3621, '글쓰': 3622, '데이터': 3623, '분석': 3624, '번역': 3625, '멘스': 3626, '뒤집': 3627, '밝혀내': 3628, '사벽': 3629, '중한': 3630, '버튼': 3631, '경계': 3632, '운전': 3633, '올르': 3634, '의도적': 3635, '차량': 3636, '아디다스': 3637, '아물': 3638, '아찔': 3639, '일진': 3640, '치하': 3641, '나아': 3642, '강아지': 3643, '컴': 3644, '이곳': 3645, '발하': 3646, '게요': 3647, '특전': 3648, '댄스': 3649, '윗': 3650, '임무': 3651, '꺼내': 3652, '가까이': 3653, '향기': 3654, '건느': 3655, '민수': 3656, '잭': 3657, '긴말': 3658, '되살리': 3659, '닉': 3660, '중정': 3661, '한줄기': 3662, '뚫': 3663, '맞이하': 3664, '동의': 3665, '선물': 3666, '교육': 3667, '뽀': 3668, '고대': 3669, '날으': 3670, '스틸': 3671, '우수': 3672, '칸나': 3673, '민폐': 3674, '주민': 3675, '외로움': 3676, '미만': 3677, '러시아': 3678, '여서': 3679, '드레스': 3680, '상식': 3681, '열일': 3682, '끌리': 3683, '현장': 3684, '환상적': 3685, '울부짖': 3686, '우뢰': 3687, '정신없': 3688, '고지': 3689, '어쩌다': 3690, '다큐멘터리': 3691, '맞닿': 3692, '메꾸': 3693, '취소': 3694, '택시': 3695, '독재자': 3696, '잘나': 3697, '저래': 3698, '리그': 3699, '젠장': 3700, '톡': 3701, '은가': 3702, '권총': 3703, '의구심': 3704, '초등학생': 3705, '깎아내리': 3706, '교수님': 3707, '도랑': 3708, '놀라움': 3709, '보임': 3710, '아재': 3711, '개소리': 3712, '믹': 3713, '과언': 3714, '플에': 3715, '분간': 3716, '정해지': 3717, '경구': 3718, '이재': 3719, '밌으': 3720, '까이': 3721, '월일': 3722, '데로': 3723, '거품': 3724, '다기': 3725, '로비': 3726, '임대': 3727, '껌': 3728, '을수록': 3729, '분장': 3730, '이의': 3731, '키스': 3732, '비의': 3733, '빼놓': 3734, '라더': 3735, '전라도': 3736, '들려오': 3737, '고백': 3738, '파헤치': 3739, '임도': 3740, '규의': 3741, '침몰': 3742, '재개': 3743, '짬': 3744, '이중': 3745, '새록새록': 3746, '가출': 3747, '린트': 3748, '저거': 3749, '뚫리': 3750, '시각적': 3751, '해안': 3752, '장이': 3753, '해피': 3754, '공포감': 3755, '라구요': 3756, '벨': 3757, '고구': 3758, '구원': 3759, '이너': 3760, '손색': 3761, '오픈': 3762, '발성': 3763, '성분': 3764, '해진': 3765, '발음': 3766, '꼬이': 3767, '청소': 3768, '문득': 3769, '휘': 3770, '고마워하': 3771, '최대한': 3772, '원화': 3773, '다중': 3774, '부디': 3775, '후유증': 3776, '클럽': 3777, '가상': 3778, '대학': 3779, '오우': 3780, '팝콘': 3781, '시놉': 3782, '시스': 3783, '의문점': 3784, '스님': 3785, '모가지': 3786, '노골적': 3787, '자르': 3788, '산만': 3789, '엄지': 3790, '인재': 3791, '임시': 3792, '우기': 3793, '되새기': 3794, '관리': 3795, '특색': 3796, '여름': 3797, '잔혹': 3798, '무도': 3799, '지배': 3800, '바닥': 3801, '가본': 3802, '그릇': 3803, '안심': 3804, '초중반': 3805, '멘트': 3806, '윈': 3807, '날아다니': 3808, '물어보': 3809, '로렌스': 3810, '물음표': 3811, '당한': 3812, '상도': 3813, '향수': 3814, '모름': 3815, '대답': 3816, '끊이': 3817, '한인': 3818, '케미': 3819, '외국인': 3820, '의외': 3821, '웍': 3822, '일제': 3823, '유럽': 3824, '형식': 3825, '줍': 3826, '신작': 3827, '상처받': 3828, '전략': 3829, '고뇌': 3830, '간신': 3831, '여기저기': 3832, '돌이': 3833, '적임': 3834, '전형적': 3835, '카리스마': 3836, '방울': 3837, '주관적': 3838, '오빠': 3839, '라이트': 3840, 'ㅔ': 3841, '산다': 3842, '형태': 3843, '부정': 3844, '오리지널': 3845, '간직': 3846, '상큼': 3847, '달달': 3848, '첩보': 3849, '구구': 3850, '김구': 3851, '의원': 3852, '거치': 3853, '쟤': 3854, '기묘': 3855, '시인': 3856, '평상시': 3857, 'ㅡㅠ': 3858, 'ㅂ쇼': 3859, '징징대': 3860, '배틀': 3861, '개발': 3862, '슈퍼': 3863, '동해': 3864, '설레이': 3865, '담담': 3866, '작동': 3867, '치료': 3868, '근접': 3869, '앙': 3870, '러브': 3871, '폭력적': 3872, '과격': 3873, '눈부시': 3874, '다크': 3875, '달려가': 3876, '닭': 3877, '고기': 3878, '묻히': 3879, '거북': 3880, '미숙': 3881, '알아보': 3882, '전반부': 3883, '소송': 3884, '노이즈': 3885, '절절': 3886, '옹호': 3887, '기본적': 3888, '트렌': 3889, '절로': 3890, '칠': 3891, '굴복': 3892, '못살': 3893, '후편': 3894, '소비': 3895, '냉정': 3896, '나래': 3897, '이스트': 3898, '봉작': 3899, '어우': 3900, '만원': 3901, '넘어서': 3902, '캡틴': 3903, '물건': 3904, '저스': 3905, '노잼': 3906, '강조': 3907, '빈틈': 3908, '지에': 3909, '극대화': 3910, '대책': 3911, '장해': 3912, '염력': 3913, '용도': 3914, '트랜스포머': 3915, '다정': 3916, '땡기': 3917, '호평': 3918, '계약': 3919, '극본': 3920, '추측': 3921, '강박': 3922, '다구요': 3923, '버스': 3924, '만지': 3925, '화끈하': 3926, '가량': 3927, '앤드': 3928, '감방': 3929, '수함': 3930, '산업': 3931, '장소': 3932, '민족': 3933, '친하': 3934, '한자': 3935, '서양': 3936, '날아가': 3937, '물들이': 3938, '택': 3939, '매트릭스': 3940, '지극': 3941, '유아': 3942, '인내': 3943, '용두': 3944, '사미': 3945, '끌어당기': 3946, '뭡': 3947, '구르': 3948, '기용': 3949, '비공': 3950, '사투': 3951, '얼간이': 3952, '무빙': 3953, '딸리': 3954, '유행': 3955, '모드': 3956, '한국적': 3957, '효과음': 3958, '갇히': 3959, '개가': 3960, '민망': 3961, '종료': 3962, '무술': 3963, '예수': 3964, '내요': 3965, '애비': 3966, '어리둥절': 3967, '기하': 3968, '마크': 3969, '무서워하': 3970, '명하': 3971, '문신': 3972, '닦': 3973, '적응': 3974, '극단적': 3975, '연계': 3976, '토피': 3977, '가다': 3978, '얻어걸리': 3979, '강제': 3980, '해선': 3981, '하자': 3982, '늑대': 3983, '벗': 3984, '대비': 3985, '불구': 3986, '나약': 3987, '사토': 3988, '채워지': 3989, '랩': 3990, '포장': 3991, '고보': 3992, '철없': 3993, '널리': 3994, '아무렇': 3995, '성개': 3996, '여야': 3997, '테러범': 3998, '어떻든': 3999, '신념': 4000, '뚜렷': 4001, '웨이': 4002, '패기': 4003, '함보': 4004, '그럴듯하': 4005, '세력': 4006, '북한': 4007, '프레임': 4008, '켠': 4009, '잘못되': 4010, '추모': 4011, '준수': 4012, '안전': 4013, '기기': 4014, '박살나': 4015, '살펴보': 4016, '멀리': 4017, '실소': 4018, '누가': 4019, '태우': 4020, '없애': 4021, '뿜': 4022, '구석': 4023, '발상': 4024, '이종': 4025, '하필': 4026, '사이버': 4027, '지방': 4028, '학대': 4029, '과소평가': 4030, '과감': 4031, '팔아먹': 4032, '근거': 4033, '무모': 4034, '나지': 4035, '졸업': 4036, '충무로': 4037, '썩': 4038, '지역': 4039, '가자': 4040, '뒈지': 4041, '성과': 4042, '나로': 4043, '예약': 4044, '아라': 4045, '거만': 4046, '메인': 4047, '전락': 4048, '베네': 4049, '거들': 4050, '거주': 4051, '출발': 4052, '만들기': 4053, '주시': 4054, '별루': 4055, '꼼꼼': 4056, '철학': 4057, '영춘': 4058, '것다': 4059, '자전거': 4060, '불량': 4061, 'ㅁ다만': 4062, '부탁': 4063, '제보': 4064, '극찬': 4065, '인터넷': 4066, '마찬가지': 4067, '부조리': 4068, '우범': 4069, '사이코': 4070, '대남': 4071, '사귀': 4072, '좋으': 4073, '내놓': 4074, '사이다': 4075, '명한': 4076, '한과': 4077, '마구': 4078, '엮': 4079, '애락': 4080, '쿵푸': 4081, '비쥬얼': 4082, '여진': 4083, '털리': 4084, '이동': 4085, '텐션': 4086, '수배': 4087, '강요': 4088, '평안': 4089, '집요': 4090, '바가지': 4091, '프롤로그': 4092, '걸어다니': 4093, '똘똘': 4094, '남아돌': 4095, '딴': 4096, '플롯': 4097, '보도': 4098, '구현': 4099, '어긋나': 4100, '천하': 4101, '빚': 4102, '요구': 4103, '쿼드': 4104, '엄폐': 4105, '앵거스': 4106, '뼈대': 4107, '벌벌': 4108, '커다랗': 4109, '빌리': 4110, '조성하': 4111, '드가': 4112, '얼르': 4113, '명성': 4114, '절대아': 4115, '막막': 4116, '건드리': 4117, '현지': 4118, '개구장이': 4119, '성하': 4120, '저질': 4121, '처벌': 4122, '기반': 4123, '옳': 4124, '격자': 4125, '한남': 4126, '저능아': 4127, '성경': 4128, '고함': 4129, '충족': 4130, '나인': 4131, '다네': 4132, '크페이트': 4133, '쓸데': 4134, '주고받': 4135, '주제가': 4136, '허세': 4137, '돌림': 4138, '가적': 4139, '쪼이': 4140, '집권': 4141, '찾아내': 4142, '어의': 4143, '기술력': 4144, '살림': 4145, '무적': 4146, '가나': 4147, '경찰차': 4148, '뒷모습': 4149, '거안': 4150, '제시': 4151, '박수치': 4152, '아시아': 4153, '이남': 4154, '창작': 4155, '됫': 4156, '공산': 4157, '장악': 4158, '망가': 4159, '렷': 4160, '깨우치': 4161, '강력': 4162, '일인': 4163, '달아보': 4164, '틀니': 4165, '캐미': 4166, '스칼렛': 4167, '형성': 4168, '처참': 4169, '발바닥': 4170, '긁': 4171, '급급': 4172, '조금씩': 4173, '인제': 4174, '부패': 4175, '대량': 4176, '저격': 4177, '로즈': 4178, '강호': 4179, '대혁명': 4180, '비참': 4181, '개돼지': 4182, '뒤로하': 4183, '동하': 4184, '맘대로': 4185, '아우르': 4186, '망상': 4187, '엉망진창': 4188, '시궁창': 4189, '마법': 4190, '고스란': 4191, '혁': 4192, '교수': 4193, '승희': 4194, '펜': 4195, '재미지': 4196, '천주교': 4197, '케이블': 4198, '대도': 4199, '부각': 4200, '수라': 4201, '군상': 4202, '아키라': 4203, '여러번': 4204, '기죽이': 4205, '까먹': 4206, '일깨우': 4207, 'ㄹ래요': 4208, '내달': 4209, '괴롭': 4210, '레벨': 4211, '보소': 4212, '짤': 4213, '궁합': 4214, '핸드': 4215, '목숨걸': 4216, '거부감': 4217, '연희': 4218, '비약': 4219, '포커스': 4220, '점점이': 4221, '치의': 4222, '찌르': 4223, '지라': 4224, '예매': 4225, '뭐람': 4226, '여주인': 4227, '시골': 4228, '하울': 4229, '렛': 4230, '무사': 4231, '배후': 4232, '병기': 4233, '무려': 4234, '액': 4235, '훈훈': 4236, '마감': 4237, '벗어던지': 4238, '대공포': 4239, '최저': 4240, '퀸': 4241, '콘서트': 4242, '대리': 4243, '펭귄': 4244, '각하': 4245, '언제쯤': 4246, '김빠지': 4247, '변기': 4248, '막상': 4249, '쿡': 4250, '미쿡': 4251, '원제': 4252, '만연': 4253, '마을': 4254, '부끄러움': 4255, '선량': 4256, '양념': 4257, '모시': 4258, '애가': 4259, '이타': 4260, '노스': 4261, '눈감': 4262, '건배': 4263, 'ㅜㅜㅠ': 4264, '하이라이트': 4265, '실컷': 4266, '반도': 4267, '다원': 4268, '러시': 4269, '감돌': 4270, '영구': 4271, '모아': 4272, '갈라지': 4273, '트맨': 4274, '생이': 4275, '뛰어들': 4276, '태현': 4277, '가세': 4278, '은퇴': 4279, '모자': 4280, '이끌어내': 4281, '들마': 4282, '이인': 4283, '도해': 4284, '럭': 4285, '수출': 4286, '현상': 4287, '작업': 4288, '적극': 4289, '밀려오': 4290, '유미': 4291, '도입부': 4292, '진중': 4293, '가점': 4294, '과학적': 4295, '대조': 4296, '아기자기': 4297, '만개': 4298, '미끼': 4299, '역부족': 4300, '커리어': 4301, '탱크': 4302, '배트': 4303, '연예인': 4304, '선한': 4305, '체적': 4306, '우이': 4307, '차도': 4308, '은하': 4309, '오기': 4310, '고등학생': 4311, '오토바이': 4312, '플레이': 4313, '투어': 4314, '아줌마': 4315, '슈': 4316, '저렴': 4317, '그분': 4318, '밀수': 4319, '전화': 4320, '보고서': 4321, '반해': 4322, '가구': 4323, '승호': 4324, '뚝': 4325, '뛰쳐나오': 4326, '야만': 4327, '상은': 4328, '스텝': 4329, '보람': 4330, '오늘날': 4331, '바르': 4332, '노트북': 4333, '깔깔거리': 4334, 'ㄹ라고': 4335, '상관': 4336, '턴': 4337, '암살': 4338, '여태': 4339, '집단': 4340, '캐': 4341, '인감': 4342, '마도': 4343, '익': 4344, '잘리': 4345, '제자': 4346, '보인': 4347, '모토': 4348, '꼬맹이': 4349, '한말': 4350, '기르': 4351, '몽': 4352, '육아': 4353, '므': 4354, '사업': 4355, '반쯤': 4356, '더러워지': 4357, '처먹': 4358, 'ㅐ': 4359, '후하': 4360, '밀리': 4361, '이버': 4362, '상한': 4363, '우장': 4364, '공존': 4365, '젠': 4366, '구경': 4367, '보리': 4368, '지보': 4369, '총집합': 4370, '찐하': 4371, '려요': 4372, '비롯되': 4373, '불로': 4374, '우주선': 4375, '날라가': 4376, '하아': 4377, '스리': 4378, '이배': 4379, '느냐': 4380, '에따': 4381, '무수': 4382, '이처럼': 4383, '개의': 4384, '일루': 4385, '보수': 4386, '극의': 4387, '제리': 4388, '작이': 4389, '노래방': 4390, '당일': 4391, '요정': 4392, '셸': 4393, '툭툭': 4394, '정과': 4395, '불키': 4396, '시스템': 4397, '오만': 4398, '사실상': 4399, '과제': 4400, '다니엘': 4401, '연연': 4402, '큰일나': 4403, '감장': 4404, '조그맣': 4405, '아무래도': 4406, '리스트': 4407, '냐들': 4408, '가없': 4409, '연발': 4410, '공식': 4411, '오타쿠': 4412, '허용': 4413, '앞서가': 4414, '제한': 4415, '이다음': 4416, '치우': 4417, '혼잡': 4418, '내야': 4419, '한탕주의': 4420, '땜시': 4421, '묘하': 4422, '말장난': 4423, '뒤돌': 4424, '도배': 4425, '여년': 4426, '가있': 4427, '삶이': 4428, '아치': 4429, '진국': 4430, '진자': 4431, '원한': 4432, '본격': 4433, '어쩜': 4434, '뒷부분': 4435, '역의': 4436, '떠오': 4437, '덜하': 4438, '이어도': 4439, '지상': 4440, '깃들': 4441, '적군': 4442, '연도': 4443, '짜내': 4444, '햐': 4445, '꾸미': 4446, '싱': 4447, '클루': 4448, '향연': 4449, '장치': 4450, '제주도': 4451, '조오': 4452, '데드': 4453, '제의': 4454, '막심': 4455, '배려': 4456, '한자리': 4457, '참으': 4458, '이연': 4459, '연주': 4460, '마개': 4461, '받치': 4462, '연구': 4463, '안쓰럽': 4464, '그중': 4465, '연민': 4466, '흑흑': 4467, '샤를': 4468, '수단': 4469, '후손': 4470, '박사': 4471, '미터': 4472, '지진': 4473, '램': 4474, '소의': 4475, '에어': 4476, '대세': 4477, '춤추': 4478, '조용': 4479, '화점': 4480, '가주': 4481, '간혹': 4482, '가부': 4483, '후로': 4484, '쏟아붓': 4485, '곱': 4486, '정상인': 4487, '전이': 4488, '날카롭': 4489, '파고들': 4490, '요도': 4491, '마주치': 4492, '이모': 4493, '속도감': 4494, '달콤': 4495, '맞먹': 4496, '찢어지': 4497, '두려워하': 4498, '결실': 4499, '블레이드': 4500, '기라': 4501, '반일': 4502, '특기': 4503, '국제': 4504, '자동': 4505, '센터': 4506, '해양': 4507, '치부': 4508, '생명': 4509, '가을': 4510, '하야': 4511, '학원': 4512, '광대': 4513, '터키': 4514, '오그라들': 4515, '시험': 4516, '맛보': 4517, '내심': 4518, '명복': 4519, '매체': 4520, '절반': 4521, '제국': 4522, '오해': 4523, '부자': 4524, '찰지': 4525, '수영장': 4526, '검사': 4527, '타일러': 4528, '타이밍': 4529, '자스민': 4530, '오미': 4531, '알라딘': 4532, '슬퍼하': 4533, '캐비': 4534, '기초': 4535, '무간도': 4536, '흥': 4537, '강남': 4538, '감수': 4539, '독일': 4540, '미스터': 4541, '각한': 4542, '저마다': 4543, '너와': 4544, '삭': 4545, '센스': 4546, '찌푸리': 4547, '끊어지': 4548, '그러하': 4549, '개선': 4550, '우의': 4551, '하고자': 4552, '시너지': 4553, '야구': 4554, '박살': 4555, '눌르': 4556, '내적': 4557, '찾아가': 4558, '피로': 4559, '세세': 4560, '희의': 4561, '구먼': 4562, '임자': 4563, '노트': 4564, '내노': 4565, '나스': 4566, '역사적': 4567, '건장': 4568, '블레이크': 4569, '대여': 4570, '릿': 4571, '띄우': 4572, '으라는': 4573, '지혜': 4574, '주먹': 4575, '리머': 4576, '구입': 4577, '비만': 4578, '처단': 4579, '도발': 4580, '귀찮': 4581, '작자': 4582, '닥치': 4583, '체크': 4584, '영혼': 4585, '꺄': 4586, '후딱': 4587, '스피커': 4588, '페이스': 4589, '이순': 4590, '로맨틱': 4591, '넓': 4592, '펭': 4593, '닥': 4594, '인거': 4595, '퀼': 4596, '경쾌': 4597, '욕구': 4598, '곸': 4599, '뺨': 4600, '어필': 4601, '세심': 4602, '스카이': 4603, '신비': 4604, '붓': 4605, '탁월': 4606, '정통': 4607, '호로': 4608, '용하': 4609, '꼬리': 4610, '아바': 4611, '도망자': 4612, '시작점': 4613, '일지': 4614, '어선': 4615, '시종일관': 4616, '심심풀이': 4617, '중화': 4618, '라마': 4619, '얽': 4620, '휘몰아치': 4621, '옆집': 4622, '데뷔': 4623, '황제': 4624, '헤엄치': 4625, '천장': 4626, '내려오': 4627, 'ㅂ니다만': 4628, '헝': 4629, '섹스': 4630, '목표': 4631, '유인': 4632, '밋밋': 4633, '작작': 4634, '뒷': 4635, '공장': 4636, '성년자': 4637, '남배우': 4638, '안타': 4639, '헌의': 4640, '충성': 4641, '영애': 4642, '도반': 4643, '실체': 4644, '몬': 4645, '모티브': 4646, '거듭': 4647, '자의': 4648, '멕시코': 4649, '컵': 4650, '핵심': 4651, '고아': 4652, '우먼': 4653, '바끼': 4654, '대건': 4655, '걸레': 4656, '지질': 4657, '일탈': 4658, '쇼트': 4659, '안방': 4660, '허탈': 4661, '반감': 4662, '타고나': 4663, '되려': 4664, '풍': 4665, '금보': 4666, '대왕': 4667, '소나': 4668, '신인': 4669, '일상생활': 4670, '한정': 4671, '실험': 4672, '그치': 4673, '휩쓸리': 4674, '멤버': 4675, '믿거': 4676, '가년': 4677, '초인': 4678, '하늘나라': 4679, '베드신': 4680, '장애': 4681, '라드': 4682, '투영': 4683, '깨부수': 4684, '쏟아지': 4685, '코드': 4686, '국산': 4687, '빚어내': 4688, '트랙': 4689, '앤더슨': 4690, '염': 4691, '도화': 4692, '엄정': 4693, '팩트': 4694, '문명': 4695, '앞서': 4696, '눈꼽': 4697, '끌려가': 4698, '황홀': 4699, '곽': 4700, '커플': 4701, '벅차오르': 4702, '위인': 4703, '겸손': 4704, '동지': 4705, '왓챠': 4706, '포트': 4707, '파트': 4708, '중독': 4709, '혼신': 4710, '상투적': 4711, '요감': 4712, '쫀쫀하': 4713, '과잉': 4714, '퉤': 4715, '크스': 4716, '기간': 4717, '바지': 4718, '인권': 4719, '쟁이': 4720, '조끼': 4721, '보시기': 4722, '수혜': 4723, '신박하': 4724, '스케': 4725, '거꾸로': 4726, '분초': 4727, '돌아가시': 4728, '가평': 4729, '망각': 4730, '구호': 4731, '섞이': 4732, '진리': 4733, '성철': 4734, '살아나': 4735, 'ㅗ': 4736, '조국': 4737, '면하': 4738, '그대': 4739, '장만': 4740, '정남': 4741, '쥰': 4742, '부드럽': 4743, '영화화하': 4744, '작위적': 4745, '근처': 4746, '포르노': 4747, '초월': 4748, '지내': 4749, '형용': 4750, '동양': 4751, 'ㄹ걸': 4752, '내러티브': 4753, '살피': 4754, '구출': 4755, '하거': 4756, '단계': 4757, '들어': 4758, '업적': 4759, '갈기': 4760, '뵈': 4761, '보물': 4762, '패러디': 4763, '밍밍': 4764, '붉은빛': 4765, '해피엔딩': 4766, '부자연': 4767, '오리': 4768, '그냥저냥': 4769, '문제점': 4770, '지독': 4771, '비밀': 4772, '재주': 4773, '오락성': 4774, '토하': 4775, '의향': 4776, '세트': 4777, '점프': 4778, '난민': 4779, '로마': 4780, '심연': 4781, '엄호': 4782, '허무맹랑': 4783, '랬': 4784, '트럼프': 4785, '휩쓸': 4786, '일정': 4787, '틀리': 4788, '사형': 4789, '거장': 4790, '테프론': 4791, '스미': 4792, 'ㄹ라요': 4793, '뭥': 4794, '줄기': 4795, '거점': 4796, '소행': 4797, '아이러니': 4798, '불친절하': 4799, '입소문': 4800, '로망': 4801, '휴지': 4802, '연가': 4803, '어케': 4804, '시간쯤': 4805, '유리': 4806, '살려주': 4807, '면모': 4808, '무의미': 4809, '픽': 4810, '정은': 4811, '미라': 4812, '풋': 4813, '하얗': 4814, '공조': 4815, '세기말': 4816, '신앙': 4817, '결심': 4818, '감주': 4819, '씌우': 4820, '차례': 4821, '웟': 4822, '폭동': 4823, '똑똑': 4824, 'ㅉㅉㅉ': 4825, '멸종': 4826, '네티즌': 4827, '진수': 4828, '통화': 4829, '홈': 4830, '감명': 4831, '구마': 4832, '순하': 4833, '라면서': 4834, '엇갈리': 4835, '나재밌': 4836, '보영': 4837, '선배': 4838, '바이다': 4839, '작도': 4840, '떠나보내': 4841, '농락': 4842, '잠기': 4843, '의혹': 4844, '리어': 4845, '야당': 4846, '영화광': 4847, '도적': 4848, '엑스': 4849, '친숙': 4850, '생애': 4851, '투박': 4852, '긍정적': 4853, '며칠': 4854, '불명': 4855, '한대': 4856, '시시': 4857, '저희': 4858, '요부': 4859, '함축적': 4860, '성향': 4861, '컬러': 4862, '주로': 4863, '강조하': 4864, '하영': 4865, '좌우': 4866, '아래': 4867, '먼지': 4868, '다수': 4869, '다분': 4870, '테일러': 4871, '잡고': 4872, '엔': 4873, '그토록': 4874, '꺼리': 4875, '베드': 4876, '스맨': 4877, '도탄': 4878, '진도': 4879, '수준의': 4880, '굴리': 4881, '개답': 4882, '일본인': 4883, '유해': 4884, '예정': 4885, '다음날': 4886, '할려': 4887, '상대적': 4888, '개재': 4889, '예기': 4890, '그리움': 4891, '약혼자': 4892, '사슬': 4893, '재구성': 4894, '안주': 4895, '미이라': 4896, '학과': 4897, '구라': 4898, '이질감': 4899, '그린': 4900, '엑스트라': 4901, '필수': 4902, '울컥': 4903, '억에': 4904, '외장': 4905, '전범': 4906, '투자자': 4907, '쓸': 4908, '어메이': 4909, '달라': 4910, '마이클': 4911, '출근': 4912, '가인': 4913, '테일': 4914, '니퍼': 4915, '메시': 4916, '가안': 4917, '해결책': 4918, '매치': 4919, '각종': 4920, '데이트': 4921, '버블': 4922, '감흥': 4923, '로케': 4924, '훈장': 4925, '정치인': 4926, '기울이': 4927, '기고': 4928, '이형': 4929, '탈': 4930, '초록': 4931, '우랑': 4932, '고안': 4933, '서편': 4934, '정주': 4935, '젊음': 4936, '찾아다니': 4937, '최상': 4938, '패러다임': 4939, '불면증': 4940, '기전': 4941, '의자': 4942, '이듬': 4943, '김장감': 4944, '어쨋든': 4945, '일종': 4946, '낭만': 4947, '갈망': 4948, '사죄': 4949, '벌리': 4950, '화질': 4951, '잡음': 4952, '얼추': 4953, '안기': 4954, '개별': 4955, '로고': 4956, '퇴보': 4957, '구매': 4958, '포식자': 4959, '본능적': 4960, '맞서싸워': 4961, '제법': 4962, '상보': 4963, '동질': 4964, '갑자': 4965, '백두산': 4966, '둘째치': 4967, '불리': 4968, '교감': 4969, '대놓고': 4970, '죽여': 4971, '갔다오': 4972, '상의': 4973, '저기': 4974, '장감': 4975, '고소': 4976, '울궈먹': 4977, '언니': 4978, '가전': 4979, '위협': 4980, '개개인': 4981, '취하': 4982, '본드': 4983, '저급': 4984, '체감': 4985, 'ㅏ': 4986, '지속': 4987, '각각': 4988, '녹이': 4989, '약속': 4990, '초능력': 4991, '수다': 4992, '대전': 4993, '남한': 4994, '착': 4995, '실전': 4996, '온전': 4997, '타임머신': 4998, '정무': 4999, '가격': 5000, '요점': 5001, '판권': 5002, '블록버스터': 5003, '파이어': 5004, '기한': 5005, '적정선': 5006, '토마스': 5007, '생뚱맞': 5008, '괴수': 5009, '양쪽': 5010, '굳굳': 5011, '콤비': 5012, '수행': 5013, '미국식': 5014, '무관': 5015, '희노': 5016, '내지': 5017, '깁': 5018, '어중간': 5019, '근무': 5020, '다님': 5021, '보여': 5022, '무작정': 5023, '편의': 5024, '려니': 5025, '속상하': 5026, '고의': 5027, '도둑': 5028, '리플': 5029, '뒤늦': 5030, '예언': 5031, '워킹': 5032, '어쩧': 5033, '내도': 5034, '수장': 5035, '내세우': 5036, '오래가': 5037, '몽환적': 5038, '안내': 5039, '좋앗': 5040, '오돌오돌': 5041, '평행': 5042, '병사': 5043, '전사': 5044, '초등': 5045, '비행': 5046, '왓': 5047, '글자': 5048, '코너': 5049, '짜여지': 5050, '흉내내': 5051, '폭격': 5052, '수준급': 5053, '방향': 5054, '흔들': 5055, '다되': 5056, '토토': 5057, '짘': 5058, '교회': 5059, '국적': 5060, '총은': 5061, '투표': 5062, '앞날': 5063, '보셈': 5064, '마담': 5065, '쓸쓸': 5066, '대규모': 5067, '나무라': 5068, '공의': 5069, '생일': 5070, '상실': 5071, '미제': 5072, '건달': 5073, '할아버지': 5074, '되잖': 5075, '시청자': 5076, '어찌나': 5077, '전제': 5078, '오토': 5079, '더러운': 5080, '더블': 5081, '릴려': 5082, '만주': 5083, '은밀': 5084, '람': 5085, '들이밀': 5086, '박장': 5087, '해병': 5088, '한창': 5089, '시동': 5090, '분야': 5091, '한사람': 5092, '베트남': 5093, '장판': 5094, '세지': 5095, '비오': 5096, '제이슨': 5097, '막골': 5098, '느라고': 5099, '에러': 5100, '개떡': 5101, '없슴': 5102, '대범': 5103, '질투': 5104, '갖히': 5105, '다년': 5106, '우상': 5107, '가산': 5108, '인걸': 5109, '각인': 5110, '립스': 5111, '간하': 5112, '소설책': 5113, '주부': 5114, '도움': 5115, '잠수함': 5116, '하여튼': 5117, '부류': 5118, '나돌': 5119, '신고': 5120, '때깔': 5121, '피지': 5122, '숨막히': 5123, '특출나': 5124, '진술': 5125, '석이': 5126, '대대': 5127, '일방적': 5128, '수습': 5129, '상식적': 5130, '젯': 5131, '풍선': 5132, '열중': 5133, '원수': 5134, '사명': 5135, '앵': 5136, '천우': 5137, '밴': 5138, '입장료': 5139, '암흑': 5140, '베끼': 5141, '지류': 5142, '한스': 5143, '운동권': 5144, '노총': 5145, '조로': 5146, '아이큐': 5147, 'ㄹ세': 5148, '자존심': 5149, '젓': 5150, '흥해': 5151, '타협': 5152, '갑갑': 5153, '신천지': 5154, '충이': 5155, '투입': 5156, '몰아치': 5157, '뒤늦게': 5158, '창조': 5159, '길리': 5160, '입증': 5161, '진호': 5162, '간지럽': 5163, '파멸': 5164, '지름길': 5165, '뵙': 5166, '대처': 5167, '휘어지': 5168, '뺑': 5169, '나시': 5170, '따로따로': 5171, '복지': 5172, '다짐': 5173, '내전': 5174, '번하': 5175, '거적': 5176, 'ㄹ지라도': 5177, '사례': 5178, '들개': 5179, '우리네': 5180, '대학교': 5181, '거실': 5182, '갯': 5183, '보이스': 5184, '요지': 5185, '분류': 5186, '메마르': 5187, '폭풍': 5188, '신자': 5189, '겠지': 5190, '평이': 5191, '무게': 5192, '무게감': 5193, '도열': 5194, '시그널': 5195, '트래블러': 5196, '들오': 5197, '눈여겨보': 5198, '하고하': 5199, '발리': 5200, '할머님': 5201, '보살': 5202, '갇': 5203, '수구': 5204, '꼴통': 5205, '참사랑': 5206, '견디': 5207, '이감': 5208, '거란': 5209, '치중': 5210, '주성': 5211, '플래쉬': 5212, '압축': 5213, '티켓': 5214, '광경': 5215, '공명': 5216, '여자애': 5217, '차분': 5218, '어여쁘': 5219, '과채': 5220, '권위자': 5221, '맞서싸': 5222, '다호': 5223, '합작': 5224, '성비': 5225, '장사': 5226, '숫자': 5227, '다성': 5228, '한물가': 5229, '대우': 5230, '맛깔': 5231, '테입': 5232, '함미': 5233, '가녀리': 5234, '팔뚝': 5235, '구림': 5236, '오롯이': 5237, '엔드': 5238, '껄끄럽': 5239, '뒤쳐지': 5240, '아우': 5241, '생일날': 5242, '비록': 5243, '도내': 5244, '예외': 5245, '꽂히': 5246, '싱겁': 5247, '로얄': 5248, '훈련': 5249, '오줌': 5250, '공사': 5251, '해인': 5252, '일시': 5253, '정지': 5254, '존엄사': 5255, '빙자': 5256, '한신': 5257, '급하': 5258, '뤼': 5259, '정체성': 5260, '우리말': 5261, '눈앞': 5262, '책상': 5263, '놓아주': 5264, '경쟁': 5265, '지못': 5266, '성해': 5267, '함정': 5268, '도연': 5269, '인칭': 5270, '오래오래': 5271, '굵직': 5272, '교전': 5273, '스토퍼': 5274, '유익': 5275, '수능': 5276, '입하': 5277, '겄': 5278, '땡칠이': 5279, '나와': 5280, '함박': 5281, '소파': 5282, '갚': 5283, '을게': 5284, '능글맞': 5285, '일도': 5286, '비롯': 5287, '면전': 5288, '트에': 5289, '고시생': 5290, '꾸준': 5291, '사과': 5292, '마무': 5293, '마커': 5294, '스의': 5295, '남치': 5296, '봉사': 5297, '중진': 5298, '현명': 5299, '아라곤': 5300, '생명체': 5301, '미르': 5302, '역경': 5303, '찬사': 5304, '통제': 5305, '감격': 5306, '터져나오': 5307, '계가': 5308, '분점': 5309, '쏙': 5310, '중국어': 5311, '완급': 5312, '하않': 5313, '잇몸': 5314, '해고': 5315, '요원': 5316, '치감': 5317, '상호': 5318, '진알': 5319, '룰': 5320, '개지': 5321, '도의': 5322, '떨어트리': 5323, '대이': 5324, '흰색': 5325, '원색': 5326, '뜨리': 5327, '저지': 5328, '스트릿': 5329, '패션': 5330, '도상': 5331, '시언': 5332, '백수': 5333, '이시영': 5334, '즉흥적': 5335, '달리하': 5336, '야죠': 5337, '강간': 5338, '고사': 5339, '삼성': 5340, '앨범': 5341, '떠벌리': 5342, '명징': 5343, '개암': 5344, '헐리': 5345, '탭': 5346, '스워': 5347, '인력': 5348, '구의': 5349, '초등학교': 5350, '소이': 5351, '고욕': 5352, '간호사': 5353, '어줍잖': 5354, '비평': 5355, '폄훼': 5356, '돈만': 5357, '미비': 5358, '우선적': 5359, '이경': 5360, '모형': 5361, '로지': 5362, '지침': 5363, '조미료': 5364, '출중': 5365, '물씬': 5366, '의해': 5367, '중앙정보부': 5368, '또라이': 5369, '국회의원': 5370, '제기': 5371, '계신': 5372, '실행': 5373, '명백': 5374, '스승': 5375, '반의': 5376, '절망': 5377, '눈물샘': 5378, '미처': 5379, '일반적': 5380, '뽀짝': 5381, '노바': 5382, '치열': 5383, '난생': 5384, '진시': 5385, '쳐지': 5386, '이웃': 5387, '뱅': 5388, '허덕이': 5389, '저처럼': 5390, '오시': 5391, '유년기': 5392, '기스': 5393, '평정': 5394, '후려치': 5395, '포화': 5396, '줄어들': 5397, '묵묵': 5398, '갈래': 5399, '주작': 5400, '끼들': 5401, '포털': 5402, '사이트': 5403, 'ㄹ러라': 5404, '이이': 5405, '참담': 5406, '혹하': 5407, '서러움': 5408, '교차': 5409, '요동': 5410, '넹': 5411, '임진': 5412, '감오': 5413, '흘르': 5414, '근사': 5415, '일치': 5416, '페이크': 5417, '매이': 5418, '는다고': 5419, '띄엄띄엄': 5420, '건너뛰': 5421, '물리학': 5422, '복합': 5423, '외출': 5424, '남산': 5425, '민주당': 5426, '환타지': 5427, '가불': 5428, 'ㄴ지라': 5429, '수선': 5430, '부가': 5431, '따라다니': 5432, '도르': 5433, '오로라': 5434, '젤리': 5435, '나졸': 5436, '일간': 5437, '노고': 5438, '단발': 5439, '훼손': 5440, '숲': 5441, '이분': 5442, '상쇄': 5443, '제공': 5444, '고나': 5445, '보너스': 5446, '타입': 5447, '들것': 5448, '이대로': 5449, '띵작': 5450, '결과적': 5451, '작사': 5452, '면제': 5453, '이어폰': 5454, '번번': 5455, '퓨처': 5456, '파스': 5457, '쳐먹': 5458, '풍부': 5459, '써보': 5460, '영해': 5461, '그지': 5462, '툴': 5463, '어진': 5464, '팡': 5465, '정면': 5466, '요조': 5467, '공격': 5468, '충격받': 5469, '졸음': 5470, '단물': 5471, '오감': 5472, '오라버니': 5473, '마돈나': 5474, '쾌감': 5475, '우희': 5476, '이라고': 5477, '소리치': 5478, '빼앗기': 5479, '비극적': 5480, '이순신': 5481, '지모': 5482, '사업가': 5483, '뜻대로': 5484, '후후': 5485, '이양': 5486, '지만요': 5487, '드슈': 5488, '왈츠': 5489, '더스': 5490, '창피': 5491, 'ㅗㅗ': 5492, '쌉쓰레': 5493, '달아나': 5494, '세도': 5495, '조종': 5496, '애물': 5497, '그까짓': 5498, '하나같이': 5499, '주옥같': 5500, '꽝': 5501, '말기': 5502, '손바닥': 5503, '무식': 5504, '시간적': 5505, '안개': 5506, '달하': 5507, '구경하': 5508, '집구석': 5509, '티셔츠': 5510, '정치색': 5511, '장영실': 5512, '사대': 5513, '외교': 5514, '빈정': 5515, '송운': 5516, '슬링': 5517, '튀가': 5518, '화적': 5519, '끝없이': 5520, '사악': 5521, '여부': 5522, '게릴라': 5523, '그적': 5524, '신음': 5525, '사회악': 5526, '찡찡': 5527, '스트리트': 5528, '굵': 5529, '인형': 5530, '풀하': 5531, '프라임': 5532, '대조적': 5533, '성의': 5534, '매혹': 5535, '요대': 5536, '사마': 5537, '가발': 5538, '느니': 5539, '퉁': 5540, '오래도록': 5541, '전기세': 5542, '미녀': 5543, '관이': 5544, '듣기': 5545, '질감': 5546, '음악성': 5547, '버스터': 5548, '이네': 5549, '미달': 5550, '까닭': 5551, '트이': 5552, '일침': 5553, '마흔': 5554, '피아노': 5555, '풍성': 5556, '순정': 5557, '동작': 5558, '일본어': 5559, '괴리감': 5560, '믄서': 5561, '소매치기': 5562, '독점': 5563, '표방': 5564, '미워하': 5565, '평온': 5566, '다하나': 5567, '도산': 5568, '상미': 5569, '묻어나': 5570, '모지': 5571, '장의': 5572, '가소': 5573, '도리': 5574, '별수': 5575, '깔깔': 5576, '막지': 5577, '에일': 5578, '유가': 5579, '후배': 5580, '뇌브': 5581, '음주': 5582, '남의': 5583, '안도감': 5584, '동아리': 5585, '나들이': 5586, '혈세': 5587, '별하': 5588, '요강': 5589, '서둘': 5590, '으으': 5591, '재생': 5592, '하한': 5593, '한복': 5594, '핏': 5595, '치루': 5596, '가담': 5597, '간담': 5598, '기예': 5599, '가해자': 5600, '만보': 5601, '도다': 5602, '볼일': 5603, '어야지만': 5604, '맘껏': 5605, '영관': 5606, '끝맺음': 5607, '우울증': 5608, '작위': 5609, '능력자': 5610, '주리': 5611, '사이드': 5612, '비치': 5613, '뒤지': 5614, '합의': 5615, '건만': 5616, '키나': 5617, '뜸': 5618, '완존': 5619, '하구': 5620, '답답이': 5621, '울음': 5622, '도요': 5623, '스탭': 5624, '정신병자': 5625, '명절': 5626, '백만': 5627, '규격': 5628, '제주': 5629, '기록': 5630, '한낱': 5631, '수차례': 5632, '도고': 5633, '미성년': 5634, '한일': 5635, '스크림': 5636, '혼영': 5637, '극악': 5638, '미남': 5639, '요기': 5640, '우산': 5641, '사실적': 5642, '간본': 5643, '만회': 5644, '솔로': 5645, '인사이드': 5646, '따듯': 5647, '아이덴티티': 5648, '헌트': 5649, '구축': 5650, '다선': 5651, '물의': 5652, '판다': 5653, '데뷔작': 5654, '리턴': 5655, '내아': 5656, '소용돌이': 5657, '보하': 5658, '어울림': 5659, '몸통': 5660, '스콧': 5661, '곰': 5662, '슬기': 5663, '해자': 5664, '골든': 5665, '거시': 5666, '매운탕': 5667, '애국심': 5668, '무협': 5669, '백하': 5670, '비열': 5671, '뿌시': 5672, '마음대로': 5673, '빔': 5674, '마자': 5675, '토의': 5676, '칩': 5677, '바치': 5678, '이탈리아': 5679, '아프리카': 5680, '불나': 5681, '닥터': 5682, '지하철': 5683, '일관성': 5684, '후퇴': 5685, '컨트롤': 5686, '제작사': 5687, '방가': 5688, '반개': 5689, '용병': 5690, '치만': 5691, '쉐': 5692, '고독': 5693, '상품': 5694, '청각': 5695, '김래': 5696, '끌어가': 5697, '토끼': 5698, '전후': 5699, '흡족': 5700, '읭': 5701, '툭튀': 5702, '괴이': 5703, '늘어놓': 5704, '전직': 5705, '수녀': 5706, '지목': 5707, '삽질': 5708, '파악': 5709, '연대': 5710, '전술': 5711, '함감': 5712, '보편': 5713, '가식': 5714, '불리우': 5715, '선아': 5716, '몸짓': 5717, '라디오': 5718, '빠따': 5719, '스포츠': 5720, '흐뭇': 5721, '되야지': 5722, '박지': 5723, '아지': 5724, '짝사랑': 5725, '지니': 5726, '수치': 5727, '개그맨': 5728, '주셈': 5729, '완결': 5730, '타기': 5731, '중력': 5732, '산거': 5733, '시사회': 5734, '손꼽': 5735, '진가': 5736, '전력': 5737, '테크': 5738, '기여': 5739, '기덕': 5740, '석의': 5741, '단둘': 5742, '물러가': 5743, '고심': 5744, '시대극': 5745, '팽팽': 5746, '탱': 5747, '죽인': 5748, '소총탄': 5749, '나기': 5750, '기어': 5751, '초장': 5752, '지결': 5753, '루피': 5754, '네만': 5755, '가문': 5756, '굴레': 5757, '속박': 5758, '장례식': 5759, '기별': 5760, '라이팅': 5761, '특전사': 5762, '시간대': 5763, '무법': 5764, '꼬에': 5765, '절해': 5766, '호중': 5767, '일대기': 5768, '음차': 5769, '빌빌거리': 5770, '고인물': 5771, '연출법': 5772, '장도': 5773, '삼국지': 5774, '이넘': 5775, '시고': 5776, '급작스럽': 5777, '상해': 5778, '데스': 5779, '좀약': 5780, '자꾸만': 5781, '겻': 5782, '슬퍼지': 5783, '리듬': 5784, '맞물리': 5785, '명실': 5786, '버그': 5787, '밀어주': 5788, '심취': 5789, '일기장': 5790, '요역': 5791, '시집': 5792, '독일어': 5793, '모욕': 5794, '공감대': 5795, '녹여내': 5796, '자본주의': 5797, '폐허': 5798, '똘': 5799, '이케': 5800, '헤치': 5801, '해먹': 5802, '스펙': 5803, '큰사람': 5804, '딸아이': 5805, '입술': 5806, '수없이': 5807, '조만간': 5808, '신보': 5809, '졌넼': 5810, '두고두고': 5811, '간도': 5812, '가통': 5813, '돈벌이': 5814, '정답': 5815, '최하': 5816, '오뎅': 5817, '개강': 5818, '반신반의': 5819, '방심': 5820, '계엄군': 5821, '쳣': 5822, '백미': 5823, '아수라': 5824, '조장': 5825, '만화책': 5826, '곡과': 5827, '프랑': 5828, '타고': 5829, '건조': 5830, '난세': 5831, '티브': 5832, '동감': 5833, '물결': 5834, '팔리': 5835, '노라': 5836, '터무니없': 5837, '갑작스럽': 5838, '벌렁거리': 5839, '쿠엔': 5840, '거가': 5841, '현시대': 5842, '유전': 5843, '괜찮앗': 5844, '우여곡절': 5845, '피식피식': 5846, '샤말': 5847, '세이브': 5848, '작성': 5849, '냅두': 5850, '초콜릿': 5851, '물귀신': 5852, '조루': 5853, '크리': 5854, '찜': 5855, '들치': 5856, '휘말리': 5857, '승화': 5858, '가엽': 5859, '직급': 5860, '이적': 5861, '어만': 5862, '무렵': 5863, '면회': 5864, '굴하': 5865, '건데': 5866, '납시': 5867, '사골': 5868, '으휴': 5869, '온라인': 5870, '서치': 5871, '끌어들이': 5872, '남들': 5873, '쫄이': 5874, '우님': 5875, '화도': 5876, '고착': 5877, '도하기': 5878, '매개': 5879, '가루': 5880, '흡연': 5881, '텔': 5882, '주자': 5883, '한결같': 5884, '낼려': 5885, '되묻': 5886, '진정하': 5887, '라이러': 5888, '크리스마스': 5889, '공연': 5890, '뽕짝': 5891, '여럿': 5892, '공통': 5893, '아보': 5894, '눈멀': 5895, '들어내': 5896, '강점기': 5897, '성폭행': 5898, '바리': 5899, '흡사': 5900, '시네마': 5901, '짖': 5902, '우습': 5903, '일일': 5904, '비정상': 5905, '타가': 5906, '파이널': 5907, '윤동주': 5908, '뽑아내': 5909, '햄스': 5910, '덩치': 5911, '저주': 5912, '성만': 5913, '의적': 5914, '제자리': 5915, '명인': 5916, 'ㄴ단': 5917, '하하': 5918, '대입': 5919, '소절': 5920, '러셀': 5921, '크로': 5922, '줫': 5923, '고은': 5924, '안달': 5925, '대지': 5926, '일색': 5927, '튜': 5928, '버나': 5929, '측정': 5930, '이제껏': 5931, '뼈저리': 5932, '년월일': 5933, '비보': 5934, '커서': 5935, '난개': 5936, '중의': 5937, '한올': 5938, '정아': 5939, '사의': 5940, '획': 5941, '언덕': 5942, '보트': 5943, '호들갑': 5944, '나말': 5945, '지전': 5946, '물들': 5947, '가버리': 5948, '도스': 5949, '이상적': 5950, '강약': 5951, '강의': 5952, '출현': 5953, '속하': 5954, '지사': 5955, '흐리': 5956, '레이디': 5957, '언더': 5958, '우롱': 5959, '경고': 5960, '살만': 5961, '완이': 5962, '흔': 5963, '스파': 5964, '내려다보': 5965, '두근거리': 5966, '막바지': 5967, '단두': 5968, '주변인': 5969, '끼어들': 5970, '사냥개': 5971, '씨받': 5972, '갸우뚱': 5973, '영양가': 5974, '리액션': 5975, '경력': 5976, '무미건조': 5977, '따라오': 5978, '함몰': 5979, '쩔쩔매': 5980, '대놓': 5981, '느슨': 5982, '아차': 5983, '꼬': 5984, '발표': 5985, '승리자': 5986, '공기': 5987, '사보': 5988, '극치': 5989, '그게': 5990, '군중': 5991, '구조적': 5992, '결핍': 5993, '드디어': 5994, '적수': 5995, '비급': 5996, '건아': 5997, '차안': 5998, '고래고래': 5999, '박한': 6000, '재탕': 6001, '현란': 6002, '다이나': 6003, '화아': 6004, '중학교': 6005, '단짝': 6006, '서너': 6007, '씌': 6008, '장비': 6009, '저혈압': 6010, '치가': 6011, '카메라맨': 6012, '대체적': 6013, '그다음': 6014, '젛': 6015, '정재': 6016, '공들이': 6017, '마차': 6018, '니콜라': 6019, '만인': 6020, '토마토': 6021, '인은': 6022, '함장': 6023, '기냥': 6024, '동이': 6025, '부스럼': 6026, '참치': 6027, '손에': 6028, '여실': 6029, '한때': 6030, '신실': 6031, '나간': 6032, '휴정': 6033, '이치': 6034, '참고하': 6035, '쓰기': 6036, '만년': 6037, '리다': 6038, '안지': 6039, '유령선': 6040, '하고프': 6041, '필자': 6042, '길가': 6043, '딱하': 6044, '제문': 6045, 'ㅜㅜㅜㅜ': 6046, '하스': 6047, '거니': 6048, '대다수': 6049, '휘갈기': 6050, '현우': 6051, '항복': 6052, '지노': 6053, '오디션': 6054, '그딴': 6055, '잡탕': 6056, '포드': 6057, '맺': 6058, '마천': 6059, '가피': 6060, '봤슴': 6061, '판단력': 6062, '이라크': 6063, '맨손': 6064, '핑계': 6065, '과다': 6066, '진행하': 6067, '꽉차': 6068, '졸업생': 6069, '평보': 6070, '다관': 6071, '내편': 6072, '도톰': 6073, '화합': 6074, '여이': 6075, '고세': 6076, '오보': 6077, '건네': 6078, '동남아': 6079, '무무섭': 6080, '경호원': 6081, '방과': 6082, '괜하': 6083, '맑': 6084, '고귀': 6085, '방탄복': 6086, '인간애': 6087, '내려가': 6088, '순간순간': 6089, '뺐기': 6090, '그곳': 6091, '어지나': 6092, '탐': 6093, '뺏': 6094, '이작': 6095, '소매': 6096, '연신': 6097, '하사': 6098, '대면': 6099, '버틀러': 6100, '상인': 6101, '존버': 6102, '무해': 6103, '펼치': 6104, '입맛': 6105, '뜰': 6106, '점차': 6107, '냐면': 6108, '상징적': 6109, '구지': 6110, '딱딱': 6111, '단역': 6112, '권선징악': 6113, '리브': 6114, '휘두르': 6115, '복제': 6116, '제도': 6117, '으리라': 6118, '이사회': 6119, '유토피아': 6120, '번호': 6121, '그래피': 6122, '교도': 6123, '정신과': 6124, '벅차': 6125, '종합': 6126, '보급': 6127, '식재료': 6128, '머지않': 6129, '모니터': 6130, '조선족': 6131, '종족': 6132, '부정부패': 6133, '수이': 6134, '파란색': 6135, '들여다보': 6136, '남녀노소': 6137, '층': 6138, '맹수': 6139, '에공': 6140, '훠': 6141, '화폐': 6142, '폭락': 6143, '슬럼': 6144, '에메랄드': 6145, '나혼': 6146, '자도': 6147, '섬뜩': 6148, '권장': 6149, '진화': 6150, '의미심장': 6151, '졋': 6152, '해설': 6153, '겸': 6154, '가서한': 6155, '왜구': 6156, '부마': 6157, '날짜': 6158, '회의': 6159, '말대': 6160, '불어오': 6161, '부도': 6162, '인면': 6163, '소박': 6164, '능가': 6165, '기점': 6166, '국어': 6167, '막스': 6168, '연한': 6169, '기서': 6170, '모성': 6171, '깊어지': 6172, '징그럽': 6173, '제작팀': 6174, '오온': 6175, '가편': 6176, '조각': 6177, '싸그리': 6178, '래드': 6179, '다구리': 6180, '진명': 6181, '돌려내': 6182, '모호': 6183, '토악질': 6184, '일기': 6185, '시청각': 6186, '소수': 6187, '제거': 6188, '주체': 6189, '요악': 6190, '수랑': 6191, '부제': 6192, '클래스': 6193, '대지진': 6194, '공룡': 6195, '불태우': 6196, '그리하여': 6197, '스치': 6198, '케비': 6199, '삭막': 6200, '날로': 6201, '화고': 6202, '천추': 6203, '살벌': 6204, '세라': 6205, '조은': 6206, '지와': 6207, '사나이': 6208, '파격적': 6209, '찢이': 6210, '어지': 6211, '혜가': 6212, '토시': 6213, '쿵': 6214, '요란': 6215, '계층': 6216, '대중적': 6217, '파국': 6218, '민희': 6219, '불사조': 6220, '의료': 6221, '만수무': 6222, '속도': 6223, '훤': 6224, '하단': 6225, '아마도': 6226, '교훈적': 6227, '케이티': 6228, '마인드': 6229, '안수': 6230, '뒹굴': 6231, '성령': 6232, '빠져나가': 6233, 'ㅓ': 6234, '제시간': 6235, '예비역': 6236, '작정': 6237, '내버리': 6238, '버디': 6239, '사주': 6240, '훅': 6241, '반항': 6242, '구시대': 6243, '급감': 6244, '몽글몽글': 6245, '사소': 6246, '참마음': 6247, '관대': 6248, '저체온': 6249, '키스신': 6250, '럽': 6251, '동양인': 6252, '가망': 6253, '차차': 6254, '쉼': 6255, '도조': 6256, '교사': 6257, '무덤덤': 6258, '누아르': 6259, '의을': 6260, '보존': 6261, '열쇠': 6262, '대초': 6263, '어려움': 6264, '투명': 6265, '원도': 6266, '비틀': 6267, '천재적': 6268, '연두': 6269, '가쁘': 6270, '자지': 6271, '계절': 6272, '이득': 6273, '아드레날린': 6274, '부치': 6275, '했다하': 6276, '네스': 6277, '들어먹': 6278, '웃음기': 6279, '장되': 6280, '선자': 6281, '선정적': 6282, '뺴': 6283, '에집': 6284, '재우': 6285, '횟수': 6286, '행방': 6287, '찢': 6288, '폐기물': 6289, '머저리': 6290, '토르가': 6291, '주면': 6292, '엉뚱': 6293, '고누': 6294, '두시': 6295, '함축': 6296, '크랭크': 6297, '브금': 6298, '번화가': 6299, '재발견': 6300, '조심': 6301, '비시': 6302, '체도': 6303, '쁘': 6304, '답변': 6305, '흐트러지': 6306, '가운': 6307, '헨리': 6308, '논픽션': 6309, '검증': 6310, '거시기': 6311, '데이비': 6312, '좌석': 6313, '바짝': 6314, '단명': 6315, '못쓰': 6316, '열한': 6317, '스며들': 6318, '분재': 6319, '애교': 6320, '제미니': 6321, '순서': 6322, '윌리엄': 6323, '조음': 6324, '정상적': 6325, '감성적': 6326, '원자력': 6327, '공상': 6328, '씽': 6329, '보장': 6330, '번지르르': 6331, '간단명료': 6332, '선별': 6333, '비리': 6334, '베이스': 6335, '주목': 6336, '스부': 6337, '오후': 6338, '시분': 6339, '안변': 6340, '뛰어오': 6341, '렙': 6342, '결하': 6343, '퇴근': 6344, '캔': 6345, '불매': 6346, '애지중지': 6347, '태극기': 6348, '쨰': 6349, '백성': 6350, '독보적': 6351, '곁들이': 6352, '알아채': 6353, '병이': 6354, '기저귀': 6355, '다투': 6356, '역작': 6357, '혹여': 6358, '취미': 6359, '이질': 6360, '이팅': 6361, '겸비': 6362, '원숭이': 6363, '치인': 6364, '연등': 6365, '수백': 6366, '머리속': 6367, '사연': 6368, '파묻': 6369, '궁금해하': 6370, '명시': 6371, '패자': 6372, '몰아주': 6373, '더니만': 6374, '유치원': 6375, '스까': 6376, '참사': 6377, '박쥐': 6378, '건제': 6379, '신해': 6380, '공화국': 6381, '같애': 6382, '보관': 6383, '쳐죽이': 6384, '죽기': 6385, '위주': 6386, '시야': 6387, '부조': 6388, '스틱': 6389, '울렁거리': 6390, '딴따라': 6391, '수씨': 6392, '지궁': 6393, '탄이': 6394, '이틀': 6395, '강석': 6396, '실가': 6397, '우가': 6398, '둘르': 6399, '아른거리': 6400, '마르': 6401, '짜맞추': 6402, '훈김': 6403, '무개': 6404, '김동욱': 6405, '육식': 6406, '회원': 6407, '사부': 6408, '자야': 6409, '애인': 6410, '여명': 6411, '유공자': 6412, '혜택': 6413, '괴': 6414, '엑기스': 6415, '소포': 6416, '모어': 6417, '짜르': 6418, '재회': 6419, '위상': 6420, '밉': 6421, '적어두': 6422, '이승만': 6423, '건국': 6424, '공백': 6425, '하구만': 6426, '성훈': 6427, '휴진': 6428, '연습': 6429, '복고': 6430, '과세': 6431, '기말': 6432, '개밥': 6433, '코리안': 6434, '막말': 6435, '명언': 6436, '도그': 6437, '빨간색': 6438, '이런저런': 6439, '항적': 6440, '캣': 6441, '행하': 6442, '과일': 6443, '한시간': 6444, '총상': 6445, '한국행': 6446, '퍼즐': 6447, '쑥': 6448, '대중성': 6449, '가명': 6450, '객수': 6451, '직접적': 6452, '보태': 6453, '트랜': 6454, '정명': 6455, '덩': 6456, '완수': 6457, '다들': 6458, '마리': 6459, '꼬띠': 6460, '핑크': 6461, '차이나': 6462, '전기': 6463, '눌리': 6464, '결과물': 6465, '금고': 6466, '데생각': 6467, '비드': 6468, '만물': 6469, '사춘기': 6470, '견를': 6471, '퇴': 6472, '콘': 6473, '스탄': 6474, '브리': 6475, '담뱃불': 6476, '딥': 6477, '가늘': 6478, '계의': 6479, '소규모': 6480, '졀': 6481, '없으': 6482, '돌고래': 6483, '그제서야': 6484, 'ㄴ다며': 6485, '앨리': 6486, '입히': 6487, '편향': 6488, '브스': 6489, '물오르': 6490, '점다': 6491, '신봉': 6492, '정식': 6493, '그레이드': 6494, '결합': 6495, '포용': 6496, '핵폐기물': 6497, '만난': 6498, '랑을': 6499, '체모': 6500, '오성': 6501, '놀이터': 6502, '골고루': 6503, '가입': 6504, '알아내': 6505, '바램': 6506, '오드리': 6507, '스태프': 6508, '소모': 6509, '뺨치': 6510, '밤새': 6511, '해안가': 6512, '뮤직': 6513, '직시': 6514, '바닷가': 6515, '바스': 6516, '끌어내': 6517, '입이': 6518, '줜': 6519, '죄수': 6520, '임하': 6521, '답하': 6522, '개호': 6523, '합성': 6524, '피곤': 6525, '팍': 6526, '트집': 6527, '풀어지': 6528, '머지': 6529, '요청': 6530, '거조': 6531, '뎅넘': 6532, '섹': 6533, '진진': 6534, '전달하': 6535, '진과': 6536, '대차': 6537, '버버': 6538, '분해': 6539, '허공': 6540, '울기': 6541, '무방비': 6542, '회귀': 6543, '유한': 6544, '재단': 6545, '명과': 6546, '비명': 6547, '최신': 6548, '고발': 6549, '높지': 6550, '인간과': 6551, '데우스': 6552, '세계적': 6553, '스를': 6554, '세팅': 6555, '장벽': 6556, '배달': 6557, '쿠리': 6558, '스페': 6559, '중도': 6560, '조준': 6561, '가공': 6562, '서부': 6563, '겨우겨우': 6564, '합격': 6565, '는군요': 6566, '밝면': 6567, '통합': 6568, '지어내': 6569, '도자기': 6570, '수줍': 6571, '진의': 6572, '진배': 6573, '헤어스타일': 6574, '둑': 6575, '체가': 6576, '도주': 6577, '오라': 6578, '적폐': 6579, '절감': 6580, '다고요': 6581, '총안': 6582, '참전': 6583, '시나리': 6584, '시의': 6585, '발버둥치': 6586, '자본주': 6587, '유하': 6588, '윤희': 6589, '중허': 6590, '지인': 6591, '여분': 6592, '맞아떨어지': 6593, '서안': 6594, '익스트': 6595, '레이션': 6596, '시상식': 6597, '마누라': 6598, '관적': 6599, '여러모로': 6600, '짙': 6601, '호프만': 6602, '레스토랑': 6603, '잎': 6604, '레인저': 6605, '보석': 6606, '구세주': 6607, '눈살': 6608, '회자': 6609, '코어': 6610, '주저': 6611, '서초': 6612, '고릴라': 6613, '싸가지': 6614, '일본도': 6615, '저감': 6616, '난데없이': 6617, '네오': 6618, '감제': 6619, '저명': 6620, '들이키': 6621, '생사': 6622, '자리잡': 6623, '작중': 6624, '나마': 6625, '말해': 6626, '기구': 6627, '미션': 6628, '임파': 6629, '불교': 6630, '종로': 6631, '절규': 6632, '쫓아가': 6633, '총출동': 6634, '눈물겹': 6635, '거칠': 6636, '살인자': 6637, '적나라': 6638, '던져주': 6639, '미학': 6640, '다름아니': 6641, '눈요기': 6642, '시달': 6643, '어처구니없': 6644, '하찮': 6645, '감초': 6646, '물자': 6647, '아가씨': 6648, '변태': 6649, '넘엉': 6650, '암살자': 6651, '사무라이': 6652, '잡아먹': 6653, '조율': 6654, '태서': 6655, '머신': 6656, '퍼시픽': 6657, '무책임': 6658, '고독감': 6659, '침체': 6660, '환상': 6661, '동등': 6662, '유료': 6663, '롬': 6664, '겜': 6665, '희한': 6666, '알아듣': 6667, '걸크': 6668, '유정': 6669, '인호': 6670, '지랑': 6671, '악몽': 6672, '깨어나': 6673, '꼬치': 6674, '꼬라지': 6675, '초라': 6676, '우화': 6677, '굳연': 6678, '그르': 6679, '차갑': 6680, '슈팅': 6681, '악인': 6682, '절박': 6683, '으려나': 6684, '개개': 6685, '윽': 6686, '리틀': 6687, '러너': 6688, '지중': 6689, '이생': 6690, '시사': 6691, '잠결': 6692, '거인': 6693, '등극': 6694, '절한': 6695, '전단지': 6696, '임의': 6697, '행성': 6698, '질병': 6699, '내밀': 6700, '에프': 6701, '직후': 6702, '부족하': 6703, '쎄': 6704, '듀오': 6705, '유효': 6706, '길이': 6707, '고시': 6708, '씝노': 6709, '압력': 6710, '빠짐없이': 6711, '전반': 6712, '전쟁터': 6713, '천년': 6714, '유재': 6715, '이태원': 6716, '끌어안': 6717, '호혜': 6718, '때려잡': 6719, '잡지': 6720, '오묘': 6721, '당황': 6722, '고수': 6723, '토이': 6724, 'ㅜㅜㅠㅠ': 6725, '가입자': 6726, '보려': 6727, '건너': 6728, '공도': 6729, '선녀': 6730, '패배': 6731, '을라고': 6732, '얼어붙': 6733, '나있': 6734, '본데': 6735, '대어': 6736, '쫀득': 6737, '흥분': 6738, '도와': 6739, '밥상': 6740, '침대': 6741, '랴': 6742, 'ㅌ': 6743, '자칫': 6744, '작를': 6745, '밀러': 6746, '넋': 6747, '주차': 6748, '일요일': 6749, '심해': 6750, '억압': 6751, '진주만': 6752, '원자': 6753, '로케이션': 6754, '브렌': 6755, '마피아': 6756, '젠더': 6757, '이민자': 6758, '뮤직비디오': 6759, '겨누': 6760, '가이거': 6761, '사치': 6762, '이많': 6763, '부인': 6764, '정돈': 6765, '맥빠지': 6766, '별다르': 6767, '정당': 6768, '손잡': 6769, '우도': 6770, '량': 6771, '뷰티': 6772, '의장': 6773, '대공황': 6774, '꼬집': 6775, '다느니': 6776, '코웃음': 6777, '정들': 6778, '수두룩': 6779, '움직임': 6780, '제혁': 6781, '관광': 6782, '요적': 6783, '숟가락': 6784, '플리스': 6785, '관개': 6786, '피식': 6787, 'ㅜㅠㅠ': 6788, '한계점': 6789, '직장': 6790, '선천적': 6791, '실존': 6792, '어새': 6793, '저번': 6794, '직하': 6795, '특배': 6796, '쫓아오': 6797, '참배': 6798, '덫': 6799, '밝려': 6800, '뭐죠': 6801, '유일한': 6802, '개표': 6803, '폐지': 6804, '라다': 6805, '함도': 6806, '높히': 6807, '천운': 6808, '절정': 6809, '해이': 6810, '쳐다보': 6811, '직장인': 6812, '지로': 6813, '표면': 6814, '본성': 6815, '의상': 6816, '캐들': 6817, '개쌉': 6818, '예상외': 6819, '화난': 6820, '롯데': 6821, '지불': 6822, '라이더': 6823, '안무': 6824, '특급': 6825, '지푸라기': 6826, '부수': 6827, '다케': 6828, '위스키': 6829, '최초': 6830, '특공대': 6831, '썰렁': 6832, '사양': 6833, '유망': 6834, '촘촘': 6835, '퇴장': 6836, '네덜란드': 6837, '썅': 6838, '죄짓': 6839, '트가': 6840, '체구': 6841, '혹자': 6842, '다손': 6843, '망이': 6844, '평등': 6845, '나비': 6846, '성정': 6847, '복귀': 6848, '청와대': 6849, '애써': 6850, '서해': 6851, '헛돈': 6852, '유추': 6853, '촌극': 6854, '식도': 6855, '작만': 6856, '수정': 6857, '팬티': 6858, '한나': 6859, '윌리스': 6860, '신화': 6861, '정신없이': 6862, '계라': 6863, '축복': 6864, '대인': 6865, '퍼포먼스': 6866, '당기': 6867, '버러지': 6868, '성숙': 6869, '만드': 6870, '명분': 6871, '반려': 6872, '물어뜯': 6873, '차곡차곡': 6874, '가로막': 6875, '못생기': 6876, '으니까요': 6877, '최고조': 6878, '인과': 6879, '편인': 6880, '고별': 6881, '책임지': 6882, '점보': 6883, '반대편': 6884, '흔하디흔하': 6885, '구장': 6886, '긍정': 6887, '어서요': 6888, '영화판': 6889, '빌라': 6890, '자아내': 6891, '호랑이': 6892, '지긋지긋하': 6893, '미점': 6894, '불우': 6895, '산사람': 6896, '실상': 6897, '치한': 6898, '쫓아다니': 6899, '배가': 6900, '나랑': 6901, '중사': 6902, '사범': 6903, '떡': 6904, '알아주': 6905, '뻑뻑': 6906, '거침없': 6907, '묵': 6908, '고형': 6909, '임원': 6910, '특중': 6911, '끝가지': 6912, '화내': 6913, '길들이': 6914, '산의': 6915, '장기': 6916, '페미니스트': 6917, '피디': 6918, 'ㅂ시오': 6919, '무색': 6920, '징집': 6921, '서민': 6922, '에에': 6923, '한글': 6924, '창제': 6925, '공소': 6926, '시효': 6927, '군복': 6928, '씨네': 6929, '도쿄': 6930, '공범자': 6931, '유신': 6932, '거름': 6933, '즐': 6934, '서정': 6935, '칭': 6936, '본질': 6937, '수연': 6938, '참을성': 6939, '각기': 6940, '단절': 6941, '동급': 6942, '경악': 6943, '어기': 6944, '보증': 6945, '도어': 6946, '가감': 6947, '배타': 6948, '고와': 6949, '사관': 6950, '순례': 6951, '희준': 6952, '막아주': 6953, '안도': 6954, '지탄': 6955, '씹노': 6956, '협박': 6957, '휴식': 6958, '다담': 6959, '비로소': 6960, '금기': 6961, '길한': 6962, '이안': 6963, '보가': 6964, '상가': 6965, '고집': 6966, '태국': 6967, '반격': 6968, '쪽수': 6969, '어미': 6970, '깨끗이': 6971, '오로지': 6972, '헤드폰': 6973, '출구': 6974, '시댁': 6975, '봇': 6976, '그림자': 6977, '앞세우': 6978, '단연': 6979, '순애보': 6980, '퓨': 6981, '연작': 6982, '맷': 6983, '되요': 6984, '특악': 6985, '광량': 6986, '하심': 6987, '서비스': 6988, '깍': 6989, '시대착오': 6990, '컨텐츠': 6991, '전지': 6992, '나락': 6993, '뒷받침': 6994, '넘좋': 6995, '버렷': 6996, '사료': 6997, '성취': 6998, '타일': 6999, '고령': 7000, '임박': 7001, '커지': 7002, '막강': 7003, '날강도': 7004, '동료': 7005, '어리숙하': 7006, '농담': 7007, '똑바로': 7008, '버금': 7009, '옥이': 7010, '실리': 7011, '좁': 7012, '인성': 7013, '속터지': 7014, '오한': 7015, '선입견': 7016, '말세기': 7017, '라구': 7018, '룸': 7019, '선방': 7020, '쥬': 7021, '시가전': 7022, '마비': 7023, '소유': 7024, '공개적': 7025, '개씹': 7026, '영업': 7027, '존댓말': 7028, '개준': 7029, '병장': 7030, '아이거': 7031, '반적': 7032, '담보': 7033, '갱신': 7034, '따리': 7035, '하류': 7036, '클로즈업': 7037, '환전': 7038, '예비군': 7039, '양아': 7040, '비대칭': 7041, '구간': 7042, '관여': 7043, '뒷감당': 7044, '퓰': 7045, '총구': 7046, '뛰어들어가': 7047, '취': 7048, '썻': 7049, '것들': 7050, '느와르에': 7051, '기능': 7052, '건영': 7053, '직구': 7054, '의학': 7055, '빈곤': 7056, '와의': 7057, '결별': 7058, '민은': 7059, '엄두': 7060, '붙이기': 7061, '아이맥스': 7062, '한반도': 7063, '슈퍼맨': 7064, '생산': 7065, '베토벤': 7066, '괴팍': 7067, '예술가': 7068, '작곡': 7069, '촣': 7070, '카페': 7071, '므로': 7072, '희배': 7073, '점줄': 7074, '어부': 7075, '노숙자': 7076, '곤하': 7077, '올려놓': 7078, '실험적': 7079, '노무': 7080, '팩': 7081, '실하': 7082, '만재': 7083, '점하': 7084, '별반': 7085, '강시': 7086, '버금가': 7087, '체조': 7088, '만평': 7089, '극적': 7090, '이두': 7091, '균형': 7092, '기사': 7093, '지총': 7094, '내역': 7095, '동일': 7096, '벌새': 7097, '수사력': 7098, '재고': 7099, '자시': 7100, '태희': 7101, '솓': 7102, '대출': 7103, '수없': 7104, '재수없': 7105, '설키': 7106, '등복선': 7107, '강우': 7108, '가치관': 7109, '납치범': 7110, '폭군': 7111, '끗': 7112, '종수': 7113, '미스터리': 7114, '도지': 7115, '엔진': 7116, '자부심': 7117, '꿰': 7118, '뒷심': 7119, '프로덕션': 7120, '가옥': 7121, '티이': 7122, '사파': 7123, '방송국': 7124, '법고': 7125, '국정원': 7126, '너트': 7127, '현정권': 7128, '해이하': 7129, '전교': 7130, '중소': 7131, '기업소': 7132, '상공인': 7133, '가트': 7134, '겠네': 7135, '좀먹': 7136, '불평': 7137, '클로에': 7138, '물정': 7139, '상심': 7140, '무휼': 7141, '륭': 7142, '뎈': 7143, '심박수': 7144, '해질녘': 7145, '사라': 7146, '금연': 7147, '엽기': 7148, '시어': 7149, '활약상': 7150, '물량': 7151, '독채': 7152, '대한': 7153, '되뇌이': 7154, '노선': 7155, '연출가': 7156, '전매': 7157, '딩은웃': 7158, '여론': 7159, '알리바이': 7160, '측': 7161, '자작극': 7162, '고결': 7163, '청초': 7164, '곤란': 7165, '지심': 7166, '짴': 7167, '빈틈없': 7168, '외전': 7169, '이것을': 7170, '육본': 7171, '우르': 7172, '의정부': 7173, '버겁': 7174, '수놈': 7175, '뒈': 7176, '분수': 7177, '뿜어내': 7178, '겁나기': 7179, '내입': 7180, '다반': 7181, '접영': 7182, '검토': 7183, '저인': 7184, '요사': 7185, '절개': 7186, '들끓': 7187, '만선': 7188, '제일인': 7189, '으면스': 7190, '저만치': 7191, '꿈같': 7192, '성범죄': 7193, '나미': 7194, '떠넘기': 7195, '신뢰': 7196, '지렁이': 7197, '삼시': 7198, '세끼': 7199, '허스키': 7200, '짱나': 7201, '음가': 7202, 'ㅠㅜㅜㅜ': 7203, '저항': 7204, '개척': 7205, '도판': 7206, '타스': 7207, '틱하': 7208, '밀도': 7209, '니더': 7210, '야가': 7211, '정착': 7212, '다이스': 7213, '적기': 7214, '재방송': 7215, '담아': 7216, '열렬': 7217, '기술인': 7218, '자하': 7219, '애처롭': 7220, '조카': 7221, '나와서굳굳잼낫어': 7222, '형개': 7223, '크쓰였꾸': 7224, '했더니톰이였써세월': 7225, '래여': 7226, '성씨': 7227, '인저': 7228, '노르웨이': 7229, '산채': 7230, '고산': 7231, '몰드': 7232, '무상': 7233, '스푼': 7234, '해명': 7235, '문어': 7236, '호의적': 7237, '욧': 7238, '네요만': 7239, '수록기': 7240, '터주': 7241, '무섭최': 7242, '얘깃거리': 7243, '돌보': 7244, '돌아다니': 7245, '사주팔자': 7246, '수채화': 7247, '여대생': 7248, '학습': 7249, '도둑놈': 7250, '왼쪽': 7251, '점퍼': 7252, '망인': 7253, '가넘즐거웠어': 7254, '들키': 7255, '시간아까웟다고해': 7256, '몹은': 7257, '만용': 7258, '모함': 7259, '결백': 7260, '관철': 7261, '솔찍': 7262, '데가': 7263, '알바인': 7264, '이월': 7265, '래급': 7266, '이따금': 7267, '저당': 7268, '시저': 7269, '포고': 7270, '경치': 7271, '동요': 7272, '경음': 7273, '졸립': 7274, '마름': 7275, '드웍': 7276, '상급': 7277, '분리수거': 7278, '초대형': 7279, '생체': 7280, '주중': 7281, '호주': 7282, '룡에': 7283, '고성': 7284, '션에': 7285, '맹활약': 7286, '탈환': 7287, '박력': 7288, '백문': 7289, '불이': 7290, '일견': 7291, '전적': 7292, '짊어지': 7293, '장산': 7294, '쫄쫄': 7295, '양양': 7296, '고속도로': 7297, '토반': 7298, '설인': 7299, '땅크': 7300, '으앙': 7301, '쓰러지': 7302, '귀임': 7303, '체벌': 7304, '들어맞': 7305, '내두': 7306, '들이대': 7307, '비꼬': 7308, '적의': 7309, '고위직': 7310, '세면대': 7311, '요변': 7312, '앞두': 7313, '양치질': 7314, '하튼': 7315, '치료기': 7316, '대치': 7317, '은우': 7318, '준정': 7319, '넘기기': 7320, '럼다': 7321, '자개': 7322, '버릇': 7323, '도용': 7324, '불치병': 7325, '남작': 7326, '가랑': 7327, '콜라': 7328, '따갑': 7329, '손버릇': 7330, '수환': 7331, '추기경': 7332, '고향': 7333, '정경과': 7334, '헤아리': 7335, '마음씨': 7336, '유우': 7337, '매가': 7338, '박스': 7339, '쌉미쵸': 7340, '시대상': 7341, '융합': 7342, '가반': 7343, '이큰': 7344, '색조': 7345, '미련': 7346, '핑거': 7347, '스냅': 7348, '나치': 7349, '열하': 7350, '어버이날': 7351, '입금': 7352, '완료': 7353, '크형': 7354, '가물': 7355, '덟': 7356, '형처': 7357, '참해': 7358, '닥쵸': 7359, '분분': 7360, '실연기': 7361, '매너리즘': 7362, '화재': 7363, '주모': 7364, '뺏어': 7365, '코미디영홥니': 7366, '날렵': 7367, '편제': 7368, '룰렛': 7369, '상준': 7370, '큰돈': 7371, '로컬': 7372, '무량': 7373, '의거': 7374, '지기': 7375, '낮춤': 7376, '심사': 7377, '큰일': 7378, '수백억': 7379, '코좋아해서재밋엇어': 7380, '주초': 7381, '안정감': 7382, '준걸': 7383, '본시간이넘아깝네': 7384, '나료': 7385, '사장님': 7386, '남자주': 7387, '연분': 7388, '헀으': 7389, '예의': 7390, '수억': 7391, '벌어들이': 7392, '하향': 7393, '도루': 7394, '마이크': 7395, '프로필': 7396, '대퇴': 7397, '진땀': 7398, '오더': 7399, '라프': 7400, '보잘것': 7401, '끝없': 7402, '법사': 7403, '엘프': 7404, '라스': 7405, '능이': 7406, '나이다': 7407, '얕보': 7408, '어찌어찌': 7409, '남노': 7410, '뤽': 7411, '사이비': 7412, '문외한': 7413, '도단': 7414, '쏙빼박': 7415, '추출': 7416, '합리적': 7417, '스포일러': 7418, '쥐락펴락': 7419, '조여오': 7420, '공통적': 7421, '호소': 7422, '실과': 7423, '연정': 7424, '미도': 7425, '복수전': 7426, '멀티': 7427, '다요': 7428, '대환': 7429, '늪': 7430, '장악력': 7431, '텀블러': 7432, '레트': 7433, '곡선': 7434, '아함': 7435, '모빌': 7436, '지강': 7437, '렬': 7438, '선악': 7439, '넘나들': 7440, '악한': 7441, '허전': 7442, '등심': 7443, '하급': 7444, '상에': 7445, '흥겹': 7446, '음악사': 7447, '때려죽이': 7448, '분홍': 7449, '빨강': 7450, '느드뇌브': 7451, '스투': 7452, '엽자': 7453, '피시': 7454, '이화': 7455, '저세상': 7456, '계획적': 7457, '곧잘': 7458, '계획성': 7459, '덤비': 7460, 'ㄹ망정': 7461, '지참': 7462, '씁씁하': 7463, '가화': 7464, '시영': 7465, '대금': 7466, '처분': 7467, '신청': 7468, '귀환': 7469, '순차적': 7470, '삿대질': 7471, '스산': 7472, '브라더': 7473, '스관련': 7474, '여고': 7475, '대를': 7476, '은진': 7477, '팔팔': 7478, '뻘뻘': 7479, '당구장': 7480, '오드': 7481, '녹음': 7482, '별천지': 7483, '은약': 7484, '폭우': 7485, '출연작': 7486, '반한': 7487, '아들놈': 7488, '우후죽순': 7489, '쿵쾅': 7490, '이년': 7491, '구별': 7492, '느님': 7493, '생전': 7494, '내쫓': 7495, '바람결': 7496, '가찬': 7497, '역인': 7498, '달이': 7499, '무지개': 7500, '여요': 7501, '에이스': 7502, '요결': 7503, '허리': 7504, '니콜슨': 7505, '비상벨': 7506, '첫날': 7507, '후련': 7508, '백윤식': 7509, '재희': 7510, '올리버': 7511, '철들': 7512, '여건': 7513, '사모': 7514, '으라니까': 7515, '돈치': 7516, '빗기': 7517, '에반스': 7518, '포유': 7519, '외삼촌': 7520, '영재': 7521, '져트': 7522, '안성맞춤': 7523, '비굴': 7524, '럴려': 7525, '다죽자': 7526, '통역': 7527, '이왕': 7528, 'ㅡ진행형이순간에': 7529, '하여간에': 7530, '밋뜨': 7531, '녹취': 7532, '교육적': 7533, '일주일': 7534, '지성': 7535, '개혁': 7536, '감싸': 7537, '일어서': 7538, '관문': 7539, '불씨': 7540, '잉태': 7541, '신성': 7542, '하고성': 7543, '진정서': 7544, '기진': 7545, '배드': 7546, '정음': 7547, '기증': 7548, '이토': 7549, '와이어': 7550, '쳤슴': 7551, '불성실': 7552, '원동력': 7553, '땐뽀': 7554, '밤새우': 7555, '진시황': 7556, '만화가': 7557, '토가': 7558, '정역': 7559, '은요': 7560, '황의': 7561, '하시': 7562, '특촬': 7563, '흥하': 7564, '파하': 7565, '오버랩': 7566, '없노': 7567, '찢어발기': 7568, '갈의': 7569, '정복': 7570, '에너지': 7571, '날라오': 7572, '태연': 7573, '본명': 7574, '여생': 7575, '막연': 7576, '탐구': 7577, '용가리': 7578, '모조리': 7579, '누지': 7580, '판치': 7581, '을해': 7582, '지ㅉㅉ': 7583, '뛰쳐나가': 7584, '벌럼': 7585, '함루': 7586, '일차원': 7587, '성실': 7588, '만족도': 7589, '서사시': 7590, '그런대로': 7591, '틀림없': 7592, '로미오': 7593, '줄리엣': 7594, '닉에': 7595, '대반': 7596, '세포': 7597, '되살아나': 7598, '뇌가': 7599, '감가': 7600, '려아': 7601, '요라': 7602, '왤케다': 7603, '낑기': 7604, '눙ㅠ': 7605, '심적': 7606, '크리스탈': 7607, '방부제': 7608, '잊흘': 7609, '민도': 7610, '자기집': 7611, '총총': 7612, '일까': 7613, '늘에': 7614, '몰아가': 7615, '이라도': 7616, '속물': 7617, '삼요': 7618, '놀래키': 7619, '요들': 7620, '자서전': 7621, '납': 7622, '한옆': 7623, '둘러지': 7624, '잔상': 7625, '그렇지만': 7626, '만족감': 7627, '갸웃하': 7628, '많들': 7629, '출산': 7630, '불문': 7631, '변신': 7632, '강점': 7633, '플릭스가': 7634, '선박': 7635, '규모': 7636, '조지소': 7637, '부분적': 7638, '세배': 7639, '구멍나': 7640, '밌둔': 7641, '있다샤': 7642, '이닝': 7643, '양자': 7644, '드넓': 7645, '뻘': 7646, '진주': 7647, '운전사': 7648, '공통점': 7649, '경제력': 7650, '독재적': 7651, '지도자': 7652, '다공': 7653, '만과': 7654, '부풀리': 7655, '컴플렉스': 7656, '몰아붙이': 7657, '분탕질': 7658, '요미': 7659, '졸졸': 7660, '결혼식': 7661, '두꺼비': 7662, '선일': 7663, '디시': 7664, '코만도': 7665, '좋도': 7666, '공표': 7667, '출근길': 7668, '재연': 7669, '한술': 7670, '흡': 7671, '다시마': 7672, '자문': 7673, '경솔': 7674, '템포': 7675, '코엔': 7676, '행위': 7677, '주요': 7678, '확정': 7679, '나이스': 7680, '남미': 7681, '터무니없이': 7682, '정모': 7683, '보원': 7684, '총명': 7685, '눈동자': 7686, '마렵': 7687, '선도': 7688, '깨우': 7689, '근영': 7690, '출연료': 7691, '으흐흐': 7692, '흐흐': 7693, '깃털': 7694, '판제': 7695, '위너': 7696, '위안부': 7697, '일개': 7698, '발언': 7699, '아토': 7700, '블론드': 7701, '트릴': 7702, '유산': 7703, '발족': 7704, '우들대': 7705, '스스': 7706, '나버': 7707, '반되': 7708, '희수': 7709, '리필': 7710, '노래춤': 7711, '넘잼': 7712, '낮잠': 7713, '머물': 7714, '권력자': 7715, '달갑': 7716, '서평': 7717, '동만': 7718, '일직선': 7719, '폭주': 7720, '기관차': 7721, '비방': 7722, '어린이날': 7723, '특집': 7724, '요가': 7725, '엽기적': 7726, '을봤': 7727, '무표정': 7728, '돌파': 7729, '하란': 7730, '모럴': 7731, '해저드': 7732, '열거': 7733, '이래저래': 7734, '오금': 7735, '지공': 7736, '을래': 7737, '뱉': 7738, '설득': 7739, '지토': 7740, '테스트': 7741, '재판장': 7742, '신당': 7743, '중얼거리': 7744, '다비': 7745, '희청': 7746, '다색': 7747, '해상': 7748, '지략': 7749, '음악가': 7750, '시행착오': 7751, '내조': 7752, '의욕': 7753, '롹': 7754, '아녀': 7755, '서재': 7756, '반추': 7757, '여점': 7758, '애국': 7759, '허투': 7760, '른': 7761, '에미': 7762, '련들': 7763, '김치': 7764, '소오': 7765, '가리개': 7766, '가뜩이나': 7767, '종개': 7768, '신하': 7769, '왕릉': 7770, '선왕': 7771, '조상': 7772, '얹히': 7773, '는단': 7774, '건도': 7775, '여아': 7776, '마당발': 7777, '연줄': 7778, '세트장': 7779, '텍스트': 7780, '후일담': 7781, '챌린지': 7782, '다살렸': 7783, '영화상': 7784, '대유': 7785, '고무마개': 7786, 'ㄴ다네': 7787, '세연': 7788, '기연': 7789, '출분': 7790, '루카스': 7791, '회장': 7792, '문구': 7793, '발르': 7794, '포로': 7795, '명나라': 7796, '굴종': 7797, '일곱': 7798, 'ㅜㅡ': 7799, '정치가': 7800, '관계없이': 7801, '전선': 7802, '전고': 7803, '양측': 7804, '친밀': 7805, '동윤': 7806, '신말': 7807, '기니': 7808, '토리노': 7809, '만함식': 7810, '기념': 7811, '비적': 7812, '가우리': 7813, '해칭': 7814, '룡앓': 7815, '봄맞이': 7816, '사필': 7817, '귀정': 7818, '스판': 7819, '열화': 7820, '성글': 7821, '심의': 7822, '세계로': 7823, '대추': 7824, '얕': 7825, '찔끔': 7826, '양이': 7827, '최신식': 7828, '은를': 7829, '부조화': 7830, '룬': 7831, '성제': 7832, '에혀': 7833, '취한': 7834, '희롱': 7835, '농도': 7836, '쿵쾅쿵쾅': 7837, '별송': 7838, '지효': 7839, '괴로워': 7840, '음악적': 7841, '테크노': 7842, '스트씽': 7843, '브랜치': 7844, '벤츠': 7845, '바브': 7846, '아몬드': 7847, '결단': 7848, '논하': 7849, '여념': 7850, '스톰': 7851, '헐크': 7852, '보자': 7853, '플레이스테이션': 7854, '요마': 7855, '보디가드': 7856, '어거': 7857, '가성': 7858, '파이프': 7859, '오르간': 7860, '화의': 7861, '망신': 7862, '언더그라운드': 7863, '제일제밌어': 7864, '남초': 7865, '문화생활': 7866, '선율': 7867, 'ㅋㅋㅠㅠㅠ': 7868, '실라': 7869, '기나길': 7870, '일환': 7871, '다채': 7872, '일가': 7873, '지산': 7874, '팔뚝이앏아': 7875, '가래': 7876, '끓': 7877, '스중': 7878, '이써': 7879, '정가': 7880, '백병전': 7881, '미워지': 7882, '누추': 7883, '얹': 7884, '따다닥': 7885, '팡팡': 7886, '아연': 7887, '평작': 7888, '매사': 7889, '부정적': 7890, '메탈': 7891, '움찔': 7892, '바꿔치': 7893, '오디오': 7894, '일없': 7895, 'ㅠㅠㅋㅋㅋㅋ': 7896, '방뇨': 7897, '신극': 7898, '소로': 7899, '환장': 7900, '간대': 7901, '고음': 7902, '기차역': 7903, '주윤': 7904, '오천': 7905, '련의': 7906, '마왕': 7907, '세뇌': 7908, '방관자': 7909, '구경꾼': 7910, '위해': 7911, '배후자': 7912, '본보기': 7913, '정박': 7914, '살내': 7915, '화룡': 7916, '곤지': 7917, '간가': 7918, '폭포': 7919, '스크랩북': 7920, '갑툭': 7921, '넘매력': 7922, '위거': 7923, '일생': 7924, '원체': 7925, '함자': 7926, '전신': 7927, '부들거리': 7928, '못해요ㅜ심하다아': 7929, '반짝반짝': 7930, '쾅쾅': 7931, '저릿': 7932, '인간도': 7933, '천해': 7934, '파이트': 7935, '연달': 7936, '틀어막': 7937, '어둑': 7938, '미트': 7939, '야수': 7940, '신속': 7941, '에효': 7942, '서늘': 7943, '총쏜': 7944, '둘러싸': 7945, '매끈': 7946, '뻐덕뻐덕': 7947, '하달': 7948, '출품작': 7949, '시계': 7950, '쨔스': 7951, '뇌절': 7952, '장의사': 7953, '따라나오': 7954, '면를': 7955, '요공': 7956, '데요': 7957, '텅': 7958, '빈상': 7959, '튀도': 7960, '이편': 7961, '앓': 7962, '울적': 7963, '비버': 7964, '새우': 7965, '중망': 7966, '은일': 7967, '조요': 7968, '무당': 7969, '꺠': 7970, '공예': 7971, '목매': 7972, '연관짓': 7973, '둔영': 7974, '됬으': 7975, '요새도통하는얘길려': 7976, '딸내미': 7977, '배때': 7978, '지갈': 7979, '후르륵': 7980, '빨아먹': 7981, '펏': 7982, '직도': 7983, '대부도': 7984, '덧': 7985, '으응': 7986, '섭영': 7987, '게냐': 7988, '난리나': 7989, '느므': 7990, '식보': 7991, '차례차례': 7992, '변태적': 7993, '쓸모': 7994, '씨부리': 7995, '뚱': 7996, '경위': 7997, '을향': 7998, '항공기': 7999, '욱일': 8000, '행방불명': 8001, '특선': 8002, '맞써': 8003, '의롱': 8004, '송신': 8005, '중소기업': 8006, '저장': 8007, '냐며': 8008, '국회': 8009, '내세': 8010, '숨지': 8011, '자연주의': 8012, '수동적': 8013, '트메': 8014, '서중': 8015, '주니': 8016, '일의': 8017, '금요': 8018, '일과': 8019, '양대': 8020, '산맥': 8021, '카니발': 8022, '말죽': 8023, '가르키': 8024, '알랑': 8025, '결정체': 8026, '버섯': 8027, '오라클': 8028, '할망구': 8029, '꽂': 8030, '경향': 8031, '쿄쿄쿄쿄': 8032, '력에': 8033, '본제': 8034, '형제국': 8035, '졍': 8036, '드클': 8037, '문들어지': 8038, '악보': 8039, '드러머': 8040, '드럼': 8041, '수재': 8042, '속빙': 8043, '봉과': 8044, '애완': 8045, '소신': 8046, '한걸음': 8047, '타파': 8048, '오그리': 8049, '하료': 8050, '훌룡': 8051, '느꼇': 8052, '활자': 8053, '도맡': 8054, '입으': 8055, '파장': 8056, '신남': 8057, '역습': 8058, '휴먼': 8059, '원조': 8060, '상류층': 8061, '남궁': 8062, '현자': 8063, '긴장대고재밋었어': 8064, '문편': 8065, '부지': 8066, '눈시울': 8067, '붉어지': 8068, '검시관': 8069, '판사': 8070, '뒤틀리': 8071, '꼰대': 8072, '살인극': 8073, '끕흑흗': 8074, '맑은': 8075, '봄꿈': 8076, '진작': 8077, '찬송': 8078, '직영': 8079, '받아치': 8080, '정표': 8081, '거쳐가': 8082, '갈구': 8083, '가선': 8084, '가락': 8085, '허비': 8086, '근거리': 8087, '중립': 8088, '흥얼흥얼': 8089, '궤찬': 8090, '부주': 8091, '술탄': 8092, '자파': 8093, '담비': 8094, '카드': 8095, '욬ㅋ': 8096, '호피': 8097, '버같': 8098, '멜론': 8099, '중적': 8100, '체류': 8101, '조치': 8102, '선경': 8103, '지명': 8104, '처넣': 8105, '발산': 8106, '건들': 8107, '플래시': 8108, '수업': 8109, '교재': 8110, '선명': 8111, '전쟁통': 8112, '고학년': 8113, '요법': 8114, '최하위': 8115, '향후': 8116, '판별기': 8117, '시모': 8118, 'ㄴ단다': 8119, '을리': 8120, '하난': 8121, '모범적': 8122, '감자': 8123, '홀랜드': 8124, '독립운동': 8125, '순응': 8126, '정적': 8127, '벨기에': 8128, '덕택': 8129, '짠물': 8130, '노틀담': 8131, '성당': 8132, '고모': 8133, '꼬락서니': 8134, '리을': 8135, '핥': 8136, '전생': 8137, '피신': 8138, '요락': 8139, '시강': 8140, '비웃음': 8141, '정당화': 8142, '입양아': 8143, '실낱': 8144, '비둘기': 8145, '공동': 8146, '사자': 8147, '쌉가': 8148, '소다': 8149, '이혼남': 8150, '슴돠': 8151, '옷장': 8152, '거울': 8153, '줄줄': 8154, '목쉬': 8155, '현대인': 8156, '복기': 8157, '녀의': 8158, '드나들': 8159, '식료품': 8160, '살포시': 8161, '어루만지': 8162, '깊숨': 8163, '곤두서': 8164, '연애질': 8165, '원의': 8166, '쌀': 8167, '쭈욱': 8168, '해오': 8169, '본기': 8170, '고초': 8171, '시련': 8172, '전성기': 8173, '스티브': 8174, '콜린': 8175, '노래도': 8176, 'ㄴ다나': 8177, '왜상': 8178, '싹쓸이': 8179, '말랑말랑': 8180, '거세': 8181, '마사지': 8182, '세영': 8183, '동심적': 8184, '니일': 8185, '젖가슴': 8186, '점감': 8187, '랍시고': 8188, '궤변': 8189, '짜깁기': 8190, '이역': 8191, '만리': 8192, '깜둥이': 8193, '명구': 8194, '화실': 8195, '사화': 8196, '부쩍': 8197, '떼죽음': 8198, '설치': 8199, '독도': 8200, '컴백': 8201, '주옥': 8202, '고희': 8203, '위트': 8204, '호감': 8205, '털털': 8206, '가액': 8207, '창정': 8208, '마직': 8209, '참회': 8210, '본격적': 8211, '홈런': 8212, '휙': 8213, '올려다보': 8214, '벌크': 8215, '통장': 8216, '엎': 8217, '씩씩대': 8218, '딸래미': 8219, '스윗': 8220, '뒤떨어지': 8221, '원료': 8222, '블루': 8223, '놀래기': 8224, '굶': 8225, '딧냐': 8226, '타이틀': 8227, '너무졸귀탱': 8228, '중재': 8229, '찢ㅜ': 8230, '인화': 8231, '슽하에': 8232, '으헝헝': 8233, '재물': 8234, '일련': 8235, '실마리': 8236, '봐서': 8237, '현대사': 8238, '생소': 8239, '격동': 8240, '분추': 8241, '이러스': 8242, '을더': 8243, '기분좋게보고나왓어': 8244, '드렉스': 8245, '울보': 8246, '유부남': 8247, '맹인': 8248, '갸륵': 8249, '딩클스': 8250, '겠던': 8251, '커뮤니티': 8252, '가벼운': 8253, '거석': 8254, '마동': 8255, '밌으려': 8256, '비트가': 8257, '세분': 8258, '형적': 8259, '인질극': 8260, '물느': 8261, '이막스': 8262, '아남자': 8263, '무책임하': 8264, '나버린': 8265, '뭘하': 8266, '드로우': 8267, '식거': 8268, '과부족': 8269, '정도론': 8270, '콤': 8271, '깝치': 8272, '보일': 8273, '칠순': 8274, '잔치': 8275, '독수리': 8276, '뜯어먹': 8277, '유래': 8278, '속임수': 8279, '속아넘어가': 8280, '넘귀': 8281, '얌': 8282, '수상작': 8283, '수컷': 8284, '뱅뱅': 8285, '참모장': 8286, '중장': 8287, '쓰리': 8288, '위엄성': 8289, '황폐': 8290, '희소': 8291, '치안': 8292, '라로': 8293, '트바': 8294, '노년기': 8295, '베테랑': 8296, '디엠': 8297, '웡': 8298, '불화': 8299, '화해': 8300, '총맞': 8301, '대응': 8302, '드리고': 8303, '양학': 8304, '포선': 8305, '잇하': 8306, '직관적': 8307, 'ㅗㅏ': 8308, '료미': 8309, '복구': 8310, '료배': 8311, '조용하': 8312, '진행도': 8313, '할인권': 8314, '의중': 8315, '의협심': 8316, '지시': 8317, '오초': 8318, '네이션': 8319, '군지': 8320, '이펙트': 8321, '만상': 8322, '누드': 8323, '에죽': 8324, '장애인': 8325, '긋이': 8326, '겻냐': 8327, '되영': 8328, '개구': 8329, '전내': 8330, '여벌': 8331, '스티븐': 8332, '스피': 8333, '무이': 8334, '아이러니컬': 8335, '뻐': 8336, '선수': 8337, '저격수': 8338, '저같이': 8339, '도취': 8340, '프로젝터': 8341, '렀': 8342, '특사': 8343, '암영': 8344, '할인': 8345, '영문': 8346, '한국어': 8347, '재할': 8348, '아버님': 8349, '성찬': 8350, '미지': 8351, '우울하': 8352, '일본해': 8353, '표기': 8354, '흥얼거리': 8355, '이석형': 8356, '불참': 8357, '깎이': 8358, '되지르': 8359, '공산주의': 8360, '해충': 8361, 'ㄴ걸': 8362, '용안': 8363, 'ㅠㅜㅜ': 8364, '공산화되': 8365, '금발': 8366, '홧김': 8367, '사채': 8368, '평생몰랏을거아니': 8369, '수천': 8370, '엽따': 8371, '비지': 8372, '어용': 8373, '어요만': 8374, '우중': 8375, '거아니냐': 8376, '지짴': 8377, '픽픽': 8378, '부담': 8379, '오타루': 8380, '온이': 8381, '스완': 8382, '쳤따': 8383, '슽': 8384, '온스': 8385, '씡': 8386, '싱그럽': 8387, '코였': 8388, '으뮤ㅠ': 8389, '거짓말쟁이': 8390, '리얼리즘': 8391, '약주': 8392, '노타임': 8393, '장황': 8394, '옵션': 8395, '여울': 8396, '박새': 8397, '별의': 8398, '붙잡': 8399, '앉히': 8400, '재감': 8401, '실명': 8402, '대성통곡': 8403, '주룩주룩': 8404, '찾아들': 8405, '센치': 8406, '식초': 8407, '깝다': 8408, '뜻깊': 8409, '죽죽': 8410, '였슴': 8411, '조사단': 8412, '호이': 8413, '뜻밖에': 8414, '발짝': 8415, '내딛': 8416, '잡인': 8417, '푸근': 8418, '쉽운': 8419, '넼': 8420, '최상급': 8421, '생물': 8422, '감성돔': 8423, '긴꼬리': 8424, '돗': 8425, '비린내': 8426, '넥플릭스': 8427, '살상': 8428, '목격': 8429, '연일': 8430, '물심': 8431, '양면': 8432, '주화': 8433, '인를': 8434, '절이': 8435, '대변': 8436, '투척': 8437, '가차': 8438, '가르침': 8439, '고재': 8440, '표본': 8441, '격변': 8442, '도프': 8443, '쾌': 8444, '상쾌': 8445, '소박맞': 8446, '사유': 8447, '무미': 8448, '세권': 8449, '이웃집': 8450, '등잔': 8451, '둘러보': 8452, '선호': 8453, '만가': 8454, '조조': 8455, '스몸': 8456, '누주': 8457, '무무': 8458, '튀갑': 8459, '축하': 8460, '도토': 8461, '판타스틱': 8462, '파르르': 8463, '수조안': 8464, '차가': 8465, '깊숙이': 8466, '잠식': 8467, '의운': 8468, '바닷속': 8469, '기량': 8470, '기조': 8471, '로동당': 8472, '공사판': 8473, '노동': 8474, '용역': 8475, '한시': 8476, '벌리기': 8477, '요추': 8478, '내과': 8479, '시한부': 8480, '스영': 8481, '방위': 8482, '전국': 8483, '간평': 8484, '관리인': 8485, '유심': 8486, '행진': 8487, '고객': 8488, '뻔뻔': 8489, '넘빈': 8490, '영삼': 8491, '기색': 8492, '다모아': 8493, '누릏': 8494, '기본도': 8495, '여비서': 8496, '사용설명서': 8497, '연락은할려': 8498, '계보': 8499, '훌륭섞': 8500, '어한': 8501, '외박': 8502, '인터': 8503, '스텔라': 8504, '굳세': 8505, '고우': 8506, '체임': 8507, '참조': 8508, '곰탕': 8509, '대폭': 8510, '별명': 8511, '용의자': 8512, '애먼': 8513, '토막내': 8514, 'ㅏㅣ': 8515, '디스토피': 8516, '계급': 8517, '의시': 8518, '찾아뵙': 8519, '하루밤': 8520, '타의': 8521, '인간형': 8522, '상기': 8523, '실의': 8524, '샹들리에': 8525, '돈은': 8526, '노벨라': 8527, '후미': 8528, '야드': 8529, '도현': 8530, '일주': 8531, '꼭꼭': 8532, '입대': 8533, '낭송': 8534, '국인': 8535, '전해질': 8536, '픈': 8537, '안스럽': 8538, '합리화': 8539, '도자': 8540, '상진': 8541, '연합': 8542, '살리기': 8543, '우동': 8544, '새내기': 8545, '대회': 8546, '그랑프리': 8547, '협곡': 8548, '와드': 8549, '소거': 8550, '학창': 8551, '급식': 8552, '실생활': 8553, '몬스터': 8554, '시리': 8555, '몸매': 8556, '담당': 8557, '그제야': 8558, '어리석': 8559, '덧없': 8560, '이좀': 8561, '만들엇냐어이구': 8562, '상관없이': 8563, '많으': 8564, '식당': 8565, '가중': 8566, '임수정': 8567, '비지엠': 8568, '후다닥': 8569, '방증': 8570, '조정위': 8571, '호밀': 8572, '밭': 8573, '책의': 8574, '때묻': 8575, '천진난만': 8576, '거중': 8577, '최고급': 8578, '엉터리': 8579, '모바일': 8580, '화영': 8581, '싸잡': 8582, '건하': 8583, '오쥬': 8584, '지구의': 8585, '비아냥': 8586, '용감': 8587, '룸메이트': 8588, '빠라': 8589, '연산': 8590, '로밀': 8591, '끓이': 8592, '오비': 8593, '풍기': 8594, '메스껍': 8595, '화산': 8596, '보게됬어': 8597, '당선': 8598, '해군': 8599, '건설': 8600, '월말': 8601, '거버숭': 8602, '스펙타클': 8603, '적도': 8604, '의곡': 8605, '메트로': 8606, '요엽': 8607, '첬': 8608, '전남편': 8609, '용돈': 8610, '아르바이트': 8611, '혼돈': 8612, '뛰어내리': 8613, '통념': 8614, '유혈': 8615, '낭자': 8616, '고엽': 8617, '매탄': 8618, '태극권': 8619, '만종': 8620, '파랑': 8621, '화선': 8622, '혐의': 8623, '굽': 8624, '소희': 8625, '동포': 8626, '장롱': 8627, '징징거리': 8628, '일보': 8629, '똥파리': 8630, '수저': 8631, '국정': 8632, '서랑': 8633, '은기': 8634, '예지': 8635, '지호': 8636, '버리연': 8637, '한상철': 8638, '아가리': 8639, '여기자': 8640, '워드': 8641, '강화': 8642, '위압감': 8643, '재화': 8644, '공무원': 8645, '여백': 8646, '등지': 8647, '고소설': 8648, '소모성': 8649, '아오': 8650, '플라스': 8651, '법칙': 8652, '헌팅': 8653, '달링': 8654, '내부자': 8655, '우민': 8656, '소년단': 8657, '보증서': 8658, '덜떨어지': 8659, '뿌수': 8660, '요년': 8661, '자연산': 8662, '팔딱팔딱': 8663, '아해': 8664, '스크': 8665, '분본': 8666, '예능': 8667, '뽀삐': 8668, '제제': 8669, '주입': 8670, '이상상': 8671, '혼쭐나': 8672, '여한': 8673, '추론': 8674, '딥다크': 8675, '알록달록': 8676, '저두': 8677, '남동생': 8678, '스페셜': 8679, '으아': 8680, '글쓴이': 8681, '오디': 8682, '오상': 8683, '없엇': 8684, '완치': 8685, '만우절': 8686, '궈룽': 8687, '동성애': 8688, '받앗엇': 8689, '넘버원': 8690, '되선': 8691, '식구': 8692, '퍽': 8693, '정겹': 8694, '동시대': 8695, '회로': 8696, '신중': 8697, '통수': 8698, '톱': 8699, '투신': 8700, '스플': 8701, '웨스': 8702, '프렌치': 8703, '신양': 8704, '슬럼프': 8705, '저만': 8706, '름': 8707, '오고': 8708, '개망신': 8709, '도대사': 8710, '뎁나름': 8711, '분발': 8712, '봤슈': 8713, '기억력': 8714, '총동원': 8715, '가필드': 8716, '물가': 8717, '박서': 8718, '육수': 8719, '암적': 8720, '폐기': 8721, '쿠쿠': 8722, '떳': 8723, '이가': 8724, '아마천': 8725, '마야': 8726, '생물체': 8727, '원리': 8728, '스페인': 8729, '함선': 8730, '구원자': 8731, '강한': 8732, '침략': 8733, '단편적': 8734, '총칼': 8735, '사상적': 8736, '간식': 8737, '데는': 8738, '외톨이': 8739, '외톨': 8740, '명쾌': 8741, '지뭔': 8742, '댁': 8743, '픅': 8744, '굶기': 8745, '시비': 8746, '시청가능': 8747, '잇좋': 8748, '부에': 8749, '이슬람': 8750, '멸하': 8751, '타락': 8752, '하까트': 8753, '와이스': 8754, '몸소': 8755, '고지식': 8756, '주무시': 8757, '재밌었어요개취니깐': 8758, '용맹': 8759, '헌신': 8760, '일성': 8761, '형언': 8762, '큰상': 8763, '김일성': 8764, '자손': 8765, '통탄': 8766, '주려': 8767, '외제': 8768, '차사': 8769, '이동휘': 8770, '문학': 8771, '혜성': 8772, '해외여행': 8773, '야경': 8774, '호일': 8775, '녀랑': 8776, '인텔': 8777, '레포트': 8778, '야채': 8779, '탄흔': 8780, '유물': 8781, '공동체': 8782, '터널': 8783, '빨개지': 8784, '마구잡이': 8785, '쫓아내': 8786, '혹': 8787, '독하': 8788, '녹맵': 8789, '치킨': 8790, '츄': 8791, '양인': 8792, '미친년': 8793, '자립심': 8794, '기브': 8795, '간난': 8796, '유머러스': 8797, '자넨': 8798, '이레': 8799, '추가됬네': 8800, '버허드': 8801, '따짜': 8802, '먹칠': 8803, '요에': 8804, '선탁': 8805, '중공군': 8806, '내금': 8807, '정말재밋네': 8808, '다세': 8809, '이코': 8810, '하비': 8811, '르뎀': 8812, '문맹': 8813, '말보': 8814, '운임': 8815, '물대': 8816, '살육': 8817, '용무': 8818, '형극': 8819, '치영': 8820, '갖다대': 8821, '선택적': 8822, '도성': 8823, '눈치채': 8824, '어불성설': 8825, '킹스': 8826, '서클': 8827, '스크롤': 8828, '노부부': 8829, '마리화나': 8830, '계산기': 8831, '핵탄두': 8832, '귀로': 8833, '탐지': 8834, '닦달': 8835, '장보고': 8836, '빙고': 8837, '넘어뜨리': 8838, '가담자': 8839, '들르': 8840, '응징': 8841, '섀': 8842, '말쟁이': 8843, '와와': 8844, '해제': 8845, '소피아': 8846, '도피': 8847, '묵음': 8848, '개씌': 8849, '강자': 8850, '이이렇': 8851, '청순': 8852, '점짜': 8853, '고속': 8854, '개활지': 8855, '으련': 8856, '당당': 8857, '몸뚱아리': 8858, '처박': 8859, '양해': 8860, '귓등': 8861, '플레인': 8862, '제재': 8863, '답니다': 8864, '아랑': 8865, '한층': 8866, '촬영술': 8867, '속에': 8868, '뜯어보': 8869, '기범': 8870, '심재': 8871, '용지': 8872, '오석': 8873, '난처': 8874, '준열': 8875, '이등병': 8876, '인분': 8877, '희미': 8878, '용점': 8879, '닺': 8880, '지분': 8881, '꽉꽉': 8882, '숨어들': 8883, '너구리': 8884, '금수': 8885, '노가다': 8886, '불안감': 8887, '동동': 8888, '오손': 8889, '오공': 8890, '더락': 8891, '블럭': 8892, '파크': 8893, '같으': 8894, '추상': 8895, '주실': 8896, '연진': 8897, '눈높이': 8898, '요연': 8899, '혜인': 8900, '신공': 8901, '양설': 8902, '티스푼': 8903, '구부리': 8904, '작업실': 8905, '유리창': 8906, '딫': 8907, '늦정': 8908, '순직': 8909, '전의': 8910, '용사': 8911, '연평도': 8912, '사기꾼': 8913, '한판': 8914, '전설적': 8915, '성공적': 8916, '객관': 8917, '렇저렇': 8918, '이불안': 8919, '마일즈': 8920, '의회': 8921, '목마': 8922, '못마땅': 8923, '화병': 8924, '심근': 8925, '경색': 8926, '획기적': 8927, '섭의': 8928, '발달': 8929, '버림': 8930, '성기': 8931, '전당시': 8932, '아이콘': 8933, '타로': 8934, '주먹질': 8935, '최전방': 8936, '신적': 8937, '괴로움': 8938, '정극': 8939, '예술인': 8940, '걸사': 8941, '투쟁': 8942, '땟': 8943, '반작용': 8944, '넥플릭': 8945, '악수': 8946, '놀아나': 8947, '실시간': 8948, '검색어': 8949, '캐바': 8950, '걸스': 8951, '난전': 8952, '샅': 8953, '아이피': 8954, '경이적': 8955, '독창적': 8956, '쏠': 8957, '이광수': 8958, '샘물': 8959, '솟아나': 8960, '한솔': 8961, '이빨': 8962, '매직': 8963, '뱡': 8964, '가후': 8965, '않앗': 8966, '일말': 8967, '침식': 8968, '재촉': 8969, '한마당': 8970, '구우': 8971, '스또': 8972, '고삐': 8973, '날뛰': 8974, '우스꽝스럽': 8975, '단성': 8976, '문의': 8977, '재판': 8978, '생영': 8979, '지현': 8980, '신격화하': 8981, '페라리': 8982, '도차': 8983, '식며': 8984, '욕보': 8985, '하수인': 8986, '다오': 8987, '에겐': 8988, '아하하': 8989, '하어': 8990, '쯧쯧쯧': 8991, '독일인': 8992, '하원': 8993, '쌉고': 8994, '지렷': 8995, '국밥': 8996, '에드워드': 8997, '려나요': 8998, '다부': 8999, '후세인': 9000, '총체적': 9001, '난국': 9002, '명제': 9003, '압하': 9004, '연설': 9005, '투버': 9006, '덩이': 9007, '반환': 9008, '밍': 9009, '석씨': 9010, '치고받': 9011, '업햄': 9012, '갓띵작입니': 9013, '단행본': 9014, '라기에': 9015, '가슴선': 9016, '가여': 9017, '나서': 9018, '콩닥콩닥': 9019, '가산점': 9020, '스카': 9021, '정보원': 9022, '스트롱': 9023, '터미널': 9024, '본동': 9025, '화반': 9026, '미성숙': 9027, '잡후': 9028, '초대': 9029, '어장': 9030, '메롱': 9031, '괴상': 9032, '인간미': 9033, '럽뽀': 9034, '목아지': 9035, '오느': 9036, '가학': 9037, '오도': 9038, '단단': 9039, '부서지': 9040, '야구공': 9041, '병아리': 9042, '시뻘겋': 9043, '잘잘': 9044, '기럭지': 9045, '범행': 9046, '꾀이': 9047, '매매': 9048, '어이없이': 9049, '훌쩍훌쩍': 9050, '허허': 9051, '대까지': 9052, '통솔': 9053, '곱상': 9054, '바란스': 9055, '어김없이': 9056, '아킬레스건': 9057, '짤리': 9058, '표시': 9059, '프레드': 9060, '그리드': 9061, '못나': 9062, '요술': 9063, '옳타': 9064, '가고': 9065, '소해': 9066, '별것': 9067, '황태자': 9068, '담구': 9069, '니요': 9070, '약혼녀': 9071, '홍상': 9072, '수영화': 9073, '즐거워하': 9074, '국은': 9075, '헌정': 9076, '잊순': 9077, '돌이켜보': 9078, '짜집기': 9079, '흉내': 9080, '일렬': 9081, '즙': 9082, '로스트': 9083, '더스트': 9084, '반성문': 9085, '제출': 9086, '선의': 9087, '석고': 9088, '대죄': 9089, '케하': 9090, '근육': 9091, '시드': 9092, '슈모솟': 9093, '새라': 9094, '셤': 9095, '섭다': 9096, '지우개': 9097, '경도': 9098, '훌쩍': 9099, '음대': 9100, '보삼': 9101, '지대로': 9102, '다각': 9103, '늘어뜨리': 9104, '군단': 9105, '유인원': 9106, '상오': 9107, '체질': 9108, '드엔딩': 9109, '들이아직도남아있다': 9110, '기리': 9111, '쏘아보': 9112, '펌프': 9113, '초크': 9114, '초단': 9115, '레게': 9116, '전투력': 9117, '측정기': 9118, '장명': 9119, '혁명군': 9120, '산하': 9121, '읽기': 9122, '미적': 9123, '분책': 9124, '들죠': 9125, '그루브': 9126, '트와': 9127, '일라': 9128, '편중': 9129, '브레이': 9130, '전개도': 9131, '상품성': 9132, '맞짱': 9133, '과시': 9134, '려거든': 9135, '어찌하': 9136, '신스': 9137, '싱크': 9138, '인두': 9139, '훅훅': 9140, '무가': 9141, '덧씌우': 9142, '아에': 9143, '걱': 9144, '멎': 9145, '화엽': 9146, '약점': 9147, '응하': 9148, '파란': 9149, '사로잡': 9150, '초조': 9151, '님누': 9152, '현시점': 9153, '쒯': 9154, 'ㅠㅜㅠㅠ': 9155, '적용': 9156, '도영': 9157, '화성': 9158, '방망이': 9159, '표출': 9160, '도경': 9161, '저변': 9162, '도사리': 9163, '와디': 9164, '화물': 9165, '애드': 9166, '수트': 9167, '발끝': 9168, '네그리': 9169, '트론': 9170, '나태': 9171, '놧': 9172, '친연': 9173, '슬쩍': 9174, '했더랬': 9175, '독아': 9176, '최적': 9177, '원작자': 9178, '이청준': 9179, '답시고': 9180, '순진': 9181, '초긴장': 9182, '다고만': 9183, '트와이스': 9184, '시커멓': 9185, '핏덩이': 9186, '큘': 9187, '프랑켄': 9188, '슈타인': 9189, '품위': 9190, '뽀록나': 9191, '간섭': 9192, '리버': 9193, '눈길': 9194, '아스팔트': 9195, '련': 9196, '깨들': 9197, '탄핵': 9198, '까발리': 9199, '심볼': 9200, '게도': 9201, '서조': 9202, '생산적': 9203, '건개': 9204, '지악': 9205, '시리아': 9206, '다연': 9207, '악독': 9208, '객기': 9209, '트럭': 9210, '개쓰': 9211, '미가없': 9212, '구난': 9213, '헛짓': 9214, '정조준': 9215, '이민': 9216, '소용없': 9217, '펑': 9218, '짚': 9219, '털어놓': 9220, '살수': 9221, '버림받': 9222, '웅캬캬뾰': 9223, '개성적': 9224, '매한가지': 9225, '조난자': 9226, '아녀자': 9227, '질기': 9228, '생명력': 9229, '기사도': 9230, '과대': 9231, '통금': 9232, '원일': 9233, '오전': 9234, '철수': 9235, '탈북자': 9236, '무정': 9237, '부사': 9238, '습격': 9239, '복음': 9240, '수식어': 9241, '언도': 9242, '자산': 9243, '이엄': 9244, '삼진': 9245, '여와': 9246, '요철': 9247, '섭은': 9248, '지섭': 9249, '에세이': 9250, '효과적': 9251, '타용': 9252, '웅의': 9253, '세욤': 9254, '수표': 9255, '녹아들': 9256, '부부간': 9257, '연배': 9258, '따라': 9259, '고교': 9260, '도태': 9261, '듀폰': 9262, '간주': 9263, '추락': 9264, '해방감': 9265, '정사': 9266, '감금': 9267, '가닥': 9268, '봐야겠네': 9269, '아린': 9270, '나방': 9271, '아니오': 9272, '끈기': 9273, '숨김없이': 9274, '고약': 9275, '밝생': 9276, '밝것': 9277, '봉사자': 9278, '관의': 9279, '적국': 9280, 'ㅋㅋㅎ': 9281, '좇노': 9282, '의존': 9283, '꿈결': 9284, '유행인': 9285, '밀어붙이': 9286, '신야': 9287, '사납': 9288, '활극': 9289, '바라지': 9290, '속출': 9291, '예로': 9292, '연만': 9293, '후감': 9294, '조타': 9295, '땡땡': 9296, '게나': 9297, 'ㅍ': 9298, '숨이게': 9299, '다각도': 9300, '하룻밤': 9301, '작별': 9302, '답인': 9303, '인간적': 9304, '만의사': 9305, '무차별': 9306, '그이': 9307, '고찰': 9308, '투숙객': 9309, '스킨': 9310, '스앤워': 9311, '미래세': 9312, '왤캐': 9313, '소니': 9314, '족발': 9315, '이욱': 9316, '구기': 9317, '금은': 9318, '토착': 9319, '빈민가': 9320, '기죽': 9321, '탄신': 9322, '인생사': 9323, '빙인': 9324, '논': 9325, '다번': 9326, '어눌': 9327, '입력': 9328, '낼름': 9329, '받아먹': 9330, '소고': 9331, '겐헐크': 9332, '리들': 9333, '설상가상': 9334, '푸르': 9335, '낙원': 9336, '깊숙': 9337, '중역': 9338, '협동': 9339, '성취감': 9340, '자라나': 9341, '답노': 9342, '인천': 9343, '상륙': 9344, '시브': 9345, '프레이': 9346, '어물': 9347, '소마는': 9348, '두루두루': 9349, '범하': 9350, '집합체': 9351, '이도': 9352, 'ㄴ다만': 9353, '스가가': 9354, '왜스': 9355, '속뜻': 9356, '청년회': 9357, '밀회': 9358, '이건영': 9359, '하구려': 9360, '인날': 9361, '하군': 9362, '봣으': 9363, '가다니': 9364, '전도사': 9365, '딱지': 9366, '조마조마하': 9367, '곡이': 9368, '간선': 9369, '어뢰': 9370, '좌초': 9371, '호의': 9372, '방패': 9373, '삼아': 9374, '도의적': 9375, '현정부': 9376, '마부': 9377, '스토커': 9378, '날조': 9379, '그물': 9380, '를염': 9381, '을걸': 9382, '찬장': 9383, '반박': 9384, '뜬구름': 9385, '엘리트': 9386, '국한': 9387, '파탄': 9388, '노조': 9389, '얌전': 9390, '말다툼': 9391, '싹뚝': 9392, '동조': 9393, '도캐': 9394, '밍숭맹': 9395, '숭하': 9396, '깡통': 9397, '강하면': 9398, '안살': 9399, '표현력': 9400, '약년': 9401, '찬찬': 9402, '음미': 9403, '복합적': 9404, '비도덕': 9405, '인색한': 9406, '면면': 9407, '동창': 9408, '같믐': 9409, '토네이도': 9410, '빨려들': 9411, '자이로': 9412, '드롭': 9413, '땐에': 9414, '타깝': 9415, '패트릭': 9416, '쓰넘': 9417, '샤말란': 9418, '식스센스': 9419, '빌리지': 9420, '해프닝': 9421, '애프터': 9422, '벤더': 9423, '더디': 9424, '팔로': 9425, '거북목': 9426, '앙다물': 9427, '아람': 9428, '말소리': 9429, '똥구녕': 9430, '요예': 9431, '전에': 9432, '고질': 9433, '면대': 9434, '최종': 9435, '야만적': 9436, '외화': 9437, '사제': 9438, '부마자': 9439, '괴성': 9440, '몸싸움': 9441, '뜻하': 9442, '예식': 9443, '소위': 9444, '맞닥뜨리': 9445, '난이도': 9446, '엄숙': 9447, '광활': 9448, '참함': 9449, '숭고': 9450, '헝헝헝': 9451, '헝으': 9452, 'ㅡ헣': 9453, '헝헝ㅜ': 9454, 'ㅡㅜ': 9455, '흘려보내': 9456, '보단못': 9457, '스톰트': 9458, '퍼가': 9459, '연함': 9460, '근함': 9461, '몽사': 9462, '노멀': 9463, '지입맛': 9464, '윤리학': 9465, '저작권': 9466, '럭스': 9467, '박희': 9468, '특화': 9469, '항아': 9470, '아모': 9471, '피어싱': 9472, '마침내': 9473, '들려주': 9474, '택란': 9475, '믿보': 9476, '반값': 9477, '관대함': 9478, '유독': 9479, '들연': 9480, '소굴': 9481, '이우': 9482, '작익스': 9483, '성질나': 9484, '고침': 9485, '짱박': 9486, '하니': 9487, '초창기': 9488, '지나오': 9489, '전통': 9490, '소수자': 9491, '이어받': 9492, '조롱': 9493, '부추기': 9494, '중고': 9495, '내보내': 9496, '연식': 9497, '튜닝': 9498, '할로겐': 9499, '교체': 9500, '쭈꾸미': 9501, '전재': 9502, '밎': 9503, '인삼': 9504, '소각': 9505, '해치': 9506, '총사': 9507, '다남자': 9508, '어린이집': 9509, '탄원서': 9510, '기차': 9511, '스카프': 9512, '게르': 9513, '가결': 9514, '으랴': 9515, '수적': 9516, '천년만년': 9517, '슬로우': 9518, '모션': 9519, '작입': 9520, '서고': 9521, '밌엉': 9522, '태식': 9523, '빌미': 9524, '역행': 9525, '섹슈얼': 9526, '테러리스트': 9527, '개병': 9528, '끝물': 9529, '잘라먹': 9530, '자격루': 9531, '저가격': 9532, '묘미': 9533, '만듦새': 9534, '통째로': 9535, '섭취': 9536, '상반': 9537, '아파트': 9538, '랍다': 9539, '할려는': 9540, '기달리': 9541, '멜로디': 9542, '버다': 9543, '입몰': 9544, '련만': 9545, '수병': 9546, '부활': 9547, '리프': 9548, '이강': 9549, '연장': 9550, '각재': 9551, '큰절': 9552, '놓았': 9553, '밀레': 9554, '먹히': 9555, '무리수': 9556, '식음': 9557, '그리고여주ㅆㅑㅇ': 9558, '정변': 9559, '운운': 9560, '얼마든지': 9561, '비판적': 9562, '넘높': 9563, '쫙': 9564, '쿠데타': 9565, '지순': 9566, '그레이': 9567, '총의': 9568, '가스총': 9569, '뿌질': 9570, '번본': 9571, '봉화': 9572, '리라': 9573, '남여': 9574, '다급': 9575, '질보': 9576, '단양': 9577, '쫄딱': 9578, '채홍사': 9579, '굳건': 9580, '은의': 9581, '저력': 9582, '리얼리티': 9583, '여느': 9584, '제안': 9585, '모노': 9586, '지근': 9587, '어떡': 9588, '대씹': 9589, '쌔': 9590, '논거': 9591, '편편': 9592, '고편도': 9593, '두발': 9594, '능지': 9595, '감우': 9596, '싑': 9597, '방연': 9598, '아저': 9599, '산재': 9600, '뒤덮': 9601, '버닝': 9602, '후계': 9603, '고려': 9604, '며보': 9605, '뺏기': 9606, '서운': 9607, '팟': 9608, '경보음': 9609, '어느새': 9610, '지표': 9611, '다못': 9612, '수거': 9613, '줏': 9614, '죠여': 9615, '나자': 9616, '깍지': 9617, '띵하': 9618, '불빛': 9619, '반짝이': 9620, '반석': 9621, '색채': 9622, '호화': 9623, '웃비': 9624, '슷': 9625, '주넹ㅋ': 9626, '스포가': 9627, '가엾': 9628, '리빙': 9629, '라스베가스': 9630, '쏘주': 9631, '샤르트': 9632, '실존적': 9633, '원적': 9634, '시공간': 9635, '미술과': 9636, '터트리': 9637, '웍스': 9638, '약명': 9639, '끌어모으': 9640, '울음소리': 9641, '정의감': 9642, '화이트': 9643, '칙스': 9644, '분가': 9645, '더없이': 9646, '김대중': 9647, '기름': 9648, '경상도': 9649, '타이어': 9650, '판도': 9651, '건전': 9652, '믓': 9653, '들노래': 9654, '안일': 9655, '아참': 9656, '천명': 9657, '도좋': 9658, '억수': 9659, '있슴': 9660, '짠': 9661, '르꼬': 9662, '패인': 9663, '탄내': 9664, '일전': 9665, '기침': 9666, '주일': 9667, '너비': 9668, '데넘': 9669, '남정네': 9670, '불침번': 9671, '속내': 9672, '교류': 9673, '게흥미로웠어': 9674, '있엇': 9675, '아편': 9676, '고로': 9677, '쇼핑': 9678, '초건': 9679, '이진': 9680, '쥑이': 9681, '고루고루': 9682, '까풀': 9683, '한가득': 9684, '갈수': 9685, '에어리': 9686, '슐랭': 9687, '길바닥': 9688, '나체': 9689, '해해': 9690, '누이': 9691, '갈갈이': 9692, '백작': 9693, '현사': 9694, '도킹': 9695, '에다가': 9696, '살살': 9697, '특주': 9698, '두들겨패': 9699, '사질': 9700, '역량': 9701, '모던': 9702, '페어': 9703, '한보': 9704, '별단': 9705, '방학': 9706, '적외선': 9707, '왈': 9708, '제너': 9709, '레더': 9710, '산악': 9711, '유괴': 9712, '아니코': 9713, '석자': 9714, '이상점': 9715, '억ㅍ': 9716, '와일러': 9717, '스턴': 9718, '염화': 9719, '그늘': 9720, '전심': 9721, '보듬': 9722, '부시': 9723, '만감': 9724, '이성적': 9725, '누가까지만재밌': 9726, '빈국': 9727, '광고판': 9728, '선가': 9729, '광고탑': 9730, '판박이': 9731, '괜찮았': 9732, '건기': 9733, '를반': 9734, '엽떡': 9735, '얼굴에부쳣나햇습니': 9736, '어택': 9737, '포상': 9738, '가에': 9739, '능에': 9740, '낱낱': 9741, '전국민': 9742, '냐고': 9743, '보지': 9744, '한건하': 9745, '이서': 9746, '진기': 9747, '송하': 9748, '거덜': 9749, '제고': 9750, '프라이버시': 9751, '성형': 9752, '삼한': 9753, '진애': 9754, '감영': 9755, '녹아내리': 9756, '권력층': 9757, '부르기': 9758, '요전재밋엇어': 9759, '왓으': 9760, '변함없이': 9761, '토박이': 9762, '대구시': 9763, '수성구': 9764, '인근': 9765, '목요일': 9766, '스케줄': 9767, '궁금하': 9768, '이수성': 9769, '얽또': 9770, '한마음': 9771, '말랑말랑하': 9772, '테라': 9773, '씨디': 9774, '내들': 9775, '단면': 9776, '이곳저곳': 9777, '무예': 9778, '부화': 9779, '오르페': 9780, '질르': 9781, '선상': 9782, '못다': 9783, '회색빛': 9784, '갈색': 9785, '한곳': 9786, '암담': 9787, '을내': 9788, '극영화': 9789, '유호정': 9790, '장미': 9791, '참사람': 9792, '두마음': 9793, '분제': 9794, '현준': 9795, '허성': 9796, '끼얹': 9797, '노가': 9798, '벌레': 9799, '개비': 9800, '근진': 9801, '오분': 9802, '억장': 9803, '솟': 9804, '제품': 9805, '미개': 9806, '한동': 9807, '범주': 9808, '해난': 9809, '크레딧에': 9810, '끄덕이': 9811, '특우': 9812, '다리팔': 9813, '휘날리': 9814, '다음번': 9815, '니르': 9816, '전체주의': 9817, '갑옷': 9818, '꼭두각시': 9819, '덤벼들': 9820, '개싸움': 9821, '정자': 9822, '카시': 9823, '노신': 9824, '눈벌판': 9825, '장고': 9826, '상하지': 9827, '빠이': 9828, '지엽': 9829, '혔슴': 9830, '안경': 9831, '치명적': 9832, '뺀질이': 9833, '꼼짝없이': 9834, '쭈구리로': 9835, '피터': 9836, '갤런': 9837, '이뉘': 9838, '성일': 9839, '껄껄': 9840, '내비치': 9841, '촴': 9842, '칼춤': 9843, '디자이너': 9844, '입시': 9845, '수도권': 9846, '행정': 9847, '진학': 9848, '하참': 9849, '광란': 9850, '활주': 9851, '심상': 9852, '수칙': 9853, '요경': 9854, '바른': 9855, '읊': 9856, '요질': 9857, '은희': 9858, '희화': 9859, '비론': 9860, '성심': 9861, '님억': 9862, '영별': 9863, '물밀': 9864, '자위': 9865, '뒤안': 9866, '똑같이': 9867, '용정': 9868, '고향집': 9869, '소사': 9870, '범위': 9871, '만간': 9872, '잡념': 9873, '금자': 9874, '갯벌': 9875, '재석': 9876, '희석': 9877, '삼총사': 9878, '어렴풋': 9879, '구고': 9880, '정유': 9881, '요승': 9882, '직진': 9883, '모루': 9884, '듄': 9885, '냥를': 9886, '유저': 9887, '일구': 9888, '낙타': 9889, '콧구멍': 9890, '햇네': 9891, '과적': 9892, '악심': 9893, '고의적': 9894, '뜨리것': 9895, '구상': 9896, '나바': 9897, '스첫': 9898, '진원지': 9899, '대략': 9900, '하에': 9901, '가위': 9902, '질량': 9903, '조동아리': 9904, '신경외과': 9905, '다문': 9906, '라믄': 9907, '고일': 9908, '씯': 9909, '어주': 9910, '동구': 9911, '깊엇': 9912, '턱': 9913, '랍습': 9914, '무궁무진': 9915, '샤이민': 9916, '내부': 9917, '트캠프': 9918, '옥상': 9919, '스노우': 9920, '버루': 9921, '보앗': 9922, '나다니엘': 9923, '갈비뼈': 9924, '부러지': 9925, '멍들': 9926, '붕대': 9927, '자영업': 9928, '령': 9929, '긋긋': 9930, '묻젊': 9931, '총수': 9932, '출혈': 9933, '사설': 9934, '스키': 9935, '경각심': 9936, '잘보앗어': 9937, '이벤트': 9938, '호라이': 9939, '스샘': 9940, '등록': 9941, '연임': 9942, '냨': 9943, '몽롱': 9944, '나신': 9945, '스캇': 9946, '세실': 9947, '만분': 9948, '면박': 9949, '싸줄': 9950, '깜빡하': 9951, '커스': 9952, '어슬프': 9953, '사이즈': 9954, '이예': 9955, '현학적': 9956, '안성': 9957, '화장': 9958, '즈음': 9959, '돌진': 9960, '황당': 9961, '뷴': 9962, '영악': 9963, '책받침': 9964, '천은': 9965, '명함': 9966, '특가': 9967, '을숲': 9968, '개로': 9969, '유전자': 9970, '도축': 9971, '대항': 9972, '축산': 9973, '업계': 9974, '그새': 9975, '닭백숙': 9976, '비틀거리': 9977, '왔다갔다': 9978, '싸지르': 9979, '케네디': 9980, '마욧같은주': 9981, '엑소': 9982, '지짜': 9983, '윤영': 9984, '정연': 9985, '디에이': 9986, '유도': 9987, '치르': 9988, '미친놈': 9989, '파견': 9990, '차오르': 9991, '명단': 9992, '관료': 9993, '말씀드리': 9994, '밌믄': 9995, '중독성': 9996, '섭이': 9997, '중독자': 9998, '총망라': 9999, '최강자': 10000, '결집': 10001, '징크스': 10002, '횐': 10003, '중립적': 10004, '인위적': 10005, '게눈': 10006, '선하': 10007, '작지': 10008, '좌편': 10009, '대쪽': 10010, '도미': 10011, '성역': 10012, '김광주': 10013, '북조선': 10014, '노동당': 10015, '부서': 10016, '죠북': 10017, '국방력': 10018, '무너뜨리': 10019, '고만': 10020, '노태': 10021, '좌익': 10022, '각정': 10023, '을써': 10024, '협정': 10025, '받아내': 10026, '보상금': 10027, '재건': 10028, '빼박팩': 10029, '원피스': 10030, '어정쩡': 10031, '재미없스': 10032, '짤르': 10033, '독자': 10034, '알뜰': 10035, '액기': 10036, '스적': 10037, '불모지': 10038, '심그': 10039, '새삼': 10040, '배급소': 10041, '낚엿': 10042, '해유': 10043, '딴쓰': 10044, '프리미엄': 10045, '퉷': 10046, '주둥아리': 10047, '충과': 10048, '인격적': 10049, '먼트': 10050, '줄타기': 10051, '직무': 10052, '초록색': 10053, '노란색': 10054, '단색': 10055, '간촐하': 10056, '보명': 10057, '회랑': 10058, '시편': 10059, '진흥': 10060, '미진': 10061, '터놓': 10062, '맛없': 10063, '활동': 10064, '한어': 10065, '명망가': 10066, '토대': 10067, 'ㄴ즉': 10068, '애송이': 10069, '예술성': 10070, '합체': 10071, '화학': 10072, '롱런': 10073, '어여': 10074, '신입': 10075, '돈투자한거잖아': 10076, '예이': 10077, '암흑기': 10078, '일본국': 10079, '께을': 10080, '끄나풀': 10081, '선글라스': 10082, '프랑스어': 10083, '중성': 10084, '감미롭': 10085, '메기': 10086, '즐비': 10087, '일병': 10088, '르크': 10089, '복원': 10090, '최하점': 10091, '나살': 10092, '동영상': 10093, '아르미': 10094, '후비': 10095, '나사': 10096, '계단': 10097, '햇볕': 10098, '쬐': 10099, '제압': 10100, '요희': 10101, '다당': 10102, '한복판': 10103, '탄창': 10104, '갈고': 10105, '더군': 10106, '뎅엽': 10107, '가초': 10108, '동전': 10109, '양면성': 10110, '헤매': 10111, '터뜨리': 10112, '빠빈': 10113, '켯으': 10114, '점에': 10115, '숙연': 10116, '얄': 10117, '수해': 10118, '유기': 10119, '물질': 10120, '전실': 10121, '트페': 10122, '나빠지': 10123, '영장': 10124, '그럴싸하': 10125, '은걸요': 10126, '참극': 10127, '부잣집': 10128, '세밀': 10129, '기똥차': 10130, '선샤': 10131, '인스턴트': 10132, '길들': 10133, '이야깃거리': 10134, '텍팅': 10135, '짐작': 10136, '가브': 10137, '리엘': 10138, '손목': 10139, '육체': 10140, '정설': 10141, '수채': 10142, '사실혼': 10143, '거려': 10144, '탈탈': 10145, '자의식': 10146, '상투': 10147, '적이면': 10148, '낭만적': 10149, '아르': 10150, '황금기': 10151, '에로틱': 10152, '지향': 10153, '낭독': 10154, '간고': 10155, '즉흥': 10156, '퀄를': 10157, '상업적': 10158, '촉망': 10159, '유의미': 10160, '씨줄': 10161, '날줄': 10162, '얽히': 10163, '키아': 10164, '껀수': 10165, '주왜': 10166, '유열': 10167, '장에': 10168, '무신': 10169, '배팅': 10170, '노년': 10171, '반평생': 10172, '부유': 10173, '청혼': 10174, '기뻐하': 10175, '아사이': 10176, '미망인': 10177, '꼬박꼬박': 10178, '진작에': 10179, '손절하': 10180, '편배': 10181, '라뇨': 10182, '돌려받': 10183, '주사기': 10184, '무보수': 10185, '토로': 10186, '야인': 10187, '제해': 10188, '선지': 10189, '봐라': 10190, '블레': 10191, '멀미': 10192, '뉴트': 10193, '간절바래': 10194, '선유': 10195, '뒤바뀌': 10196, '탄식': 10197, '학도': 10198, '실패자': 10199, '돌아왔구나김래원': 10200, '짜장면': 10201, '천원': 10202, '후루룩': 10203, '일체': 10204, '호각': 10205, '맛나': 10206, '버무러': 10207, '간파': 10208, '스튜디오': 10209, '행인': 10210, '벅에': 10211, '휴일': 10212, '헵번': 10213, 'ㄴ에': 10214, '모욕감': 10215, '은가요': 10216, '재상': 10217, '영하': 10218, '토비': 10219, '편집증': 10220, '다시없': 10221, '사용료': 10222, '지면': 10223, '염치없': 10224, '움츠리': 10225, '포지티브': 10226, '용어': 10227, '어브': 10228, '은인': 10229, '담력': 10230, '다구': 10231, '울트라': 10232, '수영': 10233, '승차': 10234, '라돈': 10235, '성애': 10236, '건과': 10237, '온캐': 10238, '온포': 10239, '방어': 10240, '우윤': 10241, '관허': 10242, '닫결': 10243, '렁': 10244, '을께요': 10245, '만덕': 10246, '지덕': 10247, '대청': 10248, '군벌': 10249, '귀뚜라미': 10250, '맹목적': 10251, '집행': 10252, '잡거': 10253, '나해': 10254, '작완': 10255, '만끽': 10256, '문짝': 10257, '헛': 10258, '구역질': 10259, '죽여주': 10260, '미미': 10261, '차치': 10262, '굴러가': 10263, '수리': 10264, '수리업': 10265, '중남미': 10266, '해본': 10267, '도입': 10268, '조그마': 10269, '망토': 10270, '쥐어박': 10271, '면한': 10272, '자릿': 10273, '특인트': 10274, '기중': 10275, '성규': 10276, '쯩': 10277, '정철': 10278, '이암': 10279, '초보자': 10280, '사안': 10281, '여지껏': 10282, '코스트': 10283, '노웨': 10284, '앵무새': 10285, '기준치': 10286, '만쌉': 10287, '구니': 10288, '부흥': 10289, '들어서': 10290, '필요성': 10291, '수만': 10292, '이직': 10293, '운전자': 10294, '기둥': 10295, '장전': 10296, '어버': 10297, '연명': 10298, '연감': 10299, '망쳐놓': 10300, '헉헉거리': 10301, '고흥': 10302, '수렴': 10303, '중핵': 10304, '학년': 10305, '쏠리': 10306, '을라': 10307, '자네': 10308, '이글이글': 10309, '정비': 10310, '퍼니': 10311, 'ㅑ': 10312, '야양': 10313, '호연': 10314, '전망': 10315, '구역': 10316, '싸매': 10317, '던요': 10318, '화적당': 10319, '둘러대': 10320, '와인': 10321, '간적': 10322, '관능': 10323, '위악': 10324, '하네료': 10325, '랄랄랄': 10326, '끌어내리': 10327, '왕창': 10328, '쉽쥬': 10329, '랑그': 10330, '만만': 10331, '감원': 10332, '노랑': 10333, '음기': 10334, '머스': 10335, '눈치보': 10336, '산책': 10337, '득인': 10338, '낙하산': 10339, '겔': 10340, '흩어지': 10341, '날아오': 10342, '매시간': 10343, '조작설': 10344, '맹점': 10345, '함거': 10346, '투브': 10347, '소환': 10348, '즈다': 10349, '큰길': 10350, '야샤': 10351, '계세': 10352, '의사회': 10353, '호모': 10354, '시재': 10355, '확률': 10356, '재조명': 10357, '킨스': 10358, '경찰서': 10359, '판정': 10360, '에계': 10361, '간를': 10362, '호오': 10363, '진입': 10364, '반발심': 10365, '혈안': 10366, '외려': 10367, '뱀파이어': 10368, '중등': 10369, '짭것': 10370, '가람': 10371, '기아': 10372, '배달원': 10373, '독가스': 10374, '가든': 10375, '고효율': 10376, '뒷맛': 10377, '개운': 10378, '꺌': 10379, '헐리웃': 10380, '발버둥': 10381, '남아나': 10382, '살인범': 10383, '러브레터': 10384, '팬클럽': 10385, '지상주의': 10386, '비판하는거잖아': 10387, '성희롱': 10388, '이랬으': 10389, '늬': 10390, '드릅': 10391, '게재': 10392, '없엉': 10393, '긍': 10394, '적적': 10395, '담벼락': 10396, '도않': 10397, '몽둥이': 10398, '자루': 10399, '참내': 10400, '접목': 10401, '전등': 10402, '터닝': 10403, '위법': 10404, '몰아내': 10405, '독서실': 10406, '장호': 10407, '황량': 10408, '통영': 10409, '퉁이': 10410, '일그리': 10411, '도난': 10412, '트한': 10413, '채원': 10414, '저쩌': 10415, '주안': 10416, '본심': 10417, '진전': 10418, '불량배': 10419, '나거': 10420, '수용': 10421, '방대': 10422, '등제': 10423, '총평': 10424, '아미타불': 10425, '관세음': 10426, '박멸': 10427, '진행형': 10428, '원가': 10429, '랑에': 10430, '연시': 10431, '살아잇다잖': 10432, '장엄': 10433, '뜨뜨': 10434, '가솔': 10435, '학': 10436, '변해': 10437, '뒷돈': 10438, '뜯어고치': 10439, '다시피': 10440, '제약': 10441, '척척': 10442, '산성': 10443, '발진': 10444, '각응': 10445, '그레': 10446, '타거': 10447, '고구매': 10448, '웃ㅇ': 10449, '옴니': 10450, '음각': 10451, '파브': 10452, '보기좋': 10453, '지앵': 10454, '고문': 10455, '비법': 10456, '남매': 10457, '검사역': 10458, '크루': 10459, '크루소': 10460, '리우드': 10461, '무스': 10462, '틈타': 10463, '안식': 10464, '청아': 10465, '쟤네가': 10466, '공포심': 10467, '선신': 10468, '게시판': 10469, '연호': 10470, '주진': 10471, '알알이': 10472, '활보': 10473, '임우': 10474, '달리지': 10475, '총대': 10476, '남경': 10477, '주주': 10478, '부딪히': 10479, '여담': 10480, '도인': 10481, '방향성': 10482, '쩃': 10483, '넘허': 10484, '차인': 10485, '지울려': 10486, '가상현실': 10487, '격세지감': 10488, '차후': 10489, '물리': 10490, '수학': 10491, '호기심': 10492, '뭏': 10493, '에안': 10494, '악마에왕이로': 10495, '달도': 10496, '케빈스페': 10497, '유주': 10498, '일등': 10499, '유토': 10500, '항구': 10501, '추리물': 10502, '명탐정': 10503, '블랑': 10504, '낯': 10505, '서인': 10506, '한화': 10507, '원임': 10508, '시설': 10509, '큰아이': 10510, '엄연': 10511, '불장난': 10512, '아마추어': 10513, '메달': 10514, '복서': 10515, '혈기': 10516, '이기기': 10517, '처하': 10518, '나루': 10519, '토신': 10520, '때때로': 10521, '불공': 10522, '말거': 10523, '접아': 10524, '휘황찬란': 10525, '동식물': 10526, '네이비': 10527, '구연': 10528, '아사': 10529, '알갱이': 10530, '알까기': 10531, '구체적': 10532, '역란': 10533, '후다': 10534, '후딱후딱': 10535, '뎃': 10536, '웬수': 10537, '한기': 10538, '디저트': 10539, '스카시': 10540, '쉐이프': 10541, '워터': 10542, '편차': 10543, '선정': 10544, '각설': 10545, '인구': 10546, '옄': 10547, '반기': 10548, '희망차': 10549, '바로잡': 10550, '잔당': 10551, '좌지우지': 10552, '뜻있': 10553, '고저': 10554, '을보': 10555, '유가족': 10556, '생존자': 10557, '박차': 10558, '쌉명': 10559, '매너': 10560, '넘버': 10561, '요러': 10562, '기산': 10563, '중시': 10564, '불의': 10565, '오징어': 10566, '네이팜': 10567, '새소리': 10568, '거미': 10569, '도마뱀': 10570, '몰려가': 10571, '사무엘': 10572, '펠': 10573, '광선': 10574, '검대': 10575, '빼어나': 10576, '콘텐츠': 10577, '윌슨': 10578, '으니깐': 10579, '주연급': 10580, '다다미': 10581, '주되': 10582, '올림': 10583, '늦었': 10584, '사자후': 10585, '을그': 10586, '집구': 10587, '순경': 10588, '지금껏': 10589, '놀리': 10590, '가슴앓이': 10591, '사색': 10592, '부녀': 10593, '퀴즈': 10594, '낭': 10595, '넘이쁘': 10596, '제였': 10597, '어하': 10598, '그라스': 10599, '의총': 10600, '술병': 10601, '승무원': 10602, '양보': 10603, '고락': 10604, '수명': 10605, '우월': 10606, '겅겅': 10607, '생가': 10608, '재정비': 10609, '가씩': 10610, '심기': 10611, '농촌': 10612, '시멘트': 10613, '서이': 10614, '다빼': 10615, '천개': 10616, '는지라': 10617, '상반기': 10618, '같애총': 10619, '돌머리': 10620, '입문': 10621, '군부': 10622, '후예': 10623, '통닭': 10624, '직이': 10625, '남과': 10626, '잠입': 10627, '랍시': 10628, '행이': 10629, '무진장': 10630, '의분': 10631, '재적': 10632, '잘해야': 10633, '변형': 10634, '사족': 10635, '시들시들': 10636, '감상자': 10637, '고행': 10638, '부구': 10639, '욷굳굳': 10640, '남근': 10641, '우물가': 10642, '덩달': 10643, '여과': 10644, '발랄': 10645, '지긋이': 10646, '보아주': 10647, '지성인': 10648, '품격': 10649, '다운로드': 10650, '트로라': 10651, '키워드': 10652, '마라톤': 10653, '건우': 10654, '익알': 10655, '다독': 10656, '재의': 10657, '따분': 10658, '째보': 10659, '웨인': 10660, '읍': 10661, '순진무구': 10662, '간접적': 10663, '싹둑싹둑': 10664, '북해도': 10665, '희와쥰': 10666, '결함': 10667, '재확인하': 10668, '빛이': 10669, '엘리제': 10670, '남극': 10671, '탕스': 10672, '미덕': 10673, '동서양': 10674, '가새': 10675, '불사': 10676, '래봅': 10677, '이있': 10678, '점두': 10679, '면허': 10680, '매료': 10681, '크레이': 10682, '클로드': 10683, '놓치맙': 10684, '받히': 10685, '방안': 10686, '코끼리': 10687, '끄집어내': 10688, '부름': 10689, '수송선': 10690, '기뢰': 10691, '스프': 10692, '생활상': 10693, '색체': 10694, '배경대': 10695, '사찰지': 10696, '삭감': 10697, '과외': 10698, '집에': 10699, '라지': 10700, '공들': 10701, '이국': 10702, '다좋': 10703, '나란': 10704, '수혜자': 10705, '비탄': 10706, '버리에': 10707, '증감': 10708, '플럭스': 10709, '고질병': 10710, '어원': 10711, '첨가': 10712, '기왕': 10713, '썻으': 10714, '보일드': 10715, '인년': 10716, '전백': 10717, '다전': 10718, '차이점': 10719, '크기': 10720, '보내기': 10721, '댐': 10722, '당연시': 10723, '느걸': 10724, '의무': 10725, '지함': 10726, '료': 10727, '획일화': 10728, '법성': 10729, '폭행': 10730, '솜방망이': 10731, '가르': 10732, '진짜심멎이': 10733, '두가': 10734, '유영': 10735, '가탈': 10736, '출하': 10737, '블록': 10738, '을준': 10739, '거뜬': 10740, '샹': 10741, '정봉': 10742, '자타': 10743, '공인': 10744, '리넷플릭스': 10745, '뚜껑': 10746, '태블릿': 10747, '드느': 10748, '참말': 10749, '제에': 10750, '채소': 10751, '반증': 10752, '킁': 10753, '개화': 10754, '전시': 10755, '연봉': 10756, 'ㅌㅋ': 10757, '챕터': 10758, '불필요하': 10759, '굳설': 10760, '국어책': 10761, '으앵': 10762, '설이': 10763, 'ㅋ으': 10764, '조흔': 10765, '가전체': 10766, '배꼽': 10767, '발도': 10768, '살기': 10769, '산사': 10770, '캐묻': 10771, '군바리': 10772, '깍이': 10773, '라이플': 10774, '인플레': 10775, '다니까': 10776, '따오': 10777, '간격': 10778, '대수롭': 10779, '수면': 10780, '끄집': 10781, '전파': 10782, '기허': 10783, '세만': 10784, '덧입히': 10785, '다니요': 10786, '유천': 10787, '딜레마': 10788, '저러하': 10789, '수뢰': 10790, '바이': 10791, '시티': 10792, '창의력': 10793, '유출': 10794, '오죽하': 10795, '고정': 10796, '황룡': 10797, '박재': 10798, '눈물짓': 10799, '주도': 10800, '두통': 10801, '통찰': 10802, '수사물': 10803, '희열감': 10804, '주류': 10805, 'ㅠㅠㅜ': 10806, '이단': 10807, '폐해': 10808, '빨래': 10809, '갤려': 10810, '일자리': 10811, '로보트': 10812, '떠가': 10813, '흩뿌리': 10814, '체리': 10815, '쾌거': 10816, '세아': 10817, '재다': 10818, '무근거': 10819, '적격': 10820, '백번': 10821, '냉소': 10822, '회색': 10823, '초상화': 10824, '국빠': 10825, '매안': 10826, '대망': 10827, '소림': 10828, '축구': 10829, '문제자': 10830, '놔주': 10831, '콩트': 10832, '돌변': 10833, '둘리': 10834, '중점적': 10835, '부여잡': 10836, '하마': 10837, '눈도': 10838, '깜박이': 10839, '이윤': 10840, '삼키': 10841, '쵝': 10842, '옵니다': 10843, '단조': 10844, '몰리': 10845, '삽입곡': 10846, '도일': 10847, '가묘': 10848, '고굉': 10849, '통속': 10850, '깨보': 10851, '정근': 10852, '위원회': 10853, '정체불명': 10854, '세금': 10855, '삥땅': 10856, '날수': 10857, '양은': 10858, 'ㅠㅋ': 10859, '작대기': 10860, '어황': 10861, '먼가ㅠ아이': 10862, '삼촌': 10863, '덜머리': 10864, '잔인성': 10865, '아이즈': 10866, '메카닉': 10867, '에잉이게뭐': 10868, '임ㅉ': 10869, '케': 10870, '닼ㅋ': 10871, '외계': 10872, '헬멧': 10873, '뒷산': 10874, '등산가': 10875, '야다시': 10876, '이방인': 10877, '한들': 10878, '상주': 10879, '가외': 10880, '뭐투캅스나이거': 10881, '쿠로': 10882, '득점': 10883, '공해': 10884, '일직': 10885, '관련자': 10886, '사표': 10887, '하셈': 10888, '야심': 10889, '지끈거리': 10890, '단출': 10891, '정립': 10892, '절벽': 10893, '대갈통': 10894, '제식': 10895, '거탄': 10896, '정신력': 10897, '사법': 10898, '솔스': 10899, '인스': 10900, '헿헿헿헿': 10901, '매개체': 10902, '적로': 10903, '고전주의': 10904, '바로크': 10905, '명화': 10906, '직감': 10907, '우회': 10908, '관람자': 10909, '철갑': 10910, '고정관념': 10911, '직제': 10912, '에이즈': 10913, '슬슬': 10914, '푸나': 10915, '무력감': 10916, '기성': 10917, '이푼': 10918, '다긴': 10919, '래서': 10920, '소품': 10921, '감별': 10922, '축약': 10923, '비추하': 10924, '버젼': 10925, '우스': 10926, '만에': 10927, '진창': 10928, '넙치': 10929, '맺며': 10930, '모델': 10931, '엉키': 10932, '돈방석': 10933, '쪼금': 10934, '상이': 10935, '늘씬': 10936, '자제': 10937, '인간관계': 10938, '애플': 10939, '문가': 10940, '비성': 10941, '예민': 10942, '알현': 10943, '삼대': 10944, '현혹': 10945, '배기': 10946, '넘어오': 10947, '얕잡': 10948, '분수지': 10949, '갈팡질팡': 10950, '네네': 10951, '드라이브': 10952, '되찾': 10953, '쉽ㅠ': 10954, '트롯': 10955, '배상금': 10956, '선계': 10957, '유족': 10958, '마음놓': 10959, '받들': 10960, '해병대': 10961, '교관': 10962, '수개': 10963, '망보': 10964, '사랑가': 10965, '은방울꽃': 10966, '노랗': 10967, '바람나': 10968, '대서양': 10969, '마르티': 10970, '여하튼': 10971, '침울': 10972, '니야': 10973, '이창동': 10974, '복병': 10975, '미묘': 10976, '지돈': 10977, '빠로': 10978, '추정': 10979, '현직': 10980, '임상': 10981, '병리사': 10982, '보화': 10983, '업그레이드': 10984, '렉스': 10985, '워싱턴': 10986, '후광': 10987, '더하기': 10988, '축산업': 10989, '생선': 10990, '우유': 10991, '툽': 10992, '헬스': 10993, '빙산': 10994, '일각': 10995, '소비자': 10996, '권좌': 10997, '헌법': 10998, '사회주의': 10999, '주르륵': 11000, '댄싱': 11001, '스무스': 11002, '루시': 11003, '렌트': 11004, '핀트': 11005, '폭력배': 11006, '메가': 11007, '스노': 11008, '답월': 11009, '통증': 11010, '봤엇': 11011, '대년': 11012, '떠밀리': 11013, '요상': 11014, '팝송': 11015, '삐삐': 11016, '공중전화': 11017, '규목': 11018, '그래이': 11019, '같애요': 11020, '독전': 11021, '요물': 11022, '넘아': 11023, '뜨겁너': 11024, '하등': 11025, '뒤돌아보': 11026, '지척': 11027, '내레이션': 11028, '바로미터': 11029, '희풋': 11030, '쓸어버리': 11031, '오락가락': 11032, '타이트': 11033, '에아쉽': 11034, '아아': 11035, '동선': 11036, '이해력': 11037, '호스': 11038, '욘': 11039, '영이': 11040, '형제간': 11041, '프롬': 11042, '벼': 11043, '빈부': 11044, '격차': 11045, '트로피': 11046, '황색': 11047, '파종': 11048, '북종': 11049, '진성': 11050, '느거빡': 11051, '건성': 11052, '어떡하': 11053, '스에': 11054, '넘가': 11055, '동적': 11056, '화류계': 11057, 'ㄴ지요': 11058, '시거에': 11059, '꽂신': 11060, '사계절': 11061, '나네요너무링됬어': 11062, '덩그러': 11063, '선보': 11064, '반열': 11065, '소드': 11066, '사과드리': 11067, '장대': 11068, '표독': 11069, '암만': 11070, '일벌': 11071, '덜덜이': 11072, '미사일': 11073, '종말': 11074, '기출': 11075, '부들부들': 11076, '추천요': 11077, '데자채우래': 11078, '패배자': 11079, '스즈': 11080, '소실': 11081, '의역': 11082, '분지': 11083, '팽': 11084, '행진곡': 11085, '과찬': 11086, '마디아': 11087, '의복': 11088, '임진왜란': 11089, '징비록': 11090, '걸르': 11091, '부채': 11092, '거절': 11093, '쫘악': 11094, '금융인': 11095, '증권': 11096, '경제인': 11097, '탐욕': 11098, '닷컴': 11099, '초의': 11100, '증권계': 11101, '서브': 11102, '쥐뿔': 11103, '부스러기': 11104, '보고뭐': 11105, '등쳐먹': 11106, 'ㄹ새': 11107, '뎁김': 11108, '수일': 11109, '기겁': 11110, '나어': 11111, '발악': 11112, '다나만': 11113, '읍지': 11114, '장려': 11115, '하경': 11116, '매출': 11117, '연해': 11118, '간증': 11119, '편들': 11120, '무덤': 11121, '물길': 11122, '소점': 11123, '깍아내리': 11124, '거로': 11125, '다같이': 11126, '만능': 11127, '아담스': 11128, '철용': 11129, '사탄': 11130, '더리': 11131, '려구요': 11132, '장내': 11133, '발언권': 11134, '내분': 11135, '비계': 11136, '대생': 11137, '안의': 11138, '마술': 11139, '졸라': 11140, '어보': 11141, '맥시': 11142, '세로': 11143, '소도시': 11144, '도흔': 11145, '매조': 11146, '전지전능': 11147, '수조': 11148, '따발총': 11149, '든든': 11150, '황당무계': 11151, '진경': 11152, '김영희': 11153, '이언': 11154, '전자': 11155, '오호': 11156, '우매': 11157, '합법': 11158, '전화질': 11159, '짱짱': 11160, '해산': 11161, '어영부영': 11162, '요여': 11163, '그래': 11164, '차별적': 11165, '기울어지': 11166, '운동장': 11167, '감수성': 11168, '당제': 11169, '나모': 11170, '심호흡': 11171, '야도': 11172, '인용': 11173, '무용지물': 11174, '무명': 11175, '각에': 11176, '왜말': 11177, '채워진': 11178, '욍': 11179, '월요일': 11180, '요긴': 11181, '특공': 11182, '쓸리': 11183, '칠면조': 11184, '아작': 11185, '샤론': 11186, '즈가': 11187, '브레드': 11188, '가조': 11189, '수석': 11190, '다생': 11191, '낙태': 11192, '통틀': 11193, '성중': 11194, '편의점': 11195, '전액': 11196, '중당': 11197, '그때그때': 11198, '떠먹이': 11199, '쇳조각': 11200, '경정': 11201, '장난감': 11202, '너머': 11203, '생의': 11204, '원초적': 11205, '줌인': 11206, '가촌': 11207, '곁가지': 11208, '칼라': 11209, '췌': 11210, '준군인': 11211, '도등': 11212, '크흠': 11213, '트리플': 11214, '프런티어': 11215, '쌉고퀄': 11216, '유통비': 11217, '떄려': 11218, '퐐': 11219, '진일보': 11220, '벌떡': 11221, '로스': 11222, '풀타임': 11223, '앨리스': 11224, '일요': 11225, '일용': 11226, '자유분방': 11227, '레몬': 11228, '사탕': 11229, '기소': 11230, '법인': 11231, '부풀': 11232, '주조': 11233, '휴영': 11234, '홰': 11235, '단합': 11236, '많하': 11237, '헛소리': 11238, '땍': 11239, '로터': 11240, '보편적': 11241, '쏴아': 11242, '앜': 11243, '귀가': 11244, '강인': 11245, '맞서기': 11246, '한성': 11247, '현임': 11248, '재야': 11249, '시월': 11250, '개구리': 11251, '확정적': 11252, '뜨솬': 11253, '언냐': 11254, '세가지': 11255, '원회': 11256, '상향': 11257, '추앙': 11258, '대표': 11259, '다탕': 11260, '말씀하': 11261, '박명수': 11262, '어록': 11263, '굶주림': 11264, '실천': 11265, '문과': 11266, '가져다주': 11267, '검들': 11268, '호퍼': 11269, '머뭇거리': 11270, '광신도': 11271, '더듬': 11272, '거지꼴': 11273, '경제가': 11274, '추행': 11275, '그쪽': 11276, '외딴': 11277, '없넹': 11278, '고영': 11279, '봄날': 11280, '딸년': 11281, '유전병': 11282, '고해': 11283, '누란': 11284, '찜찜': 11285, '홀가분': 11286, '화제': 11287, '이사이': 11288, '메우': 11289, '유입': 11290, '그물망': 11291, '의주': 11292, '축': 11293, '총공격': 11294, '재결합': 11295, '마주': 11296, '스테르': 11297, '이인상': 11298, '집이': 11299, '사하': 11300, '숨쉬기': 11301, '대원': 11302, '꼬으': 11303, '트위스트': 11304, '꽈배기': 11305, '풋내기': 11306, '쥐색': 11307, '다심': 11308, '욀캐': 11309, '주루룩': 11310, '서적': 11311, '이와': 11312, '실실': 11313, '훈연': 11314, '기정': 11315, '악하': 11316, '지존': 11317, '참개': 11318, '관상': 11319, '더킹': 11320, '하전': 11321, '여리': 11322, '인자': 11323, '몰락': 11324, '밑그림': 11325, '원생': 11326, '고색': 11327, '피카소': 11328, '입거': 11329, '한류': 11330, '뷰어': 11331, '민원': 11332, '사려': 11333, '상어': 11334, '중수': 11335, '기시': 11336, '이족': 11337, '구왕': 11338, '비행선': 11339, '전투복': 11340, '증발': 11341, '넉': 11342, '분무기': 11343, '이기심': 11344, '반인': 11345, '상대편': 11346, '거상': 11347, '관도': 11348, '원공': 11349, '많곸': 11350, '간접': 11351, '쩌넼': 11352, '신물': 11353, '전극': 11354, '넥': 11355, '말미': 11356, '구태여': 11357, '고상': 11358, '무계획': 11359, '귀결': 11360, '몰랑': 11361, '이산': 11362, '요같이': 11363, '수보': 11364, '불가사의': 11365, '뒷목': 11366, '이탄': 11367, '쓰레기통': 11368, '냉장고': 11369, '마늘': 11370, '내신': 11371, '원망': 11372, '브루스': 11373, '달팽이': 11374, '노답': 11375, '고답': 11376, '진개': 11377, '꽃피': 11378, '일동': 11379, '헤르페스': 11380, '감염': 11381, '합리화하': 11382, '초년생': 11383, '나잇살': 11384, '성진': 11385, '그리스': 11386, '뵤': 11387, '번뜩이': 11388, '몰아부치': 11389, '짜이': 11390, '처맞': 11391, '환불': 11392, '닠': 11393, '총오': 11394, '베풀': 11395, '고참': 11396, '기엽': 11397, '별의별': 11398, '럽게': 11399, '들뜨': 11400, '점안': 11401, '벙': 11402, '깞': 11403, '트랑스': 11404, '쇼핑백': 11405, '에바': 11406, '끝맺었고네그럴수밖': 11407, '보시구': 11408, '흐느낌': 11409, '위화감': 11410, '야대': 11411, '고판': 11412, '없슴디스': 11413, '했슴': 11414, '직격탄': 11415, '격하': 11416, '뭄': 11417, '감쪽같': 11418, '릭샤': 11419, '하수구': 11420, '토실토실': 11421, '살찌': 11422, '무질서': 11423, '한길': 11424, '리비아': 11425, '헤집': 11426, '진보': 11427, '가르기': 11428, '몰두': 11429, '극소수': 11430, '과부': 11431, '축척': 11432, '도추': 11433, '무능력': 11434, '악덕': 11435, '렇타': 11436, '이천': 11437, '희죽': 11438, '집도': 11439, '태평': 11440, '승혜': 11441, '지억': 11442, '지설': 11443, '목수': 11444, '독과': 11445, '추방': 11446, '정충': 11447, '버키': 11448, '조격': 11449, '억대': 11450, '이장': 11451, '자필': 11452, '살맛나': 11453, '헹글': 11454, '얼른봤숩니': 11455, '고충': 11456, '부끄러워하': 11457, '해물': 11458, '사진첩': 11459, '남상': 11460, '넘넘': 11461, '지하실': 11462, '여행자': 11463, '딕': 11464, '하민': 11465, '주당': 11466, '우울감': 11467, '셰에': 11468, '잔도': 11469, '유지가': 11470, '모피': 11471, '국감': 11472, '욯': 11473, '클레어': 11474, '사랑과': 11475, '연결고리': 11476, '내어놓': 11477, '읍시다': 11478, '하차': 11479, '근친': 11480, '인크': 11481, '가배': 11482, '크레': 11483, '나뭘': 11484, '케평': 11485, '선내': 11486, '퇴색': 11487, '음울': 11488, '숙면': 11489, '드이': 11490, '말구': 11491, '외인': 11492, '세공': 11493, '계열': 11494, '걸기대': 11495, '함봉': 11496, '재구': 11497, '다난': 11498, '금도': 11499, '헤드': 11500, '인선': 11501, '창출': 11502, '조가지': 11503, '배성': 11504, '씹간': 11505, '웃영화에': 11506, '신들리': 11507, '소망': 11508, '뭉클뭉클': 11509, '희연': 11510, '사스': 11511, '이태': 11512, '왜냐면': 11513, '오물': 11514, '쓰르': 11515, '쏘쏘': 11516, '다거': 11517, '쌉재밋': 11518, '봣엇': 11519, '튀기': 11520, '이음새': 11521, '임지': 11522, '다빠': 11523, '기운': 11524, '이슬': 11525, '빋': 11526, '어전': 11527, '총성': 11528, '나처': 11529, '보드': 11530, '라든지': 11531, '열등감': 11532, '뿌듯': 11533, '고야': 11534, '쎈캐': 11535, '한번더볼려고합니': 11536, 'ㅉㄲ': 11537, '양화': 11538, '인양': 11539, '항해': 11540, '스테': 11541, '대목': 11542, '고릿적': 11543, '각목': 11544, '거들뜨': 11545, '리터': 11546, '랑볼': 11547, '죠감': 11548, '기평': 11549, '오차': 11550, '자한': 11551, '상부': 11552, '지최': 11553, '회에': 11554, '떠나가': 11555, '나불대': 11556, '청원': 11557, '상냥': 11558, '심판': 11559, '잡을려': 11560, '횽': 11561, '사로': 11562, '에휴ㅉㅉ': 11563, '위안': 11564, '빠일': 11565, '고평': 11566, '꿋꿋': 11567, '구식': 11568, '포트폴리오': 11569, '교양': 11570, '난분': 11571, '딩동': 11572, '연하': 11573, '남주의': 11574, '넘웃': 11575, '린치': 11576, '부엽': 11577, '부상': 11578, '문광': 11579, '줄줄이': 11580, '금새': 11581, '습작': 11582, '거참': 11583, '웃에': 11584, '댔응션': 11585, '무의식': 11586, '쓰하': 11587, '쳤움': 11588, '감치': 11589, '쌉노': 11590, '꼬쇼ㅋ': 11591, '유난': 11592, '탄미': 11593, '도류': 11594, '대점': 11595, '경음악': 11596, '콜레라': 11597, '빼주': 11598, '두서': 11599, '상대방': 11600, '드레드': 11601, '개심': 11602, '만기': 11603, '기강': 11604, '금배': 11605, '유람': 11606, '승아': 11607, '그캐': 11608, '감상문': 11609, '써내': 11610, '주둔': 11611, '물품': 11612, '경제성': 11613, '치졸': 11614, '가죠': 11615, '본연': 11616, '라스트': 11617, '논술': 11618, '전전긍긍': 11619, '코끝': 11620, '한구석': 11621, '스맛': 11622, '계심': 11623, '하균': 11624, '총집': 11625, '분하': 11626, '다화': 11627, '통해': 11628, '굳인': 11629, '스피드': 11630, '증오': 11631, '유남': 11632, '편를': 11633, '자칭': 11634, '사로잡히': 11635, '심원': 11636, '간장': 11637, '거스르': 11638, '트라이': 11639, '헥': 11640, '대머리': 11641, '피조물': 11642, '모니카': 11643, '오너': 11644, '좋앜': 11645, '르렀': 11646, '쪽지': 11647, '잡치': 11648, '반이': 11649, '하씌': 11650, '변질': 11651, '야박': 11652, '둣': 11653, '혼동': 11654, '타임즈': 11655, '주간': 11656, '신라': 11657, '고구려': 11658, '바로바로': 11659, '훼': 11660, '동아줄': 11661, '공로상': 11662, '계속적': 11663, '이널려': 11664, '공수': 11665, '전가': 11666, '문제의식': 11667, '한국말': 11668, '감응': 11669, '주력': 11670, '해커': 11671, '한탕': 11672, '탈주': 11673, '보내주': 11674, '하물며': 11675, '오래기': 11676, '다린': 11677, '살생': 11678, '헥소': 11679, '꾸릿꾸릿': 11680, '숭유': 11681, '억불': 11682, '정책': 11683, '탄압': 11684, '인조': 11685, '먹는': 11686, '자유도': 11687, '민낯': 11688, '씹덕': 11689, '난씹': 11690, '다작': 11691, '지재': 11692, '언론인': 11693, '준의': 11694, '장담': 11695, '노회': 11696, '일범': 11697, '효력': 11698, '스트립': 11699, '정리함': 11700, '페즈': 11701, '부담감': 11702, '무르': 11703, '인민군': 11704, '유니': 11705, '쎄프': 11706, '빠순': 11707, '냄기': 11708, '항암': 11709, '단언': 11710, '거닐': 11711, '반성적': 11712, '한탄': 11713, '잔해': 11714, '연대기': 11715, '휴주': 11716, '되거임': 11717, '업데이트': 11718, '규제': 11719, '하감': 11720, '발군': 11721, '뎆': 11722, '집회': 11723, '그리워하': 11724, '반짝': 11725, '화평': 11726, '있시': 11727, '패밀리': 11728, '피명': 11729, '살해': 11730, '졔': 11731, '선두': 11732, '댕기': 11733, '이식': 11734, '수로': 11735, '트치': 11736, '이상재': 11737, '사노비': 11738, '비애': 11739, '말라야': 11740, '지향점': 11741, '되기': 11742, '애잔': 11743, '드벤': 11744, '털보': 11745, '왘ㅋ': 11746, '임년': 11747, '현희': 11748, '부러워하': 11749, '동경': 11750, '기준점': 11751, '일상적': 11752, '일언제': 11753, '남도': 11754, '연구소': 11755, '구닥다리': 11756, '석음': 11757, '법적': 11758, '분쟁': 11759, '저해': 11760, '선입': 11761, '악랄': 11762, '직선적': 11763, '하지': 11764, '누부': 11765, '박통': 11766, '총선': 11767, '정신적': 11768, '괴로웠': 11769, '엘리야': 11770, '주겁': 11771, '디딤돌': 11772, '영화냐ㅋ진심이': 11773, '별공': 11774, '끄럽': 11775, '할매': 11776, '별희': 11777, '개방적': 11778, '공산당': 11779, '검열': 11780, '잡혀가': 11781, '왕실': 11782, '드레': 11783, '퀘스': 11784, '본를': 11785, '저가': 11786, '없자': 11787, '웃영': 11788, '화들': 11789, '종결': 11790, '지하드': 11791, '디스크': 11792, '귀퉁이': 11793, '무심코': 11794, '이끌리': 11795, '별미': 11796, '세말': 11797, '존속': 11798, '갈증': 11799, '막대기야맞을려': 11800, '갈라': 11801, '깨끗': 11802, '초하': 11803, '하긴': 11804, '선점': 11805, '건수': 11806, '피어스': 11807, '홍어': 11808, '애니': 11809, '어쩌다가': 11810, '봄물': 11811, '피칠갑': 11812, '카우보이': 11813, '모순': 11814, '역사가': 11815, '언행': 11816, '꼭만나보고싶네': 11817, '로도': 11818, '난감': 11819, '플릭스얘넨': 11820, '브르스': 11821, '증인': 11822, '쐇': 11823, '마귀': 11824, '흘림': 11825, '장함': 11826, '불식': 11827, '잠재': 11828, '탐욕적': 11829, '퐝': 11830, '필생': 11831, '폴란드': 11832, '술집': 11833, '를넘': 11834, '고악': 11835, '울컥울컥': 11836, '얹혀살': 11837, '부탄가스': 11838, '지어먹': 11839, '부강': 11840, '에비': 11841, '나울': 11842, '원어': 11843, '창고': 11844, '려구': 11845, '고투': 11846, '자해': 11847, '생크': 11848, '교도소': 11849, '부르짖': 11850, '주은': 11851, '다가가': 11852, '바텐더': 11853, '짓거': 11854, '어별': 11855, '이분법': 11856, '경계선': 11857, '더기': 11858, '엄습': 11859, '학력자': 11860, '속성': 11861, '나눔': 11862, '중손': 11863, '애구하': 11864, '뛰어다니': 11865, '참교육': 11866, '므흣하다그러하': 11867, '성지': 11868, '올림픽': 11869, '보아하니': 11870, '각지': 11871, '에너': 11872, '핵에너지': 11873, '흉': 11874, '흉하': 11875, '소리야': 11876, '멍충이': 11877, '쌀쌀맞': 11878, '읉': 11879, '하염없이': 11880, '단무지': 11881, '후라': 11882, '건내주': 11883, '여지': 11884, '고랑': 11885, '넘었': 11886, '마함': 11887, '아베': 11888, '고담': 11889, '다서': 11890, '서글프': 11891, '빼오': 11892, '하넷플릭스가': 11893, '애도': 11894, '나같': 11895, '심벌': 11896, '자빠지': 11897, '허드슨': 11898, '부기장': 11899, '루쏘': 11900, '회유': 11901, '살랑살랑': 11902, '게딱지': 11903, '매진': 11904, '허물': 11905, '유명세': 11906, '늘이': 11907, '무정부': 11908, '쌩뚱': 11909, '뒙안': 11910, '기꺼이': 11911, '떨치': 11912, '강물': 11913, '원희': 11914, '기내': 11915, '왕따': 11916, '기피증': 11917, '친동생': 11918, '교통사고': 11919, '송두리채': 11920, '것을하': 11921, '이고': 11922, '수탈': 11923, '성노예': 11924, '을망정': 11925, '보복': 11926, '금지': 11927, '했어도': 11928, '순도': 11929, '뽀록': 11930, '비기': 11931, '적아': 11932, '무함': 11933, '과분': 11934, '븅': 11935, '야발': 11936, '스포있': 11937, '든를': 11938, '설령': 11939, '추적기': 11940, '관통': 11941, '에도다': 11942, '거사': 11943, '판매상': 11944, 'ㅁ세': 11945, '계관': 11946, '역학': 11947, '밈': 11948, '그라샤미쳤냐': 11949, '퀄에': 11950, '시루': 11951, '더러': 11952, '분여': 11953, '시더': 11954, '도복': 11955, '상한가': 11956, '선과': 11957, '잡아끌': 11958, '원시': 11959, '백과': 11960, '중구': 11961, '난방': 11962, '무력화': 11963, '가드': 11964, '휴캐': 11965, '에오': 11966, '유랑': 11967, '오유': 11968, '지파': 11969, '세계선': 11970, '만곡': 11971, '이면': 11972, '할보': 11973, '뒷이야기': 11974, '있거': 11975, '마음가짐': 11976, '음쓰': 11977, '툐': 11978, '유별나': 11979, '지야': 11980, '친정': 11981, '달래': 11982, '처다보': 11983, '왜화': 11984, '귀하': 11985, '줄곧': 11986, '월급': 11987, '진급': 11988, '서가': 11989, '참한': 11990, '행중': 11991, '하이드': 11992, '콩닥': 11993, '오프닝를': 11994, '밸런스': 11995, '티키': 11996, '갈대숲': 11997, '숙아': 11998, '군모': 11999, '잠항': 12000, '스탯': 12001, '유탄': 12002, '발사기': 12003, '반찬': 12004, '스임': 12005, '난자': 12006, '룩': 12007, '영자': 12008, '확고': 12009, '이사': 12010, '성웅': 12011, '이수': 12012, '벌집': 12013, '전화벨': 12014, '느긋': 12015, '만유': 12016, '똥줄': 12017, '소풍': 12018, '이필': 12019, '장로': 12020, '너드': 12021, '매칭': 12022, '찔리': 12023, '프로그램': 12024, '뿐이라는거잖': 12025, '최면': 12026, '박진': 12027, '거각': 12028, '단막': 12029, '공양': 12030, '쌉오': 12031, '없잖': 12032, '배부르': 12033, '챔피언': 12034, '박살내': 12035, '개수작': 12036, '띄우기': 12037, '하두': 12038, '봤엄': 12039, '매그': 12040, '객의': 12041, '폭포수': 12042, '유창': 12043, '하다못해': 12044, '영역': 12045, '평균치': 12046, '관정': 12047, '가라앉': 12048, '믿ㅐ': 12049, '맥이': 12050, '클릭': 12051, '당두': 12052, '데려오': 12053, '악녀': 12054, '똥칠': 12055, '재평가되': 12056, '심홍': 12057, '원아': 12058, '벅': 12059, '값하': 12060, '훌쩍이': 12061, '않되': 12062, '수백만': 12063, '통계': 12064, '스탈린': 12065, '손대': 12066, '국가적': 12067, '비호': 12068, '꼬꼬마': 12069, '군데군데': 12070, '겁쟁이': 12071, '자잘': 12072, '상편': 12073, '다름없': 12074, '벌렁벌렁': 12075, '베틀': 12076, '빼어': 12077, '보탬': 12078, '당사자': 12079, '멘붕': 12080, '총살': 12081, '지창': 12082, '불러대': 12083, '좀도둑질하': 12084, '오존': 12085, '루지': 12086, '감탄사': 12087, '영실': 12088, '신구': 12089, '본의': 12090, '기복': 12091, '턱턱': 12092, '신체': 12093, '여행가': 12094, '쁠': 12095, '우로': 12096, '기독교': 12097, '무국적': 12098, '소디': 12099, '효자': 12100, '가져가': 12101, '어두': 12102, '축축': 12103, '걷어내': 12104, '잣대': 12105, '국보급': 12106, '떼거지': 12107, '치도': 12108, '보군': 12109, '좃': 12110, '앙심': 12111, '조재': 12112, '사시': 12113, '찬고': 12114, '무리무리': 12115, '조력자': 12116, '얼핏': 12117, '누의': 12118, '형의': 12119, '로더': 12120, '식과': 12121, '맨몸': 12122, '영활': 12123, '덕성': 12124, '결여': 12125, '잠영': 12126, '간부': 12127, '트로이': 12128, '트스': 12129, '솟구치': 12130, '중다': 12131, '훈도': 12132, '경영진': 12133, '레이싱': 12134, '책임자': 12135, '명연': 12136, '장난질하': 12137, '매점': 12138, '비크': 12139, '드릴': 12140, '상현': 12141, '마법사': 12142, '폭죽': 12143, '나무토막': 12144, '급소': 12145, '영영': 12146, '기인': 12147, '플랙스': 12148, '좌충우돌': 12149, '부딪': 12150, '치트': 12151, '산탄총': 12152, '서서': 12153, '절명': 12154, '나똑': 12155, '먼데': 12156, '세고': 12157, '필요없다인랑급': 12158, '이다': 12159, '탄도': 12160, '참운': 12161, '처들': 12162, '거공': 12163, '정교': 12164, '온화': 12165, '싸움판': 12166, '끓어오르': 12167, '한방': 12168, '소만': 12169, '일본군': 12170, '난잡': 12171, '다영상': 12172, '강적': 12173, '기심': 12174, '대명': 12175, '바트': 12176, '여동생': 12177, '승자': 12178, '망나니': 12179, '낄낄': 12180, '트옵': 12181, '뺏어가': 12182, '쯧': 12183, '내손': 12184, '부엌': 12185, '수옥': 12186, '위의': 12187, '문장': 12188, '순은': 12189, '야밤': 12190, '웅배에': 12191, '겠구': 12192, '부조금': 12193, '납골당': 12194, '내장': 12195, '줸': 12196, '이권': 12197, '도당': 12198, '영웅시': 12199, '이퀄': 12200, '아마존': 12201, '불한당': 12202, '이세': 12203, '상제': 12204, '영감': 12205, '분아': 12206, '쾌하': 12207, '과인': 12208, '왕왕': 12209, '올레': 12210, '티비원': 12211, '햇님': 12212, '뚱뚱': 12213, '고고': 12214, '년에': 12215, '두세': 12216, '완벽성': 12217, '가두': 12218, '깨어': 12219, '어는': 12220, '드로': 12221, '소수점': 12222, '고분': 12223, '가살': 12224, '스캔': 12225, '용동': 12226, '화남': 12227, '불란서': 12228, '푸른': 12229, '정원': 12230, '수하': 12231, '목놓': 12232, '않을게얘들': 12233, '탈피': 12234, '클리프': 12235, 'ㄴ다네요': 12236, '을너': 12237, '전역': 12238, '켜': 12239, '쓰얼': 12240, '닼': 12241, '농익': 12242, '모지리': 12243, '시퀀스': 12244, '위산': 12245, '류만': 12246, '다말': 12247, '배우자': 12248, '채운': 12249, '밋는댕': 12250, '뚫음': 12251, '문세광': 12252, '이불': 12253, '킥': 12254, '해적': 12255, '식인': 12256, '반창': 12257, '양동': 12258, '열매': 12259, '사지': 12260, '내드리': 12261, '아동용': 12262, '조가': 12263, '몽땅': 12264, '넘나': 12265, '브들': 12266, '첫출발': 12267, '가노': 12268, '귀기울이': 12269, '장식': 12270, '웃이': 12271, '죠굳': 12272, '반올림': 12273, '각본가': 12274, '치진': 12275, '태양빛': 12276, '이교도': 12277, '숨김없': 12278, '우애': 12279, '지소': 12280, '더군다나': 12281, '의가': 12282, '감세': 12283, '비아': 12284, '곤욕': 12285, '이속': 12286, '공포증': 12287, '밌쉈': 12288, '섕': 12289, '브라질': 12290, '연재': 12291, '인정사정': 12292, '충분괝찮았어': 12293, '발기': 12294, '고품': 12295, '놀음': 12296, '낙담': 12297, '돈가방': 12298, '섭집': 12299, '시한': 12300, '멍하니': 12301, '피어나': 12302, '증익': 12303, '당최': 12304, '의장단': 12305, '타이탄': 12306, '불붙': 12307, '식은땀': 12308, '흘럿': 12309, '접어': 12310, '인멸': 12311, '목격자': 12312, '하루빨리': 12313, '서명': 12314, '이십': 12315, '다일': 12316, '오내': 12317, '킵하': 12318, '과폐': 12319, '쇠': 12320, '따라붙': 12321, '내뱉': 12322, '구과': 12323, '어쩐지': 12324, '작살내': 12325, '쥴': 12326, '카타르시스': 12327, '필수적': 12328, '초거대': 12329, '압승': 12330, '이태리': 12331, '군번': 12332, '나상': 12333, '편지': 12334, '선임': 12335, '관등': 12336, '성명': 12337, '금요일': 12338, '내무': 12339, '사열': 12340, '중대': 12341, '설문': 12342, '중대장': 12343, '하극상': 12344, '상병': 12345, '캠프': 12346, '평일': 12347, '실함': 12348, '총장': 12349, '침감': 12350, '대소재': 12351, '흥건': 12352, '멸망': 12353, '스콜': 12354, '변': 12355, '가연': 12356, '조마조마': 12357, '쪼그라들': 12358, '였쑴': 12359, '닷': 12360, '이등': 12361, '텐텐': 12362, '리때': 12363, '살리나': 12364, '우명': 12365, '쉿': 12366, '사요': 12367, '셐': 12368, '사살': 12369, '편협': 12370, '볼륨': 12371, '골목': 12372, '코쟁이': 12373, '놀라워하': 12374, '치과': 12375, '밀매': 12376, '꾼': 12377, '쩌리': 12378, '글르': 12379, '협의': 12380, '오무': 12381, '이스': 12382, '소형': 12383, '이사단': 12384, '바사삭': 12385, '집어치우': 12386, '점고': 12387, '노현': 12388, '엘리베이터': 12389, '외다': 12390, '썪었': 12391, '특앰': 12392, '런스': 12393, '시하': 12394, '위선': 12395, '끝장': 12396, '음침': 12397, '잦': 12398, '암암리': 12399, '잡갓': 12400, '달나라': 12401, '고비': 12402, '인의': 12403, '리바인': 12404, '아의': 12405, '도서관': 12406, '경적': 12407, '내오': 12408, '션장에': 12409, '가대': 12410, '유증': 12411, '완성되': 12412, '래본': 12413, '브라보': 12414, '죙': 12415, '족구': 12416, '장단점': 12417, '광구': 12418, '동리': 12419, '자부': 12420, '눈부심': 12421, '폭소': 12422, '지곳곳에': 12423, '부와': 12424, '부중': 12425, '주춤': 12426, '틈새': 12427, '공략': 12428, '가제목': 12429, '오산': 12430, '셔츠': 12431, '설계': 12432, '누군': 12433, '지정': 12434, '배아': 12435, '워크': 12436, '매초': 12437, '쉽분': 12438, '뵜': 12439, '이소스': 12440, '왕가': 12441, '양조': 12442, '채색': 12443, '페르소': 12444, '잔재주': 12445, '호쾌': 12446, '주요한': 12447, '서곡': 12448, '본론': 12449, '멧': 12450, '선구자': 12451, '근본적': 12452, '인원': 12453, '인인': 12454, '대별': 12455, '초래': 12456, '건어': 12457, '피식거리': 12458, '자본력': 12459, '썻냐': 12460, '챙피': 12461, '챙': 12462, '도달': 12463, '짭새': 12464, '결판': 12465, '목사': 12466, '불가지': 12467, '처연': 12468, '비대': 12469, '육중': 12470, '대거': 12471, '도핑': 12472, '자전차': 12473, '왕복': 12474, '하더': 12475, '발로': 12476, '주변국': 12477, '정세': 12478, '이로써': 12479, '탕탕': 12480, '환지': 12481, '문선명': 12482, '판결': 12483, '고립': 12484, '서술': 12485, '술기운': 12486, '환각': 12487, '증세': 12488, '느낌표': 12489, '딴것': 12490, '절레절레': 12491, '거두': 12492, '근간': 12493, '띠엄띠엄': 12494, '오래간만': 12495, '호크': 12496, '언자': 12497, '언트': 12498, '주책': 12499, '어째서': 12500, '회의감': 12501, '르트': 12502, '속모': 12503, '차르': 12504, '냐ㄷ': 12505, '멍하': 12506, '제이': 12507, '예매권': 12508, '당첨': 12509, '작연': 12510, '집중도': 12511, '굳기': 12512, '공장제': 12513, '식전': 12514, '유품': 12515, '탐하': 12516, '쫑': 12517, '공원': 12518, '귀머거리': 12519, '역사상': 12520, '미술가': 12521, '주업': 12522, '드럽게': 12523, '전일': 12524, '늦어지': 12525, '어마어마': 12526, '홍련': 12527, '시시비비': 12528, '낼모레': 12529, '신울': 12530, '의갖': 12531, '사고력': 12532, '맨들': 12533, '믄': 12534, '조현': 12535, '겠단': 12536, '후분': 12537, '종교인': 12538, '으란': 12539, '후대': 12540, '산소호흡기': 12541, '가신': 12542, '목걸이': 12543, '쓱': 12544, '연변': 12545, '도알': 12546, '뷁': 12547, '꾸멍': 12548, '무디': 12549, '이리저리': 12550, '각도': 12551, '배고프': 12552, '뒷통수': 12553, '말끔': 12554, '페르시아': 12555, '김희선': 12556, '전면': 12557, '현주': 12558, '성대': 12559, '결절': 12560, '겟아': 12561, '불사신': 12562, '멋쟁이': 12563, '세드': 12564, '내개': 12565, '부러': 12566, '고임': 12567, '파스타': 12568, '수갑': 12569, '교통': 12570, '집념': 12571, '알베르': 12572, '창의성': 12573, '배은망덕': 12574, '의료원': 12575, '응급실': 12576, '실금': 12577, '기미': 12578, '요로': 12579, '삥': 12580, '뜯': 12581, '특명': 12582, '이오': 12583, '사원': 12584, '슴다만': 12585, '노리스': 12586, '매트': 12587, '배워가': 12588, '점자': 12589, '억주': 12590, '삿': 12591, '범죄형': 12592, '멤버쉽': 12593, '를잘': 12594, '순수성': 12595, '험하': 12596, '횡': 12597, '막이': 12598, '오명': 12599, '저학년': 12600, '고식': 12601, '악영향': 12602, '회가': 12603, '라샤': 12604, '망친': 12605, '지휘': 12606, '다는못봣네': 12607, '공항': 12608, '세수': 12609, '도한': 12610, '떻': 12611, '억정': 12612, '후리': 12613, '역해': 12614, '찬양': 12615, '야기': 12616, '세계인': 12617, '지휘관': 12618, '경비': 12619, '되있': 12620, '감점': 12621, '맹이': 12622, '완결성': 12623, '씹상': 12624, '골르': 12625, '냅다': 12626, '그려지': 12627, '우와': 12628, '앞지르': 12629, '안드레': 12630, '백시': 12631, '짝짝': 12632, '행해지': 12633, '빼입': 12634, '경외': 12635, '은혜': 12636, '주심': 12637, '이중성': 12638, '즌': 12639, '큐브': 12640, '말분': 12641, '사류': 12642, '무참': 12643, '적시': 12644, '시부': 12645, '이싱': 12646, '메가폰': 12647, '제함': 12648, '장서': 12649, '배제': 12650, '원해': 12651, '됏': 12652, '오래전': 12653, '군납': 12654, '럭키': 12655, '미약': 12656, '도도': 12657, '좋자': 12658, '총기류': 12659, '주요인': 12660, '사내': 12661, '짭퉁': 12662, '선시': 12663, '원환': 12664, '어촌': 12665, '셀': 12666, '린느': 12667, '달려나가': 12668, '결벽증': 12669, '싸늘': 12670, '소나기': 12671, '레요': 12672, '정액': 12673, '두상': 12674, '인민': 12675, '군도': 12676, '연합군': 12677, '왜놈': 12678, '동족상잔': 12679, '매도': 12680, '거한': 12681, '맘이없엇나저따구': 12682, '붉은색': 12683, '불발': 12684, '비운': 12685, '폐륜': 12686, '휴머니스트': 12687, '씻기': 12688, '윤회': 12689, '하트': 12690, '몹시': 12691, '이론': 12692, '슬람': 12693, '에손': 12694, '랑비': 12695, '교당': 12696, '오이지': 12697, '대성': 12698, '빰빰빰': 12699, '견제': 12700, '되버': 12701, '상자': 12702, '내상': 12703, '롤러': 12704, '더비': 12705, '기상': 12706, '교본': 12707, '괄량이': 12708, '바이블': 12709, '재이': 12710, '옥죄': 12711, '적히': 12712, '판중': 12713, '위태': 12714, '성욕': 12715, '본액': 12716, '이커버': 12717, '이똥': 12718, '호동': 12719, '여쭈': 12720, '가시길': 12721, '흘러오': 12722, '마련': 12723, '햅': 12724, '다티': 12725, '여학생': 12726, '정당성': 12727, '앨렌': 12728, '페이지': 12729, '대실': 12730, '도우리': 12731, '지엇': 12732, '기생': 12733, '상태기': 12734, '만억': 12735, '날림': 12736, '쓰김': 12737, '후번': 12738, '합치': 12739, '거액': 12740, '오리지날': 12741, '양호': 12742, '융성': 12743, '영지': 12744, '받으랄': 12745, '고관': 12746, '단별': 12747, '나너': 12748, '무감동': 12749, '조정점': 12750, '복길': 12751, '나앉': 12752, '세서': 12753, '봉오동': 12754, '다실': 12755, '몹잡': 12756, '셋째': 12757, '천조': 12758, '초청': 12759, '떨어뜨리': 12760, '즌를': 12761, '엊그제': 12762, '사십': 12763, '봉두': 12764, '자탄': 12765, '희은': 12766, '호박': 12767, '끄야': 12768, '유역': 12769, '가심': 12770, '소생': 12771, '사망': 12772, '열라': 12773, '바둥거리': 12774, '더라니': 12775, '묠': 12776, '정황': 12777, '방문': 12778, '이익': 12779, '가집': 12780, '으엌': 12781, '가빠지': 12782, '어떻하': 12783, '랫': 12784, '어드': 12785, '스모그': 12786, '백화점': 12787, 'ㄸ': 12788, '놓으': 12789, '함중': 12790, '분부': 12791, '피날레': 12792, '만주인': 12793, '나버려': 12794, '악착같이': 12795, '점트': 12796, '중공': 12797, '개도': 12798, '극하': 12799, '보균자': 12800, '하액션': 12801, '빠졌걍': 12802, '헬기': 12803, '족두리': 12804, '멋대로': 12805, '간략': 12806, '지차': 12807, '해변': 12808, '재수': 12809, '순리': 12810, '망정': 12811, '미완성': 12812, '쓰래': 12813, '쪼끔': 12814, '자증': 12815, '격리': 12816, '파자': 12817, '높려': 12818, '무심': 12819, '흙': 12820, '풀어놓': 12821, '요청문': 12822, '회신': 12823, '독이': 12824, '전감': 12825, '권한': 12826, '청하': 12827, '세에': 12828, '입지': 12829, '인준': 12830, '용두사': 12831, '미의': 12832, '피그': 12833, '본정': 12834, '뒤죽박죽': 12835, '듭하': 12836, '실패작': 12837, '분동': 12838, '함지': 12839, '존망': 12840, '사거': 12841, '기사님': 12842, '구에': 12843, '작살': 12844, '다쓴': 12845, '어린것': 12846, '높임': 12847, '빼갔': 12848, '사장': 12849, '빌려주': 12850, '리스크': 12851, '분담': 12852, '줏대': 12853, '밌었': 12854, '깽깽이': 12855, '야라': 12856, '어음': 12857, '쟤네': 12858, '한발': 12859, '이거보다는재밌거': 12860, '여우': 12861, '주연상': 12862, '조셉': 12863, '마초': 12864, '깜짝깜짝': 12865, '출소': 12866, '나성': 12867, '치닫': 12868, '칼리': 12869, '갱생': 12870, '그랜드': 12871, '센트럴': 12872, '중앙': 12873, '역과': 12874, '버터': 12875, '카커': 12876, '디오': 12877, '스뚜': 12878, '뚜뚜': 12879, '뚜': 12880, '구실': 12881, '중가': 12882, '돈다발': 12883, '트했': 12884, '대담': 12885, '으스대': 12886, '토요일': 12887, '시끄럽': 12888, '넴': 12889, '제사상': 12890, '일컫': 12891, '장남': 12892, '장녀': 12893, '제사': 12894, '평전': 12895, '어짜': 12896, '합류': 12897, '해운': 12898, '여행기': 12899, '변명': 12900, '끈끈': 12901, '형제애': 12902, '대체로': 12903, '관습적': 12904, '스보': 12905, '징역': 12906, '짯': 12907, '유년': 12908, '랜스': 12909, '괜스레': 12910, '맵': 12911, '옛말': 12912, '맷집': 12913, '요함': 12914, '희희': 12915, '낙': 12916, '영락없': 12917, '수프': 12918, '넨': 12919, '야시': 12920, '아까워하': 12921, '상감': 12922, '원활': 12923, '대우리': 12924, '피폐': 12925, '나안': 12926, '도망다니': 12927, '밀입국': 12928, '부문': 12929, '우음': 12930, '외가': 12931, '번안': 12932, '이평': 12933, '점질': 12934, '에딘헌트': 12935, '금변': 12936, '크레디트': 12937, '대인기': 12938, '한동안': 12939, '경마': 12940, '지급': 12941, '하고는ㅉ재미만있구': 12942, '떄': 12943, '휴가': 12944, '선비': 12945, '해빈': 12946, '믹싱': 12947, '훈제': 12948, '멕켄': 12949, '나탈리': 12950, '스팅': 12951, '노장': 12952, '간수': 12953, '소전': 12954, '양상': 12955, '진취적': 12956, '호기': 12957, '신세': 12958, '약육강식': 12959, '단자': 12960, '풍토': 12961, '묵히': 12962, '레즈비언': 12963, '스쳐가': 12964, '혜의': 12965, '김희': 12966, '도깊': 12967, '주름지': 12968, '고혹': 12969, '희가': 12970, '세주': 12971, '애저': 12972, '토록': 12973, '비겁': 12974, '게나만': 12975, '부어': 12976, '지폐': 12977, '짧막': 12978, '도최': 12979, '주동자': 12980, '복수심': 12981, '총연습': 12982, '친인척': 12983, '슬렁슬렁': 12984, '도둑질': 12985, '나추': 12986, '모자르': 12987, '꽥꽥': 12988, '정녕': 12989, '가각본': 12990, '남학생': 12991, '공책': 12992, '끄적이': 12993, '더없': 12994, '도ㅈ': 12995, '한눈': 12996, '물참': 12997, '알키': 12998, '포장지': 12999, '내실': 13000, '다극': 13001, '나을': 13002, '옆에': 13003, '치이': 13004, '생동': 13005, '제하': 13006, '자선': 13007, '에보고싶': 13008, '쉽암': 13009, '냄비': 13010, '우르르': 13011, '평균점': 13012, '기필코': 13013, '불성설': 13014, '꼼수': 13015, '와도': 13016, '베를린': 13017, '건피': 13018, '음질': 13019, '붇': 13020, '따라서': 13021, '수비': 13022, '불어넣': 13023, '다존': 13024, '펄프': 13025, '후방': 13026, '롭이': 13027, '마침': 13028, '안목': 13029, '뭍': 13030, '잡아가': 13031, '지평': 13032, '피로도': 13033, '미드': 13034, '공분': 13035, '를껐': 13036, '을발': 13037, '휘하': 13038, '넷플릭스는대단하': 13039, '푼': 13040, '신과': 13041, '칠드': 13042, '거제도': 13043, '몹쓸': 13044, '데번셔': 13045, '돌격': 13046, '츈': 13047, '판상': 13048, '시절가': 13049, '뻥튀기': 13050, '기득권': 13051, '주머니': 13052, '대출금': 13053, '굽신굽신': 13054, '여의도': 13055, '빌붙': 13056, '교묘': 13057, '런스를위해점드려': 13058, '니콜': 13059, '딴생각': 13060, '준우': 13061, '겸직': 13062, '치매': 13063, '퇴화': 13064, '고딩이만든듯한영화': 13065, '극기': 13066, '데이지': 13067, '내빡': 13068, '표범': 13069, '의성': 13070, '눈뜨': 13071, '기성세대': 13072, '단연코': 13073, '흐름도': 13074, '생채기': 13075, '소금': 13076, '풍족': 13077, '광장': 13078, '씹명': 13079, '정치판': 13080, '폐쇄': 13081, '고전적': 13082, '스러워': 13083, '신민': 13084, '찡': 13085, '소간': 13086, '지형': 13087, '밉보이': 13088, '약해': 13089, '지물론': 13090, '을줘': 13091, '현주소': 13092, '안정적': 13093, '정점': 13094, '시너': 13095, '이빠': 13096, '촌': 13097, '발작': 13098, '쩡쩡': 13099, '계승': 13100, '학벌': 13101, '표상': 13102, '이아': 13103, '들아마': 13104, '선구': 13105, '건평': 13106, '쳐내': 13107, '내공': 13108, '배짱': 13109, '승인': 13110, '꿍': 13111, '표면적': 13112, '금세기': 13113, '연계성': 13114, '랑욕': 13115, '고무': 13116, '북유럽': 13117, '장난꾸러기': 13118, '일로': 13119, '상상도': 13120, '자씨': 13121, '크린': 13122, '병들': 13123, '무관심': 13124, '방관': 13125, '개인주의': 13126, '가판': 13127, '경종': 13128, '받아들': 13129, '그러면': 13130, '뭐래': 13131, '라이블': 13132, '어롱': 13133, '깜냥': 13134, '큰소리치': 13135, '난함': 13136, '걸어오': 13137, 'ㅎㅎㅋㅋ': 13138, '가로': 13139, '파이터': 13140, '휙휙': 13141, '할애비': 13142, 'ㅏ냐': 13143, '카나': 13144, '댠': 13145, '티나': 13146, '쪼끄맣': 13147, '유일신': 13148, '지저분': 13149, '썩어빠지': 13150, '악질': 13151, '묵비권': 13152, '준조': 13153, '희퓨': 13154, '유형적': 13155, '치사': 13156, '종파': 13157, '출상': 13158, '간판': 13159, '하느님': 13160, '피토하': 13161, '희랑': 13162, '쾌락': 13163, '중개인': 13164, '안와': 13165, '떠나오': 13166, '지걸': 13167, '찬의': 13168, '습관적': 13169, '코멘트': 13170, '변호인': 13171, '도이지': 13172, '심인': 13173, '도넛': 13174, '뚫림': 13175, '소재지': 13176, '무서': 13177, '부려먹': 13178, '미덥': 13179, '몰래': 13180, '떳떳': 13181, '두리': 13182, '두리번거리': 13183, '넚': 13184, '푸스': 13185, '돋았응': 13186, '흑우': 13187, '하대': 13188, '가호': 13189, '숏': 13190, '듀티': 13191, '작묻': 13192, '카테고리': 13193, '눈알': 13194, '겋': 13195, '엌': 13196, '뇬': 13197, '렛뇨': 13198, '쵸': 13199, '망치질하': 13200, '목욕': 13201, '명동': 13202, '에피': 13203, '다조': 13204, '쪼꼬마': 13205, '투합': 13206, '샵': 13207, '녹록': 13208, '장애물': 13209, '갱에': 13210, '불바람': 13211, '환하': 13212, '카미': 13213, '프로듀서': 13214, '내의': 13215, '모처럼': 13216, '도원': 13217, '물분': 13218, '느것': 13219, '비추이': 13220, '의세': 13221, '파주': 13222, '지역적': 13223, '등에': 13224, '리처드': 13225, '인세': 13226, '음산': 13227, '구저': 13228, '케바': 13229, '에먼': 13230, '지각': 13231, '함유': 13232, '콜라병': 13233, '포면': 13234, '심장병': 13235, '하이퍼': 13236, '인플레이션': 13237, '강세': 13238, '은어': 13239, '법이': 13240, '침공': 13241, '걸개': 13242, '인적': 13243, '중요성': 13244, '곱하기': 13245, '하번': 13246, '순기능': 13247, '더재밋네': 13248, '월정': 13249, '증말': 13250, '버젓이': 13251, '핏자국': 13252, '쓰도': 13253, '임은': 13254, '오티스': 13255, '상담소': 13256, '역이': 13257, '당위성': 13258, '얻어맞': 13259, '치기': 13260, '현금': 13261, '강탈': 13262, '겉돌': 13263, '강제적': 13264, '딕트': 13265, '본다': 13266, '기왕이면': 13267, '에총': 13268, '얼매나': 13269, '사운': 13270, '드블': 13271, '외의': 13272, '평판': 13273, '사적': 13274, '스멜': 13275, '비키': 13276, '쳌': 13277, '천도': 13278, '총검술': 13279, '무용': 13280, '화기': 13281, '잡영': 13282, '반쪽': 13283, '볶': 13284}\n"
     ]
    }
   ],
   "source": [
    "tokenizer = Tokenizer()\n",
    "tokenizer.fit_on_texts(X_train)\n",
    "print(tokenizer.word_index)"
   ]
  },
  {
   "cell_type": "code",
   "execution_count": 0,
   "metadata": {
    "colab": {},
    "colab_type": "code",
    "id": "siIK_DdL8yLB"
   },
   "outputs": [],
   "source": [
    "# token_size or vector_size\n",
    "threshold = 3 # 빈도수\n",
    "total_cnt = len(tokenizer.word_index) # 단어수\n",
    "rare_cnt = 0 # 빈도수가 threshold보다 작은 단어수\n",
    "total_freq = 0 # 훈련 data 전체 단어 빈도수 총 합\n",
    "rate_freq = 0 # 빈도수가 threshold보다 작은 단어들의 총 합\n",
    "\n",
    "# 단어와 빈도수의 pair를 key, value로 처리\n",
    "for key, value in tokenizer.word_index.items():\n",
    "    total_freq = total_freq + value\n",
    "    # 단어 빈도수가 threschold 보다 작은 값 처리\n",
    "    if (value < threshold):\n",
    "        rare_cnt += 1\n",
    "        rate_freq += value"
   ]
  },
  {
   "cell_type": "code",
   "execution_count": 25,
   "metadata": {
    "colab": {
     "base_uri": "https://localhost:8080/",
     "height": 111
    },
    "colab_type": "code",
    "id": "owdTaQwu8yLC",
    "outputId": "352b3663-b9e0-464d-f21e-134deaa83834"
   },
   "outputs": [
    {
     "name": "stdout",
     "output_type": "stream",
     "text": [
      "총 단어 수(Vocabulary): 13284\n",
      "빈도수 낮은 수: 2\n",
      "단어 집합에서 빈도수가 낮은 단어 비율: 0.015055706112616682\n",
      "전체 출현 단어에서 빈도수가 낮은 단어 비율: 3.3998583619006432e-06\n",
      "단어 집합의 크기: 13283\n"
     ]
    }
   ],
   "source": [
    "print('총 단어 수(Vocabulary):', total_cnt)\n",
    "print('빈도수 낮은 수:', rare_cnt)\n",
    "print('단어 집합에서 빈도수가 낮은 단어 비율:', \n",
    "      ((rare_cnt / total_cnt) * 100))\n",
    "print('전체 출현 단어에서 빈도수가 낮은 단어 비율:',\n",
    "      ((rate_freq / total_freq) * 100))\n",
    "\n",
    "# 전체 단어 수 중 빈도수가 2이하인 단어 제거, \n",
    "vocab_size = total_cnt - rare_cnt + 1\n",
    "print('단어 집합의 크기:', vocab_size)"
   ]
  },
  {
   "cell_type": "code",
   "execution_count": 26,
   "metadata": {
    "colab": {
     "base_uri": "https://localhost:8080/",
     "height": 36
    },
    "colab_type": "code",
    "id": "rbDvTKQI8yLF",
    "outputId": "47851996-b5e8-4aa2-a2a1-7c29cec48d53"
   },
   "outputs": [
    {
     "name": "stdout",
     "output_type": "stream",
     "text": [
      "[[92, 16, 6, 78, 205, 1, 44], [328, 12, 26, 11, 6, 8, 19, 59], [9, 8, 5, 4152, 7, 55]]\n"
     ]
    }
   ],
   "source": [
    "tokenizer = Tokenizer(vocab_size)\n",
    "tokenizer.fit_on_texts(X_train)\n",
    "X_train = tokenizer.texts_to_sequences(X_train)\n",
    "print(X_train[:3]) #[[150, 12, 434, 5, 454, ...]]"
   ]
  },
  {
   "cell_type": "code",
   "execution_count": 0,
   "metadata": {
    "colab": {},
    "colab_type": "code",
    "id": "8mcAMqfY8yLH"
   },
   "outputs": [],
   "source": [
    "Y_train = np.array(train_data['score']) "
   ]
  },
  {
   "cell_type": "code",
   "execution_count": 28,
   "metadata": {
    "colab": {
     "base_uri": "https://localhost:8080/",
     "height": 335
    },
    "colab_type": "code",
    "id": "iBxaHuFi8yLJ",
    "outputId": "f3626f20-7d05-465b-d8ca-2ca71a2b4e9b"
   },
   "outputs": [
    {
     "name": "stdout",
     "output_type": "stream",
     "text": [
      "최대: 554\n",
      "평균: 33.148143624816804\n"
     ]
    },
    {
     "data": {
      "text/plain": [
       "Text(0, 0.5, 'number of samples')"
      ]
     },
     "execution_count": 28,
     "metadata": {
      "tags": []
     },
     "output_type": "execute_result"
    },
    {
     "data": {
      "image/png": "[encoded data removed]",
      "text/plain": [
       "<Figure size 432x288 with 1 Axes>"
      ]
     },
     "metadata": {
      "needs_background": "light",
      "tags": []
     },
     "output_type": "display_data"
    }
   ],
   "source": [
    "# 패딩 처리\n",
    "# 최대 리뷰 길이, 평균 리뷰 길이 구하기\n",
    "max_review_length = max(len(x) for x in X_train)\n",
    "print(\"최대:\", max_review_length)\n",
    "mean_review_length = sum(map(len, X_train)) / len(X_train)\n",
    "print(\"평균:\", mean_review_length)\n",
    "\n",
    "\n",
    "plt.hist([len(s) for s in X_train], bins=50)\n",
    "plt.xlabel('length of samples')\n",
    "plt.ylabel('number of samples')"
   ]
  },
  {
   "cell_type": "code",
   "execution_count": 0,
   "metadata": {
    "colab": {},
    "colab_type": "code",
    "id": "e7ed32OfKI83"
   },
   "outputs": [],
   "source": [
    "# 전체 샘플 중 길이가 max_len 이하인 샘플의 비율이 몇 %인지 확인하는 함수\n",
    "def below_threshold_len(max_len, nested_list):\n",
    "  cnt = 0\n",
    "  for s in nested_list:\n",
    "    if(len(s) <= max_len):\n",
    "        cnt = cnt + 1\n",
    "  print('전체 샘플 중 길이가 %s 이하인 샘플의 비율: %s'%(max_len, (cnt / len(nested_list))*100))"
   ]
  },
  {
   "cell_type": "code",
   "execution_count": 30,
   "metadata": {
    "colab": {
     "base_uri": "https://localhost:8080/",
     "height": 36
    },
    "colab_type": "code",
    "id": "VRTkSzAQKaYi",
    "outputId": "4746ea8a-e2e8-455b-df65-9ce07980cf30"
   },
   "outputs": [
    {
     "name": "stdout",
     "output_type": "stream",
     "text": [
      "전체 샘플 중 길이가 100 이하인 샘플의 비율: 95.17586712261846\n"
     ]
    }
   ],
   "source": [
    "max_len = 100\n",
    "below_threshold_len(max_len, X_train)"
   ]
  },
  {
   "cell_type": "code",
   "execution_count": 0,
   "metadata": {
    "colab": {},
    "colab_type": "code",
    "id": "9fpogj_j8yLL"
   },
   "outputs": [],
   "source": [
    "max_length = 100\n",
    "X_train = pad_sequences(X_train, maxlen=max_length)"
   ]
  },
  {
   "cell_type": "markdown",
   "metadata": {
    "colab_type": "text",
    "id": "oKm90T5m8yLN"
   },
   "source": [
    "# LSTM을 이용한 리뷰 모델 생성"
   ]
  },
  {
   "cell_type": "code",
   "execution_count": 0,
   "metadata": {
    "colab": {},
    "colab_type": "code",
    "id": "_sESESKC8yLN"
   },
   "outputs": [],
   "source": [
    "from tensorflow.keras.layers import Embedding, Dense, LSTM, Input\n",
    "from tensorflow.keras.models import Model\n",
    "# EarlyStopping : 지정 epochs 횟수 전에 과적합의 모습을 보이면 멈추게 함\n",
    "# ModelCheckpoint : 이전 모델보다 성능이 좋을 때만 저장한다.\n",
    "from tensorflow.keras.callbacks import EarlyStopping, ModelCheckpoint"
   ]
  },
  {
   "cell_type": "code",
   "execution_count": 0,
   "metadata": {
    "colab": {},
    "colab_type": "code",
    "id": "wsq1L5_38yLP"
   },
   "outputs": [],
   "source": [
    "# T = X_train.shape[1] # 30\n",
    "# i = Input(shape=(T,))\n",
    "# x = Embedding(vocab_size, 100)(i) \n",
    "# x = LSTM(128)(x)\n",
    "# x = Dense(1, activation='sigmoid')(x)\n",
    "# model = Model(i, x)\n",
    "# model.summary()\n",
    "\n",
    "\n",
    "def create_model(embedding_size = 100, LSTM_node=128, optimizer='adam'):\n",
    "  T = X_train.shape[1] # 0\n",
    "  i = Input(shape=(T,))\n",
    "  x = Embedding(vocab_size, embedding_size)(i) \n",
    "  x = LSTM(LSTM_node)(x)\n",
    "  x = Dense(1, activation='sigmoid')(x)\n",
    "  model = Model(i, x)\n",
    "  model.compile(loss='binary_crossentropy',\n",
    "             optimizer=optimizer,\n",
    "             metrics=['accuracy'])\n",
    "  print(f\"embedding_size = {embedding_size}, LSTM_node={LSTM_node}, optimizer={optimizer}\")\n",
    "  # model.summary()\n",
    "  return model"
   ]
  },
  {
   "cell_type": "code",
   "execution_count": 0,
   "metadata": {
    "colab": {},
    "colab_type": "code",
    "id": "oW7Bthy_8yLR"
   },
   "outputs": [],
   "source": [
    "eStop = EarlyStopping(monitor='val_loss',\n",
    "                      mode='min',\n",
    "                      verbose = 1, # log 찍기\n",
    "                      patience=5) # 5번 연속 떨어지면 멈춤\n",
    "\n",
    "mCheck = ModelCheckpoint('best_model.h5',\n",
    "                        monitor='val_acc',\n",
    "                        mode='max',\n",
    "                        verbose=1,\n",
    "                        save_best_only=True)"
   ]
  },
  {
   "cell_type": "code",
   "execution_count": 0,
   "metadata": {
    "colab": {},
    "colab_type": "code",
    "id": "KOgHtVfj8yLT"
   },
   "outputs": [],
   "source": [
    "eStop = EarlyStopping(monitor='val_loss', mode='min', verbose=1, patience=4)\n",
    "mCheck = ModelCheckpoint('best_model.h5', monitor='val_acc', mode='max', \n",
    "                     verbose=1, save_best_only=True)"
   ]
  },
  {
   "cell_type": "code",
   "execution_count": 0,
   "metadata": {
    "colab": {},
    "colab_type": "code",
    "id": "sg_lpMAc8yLV"
   },
   "outputs": [],
   "source": [
    "X_test = X_train[:100 , :]\n",
    "X_train_real = X_train[100:, :]"
   ]
  },
  {
   "cell_type": "code",
   "execution_count": 0,
   "metadata": {
    "colab": {},
    "colab_type": "code",
    "id": "-pZ-LuV78yLX"
   },
   "outputs": [],
   "source": [
    "Y_test = Y_train[:100]\n",
    "Y_train_real = Y_train[100:]"
   ]
  },
  {
   "cell_type": "code",
   "execution_count": 0,
   "metadata": {
    "colab": {},
    "colab_type": "code",
    "id": "9cG1F6uT8yLa"
   },
   "outputs": [],
   "source": [
    "# from sklearn.model_selection import GridSearchCV\n",
    "# from keras.wrappers.scikit_learn import KerasClassifier\n",
    "# model = KerasClassifier(build_fn=create_model, verbose=1)\n",
    "# param_grid ={\n",
    "#     'embedding_size' : [150],\n",
    "#     'LSTM_node' : [128],\n",
    "#     'optimizer' :[\"adam\"], \n",
    "#     'batch_size' : [10],\n",
    "#     'epochs' : [3, 5]\n",
    "# }\n",
    "# grid= GridSearchCV(estimator=model,\n",
    "#                    param_grid=param_grid,cv=3)\n",
    "# fit = grid.fit(X_train, Y_train, verbose=2, validation_data=(X_test, Y_test))\n",
    "# print(\"=\"*30)\n",
    "# print(grid.best_score_)\n",
    "# print(grid.best_params_)\n",
    "\n",
    "# # , callbacks=[eStop, mCheck]"
   ]
  },
  {
   "cell_type": "markdown",
   "metadata": {
    "colab_type": "text",
    "id": "bRW2W9-6WFmk"
   },
   "source": [
    "0.8109421730041504\n",
    "\n",
    "\n",
    "grid.best_params_= {'LSTM_node': 128, 'batch_size': 10, 'embedding_size': 150, 'epochs': 5, 'optimizer': 'adam'}"
   ]
  },
  {
   "cell_type": "code",
   "execution_count": 0,
   "metadata": {
    "colab": {},
    "colab_type": "code",
    "id": "zxhdQNqiWQwZ"
   },
   "outputs": [],
   "source": [
    "# best_params = {'LSTM_node': 128, 'batch_size': 10, 'embedding_size': 150, 'epochs': 5, 'optimizer': 'adam'}\n",
    "best_params = {'LSTM_node': 128, 'batch_size': 10, 'embedding_size': 150, 'epochs': 5, 'optimizer': 'adam'}"
   ]
  },
  {
   "cell_type": "code",
   "execution_count": 80,
   "metadata": {
    "colab": {
     "base_uri": "https://localhost:8080/",
     "height": 316
    },
    "colab_type": "code",
    "id": "rXVtlUW7Wmp_",
    "outputId": "f649416e-e53c-4078-f95d-223f5597de16"
   },
   "outputs": [
    {
     "name": "stdout",
     "output_type": "stream",
     "text": [
      "embedding_size = 150, LSTM_node=128, optimizer=adam\n",
      "Epoch 1/5\n",
      "WARNING:tensorflow:Can save best model only with val_acc available, skipping.\n",
      "819/819 - 57s - loss: 0.4543 - accuracy: 0.7920 - val_loss: 0.1875 - val_accuracy: 0.9700\n",
      "Epoch 2/5\n",
      "WARNING:tensorflow:Can save best model only with val_acc available, skipping.\n",
      "819/819 - 56s - loss: 0.2596 - accuracy: 0.8974 - val_loss: 0.1061 - val_accuracy: 0.9700\n",
      "Epoch 3/5\n",
      "WARNING:tensorflow:Can save best model only with val_acc available, skipping.\n",
      "819/819 - 54s - loss: 0.1861 - accuracy: 0.9320 - val_loss: 0.0360 - val_accuracy: 1.0000\n",
      "Epoch 4/5\n",
      "WARNING:tensorflow:Can save best model only with val_acc available, skipping.\n",
      "819/819 - 55s - loss: 0.1241 - accuracy: 0.9544 - val_loss: 0.0370 - val_accuracy: 0.9900\n",
      "Epoch 5/5\n",
      "WARNING:tensorflow:Can save best model only with val_acc available, skipping.\n",
      "819/819 - 53s - loss: 0.1069 - accuracy: 0.9624 - val_loss: 0.0418 - val_accuracy: 1.0000\n"
     ]
    }
   ],
   "source": [
    "model = create_model(embedding_size=best_params['embedding_size'], LSTM_node=best_params['LSTM_node'], optimizer='adam')\n",
    "\n",
    "r=model.fit(X_train, Y_train, verbose=2, validation_data=(X_test, Y_test), \n",
    "          epochs=best_params['epochs'], batch_size=best_params['batch_size'],callbacks=[eStop, mCheck])"
   ]
  },
  {
   "cell_type": "code",
   "execution_count": 0,
   "metadata": {
    "colab": {},
    "colab_type": "code",
    "id": "v3704V1lCM9D"
   },
   "outputs": [],
   "source": [
    "# model = create_model(embedding_size=grid.best_params_['embedding_size'], LSTM_node=grid.best_params_['LSTM_node'], optimizer='adam')\n",
    "\n",
    "# r=model.fit(X_train, Y_train, verbose=2, validation_data=(X_test, Y_test), \n",
    "#           epochs=grid.best_params_['epochs'], batch_size=grid.best_params_['batch_size'])"
   ]
  },
  {
   "cell_type": "code",
   "execution_count": 82,
   "metadata": {
    "colab": {
     "base_uri": "https://localhost:8080/",
     "height": 265
    },
    "colab_type": "code",
    "id": "auLg-Rp3C8BD",
    "outputId": "aa47796e-a40f-4bf8-935a-c3649597083f"
   },
   "outputs": [
    {
     "data": {
      "image/png": "[encoded data removed]",
      "text/plain": [
       "<Figure size 432x288 with 1 Axes>"
      ]
     },
     "metadata": {
      "needs_background": "light",
      "tags": []
     },
     "output_type": "display_data"
    }
   ],
   "source": [
    "plt.plot(r.history['accuracy'], label='accuracy')\n",
    "plt.plot(r.history['val_accuracy'], label='val_accuracy')\n",
    "plt.legend()\n",
    "plt.show()"
   ]
  },
  {
   "cell_type": "code",
   "execution_count": 83,
   "metadata": {
    "colab": {
     "base_uri": "https://localhost:8080/",
     "height": 36
    },
    "colab_type": "code",
    "id": "lbl2BLiiDIb-",
    "outputId": "cdfdad89-3ad0-421a-d73c-afaf66caab6e"
   },
   "outputs": [
    {
     "name": "stdout",
     "output_type": "stream",
     "text": [
      "10/10 [==============================] - 0s 16ms/step - loss: 0.0418 - accuracy: 1.0000\n"
     ]
    }
   ],
   "source": [
    "y_pred  = model.predict(X_test)\n",
    "y_pred = np.where(y_pred >= 0.5, 1, 0)\n",
    "\n",
    "# y_pred\n",
    "loss, acc =model.evaluate(X_test, Y_test, batch_size=10)"
   ]
  },
  {
   "cell_type": "code",
   "execution_count": 0,
   "metadata": {
    "colab": {},
    "colab_type": "code",
    "id": "932ySgc8BsMy"
   },
   "outputs": [],
   "source": [
    "model.save('my_model_ep5.h5')"
   ]
  },
  {
   "cell_type": "markdown",
   "metadata": {
    "colab_type": "text",
    "id": "00OGYfwHhk9-"
   },
   "source": [
    "# 가장 성능이 좋았던 모델 불러와서 실행시키자"
   ]
  },
  {
   "cell_type": "code",
   "execution_count": 0,
   "metadata": {
    "colab": {},
    "colab_type": "code",
    "id": "0ybLQQreC7It"
   },
   "outputs": [],
   "source": [
    "import tensorflow as tf\n",
    "my_model = tf.keras.models.load_model('my_model_ep10.h5')"
   ]
  },
  {
   "cell_type": "code",
   "execution_count": 103,
   "metadata": {
    "colab": {
     "base_uri": "https://localhost:8080/",
     "height": 55
    },
    "colab_type": "code",
    "id": "YHOBIRF8CJnw",
    "outputId": "80e19ff7-803c-42d7-f5b7-fb132783e2a3"
   },
   "outputs": [
    {
     "name": "stdout",
     "output_type": "stream",
     "text": [
      "4/4 [==============================] - 0s 15ms/step - loss: 0.0136 - accuracy: 1.0000\n",
      "loss:0.013631561771035194, acc:1.0\n"
     ]
    }
   ],
   "source": [
    "# X_val = X_train[-100:]\n",
    "# Y_val = Y_train[-100:]\n",
    "y_pred  = my_model.predict(X_test)\n",
    "y_pred  = my_model.predict(X_val)\n",
    "y_pred = np.where(y_pred >= 0.5, 1, 0)\n",
    "# print(y_pred)\n",
    "# y_pred\n",
    "loss, acc =my_model.evaluate(X_test, Y_test)\n",
    "# loss, acc =my_model.evaluate(X_val, Y_val)\n",
    "print(f\"loss:{loss}, acc:{acc}\")"
   ]
  },
  {
   "cell_type": "code",
   "execution_count": 105,
   "metadata": {
    "colab": {
     "base_uri": "https://localhost:8080/",
     "height": 73
    },
    "colab_type": "code",
    "id": "WiIf2cL2Gzbw",
    "outputId": "d11a43cf-f648-4ea9-9986-35cfd888762b"
   },
   "outputs": [
    {
     "name": "stdout",
     "output_type": "stream",
     "text": [
      "[[33  0]\n",
      " [ 1 66]]\n"
     ]
    },
    {
     "data": {
      "text/plain": [
       "0.99"
      ]
     },
     "execution_count": 105,
     "metadata": {
      "tags": []
     },
     "output_type": "execute_result"
    }
   ],
   "source": [
    "from sklearn.metrics import confusion_matrix, accuracy_score\n",
    "\n",
    "# print(confusion_matrix(Y_test, y_pred))\n",
    "# accuracy_score(Y_test, y_pred)\n",
    "\n",
    "print(confusion_matrix(Y_val, y_pred))\n",
    "accuracy_score(Y_val, y_pred)\n",
    "\n"
   ]
  },
  {
   "cell_type": "code",
   "execution_count": 0,
   "metadata": {
    "colab": {},
    "colab_type": "code",
    "id": "FHK-siFOfBk1"
   },
   "outputs": [],
   "source": []
  }
 ],
 "metadata": {
  "accelerator": "TPU",
  "colab": {
   "machine_shape": "hm",
   "name": "naver_grid_search.ipynb",
   "provenance": [],
   "toc_visible": true
  },
  "kernelspec": {
   "display_name": "Python 3.7.6 64-bit ('keras': conda)",
   "language": "python",
   "name": "python37664bitkerascondaed69c6c929444ee88c6476965364f1b4"
  },
  "language_info": {
   "codemirror_mode": {
    "name": "ipython",
    "version": 3
   },
   "file_extension": ".py",
   "mimetype": "text/x-python",
   "name": "python",
   "nbconvert_exporter": "python",
   "pygments_lexer": "ipython3",
   "version": "3.7.6"
  }
 },
 "nbformat": 4,
 "nbformat_minor": 1
}
