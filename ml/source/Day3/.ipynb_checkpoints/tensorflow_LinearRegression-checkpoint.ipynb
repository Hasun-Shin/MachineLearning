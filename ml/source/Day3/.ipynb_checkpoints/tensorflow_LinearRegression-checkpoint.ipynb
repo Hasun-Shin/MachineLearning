{
 "cells": [
  {
   "cell_type": "code",
   "execution_count": 1,
   "metadata": {},
   "outputs": [
    {
     "data": {
      "text/plain": [
       "'1.15.0'"
      ]
     },
     "execution_count": 1,
     "metadata": {},
     "output_type": "execute_result"
    }
   ],
   "source": [
    "#Linear Regression\n",
    "\n",
    "import tensorflow as tf\n",
    "import numpy as np\n",
    "import matplotlib.pyplot as plt\n",
    "\n",
    "tf.enable_eager_execution() #enable ~~ : session을 안 실행해도 됨. \n",
    "tf.__version__"
   ]
  },
  {
   "cell_type": "code",
   "execution_count": 2,
   "metadata": {},
   "outputs": [],
   "source": [
    "X = np.array([1,2,3], dtype=\"float32\")\n",
    "Y = np.array([2,2.5,3.5], dtype=\"float32\")"
   ]
  },
  {
   "cell_type": "code",
   "execution_count": 3,
   "metadata": {},
   "outputs": [],
   "source": [
    "W = tf.Variable([2], dtype=\"float32\")\n",
    "b = tf.Variable([1], dtype=\"float32\")\n"
   ]
  },
  {
   "cell_type": "code",
   "execution_count": 4,
   "metadata": {},
   "outputs": [
    {
     "data": {
      "text/plain": [
       "<tf.Variable 'Variable:0' shape=(1,) dtype=float32, numpy=array([2.], dtype=float32)>"
      ]
     },
     "execution_count": 4,
     "metadata": {},
     "output_type": "execute_result"
    }
   ],
   "source": [
    "W"
   ]
  },
  {
   "cell_type": "code",
   "execution_count": 5,
   "metadata": {},
   "outputs": [
    {
     "data": {
      "text/plain": [
       "<tf.Variable 'Variable:0' shape=(1,) dtype=float32, numpy=array([1.], dtype=float32)>"
      ]
     },
     "execution_count": 5,
     "metadata": {},
     "output_type": "execute_result"
    }
   ],
   "source": [
    "b"
   ]
  },
  {
   "cell_type": "code",
   "execution_count": 6,
   "metadata": {},
   "outputs": [],
   "source": [
    "learning_rate = 0.1"
   ]
  },
  {
   "cell_type": "code",
   "execution_count": 10,
   "metadata": {},
   "outputs": [
    {
     "name": "stdout",
     "output_type": "stream",
     "text": [
      "hypothesis:  tf.Tensor([1.8871605 2.6603346 3.4335089], shape=(3,), dtype=float32)\n",
      "cost: tf.Tensor(0.014286998, shape=(), dtype=float32)\n",
      "W_grad: tf.Tensor([0.00557089], shape=(1,), dtype=float32) , b_grad:  tf.Tensor([-0.012664], shape=(1,), dtype=float32)\n",
      "hypothesis:  tf.Tensor([1.8878698 2.660487  3.433104 ], shape=(3,), dtype=float32)\n",
      "cost: tf.Tensor(0.0142681, shape=(), dtype=float32)\n",
      "W_grad: tf.Tensor([0.00543721], shape=(1,), dtype=float32) , b_grad:  tf.Tensor([-0.01235947], shape=(1,), dtype=float32)\n",
      "hypothesis:  tf.Tensor([1.8885621 2.6606355 3.432709 ], shape=(3,), dtype=float32)\n",
      "cost: tf.Tensor(0.014250082, shape=(), dtype=float32)\n",
      "W_grad: tf.Tensor([0.00530665], shape=(1,), dtype=float32) , b_grad:  tf.Tensor([-0.01206231], shape=(1,), dtype=float32)\n",
      "hypothesis:  tf.Tensor([1.8892376 2.6607804 3.432323 ], shape=(3,), dtype=float32)\n",
      "cost: tf.Tensor(0.014232941, shape=(), dtype=float32)\n",
      "W_grad: tf.Tensor([0.0051783], shape=(1,), dtype=float32) , b_grad:  tf.Tensor([-0.01177263], shape=(1,), dtype=float32)\n",
      "hypothesis:  tf.Tensor([1.8898971 2.660922  3.4319468], shape=(3,), dtype=float32)\n",
      "cost: tf.Tensor(0.014216599, shape=(), dtype=float32)\n",
      "W_grad: tf.Tensor([0.00505432], shape=(1,), dtype=float32) , b_grad:  tf.Tensor([-0.01148939], shape=(1,), dtype=float32)\n",
      "hypothesis:  tf.Tensor([1.8905406 2.66106   3.4315796], shape=(3,), dtype=float32)\n",
      "cost: tf.Tensor(0.014201023, shape=(), dtype=float32)\n",
      "W_grad: tf.Tensor([0.00493304], shape=(1,), dtype=float32) , b_grad:  tf.Tensor([-0.01121315], shape=(1,), dtype=float32)\n",
      "hypothesis:  tf.Tensor([1.8911686 2.6611948 3.431221 ], shape=(3,), dtype=float32)\n",
      "cost: tf.Tensor(0.014186196, shape=(), dtype=float32)\n",
      "W_grad: tf.Tensor([0.00481415], shape=(1,), dtype=float32) , b_grad:  tf.Tensor([-0.01094373], shape=(1,), dtype=float32)\n",
      "hypothesis:  tf.Tensor([1.8917816 2.6613264 3.430871 ], shape=(3,), dtype=float32)\n",
      "cost: tf.Tensor(0.014172085, shape=(), dtype=float32)\n",
      "W_grad: tf.Tensor([0.00469828], shape=(1,), dtype=float32) , b_grad:  tf.Tensor([-0.01068068], shape=(1,), dtype=float32)\n",
      "hypothesis:  tf.Tensor([1.8923799 2.6614547 3.4305296], shape=(3,), dtype=float32)\n",
      "cost: tf.Tensor(0.014158613, shape=(), dtype=float32)\n",
      "W_grad: tf.Tensor([0.00458534], shape=(1,), dtype=float32) , b_grad:  tf.Tensor([-0.01042391], shape=(1,), dtype=float32)\n",
      "hypothesis:  tf.Tensor([1.8929636 2.66158   3.4301963], shape=(3,), dtype=float32)\n",
      "cost: tf.Tensor(0.014145821, shape=(), dtype=float32)\n",
      "W_grad: tf.Tensor([0.00447512], shape=(1,), dtype=float32) , b_grad:  tf.Tensor([-0.01017332], shape=(1,), dtype=float32)\n",
      "hypothesis:  tf.Tensor([1.8935335 2.6617024 3.429871 ], shape=(3,), dtype=float32)\n",
      "cost: tf.Tensor(0.014133617, shape=(), dtype=float32)\n",
      "W_grad: tf.Tensor([0.00436768], shape=(1,), dtype=float32) , b_grad:  tf.Tensor([-0.0099287], shape=(1,), dtype=float32)\n",
      "hypothesis:  tf.Tensor([1.8940897 2.6618218 3.4295537], shape=(3,), dtype=float32)\n",
      "cost: tf.Tensor(0.014121992, shape=(), dtype=float32)\n",
      "W_grad: tf.Tensor([0.00426309], shape=(1,), dtype=float32) , b_grad:  tf.Tensor([-0.00968981], shape=(1,), dtype=float32)\n",
      "hypothesis:  tf.Tensor([1.8946323 2.6619382 3.4292438], shape=(3,), dtype=float32)\n",
      "cost: tf.Tensor(0.01411092, shape=(), dtype=float32)\n",
      "W_grad: tf.Tensor([0.00416008], shape=(1,), dtype=float32) , b_grad:  tf.Tensor([-0.00945712], shape=(1,), dtype=float32)\n",
      "hypothesis:  tf.Tensor([1.895162  2.6620517 3.4289417], shape=(3,), dtype=float32)\n",
      "cost: tf.Tensor(0.014100344, shape=(), dtype=float32)\n",
      "W_grad: tf.Tensor([0.00406036], shape=(1,), dtype=float32) , b_grad:  tf.Tensor([-0.00922974], shape=(1,), dtype=float32)\n",
      "hypothesis:  tf.Tensor([1.8956789 2.6621628 3.4286466], shape=(3,), dtype=float32)\n",
      "cost: tf.Tensor(0.014090326, shape=(), dtype=float32)\n",
      "W_grad: tf.Tensor([0.00396276], shape=(1,), dtype=float32) , b_grad:  tf.Tensor([-0.00900785], shape=(1,), dtype=float32)\n",
      "hypothesis:  tf.Tensor([1.8961834 2.662271  3.4283586], shape=(3,), dtype=float32)\n",
      "cost: tf.Tensor(0.014080758, shape=(), dtype=float32)\n",
      "W_grad: tf.Tensor([0.00386739], shape=(1,), dtype=float32) , b_grad:  tf.Tensor([-0.00879136], shape=(1,), dtype=float32)\n",
      "hypothesis:  tf.Tensor([1.8966758 2.6623766 3.4280775], shape=(3,), dtype=float32)\n",
      "cost: tf.Tensor(0.014071637, shape=(), dtype=float32)\n",
      "W_grad: tf.Tensor([0.00377432], shape=(1,), dtype=float32) , b_grad:  tf.Tensor([-0.00858005], shape=(1,), dtype=float32)\n",
      "hypothesis:  tf.Tensor([1.8971564 2.6624799 3.427803 ], shape=(3,), dtype=float32)\n",
      "cost: tf.Tensor(0.014062975, shape=(), dtype=float32)\n",
      "W_grad: tf.Tensor([0.00368349], shape=(1,), dtype=float32) , b_grad:  tf.Tensor([-0.00837382], shape=(1,), dtype=float32)\n",
      "hypothesis:  tf.Tensor([1.8976253 2.6625805 3.4275355], shape=(3,), dtype=float32)\n",
      "cost: tf.Tensor(0.014054696, shape=(), dtype=float32)\n",
      "W_grad: tf.Tensor([0.00359526], shape=(1,), dtype=float32) , b_grad:  tf.Tensor([-0.00817244], shape=(1,), dtype=float32)\n",
      "hypothesis:  tf.Tensor([1.8980831 2.6626787 3.4272742], shape=(3,), dtype=float32)\n",
      "cost: tf.Tensor(0.014046819, shape=(), dtype=float32)\n",
      "W_grad: tf.Tensor([0.00350881], shape=(1,), dtype=float32) , b_grad:  tf.Tensor([-0.00797597], shape=(1,), dtype=float32)\n",
      "hypothesis:  tf.Tensor([1.8985298 2.6627746 3.4270191], shape=(3,), dtype=float32)\n",
      "cost: tf.Tensor(0.0140393255, shape=(), dtype=float32)\n",
      "W_grad: tf.Tensor([0.00342417], shape=(1,), dtype=float32) , b_grad:  tf.Tensor([-0.00778437], shape=(1,), dtype=float32)\n",
      "hypothesis:  tf.Tensor([1.8989658 2.662868  3.4267702], shape=(3,), dtype=float32)\n",
      "cost: tf.Tensor(0.0140321655, shape=(), dtype=float32)\n",
      "W_grad: tf.Tensor([0.00334167], shape=(1,), dtype=float32) , b_grad:  tf.Tensor([-0.00759729], shape=(1,), dtype=float32)\n",
      "hypothesis:  tf.Tensor([1.8993914 2.6629596 3.4265275], shape=(3,), dtype=float32)\n",
      "cost: tf.Tensor(0.014025372, shape=(), dtype=float32)\n",
      "W_grad: tf.Tensor([0.00326204], shape=(1,), dtype=float32) , b_grad:  tf.Tensor([-0.00741434], shape=(1,), dtype=float32)\n",
      "hypothesis:  tf.Tensor([1.8998067 2.6630485 3.4262905], shape=(3,), dtype=float32)\n",
      "cost: tf.Tensor(0.014018864, shape=(), dtype=float32)\n",
      "W_grad: tf.Tensor([0.00318353], shape=(1,), dtype=float32) , b_grad:  tf.Tensor([-0.00723616], shape=(1,), dtype=float32)\n",
      "hypothesis:  tf.Tensor([1.9002119 2.6631355 3.4260588], shape=(3,), dtype=float32)\n",
      "cost: tf.Tensor(0.014012721, shape=(), dtype=float32)\n",
      "W_grad: tf.Tensor([0.00310619], shape=(1,), dtype=float32) , b_grad:  tf.Tensor([-0.00706252], shape=(1,), dtype=float32)\n",
      "hypothesis:  tf.Tensor([1.9006076 2.6632204 3.4258332], shape=(3,), dtype=float32)\n",
      "cost: tf.Tensor(0.014006822, shape=(), dtype=float32)\n",
      "W_grad: tf.Tensor([0.00303206], shape=(1,), dtype=float32) , b_grad:  tf.Tensor([-0.00689252], shape=(1,), dtype=float32)\n",
      "hypothesis:  tf.Tensor([1.9009936 2.6633034 3.425613 ], shape=(3,), dtype=float32)\n",
      "cost: tf.Tensor(0.014001233, shape=(), dtype=float32)\n",
      "W_grad: tf.Tensor([0.00295942], shape=(1,), dtype=float32) , b_grad:  tf.Tensor([-0.00672674], shape=(1,), dtype=float32)\n",
      "hypothesis:  tf.Tensor([1.9013703 2.663384  3.4253979], shape=(3,), dtype=float32)\n",
      "cost: tf.Tensor(0.013995874, shape=(), dtype=float32)\n",
      "W_grad: tf.Tensor([0.00288789], shape=(1,), dtype=float32) , b_grad:  tf.Tensor([-0.00656525], shape=(1,), dtype=float32)\n",
      "hypothesis:  tf.Tensor([1.901738 2.663463 3.425188], shape=(3,), dtype=float32)\n",
      "cost: tf.Tensor(0.013990809, shape=(), dtype=float32)\n",
      "W_grad: tf.Tensor([0.00281897], shape=(1,), dtype=float32) , b_grad:  tf.Tensor([-0.00640719], shape=(1,), dtype=float32)\n",
      "hypothesis:  tf.Tensor([1.902097 2.66354  3.424983], shape=(3,), dtype=float32)\n",
      "cost: tf.Tensor(0.013985947, shape=(), dtype=float32)\n",
      "W_grad: tf.Tensor([0.00275056], shape=(1,), dtype=float32) , b_grad:  tf.Tensor([-0.0062534], shape=(1,), dtype=float32)\n",
      "hypothesis:  tf.Tensor([1.9024472 2.6636152 3.4247832], shape=(3,), dtype=float32)\n",
      "cost: tf.Tensor(0.013981349, shape=(), dtype=float32)\n",
      "W_grad: tf.Tensor([0.00268492], shape=(1,), dtype=float32) , b_grad:  tf.Tensor([-0.00610288], shape=(1,), dtype=float32)\n",
      "hypothesis:  tf.Tensor([1.9027889 2.6636884 3.4245877], shape=(3,), dtype=float32)\n",
      "cost: tf.Tensor(0.01397697, shape=(), dtype=float32)\n",
      "W_grad: tf.Tensor([0.00261927], shape=(1,), dtype=float32) , b_grad:  tf.Tensor([-0.00595665], shape=(1,), dtype=float32)\n",
      "hypothesis:  tf.Tensor([1.9031227 2.6637602 3.424398 ], shape=(3,), dtype=float32)\n",
      "cost: tf.Tensor(0.013972763, shape=(), dtype=float32)\n",
      "W_grad: tf.Tensor([0.00255792], shape=(1,), dtype=float32) , b_grad:  tf.Tensor([-0.00581281], shape=(1,), dtype=float32)\n",
      "hypothesis:  tf.Tensor([1.9034482 2.66383   3.424212 ], shape=(3,), dtype=float32)\n",
      "cost: tf.Tensor(0.013968784, shape=(), dtype=float32)\n",
      "W_grad: tf.Tensor([0.00249615], shape=(1,), dtype=float32) , b_grad:  tf.Tensor([-0.00567317], shape=(1,), dtype=float32)\n",
      "hypothesis:  tf.Tensor([1.9037659 2.663898  3.4240303], shape=(3,), dtype=float32)\n",
      "cost: tf.Tensor(0.013964982, shape=(), dtype=float32)\n",
      "W_grad: tf.Tensor([0.00243521], shape=(1,), dtype=float32) , b_grad:  tf.Tensor([-0.00553719], shape=(1,), dtype=float32)\n",
      "hypothesis:  tf.Tensor([1.9040761 2.6639647 3.4238534], shape=(3,), dtype=float32)\n",
      "cost: tf.Tensor(0.013961379, shape=(), dtype=float32)\n",
      "W_grad: tf.Tensor([0.0023772], shape=(1,), dtype=float32) , b_grad:  tf.Tensor([-0.00540384], shape=(1,), dtype=float32)\n",
      "hypothesis:  tf.Tensor([1.9043788 2.6640296 3.4236808], shape=(3,), dtype=float32)\n",
      "cost: tf.Tensor(0.013957917, shape=(), dtype=float32)\n",
      "W_grad: tf.Tensor([0.0023202], shape=(1,), dtype=float32) , b_grad:  tf.Tensor([-0.0052739], shape=(1,), dtype=float32)\n",
      "hypothesis:  tf.Tensor([1.904674 2.664093 3.423512], shape=(3,), dtype=float32)\n",
      "cost: tf.Tensor(0.013954657, shape=(), dtype=float32)\n",
      "W_grad: tf.Tensor([0.00226402], shape=(1,), dtype=float32) , b_grad:  tf.Tensor([-0.0051473], shape=(1,), dtype=float32)\n",
      "hypothesis:  tf.Tensor([1.9049625 2.664155  3.4233475], shape=(3,), dtype=float32)\n",
      "cost: tf.Tensor(0.013951533, shape=(), dtype=float32)\n",
      "W_grad: tf.Tensor([0.00220999], shape=(1,), dtype=float32) , b_grad:  tf.Tensor([-0.00502332], shape=(1,), dtype=float32)\n",
      "hypothesis:  tf.Tensor([1.9052439 2.6642153 3.4231868], shape=(3,), dtype=float32)\n",
      "cost: tf.Tensor(0.013948556, shape=(), dtype=float32)\n",
      "W_grad: tf.Tensor([0.00215659], shape=(1,), dtype=float32) , b_grad:  tf.Tensor([-0.00490268], shape=(1,), dtype=float32)\n",
      "hypothesis:  tf.Tensor([1.9055185 2.6642742 3.4230301], shape=(3,), dtype=float32)\n",
      "cost: tf.Tensor(0.013945709, shape=(), dtype=float32)\n",
      "W_grad: tf.Tensor([0.00210491], shape=(1,), dtype=float32) , b_grad:  tf.Tensor([-0.00478475], shape=(1,), dtype=float32)\n",
      "hypothesis:  tf.Tensor([1.9057865 2.664332  3.4228773], shape=(3,), dtype=float32)\n",
      "cost: tf.Tensor(0.013943023, shape=(), dtype=float32)\n",
      "W_grad: tf.Tensor([0.00205486], shape=(1,), dtype=float32) , b_grad:  tf.Tensor([-0.00466951], shape=(1,), dtype=float32)\n",
      "hypothesis:  tf.Tensor([1.906048 2.664388 3.422728], shape=(3,), dtype=float32)\n",
      "cost: tf.Tensor(0.013940438, shape=(), dtype=float32)\n",
      "W_grad: tf.Tensor([0.00200541], shape=(1,), dtype=float32) , b_grad:  tf.Tensor([-0.0045573], shape=(1,), dtype=float32)\n",
      "hypothesis:  tf.Tensor([1.9063032 2.6644425 3.422582 ], shape=(3,), dtype=float32)\n",
      "cost: tf.Tensor(0.013938002, shape=(), dtype=float32)\n",
      "W_grad: tf.Tensor([0.00195599], shape=(1,), dtype=float32) , b_grad:  tf.Tensor([-0.00444825], shape=(1,), dtype=float32)\n",
      "hypothesis:  tf.Tensor([1.9065523 2.664496  3.42244  ], shape=(3,), dtype=float32)\n",
      "cost: tf.Tensor(0.013935644, shape=(), dtype=float32)\n",
      "W_grad: tf.Tensor([0.00190957], shape=(1,), dtype=float32) , b_grad:  tf.Tensor([-0.00434113], shape=(1,), dtype=float32)\n",
      "hypothesis:  tf.Tensor([1.9067955 2.6645484 3.4223008], shape=(3,), dtype=float32)\n",
      "cost: tf.Tensor(0.013933473, shape=(), dtype=float32)\n",
      "W_grad: tf.Tensor([0.00186317], shape=(1,), dtype=float32) , b_grad:  tf.Tensor([-0.00423685], shape=(1,), dtype=float32)\n",
      "hypothesis:  tf.Tensor([1.9070328 2.6645994 3.4221659], shape=(3,), dtype=float32)\n",
      "cost: tf.Tensor(0.013931338, shape=(), dtype=float32)\n",
      "W_grad: tf.Tensor([0.00181954], shape=(1,), dtype=float32) , b_grad:  tf.Tensor([-0.00413457], shape=(1,), dtype=float32)\n",
      "hypothesis:  tf.Tensor([1.9072642 2.6646488 3.4220333], shape=(3,), dtype=float32)\n",
      "cost: tf.Tensor(0.013929316, shape=(), dtype=float32)\n",
      "W_grad: tf.Tensor([0.00177447], shape=(1,), dtype=float32) , b_grad:  tf.Tensor([-0.00403579], shape=(1,), dtype=float32)\n",
      "hypothesis:  tf.Tensor([1.9074904 2.6646974 3.4219046], shape=(3,), dtype=float32)\n",
      "cost: tf.Tensor(0.013927388, shape=(), dtype=float32)\n",
      "W_grad: tf.Tensor([0.00173259], shape=(1,), dtype=float32) , b_grad:  tf.Tensor([-0.00393844], shape=(1,), dtype=float32)\n",
      "hypothesis:  tf.Tensor([1.907711  2.6647449 3.4217784], shape=(3,), dtype=float32)\n",
      "cost: tf.Tensor(0.0139255775, shape=(), dtype=float32)\n",
      "W_grad: tf.Tensor([0.0016907], shape=(1,), dtype=float32) , b_grad:  tf.Tensor([-0.00384379], shape=(1,), dtype=float32)\n",
      "hypothesis:  tf.Tensor([1.9079262 2.6647909 3.4216557], shape=(3,), dtype=float32)\n",
      "cost: tf.Tensor(0.013923817, shape=(), dtype=float32)\n",
      "W_grad: tf.Tensor([0.00164995], shape=(1,), dtype=float32) , b_grad:  tf.Tensor([-0.00375151], shape=(1,), dtype=float32)\n",
      "hypothesis:  tf.Tensor([1.9081364 2.664836  3.421536 ], shape=(3,), dtype=float32)\n",
      "cost: tf.Tensor(0.013922139, shape=(), dtype=float32)\n",
      "W_grad: tf.Tensor([0.00161076], shape=(1,), dtype=float32) , b_grad:  tf.Tensor([-0.00366116], shape=(1,), dtype=float32)\n",
      "hypothesis:  tf.Tensor([1.9083414 2.66488   3.4214187], shape=(3,), dtype=float32)\n",
      "cost: tf.Tensor(0.013920584, shape=(), dtype=float32)\n",
      "W_grad: tf.Tensor([0.00157166], shape=(1,), dtype=float32) , b_grad:  tf.Tensor([-0.00357326], shape=(1,), dtype=float32)\n",
      "hypothesis:  tf.Tensor([1.9085414 2.664923  3.4213042], shape=(3,), dtype=float32)\n",
      "cost: tf.Tensor(0.01391909, shape=(), dtype=float32)\n",
      "W_grad: tf.Tensor([0.00153334], shape=(1,), dtype=float32) , b_grad:  tf.Tensor([-0.00348759], shape=(1,), dtype=float32)\n",
      "hypothesis:  tf.Tensor([1.908737  2.6649652 3.4211931], shape=(3,), dtype=float32)\n",
      "cost: tf.Tensor(0.013917658, shape=(), dtype=float32)\n",
      "W_grad: tf.Tensor([0.00149775], shape=(1,), dtype=float32) , b_grad:  tf.Tensor([-0.00340319], shape=(1,), dtype=float32)\n",
      "hypothesis:  tf.Tensor([1.9089274 2.6650057 3.4210842], shape=(3,), dtype=float32)\n",
      "cost: tf.Tensor(0.013916265, shape=(), dtype=float32)\n",
      "W_grad: tf.Tensor([0.00146088], shape=(1,), dtype=float32) , b_grad:  tf.Tensor([-0.00332181], shape=(1,), dtype=float32)\n",
      "hypothesis:  tf.Tensor([1.9091136 2.6650457 3.420978 ], shape=(3,), dtype=float32)\n",
      "cost: tf.Tensor(0.013914964, shape=(), dtype=float32)\n",
      "W_grad: tf.Tensor([0.00142622], shape=(1,), dtype=float32) , b_grad:  tf.Tensor([-0.0032417], shape=(1,), dtype=float32)\n",
      "hypothesis:  tf.Tensor([1.9092951 2.6650848 3.4208744], shape=(3,), dtype=float32)\n",
      "cost: tf.Tensor(0.013913752, shape=(), dtype=float32)\n",
      "W_grad: tf.Tensor([0.00139189], shape=(1,), dtype=float32) , b_grad:  tf.Tensor([-0.00316381], shape=(1,), dtype=float32)\n",
      "hypothesis:  tf.Tensor([1.9094723 2.6651227 3.420773 ], shape=(3,), dtype=float32)\n",
      "cost: tf.Tensor(0.013912563, shape=(), dtype=float32)\n",
      "W_grad: tf.Tensor([0.00135796], shape=(1,), dtype=float32) , b_grad:  tf.Tensor([-0.00308792], shape=(1,), dtype=float32)\n",
      "hypothesis:  tf.Tensor([1.9096453 2.66516   3.4206746], shape=(3,), dtype=float32)\n",
      "cost: tf.Tensor(0.0139114335, shape=(), dtype=float32)\n",
      "W_grad: tf.Tensor([0.00132594], shape=(1,), dtype=float32) , b_grad:  tf.Tensor([-0.00301345], shape=(1,), dtype=float32)\n",
      "hypothesis:  tf.Tensor([1.9098141 2.665196  3.420578 ], shape=(3,), dtype=float32)\n",
      "cost: tf.Tensor(0.0139103485, shape=(), dtype=float32)\n",
      "W_grad: tf.Tensor([0.00129335], shape=(1,), dtype=float32) , b_grad:  tf.Tensor([-0.00294129], shape=(1,), dtype=float32)\n",
      "hypothesis:  tf.Tensor([1.9099789 2.6652315 3.420484 ], shape=(3,), dtype=float32)\n",
      "cost: tf.Tensor(0.013909341, shape=(), dtype=float32)\n",
      "W_grad: tf.Tensor([0.00126266], shape=(1,), dtype=float32) , b_grad:  tf.Tensor([-0.0028704], shape=(1,), dtype=float32)\n",
      "hypothesis:  tf.Tensor([1.9101396 2.665266  3.4203925], shape=(3,), dtype=float32)\n",
      "cost: tf.Tensor(0.013908371, shape=(), dtype=float32)\n",
      "W_grad: tf.Tensor([0.00123279], shape=(1,), dtype=float32) , b_grad:  tf.Tensor([-0.00280126], shape=(1,), dtype=float32)\n",
      "hypothesis:  tf.Tensor([1.9102964 2.6652997 3.4203029], shape=(3,), dtype=float32)\n",
      "cost: tf.Tensor(0.013907445, shape=(), dtype=float32)\n",
      "W_grad: tf.Tensor([0.00120291], shape=(1,), dtype=float32) , b_grad:  tf.Tensor([-0.00273403], shape=(1,), dtype=float32)\n",
      "hypothesis:  tf.Tensor([1.9104495 2.6653323 3.4202154], shape=(3,), dtype=float32)\n",
      "cost: tf.Tensor(0.013906551, shape=(), dtype=float32)\n",
      "W_grad: tf.Tensor([0.0011735], shape=(1,), dtype=float32) , b_grad:  tf.Tensor([-0.00266854], shape=(1,), dtype=float32)\n",
      "hypothesis:  tf.Tensor([1.9105991 2.6653647 3.4201303], shape=(3,), dtype=float32)\n",
      "cost: tf.Tensor(0.01390573, shape=(), dtype=float32)\n",
      "W_grad: tf.Tensor([0.00114624], shape=(1,), dtype=float32) , b_grad:  tf.Tensor([-0.00260393], shape=(1,), dtype=float32)\n",
      "hypothesis:  tf.Tensor([1.9107449 2.6653957 3.4200468], shape=(3,), dtype=float32)\n",
      "cost: tf.Tensor(0.013904911, shape=(), dtype=float32)\n",
      "W_grad: tf.Tensor([0.00111786], shape=(1,), dtype=float32) , b_grad:  tf.Tensor([-0.00254171], shape=(1,), dtype=float32)\n",
      "hypothesis:  tf.Tensor([1.9108872 2.6654263 3.4199657], shape=(3,), dtype=float32)\n",
      "cost: tf.Tensor(0.013904137, shape=(), dtype=float32)\n",
      "W_grad: tf.Tensor([0.00109133], shape=(1,), dtype=float32) , b_grad:  tf.Tensor([-0.00248051], shape=(1,), dtype=float32)\n",
      "hypothesis:  tf.Tensor([1.9110262 2.6654563 3.419886 ], shape=(3,), dtype=float32)\n",
      "cost: tf.Tensor(0.01390345, shape=(), dtype=float32)\n",
      "W_grad: tf.Tensor([0.00106478], shape=(1,), dtype=float32) , b_grad:  tf.Tensor([-0.0024209], shape=(1,), dtype=float32)\n",
      "hypothesis:  tf.Tensor([1.9111619 2.6654854 3.4198089], shape=(3,), dtype=float32)\n",
      "cost: tf.Tensor(0.013902746, shape=(), dtype=float32)\n",
      "W_grad: tf.Tensor([0.00103951], shape=(1,), dtype=float32) , b_grad:  tf.Tensor([-0.00236257], shape=(1,), dtype=float32)\n",
      "hypothesis:  tf.Tensor([1.9112942 2.6655138 3.4197335], shape=(3,), dtype=float32)\n",
      "cost: tf.Tensor(0.013902075, shape=(), dtype=float32)\n",
      "W_grad: tf.Tensor([0.00101486], shape=(1,), dtype=float32) , b_grad:  tf.Tensor([-0.00230567], shape=(1,), dtype=float32)\n",
      "hypothesis:  tf.Tensor([1.9114232 2.6655412 3.4196596], shape=(3,), dtype=float32)\n",
      "cost: tf.Tensor(0.013901435, shape=(), dtype=float32)\n",
      "W_grad: tf.Tensor([0.0009896], shape=(1,), dtype=float32) , b_grad:  tf.Tensor([-0.00225067], shape=(1,), dtype=float32)\n",
      "hypothesis:  tf.Tensor([1.9115493 2.6655684 3.4195876], shape=(3,), dtype=float32)\n",
      "cost: tf.Tensor(0.013900851, shape=(), dtype=float32)\n",
      "W_grad: tf.Tensor([0.00096592], shape=(1,), dtype=float32) , b_grad:  tf.Tensor([-0.00219647], shape=(1,), dtype=float32)\n",
      "hypothesis:  tf.Tensor([1.9116724 2.665595  3.4195175], shape=(3,), dtype=float32)\n",
      "cost: tf.Tensor(0.013900309, shape=(), dtype=float32)\n",
      "W_grad: tf.Tensor([0.00094335], shape=(1,), dtype=float32) , b_grad:  tf.Tensor([-0.00214338], shape=(1,), dtype=float32)\n",
      "hypothesis:  tf.Tensor([1.9117924 2.6656206 3.4194489], shape=(3,), dtype=float32)\n",
      "cost: tf.Tensor(0.013899746, shape=(), dtype=float32)\n",
      "W_grad: tf.Tensor([0.00092006], shape=(1,), dtype=float32) , b_grad:  tf.Tensor([-0.00209212], shape=(1,), dtype=float32)\n",
      "hypothesis:  tf.Tensor([1.9119096 2.6656456 3.419382 ], shape=(3,), dtype=float32)\n",
      "cost: tf.Tensor(0.013899211, shape=(), dtype=float32)\n",
      "W_grad: tf.Tensor([0.00089805], shape=(1,), dtype=float32) , b_grad:  tf.Tensor([-0.00204181], shape=(1,), dtype=float32)\n",
      "hypothesis:  tf.Tensor([1.912024  2.6656704 3.4193165], shape=(3,), dtype=float32)\n",
      "cost: tf.Tensor(0.013898759, shape=(), dtype=float32)\n",
      "W_grad: tf.Tensor([0.00087626], shape=(1,), dtype=float32) , b_grad:  tf.Tensor([-0.00199271], shape=(1,), dtype=float32)\n",
      "hypothesis:  tf.Tensor([1.9121356 2.6656942 3.419253 ], shape=(3,), dtype=float32)\n",
      "cost: tf.Tensor(0.013898264, shape=(), dtype=float32)\n",
      "W_grad: tf.Tensor([0.00085561], shape=(1,), dtype=float32) , b_grad:  tf.Tensor([-0.0019447], shape=(1,), dtype=float32)\n",
      "hypothesis:  tf.Tensor([1.9122446 2.6657176 3.419191 ], shape=(3,), dtype=float32)\n",
      "cost: tf.Tensor(0.0138978185, shape=(), dtype=float32)\n",
      "W_grad: tf.Tensor([0.00083494], shape=(1,), dtype=float32) , b_grad:  tf.Tensor([-0.00189797], shape=(1,), dtype=float32)\n",
      "hypothesis:  tf.Tensor([1.9123509 2.6657405 3.4191303], shape=(3,), dtype=float32)\n",
      "cost: tf.Tensor(0.013897393, shape=(), dtype=float32)\n",
      "W_grad: tf.Tensor([0.00081523], shape=(1,), dtype=float32) , b_grad:  tf.Tensor([-0.0018522], shape=(1,), dtype=float32)\n",
      "hypothesis:  tf.Tensor([1.9124546 2.6657627 3.4190707], shape=(3,), dtype=float32)\n",
      "cost: tf.Tensor(0.013897002, shape=(), dtype=float32)\n",
      "W_grad: tf.Tensor([0.00079472], shape=(1,), dtype=float32) , b_grad:  tf.Tensor([-0.00180801], shape=(1,), dtype=float32)\n",
      "hypothesis:  tf.Tensor([1.9125559 2.6657846 3.4190133], shape=(3,), dtype=float32)\n",
      "cost: tf.Tensor(0.013896615, shape=(), dtype=float32)\n",
      "W_grad: tf.Tensor([0.00077662], shape=(1,), dtype=float32) , b_grad:  tf.Tensor([-0.00176414], shape=(1,), dtype=float32)\n",
      "hypothesis:  tf.Tensor([1.9126546 2.6658058 3.4189568], shape=(3,), dtype=float32)\n",
      "cost: tf.Tensor(0.013896263, shape=(), dtype=float32)\n",
      "W_grad: tf.Tensor([0.00075769], shape=(1,), dtype=float32) , b_grad:  tf.Tensor([-0.00172186], shape=(1,), dtype=float32)\n",
      "hypothesis:  tf.Tensor([1.9127511 2.6658263 3.4189017], shape=(3,), dtype=float32)\n",
      "cost: tf.Tensor(0.013895893, shape=(), dtype=float32)\n",
      "W_grad: tf.Tensor([0.00073917], shape=(1,), dtype=float32) , b_grad:  tf.Tensor([-0.00168062], shape=(1,), dtype=float32)\n",
      "hypothesis:  tf.Tensor([1.9128453 2.6658466 3.418848 ], shape=(3,), dtype=float32)\n",
      "cost: tf.Tensor(0.013895561, shape=(), dtype=float32)\n",
      "W_grad: tf.Tensor([0.00072169], shape=(1,), dtype=float32) , b_grad:  tf.Tensor([-0.00164008], shape=(1,), dtype=float32)\n",
      "hypothesis:  tf.Tensor([1.9129372 2.6658664 3.4187953], shape=(3,), dtype=float32)\n",
      "cost: tf.Tensor(0.013895263, shape=(), dtype=float32)\n",
      "W_grad: tf.Tensor([0.00070396], shape=(1,), dtype=float32) , b_grad:  tf.Tensor([-0.00160075], shape=(1,), dtype=float32)\n",
      "hypothesis:  tf.Tensor([1.9130268 2.6658854 3.4187446], shape=(3,), dtype=float32)\n",
      "cost: tf.Tensor(0.013894922, shape=(), dtype=float32)\n",
      "W_grad: tf.Tensor([0.0006876], shape=(1,), dtype=float32) , b_grad:  tf.Tensor([-0.00156212], shape=(1,), dtype=float32)\n",
      "hypothesis:  tf.Tensor([1.9131142 2.665904  3.418694 ], shape=(3,), dtype=float32)\n",
      "cost: tf.Tensor(0.013894652, shape=(), dtype=float32)\n",
      "W_grad: tf.Tensor([0.00066957], shape=(1,), dtype=float32) , b_grad:  tf.Tensor([-0.00152516], shape=(1,), dtype=float32)\n",
      "hypothesis:  tf.Tensor([1.9131997 2.6659226 3.4186459], shape=(3,), dtype=float32)\n",
      "cost: tf.Tensor(0.013894373, shape=(), dtype=float32)\n",
      "W_grad: tf.Tensor([0.00065503], shape=(1,), dtype=float32) , b_grad:  tf.Tensor([-0.00148789], shape=(1,), dtype=float32)\n",
      "hypothesis:  tf.Tensor([1.913283  2.6659405 3.4185982], shape=(3,), dtype=float32)\n",
      "cost: tf.Tensor(0.013894118, shape=(), dtype=float32)\n",
      "W_grad: tf.Tensor([0.00063905], shape=(1,), dtype=float32) , b_grad:  tf.Tensor([-0.00145221], shape=(1,), dtype=float32)\n",
      "hypothesis:  tf.Tensor([1.9133643 2.665958  3.4185517], shape=(3,), dtype=float32)\n",
      "cost: tf.Tensor(0.01389387, shape=(), dtype=float32)\n",
      "W_grad: tf.Tensor([0.00062346], shape=(1,), dtype=float32) , b_grad:  tf.Tensor([-0.0014174], shape=(1,), dtype=float32)\n",
      "hypothesis:  tf.Tensor([1.9134437 2.665975  3.4185061], shape=(3,), dtype=float32)\n",
      "cost: tf.Tensor(0.013893659, shape=(), dtype=float32)\n",
      "W_grad: tf.Tensor([0.00060821], shape=(1,), dtype=float32) , b_grad:  tf.Tensor([-0.00138339], shape=(1,), dtype=float32)\n",
      "hypothesis:  tf.Tensor([1.9135212 2.6659918 3.4184623], shape=(3,), dtype=float32)\n",
      "cost: tf.Tensor(0.013893419, shape=(), dtype=float32)\n",
      "W_grad: tf.Tensor([0.00059438], shape=(1,), dtype=float32) , b_grad:  tf.Tensor([-0.00134984], shape=(1,), dtype=float32)\n",
      "hypothesis:  tf.Tensor([1.9135966 2.6660078 3.418419 ], shape=(3,), dtype=float32)\n",
      "cost: tf.Tensor(0.013893198, shape=(), dtype=float32)\n",
      "W_grad: tf.Tensor([0.00057921], shape=(1,), dtype=float32) , b_grad:  tf.Tensor([-0.00131782], shape=(1,), dtype=float32)\n",
      "hypothesis:  tf.Tensor([1.9136705 2.6660237 3.4183767], shape=(3,), dtype=float32)\n",
      "cost: tf.Tensor(0.013893007, shape=(), dtype=float32)\n",
      "W_grad: tf.Tensor([0.00056536], shape=(1,), dtype=float32) , b_grad:  tf.Tensor([-0.00128603], shape=(1,), dtype=float32)\n",
      "hypothesis:  tf.Tensor([1.9137425 2.666039  3.418336 ], shape=(3,), dtype=float32)\n",
      "cost: tf.Tensor(0.013892773, shape=(), dtype=float32)\n",
      "W_grad: tf.Tensor([0.00055218], shape=(1,), dtype=float32) , b_grad:  tf.Tensor([-0.00125504], shape=(1,), dtype=float32)\n",
      "hypothesis:  tf.Tensor([1.9138129 2.6660542 3.4182956], shape=(3,), dtype=float32)\n",
      "cost: tf.Tensor(0.013892613, shape=(), dtype=float32)\n",
      "W_grad: tf.Tensor([0.00053883], shape=(1,), dtype=float32) , b_grad:  tf.Tensor([-0.00122483], shape=(1,), dtype=float32)\n",
      "hypothesis:  tf.Tensor([1.9138814 2.666069  3.4182563], shape=(3,), dtype=float32)\n",
      "cost: tf.Tensor(0.013892456, shape=(), dtype=float32)\n",
      "W_grad: tf.Tensor([0.00052556], shape=(1,), dtype=float32) , b_grad:  tf.Tensor([-0.00119551], shape=(1,), dtype=float32)\n",
      "hypothesis:  tf.Tensor([1.9139484 2.6660833 3.4182184], shape=(3,), dtype=float32)\n",
      "cost: tf.Tensor(0.01389226, shape=(), dtype=float32)\n",
      "W_grad: tf.Tensor([0.00051348], shape=(1,), dtype=float32) , b_grad:  tf.Tensor([-0.00116658], shape=(1,), dtype=float32)\n",
      "hypothesis:  tf.Tensor([1.9140139 2.6660974 3.418181 ], shape=(3,), dtype=float32)\n",
      "cost: tf.Tensor(0.013892107, shape=(), dtype=float32)\n",
      "W_grad: tf.Tensor([0.00050099], shape=(1,), dtype=float32) , b_grad:  tf.Tensor([-0.00113853], shape=(1,), dtype=float32)\n"
     ]
    }
   ],
   "source": [
    "for i in range(100):\n",
    "    with tf.GradientTape() as tape:\n",
    "        hypothesis = W * X + b\n",
    "        print(\"hypothesis: \", hypothesis)\n",
    "        cost = tf.reduce_mean(tf.square(hypothesis-Y))\n",
    "        print(\"cost:\", cost)\n",
    "        \n",
    "        \n",
    "    W_grad, b_grad = tape.gradient(cost, [W,b])\n",
    "    print(\"W_grad:\", W_grad, \", b_grad: \", b_grad)\n",
    "    W.assign_sub(W_grad * learning_rate)\n",
    "    b.assign_sub(b_grad * learning_rate)    "
   ]
  },
  {
   "cell_type": "code",
   "execution_count": 11,
   "metadata": {},
   "outputs": [
    {
     "name": "stdout",
     "output_type": "stream",
     "text": [
      "i=99, W=[0.7520335], b=[1.162044], cost=0.013892106711864471\n"
     ]
    }
   ],
   "source": [
    "print(\"i={}, W={}, b={}, cost={}\".format(i, W.numpy(), b.numpy(),cost))"
   ]
  },
  {
   "cell_type": "code",
   "execution_count": 14,
   "metadata": {},
   "outputs": [
    {
     "data": {
      "text/plain": [
       "(0, 4)"
      ]
     },
     "execution_count": 14,
     "metadata": {},
     "output_type": "execute_result"
    },
    {
     "data": {
      "image/png": "[encoded data removed]",
      "text/plain": [
       "<Figure size 432x288 with 1 Axes>"
      ]
     },
     "metadata": {
      "needs_background": "light"
     },
     "output_type": "display_data"
    }
   ],
   "source": [
    "plt.plot(X,Y,marker='o')\n",
    "plt.plot(X, hypothesis.numpy(), mfc='r', ls='-')\n",
    "plt.ylim(0,4)\n",
    "\n",
    "#파란색이 원래 갖고 있는 데이터\n",
    "#주황색 우리가 그린 선. "
   ]
  },
  {
   "cell_type": "code",
   "execution_count": 18,
   "metadata": {},
   "outputs": [
    {
     "name": "stdout",
     "output_type": "stream",
     "text": [
      "X = 10, Y=  tf.Tensor([8.682379], shape=(1,), dtype=float32)\n"
     ]
    }
   ],
   "source": [
    "print(\"X = 10, Y= \", W*10+b)"
   ]
  },
  {
   "cell_type": "code",
   "execution_count": 19,
   "metadata": {},
   "outputs": [
    {
     "name": "stdout",
     "output_type": "stream",
     "text": [
      "X = 20, Y=  tf.Tensor([16.202713], shape=(1,), dtype=float32)\n"
     ]
    }
   ],
   "source": [
    "print(\"X = 20, Y= \", W*20+b)"
   ]
  }
 ],
 "metadata": {
  "kernelspec": {
   "display_name": "Python 3",
   "language": "python",
   "name": "python3"
  },
  "language_info": {
   "codemirror_mode": {
    "name": "ipython",
    "version": 3
   },
   "file_extension": ".py",
   "mimetype": "text/x-python",
   "name": "python",
   "nbconvert_exporter": "python",
   "pygments_lexer": "ipython3",
   "version": "3.7.7"
  }
 },
 "nbformat": 4,
 "nbformat_minor": 4
}
