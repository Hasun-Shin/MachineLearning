{
 "cells": [
  {
   "cell_type": "code",
   "execution_count": 1,
   "metadata": {},
   "outputs": [],
   "source": [
    "import time, warnings\n",
    "from tensorflow.keras.layers import Dense, Activation, Dropout, LSTM, Input\n",
    "from tensorflow.keras.models import Model\n",
    "from tensorflow.keras.optimizers import SGD, Adam\n",
    "from numpy import newaxis # 차원을 분해한 후 한 단계 추가\n",
    "\n",
    "from sklearn.preprocessing import StandardScaler\n",
    "from sklearn.metrics import mean_squared_error\n",
    "\n",
    "import matplotlib.pyplot as plt\n",
    "import pandas as pd\n",
    "import numpy as np\n"
   ]
  },
  {
   "cell_type": "code",
   "execution_count": 2,
   "metadata": {},
   "outputs": [],
   "source": [
    "data_file = 'sp500.csv' #추세그래프 그리기. \n",
    "df = pd.read_csv(data_file, names=['price'])"
   ]
  },
  {
   "cell_type": "code",
   "execution_count": 74,
   "metadata": {},
   "outputs": [
    {
     "data": {
      "text/html": [
       "<div>\n",
       "<style scoped>\n",
       "    .dataframe tbody tr th:only-of-type {\n",
       "        vertical-align: middle;\n",
       "    }\n",
       "\n",
       "    .dataframe tbody tr th {\n",
       "        vertical-align: top;\n",
       "    }\n",
       "\n",
       "    .dataframe thead th {\n",
       "        text-align: right;\n",
       "    }\n",
       "</style>\n",
       "<table border=\"1\" class=\"dataframe\">\n",
       "  <thead>\n",
       "    <tr style=\"text-align: right;\">\n",
       "      <th></th>\n",
       "      <th>price</th>\n",
       "    </tr>\n",
       "  </thead>\n",
       "  <tbody>\n",
       "    <tr>\n",
       "      <td>4166</td>\n",
       "      <td>2169.179932</td>\n",
       "    </tr>\n",
       "    <tr>\n",
       "      <td>4167</td>\n",
       "      <td>2166.580078</td>\n",
       "    </tr>\n",
       "    <tr>\n",
       "      <td>4168</td>\n",
       "      <td>2170.060059</td>\n",
       "    </tr>\n",
       "    <tr>\n",
       "      <td>4169</td>\n",
       "      <td>2173.600098</td>\n",
       "    </tr>\n",
       "    <tr>\n",
       "      <td>4170</td>\n",
       "      <td>2170.840088</td>\n",
       "    </tr>\n",
       "  </tbody>\n",
       "</table>\n",
       "</div>"
      ],
      "text/plain": [
       "            price\n",
       "4166  2169.179932\n",
       "4167  2166.580078\n",
       "4168  2170.060059\n",
       "4169  2173.600098\n",
       "4170  2170.840088"
      ]
     },
     "execution_count": 74,
     "metadata": {},
     "output_type": "execute_result"
    }
   ],
   "source": [
    "df.tail()"
   ]
  },
  {
   "cell_type": "code",
   "execution_count": 4,
   "metadata": {},
   "outputs": [],
   "source": [
    "# price = df['price'].tolist()\n",
    "price = df[['price']].values #tolist()\n",
    "\n",
    "\n",
    "\n",
    "\n",
    "window_size = 50"
   ]
  },
  {
   "cell_type": "code",
   "execution_count": 5,
   "metadata": {},
   "outputs": [
    {
     "data": {
      "text/plain": [
       "numpy.ndarray"
      ]
     },
     "execution_count": 5,
     "metadata": {},
     "output_type": "execute_result"
    }
   ],
   "source": [
    "type(price)"
   ]
  },
  {
   "cell_type": "code",
   "execution_count": 75,
   "metadata": {},
   "outputs": [],
   "source": [
    "## 훈련, 검증, 테스트용 데이터 작성\n",
    "## 과거 30일분의 주가로부터 당일의 주가 계산\n",
    "def data_split(data, start, end, window_size ):\n",
    "    length = abs(start - end) -window_size\n",
    "    \n",
    "    #초기 선언\n",
    "    X=np.zeros((length, window_size)) # 240 이면 30이다?\n",
    "    y=np.zeros((length, 1))\n",
    "    \n",
    "    for i in range(length):\n",
    "        j = start +i\n",
    "        k = j + window_size\n",
    "        \n",
    "        X[i] = data[j:k, 0]\n",
    "        y[i] = data[k,0]\n",
    "    \n",
    "            \n",
    "            \n",
    "        \n",
    "        \n",
    "    \n",
    "    return X, y "
   ]
  },
  {
   "cell_type": "code",
   "execution_count": 1,
   "metadata": {},
   "outputs": [],
   "source": [
    "length = 296"
   ]
  },
  {
   "cell_type": "code",
   "execution_count": 93,
   "metadata": {},
   "outputs": [],
   "source": [
    "## 훈련, 검증, 테스트용 데이터\n",
    "(X_train, y_train) = data_split(price, 0, 3000, window_size) #트레인 데이터 !!!! 는 과거 300일부터 과거 60일까지 !!!\n",
    "(X_valid, y_valid) = data_split(price, 3000, 3700, window_size)\n",
    "(X_test, y_test) = data_split(price, 3700, 4171, window_size)"
   ]
  },
  {
   "cell_type": "code",
   "execution_count": 79,
   "metadata": {},
   "outputs": [
    {
     "data": {
      "text/plain": [
       "array([2170.840088])"
      ]
     },
     "execution_count": 79,
     "metadata": {},
     "output_type": "execute_result"
    }
   ],
   "source": [
    "y_test[-1]"
   ]
  },
  {
   "cell_type": "code",
   "execution_count": 80,
   "metadata": {},
   "outputs": [
    {
     "data": {
      "text/plain": [
       "array([2170.840088])"
      ]
     },
     "execution_count": 80,
     "metadata": {},
     "output_type": "execute_result"
    }
   ],
   "source": [
    "price[-1]"
   ]
  },
  {
   "cell_type": "code",
   "execution_count": 94,
   "metadata": {},
   "outputs": [
    {
     "name": "stdout",
     "output_type": "stream",
     "text": [
      "(3033, 50)\n",
      "(3033, 1)\n",
      "(3033, 50)\n",
      "(3033, 1)\n",
      "(367, 50)\n"
     ]
    }
   ],
   "source": [
    "print(X_train.shape)\n",
    "print(y_train.shape)\n",
    "print(X_train.shape)\n",
    "print(y_train.shape)\n",
    "print(X_test.shape)"
   ]
  },
  {
   "cell_type": "code",
   "execution_count": 95,
   "metadata": {},
   "outputs": [],
   "source": [
    "## 표준화\n",
    "## X만 차원을 변환 (2차원 -> 3차원)\n",
    "\n",
    "scaler = StandardScaler()\n",
    "X_train_std = scaler.fit_transform(X_train)\n",
    "X_valid_std =scaler.fit_transform(X_valid)\n",
    "X_test_std =scaler.fit_transform(X_test)"
   ]
  },
  {
   "cell_type": "code",
   "execution_count": 96,
   "metadata": {},
   "outputs": [],
   "source": [
    "# scaler transform 사용\n",
    "\n",
    "\n",
    "y_train_std = scaler.fit_transform(y_train)\n",
    "y_valid_std =scaler.fit_transform(y_valid)\n",
    "y_test_std =scaler.fit_transform(y_test)"
   ]
  },
  {
   "cell_type": "code",
   "execution_count": 97,
   "metadata": {},
   "outputs": [
    {
     "data": {
      "text/plain": [
       "array([[[-0.22582047],\n",
       "        [-0.28994594],\n",
       "        [-0.38618209],\n",
       "        ...,\n",
       "        [-0.46524998],\n",
       "        [-0.45746294],\n",
       "        [-0.46722179]],\n",
       "\n",
       "       [[-0.28934656],\n",
       "        [-0.38565573],\n",
       "        [-0.36390571],\n",
       "        ...,\n",
       "        [-0.45695551],\n",
       "        [-0.46673075],\n",
       "        [-0.3701735 ]],\n",
       "\n",
       "       [[-0.38515128],\n",
       "        [-0.36335814],\n",
       "        [-0.36703921],\n",
       "        ...,\n",
       "        [-0.46623444],\n",
       "        [-0.36956427],\n",
       "        [-0.36026301]],\n",
       "\n",
       "       ...,\n",
       "\n",
       "       [[ 2.43909674],\n",
       "        [ 2.53753125],\n",
       "        [ 2.5186554 ],\n",
       "        ...,\n",
       "        [ 2.70868379],\n",
       "        [ 2.74608016],\n",
       "        [ 2.73102257]],\n",
       "\n",
       "       [[ 2.54093513],\n",
       "        [ 2.52194693],\n",
       "        [ 2.45779862],\n",
       "        ...,\n",
       "        [ 2.75043699],\n",
       "        [ 2.73540856],\n",
       "        [ 2.73228486]],\n",
       "\n",
       "       [[ 2.52533535],\n",
       "        [ 2.46103222],\n",
       "        [ 2.41828767],\n",
       "        ...,\n",
       "        [ 2.73975257],\n",
       "        [ 2.73667238],\n",
       "        [ 2.75322773]]])"
      ]
     },
     "execution_count": 97,
     "metadata": {},
     "output_type": "execute_result"
    }
   ],
   "source": [
    "# reshape (data개수, sequence, feature개수)\n",
    "# reshape(-1(지금가지고 있는 값 그대로 쓰겠다),30(window_size를 위에서 30으로 지정함.),1(종가 하나만 다루므로 1))\n",
    "\n",
    "X_valid_std=X_valid_std.reshape(-1, window_size, 1)\n",
    "X_test_std=X_test_std.reshape(-1, window_size, 1)\n",
    "X_train_std=X_train_std.reshape(-1, window_size, 1)\n",
    "\n",
    "X_train_std"
   ]
  },
  {
   "cell_type": "code",
   "execution_count": 98,
   "metadata": {},
   "outputs": [
    {
     "name": "stdout",
     "output_type": "stream",
     "text": [
      "WARNING:tensorflow:Entity <function standard_lstm at 0x0000024F17C6D1F8> could not be transformed and will be executed as-is. Please report this to the AutoGraph team. When filing the bug, set the verbosity to 10 (on Linux, `export AUTOGRAPH_VERBOSITY=10`) and attach the full output. Cause: converting <function standard_lstm at 0x0000024F17C6D1F8>: AttributeError: module 'gast' has no attribute 'Num'\n",
      "WARNING: Entity <function standard_lstm at 0x0000024F17C6D1F8> could not be transformed and will be executed as-is. Please report this to the AutoGraph team. When filing the bug, set the verbosity to 10 (on Linux, `export AUTOGRAPH_VERBOSITY=10`) and attach the full output. Cause: converting <function standard_lstm at 0x0000024F17C6D1F8>: AttributeError: module 'gast' has no attribute 'Num'\n",
      "WARNING:tensorflow:Entity <function cudnn_lstm at 0x0000024F17C6D288> could not be transformed and will be executed as-is. Please report this to the AutoGraph team. When filing the bug, set the verbosity to 10 (on Linux, `export AUTOGRAPH_VERBOSITY=10`) and attach the full output. Cause: converting <function cudnn_lstm at 0x0000024F17C6D288>: AttributeError: module 'gast' has no attribute 'Num'\n",
      "WARNING: Entity <function cudnn_lstm at 0x0000024F17C6D288> could not be transformed and will be executed as-is. Please report this to the AutoGraph team. When filing the bug, set the verbosity to 10 (on Linux, `export AUTOGRAPH_VERBOSITY=10`) and attach the full output. Cause: converting <function cudnn_lstm at 0x0000024F17C6D288>: AttributeError: module 'gast' has no attribute 'Num'\n",
      "Model: \"model_3\"\n",
      "_________________________________________________________________\n",
      "Layer (type)                 Output Shape              Param #   \n",
      "=================================================================\n",
      "input_4 (InputLayer)         [(None, 50, 1)]           0         \n",
      "_________________________________________________________________\n",
      "lstm_3 (LSTM)                (None, 128)               66560     \n",
      "_________________________________________________________________\n",
      "dense_3 (Dense)              (None, 1)                 129       \n",
      "=================================================================\n",
      "Total params: 66,689\n",
      "Trainable params: 66,689\n",
      "Non-trainable params: 0\n",
      "_________________________________________________________________\n"
     ]
    }
   ],
   "source": [
    "## 훈련 RNN (model -> LSTM)\n",
    "# Input -> LSTM(128) -> Dense\n",
    "# compile -> loss=mse, optimizer=adam, metrics = 'accuracy'\n",
    "\n",
    "\n",
    "\n",
    "\n",
    "i = Input(shape=(window_size, 1))\n",
    "\n",
    "x = LSTM(128)(i)\n",
    "x = Dense(1)(x)\n",
    "model = Model(i,x)\n",
    "\n",
    "model.compile(loss='mse',optimizer='adam',metrics=['accuracy'])\n",
    "\n",
    "\n",
    "model.summary()"
   ]
  },
  {
   "cell_type": "code",
   "execution_count": 99,
   "metadata": {},
   "outputs": [
    {
     "name": "stdout",
     "output_type": "stream",
     "text": [
      "Train on 3033 samples, validate on 620 samples\n",
      "Epoch 1/100\n",
      "3033/3033 [==============================] - 5s 2ms/sample - loss: 0.1211 - accuracy: 0.0000e+00 - val_loss: 0.1410 - val_accuracy: 0.0000e+00\n",
      "Epoch 2/100\n",
      "3033/3033 [==============================] - 4s 1ms/sample - loss: 0.0136 - accuracy: 0.0000e+00 - val_loss: 0.1331 - val_accuracy: 0.0000e+00\n",
      "Epoch 3/100\n",
      "3033/3033 [==============================] - 4s 1ms/sample - loss: 0.0126 - accuracy: 0.0000e+00 - val_loss: 0.1287 - val_accuracy: 0.0000e+00\n",
      "Epoch 4/100\n",
      "3033/3033 [==============================] - 4s 1ms/sample - loss: 0.0118 - accuracy: 0.0000e+00 - val_loss: 0.1233 - val_accuracy: 0.0000e+00\n",
      "Epoch 5/100\n",
      "3033/3033 [==============================] - 4s 1ms/sample - loss: 0.0113 - accuracy: 0.0000e+00 - val_loss: 0.1190 - val_accuracy: 0.0000e+00\n",
      "Epoch 6/100\n",
      "3033/3033 [==============================] - 4s 1ms/sample - loss: 0.0107 - accuracy: 0.0000e+00 - val_loss: 0.1144 - val_accuracy: 0.0000e+00\n",
      "Epoch 7/100\n",
      "3033/3033 [==============================] - 3s 1ms/sample - loss: 0.0103 - accuracy: 0.0000e+00 - val_loss: 0.1088 - val_accuracy: 0.0000e+00\n",
      "Epoch 8/100\n",
      "3033/3033 [==============================] - 4s 1ms/sample - loss: 0.0099 - accuracy: 0.0000e+00 - val_loss: 0.1053 - val_accuracy: 0.0000e+00\n",
      "Epoch 9/100\n",
      "3033/3033 [==============================] - 4s 1ms/sample - loss: 0.0095 - accuracy: 0.0000e+00 - val_loss: 0.1001 - val_accuracy: 0.0000e+00\n",
      "Epoch 10/100\n",
      "3033/3033 [==============================] - 4s 1ms/sample - loss: 0.0090 - accuracy: 0.0000e+00 - val_loss: 0.0939 - val_accuracy: 0.0000e+00\n",
      "Epoch 11/100\n",
      "3033/3033 [==============================] - 4s 1ms/sample - loss: 0.0086 - accuracy: 0.0000e+00 - val_loss: 0.0888 - val_accuracy: 0.0000e+00\n",
      "Epoch 12/100\n",
      "3033/3033 [==============================] - 4s 1ms/sample - loss: 0.0081 - accuracy: 0.0000e+00 - val_loss: 0.0826 - val_accuracy: 0.0000e+00\n",
      "Epoch 13/100\n",
      "3033/3033 [==============================] - 4s 1ms/sample - loss: 0.0077 - accuracy: 0.0000e+00 - val_loss: 0.0759 - val_accuracy: 0.0000e+00\n",
      "Epoch 14/100\n",
      "3033/3033 [==============================] - 4s 1ms/sample - loss: 0.0071 - accuracy: 0.0000e+00 - val_loss: 0.0675 - val_accuracy: 0.0000e+00\n",
      "Epoch 15/100\n",
      "3033/3033 [==============================] - 4s 1ms/sample - loss: 0.0065 - accuracy: 0.0000e+00 - val_loss: 0.0668 - val_accuracy: 0.0000e+00\n",
      "Epoch 16/100\n",
      "3033/3033 [==============================] - 4s 1ms/sample - loss: 0.0064 - accuracy: 0.0000e+00 - val_loss: 0.0616 - val_accuracy: 0.0000e+00\n",
      "Epoch 17/100\n",
      "3033/3033 [==============================] - 4s 1ms/sample - loss: 0.0064 - accuracy: 0.0000e+00 - val_loss: 0.0611 - val_accuracy: 0.0000e+00\n",
      "Epoch 18/100\n",
      "3033/3033 [==============================] - 4s 1ms/sample - loss: 0.0058 - accuracy: 0.0000e+00 - val_loss: 0.0564 - val_accuracy: 0.0000e+00\n",
      "Epoch 19/100\n",
      "3033/3033 [==============================] - 4s 1ms/sample - loss: 0.0058 - accuracy: 0.0000e+00 - val_loss: 0.0593 - val_accuracy: 0.0000e+00\n",
      "Epoch 20/100\n",
      "3033/3033 [==============================] - 4s 1ms/sample - loss: 0.0060 - accuracy: 0.0000e+00 - val_loss: 0.0554 - val_accuracy: 0.0000e+00\n",
      "Epoch 21/100\n",
      "3033/3033 [==============================] - 5s 2ms/sample - loss: 0.0054 - accuracy: 0.0000e+00 - val_loss: 0.0516 - val_accuracy: 0.0000e+00\n",
      "Epoch 22/100\n",
      "3033/3033 [==============================] - 5s 2ms/sample - loss: 0.0055 - accuracy: 0.0000e+00 - val_loss: 0.0545 - val_accuracy: 0.0000e+00\n",
      "Epoch 23/100\n",
      "3033/3033 [==============================] - 4s 1ms/sample - loss: 0.0059 - accuracy: 0.0000e+00 - val_loss: 0.0528 - val_accuracy: 0.0000e+00\n",
      "Epoch 24/100\n",
      "3033/3033 [==============================] - 4s 1ms/sample - loss: 0.0051 - accuracy: 0.0000e+00 - val_loss: 0.0485 - val_accuracy: 0.0000e+00\n",
      "Epoch 25/100\n",
      "3033/3033 [==============================] - 4s 1ms/sample - loss: 0.0054 - accuracy: 0.0000e+00 - val_loss: 0.0494 - val_accuracy: 0.0000e+00\n",
      "Epoch 26/100\n",
      "3033/3033 [==============================] - 4s 1ms/sample - loss: 0.0052 - accuracy: 0.0000e+00 - val_loss: 0.0498 - val_accuracy: 0.0000e+00\n",
      "Epoch 27/100\n",
      "3033/3033 [==============================] - 4s 1ms/sample - loss: 0.0050 - accuracy: 0.0000e+00 - val_loss: 0.0468 - val_accuracy: 0.0000e+00\n",
      "Epoch 28/100\n",
      "3033/3033 [==============================] - 4s 1ms/sample - loss: 0.0049 - accuracy: 0.0000e+00 - val_loss: 0.0456 - val_accuracy: 0.0000e+00\n",
      "Epoch 29/100\n",
      "3033/3033 [==============================] - 4s 1ms/sample - loss: 0.0050 - accuracy: 0.0000e+00 - val_loss: 0.0462 - val_accuracy: 0.0000e+00\n",
      "Epoch 30/100\n",
      "3033/3033 [==============================] - 4s 1ms/sample - loss: 0.0051 - accuracy: 0.0000e+00 - val_loss: 0.0464 - val_accuracy: 0.0000e+00\n",
      "Epoch 31/100\n",
      "3033/3033 [==============================] - 4s 1ms/sample - loss: 0.0050 - accuracy: 0.0000e+00 - val_loss: 0.0466 - val_accuracy: 0.0000e+00\n",
      "Epoch 32/100\n",
      "3033/3033 [==============================] - 4s 1ms/sample - loss: 0.0046 - accuracy: 0.0000e+00 - val_loss: 0.0446 - val_accuracy: 0.0000e+00\n",
      "Epoch 33/100\n",
      "3033/3033 [==============================] - 4s 1ms/sample - loss: 0.0047 - accuracy: 0.0000e+00 - val_loss: 0.0437 - val_accuracy: 0.0000e+00\n",
      "Epoch 34/100\n",
      "3033/3033 [==============================] - 4s 1ms/sample - loss: 0.0048 - accuracy: 0.0000e+00 - val_loss: 0.0440 - val_accuracy: 0.0000e+00\n",
      "Epoch 35/100\n",
      "3033/3033 [==============================] - 4s 1ms/sample - loss: 0.0047 - accuracy: 0.0000e+00 - val_loss: 0.0450 - val_accuracy: 0.0000e+00\n",
      "Epoch 36/100\n",
      "3033/3033 [==============================] - 4s 1ms/sample - loss: 0.0049 - accuracy: 0.0000e+00 - val_loss: 0.0451 - val_accuracy: 0.0000e+00\n",
      "Epoch 37/100\n",
      "3033/3033 [==============================] - 4s 1ms/sample - loss: 0.0047 - accuracy: 0.0000e+00 - val_loss: 0.0436 - val_accuracy: 0.0000e+00\n",
      "Epoch 38/100\n",
      "3033/3033 [==============================] - 4s 1ms/sample - loss: 0.0046 - accuracy: 0.0000e+00 - val_loss: 0.0435 - val_accuracy: 0.0000e+00\n",
      "Epoch 39/100\n",
      "3033/3033 [==============================] - 4s 1ms/sample - loss: 0.0045 - accuracy: 0.0000e+00 - val_loss: 0.0426 - val_accuracy: 0.0000e+00\n",
      "Epoch 40/100\n",
      "3033/3033 [==============================] - 4s 1ms/sample - loss: 0.0045 - accuracy: 0.0000e+00 - val_loss: 0.0430 - val_accuracy: 0.0000e+00\n",
      "Epoch 41/100\n",
      "3033/3033 [==============================] - 4s 1ms/sample - loss: 0.0047 - accuracy: 0.0000e+00 - val_loss: 0.0437 - val_accuracy: 0.0000e+00\n",
      "Epoch 42/100\n",
      "3033/3033 [==============================] - 4s 1ms/sample - loss: 0.0048 - accuracy: 0.0000e+00 - val_loss: 0.0443 - val_accuracy: 0.0000e+00\n",
      "Epoch 43/100\n",
      "3033/3033 [==============================] - 4s 1ms/sample - loss: 0.0045 - accuracy: 0.0000e+00 - val_loss: 0.0430 - val_accuracy: 0.0000e+00\n",
      "Epoch 44/100\n",
      "3033/3033 [==============================] - 4s 1ms/sample - loss: 0.0045 - accuracy: 0.0000e+00 - val_loss: 0.0435 - val_accuracy: 0.0000e+00\n",
      "Epoch 45/100\n",
      "3033/3033 [==============================] - 4s 1ms/sample - loss: 0.0046 - accuracy: 0.0000e+00 - val_loss: 0.0422 - val_accuracy: 0.0000e+00\n",
      "Epoch 46/100\n",
      "3033/3033 [==============================] - 4s 1ms/sample - loss: 0.0049 - accuracy: 0.0000e+00 - val_loss: 0.0437 - val_accuracy: 0.0000e+00\n",
      "Epoch 47/100\n",
      "3033/3033 [==============================] - 4s 1ms/sample - loss: 0.0045 - accuracy: 0.0000e+00 - val_loss: 0.0427 - val_accuracy: 0.0000e+00\n",
      "Epoch 48/100\n",
      "3033/3033 [==============================] - 4s 1ms/sample - loss: 0.0045 - accuracy: 0.0000e+00 - val_loss: 0.0428 - val_accuracy: 0.0000e+00\n",
      "Epoch 49/100\n",
      "3033/3033 [==============================] - 4s 1ms/sample - loss: 0.0046 - accuracy: 0.0000e+00 - val_loss: 0.0430 - val_accuracy: 0.0000e+00\n",
      "Epoch 50/100\n",
      "3033/3033 [==============================] - 4s 1ms/sample - loss: 0.0045 - accuracy: 0.0000e+00 - val_loss: 0.0422 - val_accuracy: 0.0000e+00\n",
      "Epoch 51/100\n",
      "3033/3033 [==============================] - 4s 1ms/sample - loss: 0.0045 - accuracy: 0.0000e+00 - val_loss: 0.0427 - val_accuracy: 0.0000e+00\n",
      "Epoch 52/100\n",
      "3033/3033 [==============================] - 4s 1ms/sample - loss: 0.0045 - accuracy: 0.0000e+00 - val_loss: 0.0421 - val_accuracy: 0.0000e+00\n",
      "Epoch 53/100\n",
      "3033/3033 [==============================] - 5s 2ms/sample - loss: 0.0047 - accuracy: 0.0000e+00 - val_loss: 0.0424 - val_accuracy: 0.0000e+00\n",
      "Epoch 54/100\n",
      "3033/3033 [==============================] - 4s 1ms/sample - loss: 0.0046 - accuracy: 0.0000e+00 - val_loss: 0.0421 - val_accuracy: 0.0000e+00\n",
      "Epoch 55/100\n",
      "3033/3033 [==============================] - 4s 1ms/sample - loss: 0.0045 - accuracy: 0.0000e+00 - val_loss: 0.0418 - val_accuracy: 0.0000e+00\n",
      "Epoch 56/100\n",
      "3033/3033 [==============================] - 4s 1ms/sample - loss: 0.0045 - accuracy: 0.0000e+00 - val_loss: 0.0428 - val_accuracy: 0.0000e+00\n",
      "Epoch 57/100\n",
      "3033/3033 [==============================] - 4s 1ms/sample - loss: 0.0047 - accuracy: 0.0000e+00 - val_loss: 0.0425 - val_accuracy: 0.0000e+00\n",
      "Epoch 58/100\n",
      "3033/3033 [==============================] - 4s 1ms/sample - loss: 0.0046 - accuracy: 0.0000e+00 - val_loss: 0.0426 - val_accuracy: 0.0000e+00\n",
      "Epoch 59/100\n",
      "3033/3033 [==============================] - 4s 1ms/sample - loss: 0.0046 - accuracy: 0.0000e+00 - val_loss: 0.0418 - val_accuracy: 0.0000e+00\n",
      "Epoch 60/100\n",
      "3033/3033 [==============================] - 4s 1ms/sample - loss: 0.0045 - accuracy: 0.0000e+00 - val_loss: 0.0417 - val_accuracy: 0.0000e+00\n",
      "Epoch 61/100\n",
      "3033/3033 [==============================] - 4s 1ms/sample - loss: 0.0045 - accuracy: 0.0000e+00 - val_loss: 0.0420 - val_accuracy: 0.0000e+00\n",
      "Epoch 62/100\n",
      "3033/3033 [==============================] - 4s 1ms/sample - loss: 0.0046 - accuracy: 0.0000e+00 - val_loss: 0.0426 - val_accuracy: 0.0000e+00\n",
      "Epoch 63/100\n",
      "3033/3033 [==============================] - 4s 1ms/sample - loss: 0.0046 - accuracy: 0.0000e+00 - val_loss: 0.0419 - val_accuracy: 0.0000e+00\n",
      "Epoch 64/100\n",
      "3033/3033 [==============================] - 4s 1ms/sample - loss: 0.0044 - accuracy: 0.0000e+00 - val_loss: 0.0419 - val_accuracy: 0.0000e+00\n",
      "Epoch 65/100\n",
      "3033/3033 [==============================] - 4s 1ms/sample - loss: 0.0045 - accuracy: 0.0000e+00 - val_loss: 0.0419 - val_accuracy: 0.0000e+00\n",
      "Epoch 66/100\n",
      "3033/3033 [==============================] - 4s 1ms/sample - loss: 0.0044 - accuracy: 0.0000e+00 - val_loss: 0.0421 - val_accuracy: 0.0000e+00\n",
      "Epoch 67/100\n",
      "3033/3033 [==============================] - 4s 1ms/sample - loss: 0.0044 - accuracy: 0.0000e+00 - val_loss: 0.0421 - val_accuracy: 0.0000e+00\n",
      "Epoch 68/100\n",
      "3033/3033 [==============================] - 5s 2ms/sample - loss: 0.0044 - accuracy: 0.0000e+00 - val_loss: 0.0423 - val_accuracy: 0.0000e+00\n",
      "Epoch 69/100\n",
      "3033/3033 [==============================] - 5s 2ms/sample - loss: 0.0045 - accuracy: 0.0000e+00 - val_loss: 0.0419 - val_accuracy: 0.0000e+00\n",
      "Epoch 70/100\n",
      "3033/3033 [==============================] - 5s 2ms/sample - loss: 0.0045 - accuracy: 0.0000e+00 - val_loss: 0.0422 - val_accuracy: 0.0000e+00\n",
      "Epoch 71/100\n",
      "3033/3033 [==============================] - 5s 2ms/sample - loss: 0.0044 - accuracy: 0.0000e+00 - val_loss: 0.0422 - val_accuracy: 0.0000e+00\n",
      "Epoch 72/100\n",
      "3033/3033 [==============================] - 5s 2ms/sample - loss: 0.0045 - accuracy: 0.0000e+00 - val_loss: 0.0424 - val_accuracy: 0.0000e+00\n",
      "Epoch 73/100\n",
      "3033/3033 [==============================] - 5s 1ms/sample - loss: 0.0046 - accuracy: 0.0000e+00 - val_loss: 0.0434 - val_accuracy: 0.0000e+00\n",
      "Epoch 74/100\n",
      "3033/3033 [==============================] - 4s 1ms/sample - loss: 0.0045 - accuracy: 0.0000e+00 - val_loss: 0.0423 - val_accuracy: 0.0000e+00\n",
      "Epoch 75/100\n",
      "3033/3033 [==============================] - 4s 1ms/sample - loss: 0.0047 - accuracy: 0.0000e+00 - val_loss: 0.0426 - val_accuracy: 0.0000e+00\n",
      "Epoch 76/100\n",
      "3033/3033 [==============================] - 5s 2ms/sample - loss: 0.0046 - accuracy: 0.0000e+00 - val_loss: 0.0418 - val_accuracy: 0.0000e+00\n",
      "Epoch 77/100\n",
      "3033/3033 [==============================] - 4s 1ms/sample - loss: 0.0046 - accuracy: 0.0000e+00 - val_loss: 0.0419 - val_accuracy: 0.0000e+00\n",
      "Epoch 78/100\n",
      "3033/3033 [==============================] - 4s 1ms/sample - loss: 0.0046 - accuracy: 0.0000e+00 - val_loss: 0.0421 - val_accuracy: 0.0000e+00\n",
      "Epoch 79/100\n",
      "3033/3033 [==============================] - 4s 1ms/sample - loss: 0.0045 - accuracy: 0.0000e+00 - val_loss: 0.0417 - val_accuracy: 0.0000e+00\n",
      "Epoch 80/100\n",
      "3033/3033 [==============================] - 4s 1ms/sample - loss: 0.0047 - accuracy: 0.0000e+00 - val_loss: 0.0424 - val_accuracy: 0.0000e+00\n",
      "Epoch 81/100\n",
      "3033/3033 [==============================] - 4s 1ms/sample - loss: 0.0044 - accuracy: 0.0000e+00 - val_loss: 0.0419 - val_accuracy: 0.0000e+00\n",
      "Epoch 82/100\n",
      "3033/3033 [==============================] - 4s 1ms/sample - loss: 0.0046 - accuracy: 0.0000e+00 - val_loss: 0.0430 - val_accuracy: 0.0000e+00\n",
      "Epoch 83/100\n",
      "3033/3033 [==============================] - 4s 1ms/sample - loss: 0.0044 - accuracy: 0.0000e+00 - val_loss: 0.0416 - val_accuracy: 0.0000e+00\n",
      "Epoch 84/100\n",
      "3033/3033 [==============================] - 4s 1ms/sample - loss: 0.0045 - accuracy: 0.0000e+00 - val_loss: 0.0426 - val_accuracy: 0.0000e+00\n",
      "Epoch 85/100\n",
      "3033/3033 [==============================] - 4s 1ms/sample - loss: 0.0045 - accuracy: 0.0000e+00 - val_loss: 0.0420 - val_accuracy: 0.0000e+00\n",
      "Epoch 86/100\n",
      "3033/3033 [==============================] - 4s 1ms/sample - loss: 0.0047 - accuracy: 0.0000e+00 - val_loss: 0.0423 - val_accuracy: 0.0000e+00\n",
      "Epoch 87/100\n",
      "3033/3033 [==============================] - 4s 1ms/sample - loss: 0.0046 - accuracy: 0.0000e+00 - val_loss: 0.0425 - val_accuracy: 0.0000e+00\n",
      "Epoch 88/100\n",
      "3033/3033 [==============================] - 4s 1ms/sample - loss: 0.0044 - accuracy: 0.0000e+00 - val_loss: 0.0417 - val_accuracy: 0.0000e+00\n",
      "Epoch 89/100\n",
      "3033/3033 [==============================] - 4s 1ms/sample - loss: 0.0044 - accuracy: 0.0000e+00 - val_loss: 0.0425 - val_accuracy: 0.0000e+00\n",
      "Epoch 90/100\n",
      "3033/3033 [==============================] - 4s 1ms/sample - loss: 0.0045 - accuracy: 0.0000e+00 - val_loss: 0.0427 - val_accuracy: 0.0000e+00\n",
      "Epoch 91/100\n",
      "3033/3033 [==============================] - 4s 1ms/sample - loss: 0.0045 - accuracy: 0.0000e+00 - val_loss: 0.0418 - val_accuracy: 0.0000e+00\n",
      "Epoch 92/100\n",
      "3033/3033 [==============================] - 4s 1ms/sample - loss: 0.0044 - accuracy: 0.0000e+00 - val_loss: 0.0420 - val_accuracy: 0.0000e+00\n",
      "Epoch 93/100\n",
      "3033/3033 [==============================] - 4s 1ms/sample - loss: 0.0046 - accuracy: 0.0000e+00 - val_loss: 0.0428 - val_accuracy: 0.0000e+00\n",
      "Epoch 94/100\n",
      "3033/3033 [==============================] - 4s 1ms/sample - loss: 0.0045 - accuracy: 0.0000e+00 - val_loss: 0.0421 - val_accuracy: 0.0000e+00\n",
      "Epoch 95/100\n",
      "3033/3033 [==============================] - 4s 1ms/sample - loss: 0.0045 - accuracy: 0.0000e+00 - val_loss: 0.0417 - val_accuracy: 0.0000e+00\n",
      "Epoch 96/100\n",
      "3033/3033 [==============================] - 4s 1ms/sample - loss: 0.0045 - accuracy: 0.0000e+00 - val_loss: 0.0418 - val_accuracy: 0.0000e+00\n",
      "Epoch 97/100\n",
      "3033/3033 [==============================] - 4s 1ms/sample - loss: 0.0046 - accuracy: 0.0000e+00 - val_loss: 0.0418 - val_accuracy: 0.0000e+00\n",
      "Epoch 98/100\n",
      "3033/3033 [==============================] - 4s 1ms/sample - loss: 0.0044 - accuracy: 0.0000e+00 - val_loss: 0.0421 - val_accuracy: 0.0000e+00\n",
      "Epoch 99/100\n",
      "3033/3033 [==============================] - 4s 1ms/sample - loss: 0.0045 - accuracy: 0.0000e+00 - val_loss: 0.0423 - val_accuracy: 0.0000e+00\n",
      "Epoch 100/100\n",
      "3033/3033 [==============================] - 4s 1ms/sample - loss: 0.0044 - accuracy: 0.0000e+00 - val_loss: 0.0419 - val_accuracy: 0.0000e+00\n"
     ]
    }
   ],
   "source": [
    "# Model 학습, epochs = 10\n",
    "\n",
    "\n",
    "r=model.fit(X_train_std, y_train_std, epochs=100, batch_size=64, shuffle=True, validation_data=((X_valid_std, y_valid_std)))"
   ]
  },
  {
   "cell_type": "code",
   "execution_count": 100,
   "metadata": {},
   "outputs": [
    {
     "data": {
      "image/png": "[encoded data removed]",
      "text/plain": [
       "<Figure size 432x288 with 1 Axes>"
      ]
     },
     "metadata": {
      "needs_background": "light"
     },
     "output_type": "display_data"
    }
   ],
   "source": [
    "plt.title('Loss')\n",
    "plt.plot(r.history['loss'],'b',marker='.', label = 'loss')\n",
    "plt.plot(r.history['val_loss'],'r', label = 'val_loss')\n",
    "plt.xlabel('Epoch')\n",
    "plt.ylabel('Loss')\n",
    "\n",
    "plt.legend()\n",
    "plt.grid(True)\n",
    "plt.show()"
   ]
  },
  {
   "cell_type": "code",
   "execution_count": 88,
   "metadata": {},
   "outputs": [
    {
     "data": {
      "image/png": "[encoded data removed]",
      "text/plain": [
       "<Figure size 432x288 with 1 Axes>"
      ]
     },
     "metadata": {
      "needs_background": "light"
     },
     "output_type": "display_data"
    }
   ],
   "source": [
    "## 예측치\n",
    "p = model.predict(X_test_std)\n",
    "df_predict_std = pd.DataFrame(p, columns=['예측가격'])\n",
    "\n",
    "## 예측치 그래프로 표시\n",
    "# predict = scaler.inverse_transform(df_predict_std['예측가격'].values)\n",
    "predict = df_predict_std['예측가격'].values\n",
    "\n",
    "pre_date = df.index[-len(y_test):].values\n",
    "plt.title('Target close price and predict price')\n",
    "plt.plot(pre_date, y_test_std, 'b', marker='.', label='Target', linewidth=1) # 정답 데이터. \n",
    "plt.plot(pre_date, predict, 'r', marker='.', label='Train', linewidth=1) #예측한 데이터\n",
    "plt.xticks(rotation=70) # x축 이름들 각도. \n",
    "plt.grid()\n",
    "plt.legend()\n",
    "\n",
    "# plt.xticks(np.arange(min(x)\n",
    "# plt.yticks(np.arange(min(y), max(y)+1, 1.0))\n",
    "\n",
    "\n",
    "plt.show()\n"
   ]
  },
  {
   "cell_type": "code",
   "execution_count": 101,
   "metadata": {},
   "outputs": [
    {
     "data": {
      "image/png": "[encoded data removed]",
      "text/plain": [
       "<Figure size 432x288 with 1 Axes>"
      ]
     },
     "metadata": {
      "needs_background": "light"
     },
     "output_type": "display_data"
    }
   ],
   "source": [
    "## 예측치\n",
    "p = model.predict(X_test_std)\n",
    "df_predict_std = pd.DataFrame(p, columns=['예측가격'])\n",
    "\n",
    "## 예측치 그래프로 표시\n",
    "# predict = scaler.inverse_transform(df_predict_std['예측가격'].values)\n",
    "predict = df_predict_std['예측가격'].values\n",
    "\n",
    "pre_date = df.index[-len(y_test):].values\n",
    "plt.title('Target close price and predict price')\n",
    "plt.plot(pre_date, y_test_std, 'b', marker='.', label='Target', linewidth=1) # 정답 데이터. \n",
    "plt.plot(pre_date, predict, 'r', marker='.', label='Train', linewidth=1) #예측한 데이터\n",
    "plt.xticks(rotation=70) # x축 이름들 각도. \n",
    "plt.grid()\n",
    "plt.legend()\n",
    "\n",
    "# plt.xticks(np.arange(min(x)\n",
    "# plt.yticks(np.arange(min(y), max(y)+1, 1.0))\n",
    "\n",
    "\n",
    "plt.show()\n"
   ]
  }
 ],
 "metadata": {
  "kernelspec": {
   "display_name": "Python 3",
   "language": "python",
   "name": "python3"
  },
  "language_info": {
   "codemirror_mode": {
    "name": "ipython",
    "version": 3
   },
   "file_extension": ".py",
   "mimetype": "text/x-python",
   "name": "python",
   "nbconvert_exporter": "python",
   "pygments_lexer": "ipython3",
   "version": "3.7.4"
  }
 },
 "nbformat": 4,
 "nbformat_minor": 4
}
