{
 "cells": [
  {
   "cell_type": "code",
   "execution_count": 24,
   "metadata": {},
   "outputs": [],
   "source": [
    "## RNN에 의한 일본경제 평균 주가(종가) 예측\n",
    "## 오늘부터 과거 30일분의 주가로부터 당일의 주가를 예측\n",
    "## 과거 300~61일분을 훈련용 데이터\n",
    "## 과거 60~31일분을 검증용 데이터\n",
    "## 과거 30~0일분을 테스트용 데이터\n",
    "\n",
    "#count verctor 그 단어 많이 나왔나 안 나왔나? \n",
    "\n",
    "import numpy as np\n",
    "import pandas as pd\n",
    "import matplotlib.pyplot as plt\n",
    "from tensorflow.keras.models import Model\n",
    "from tensorflow.keras.layers import Dense, LSTM, GRU, Input\n",
    "from tensorflow.keras.optimizers import RMSprop #RMSprop 이라는 옵티마이저는 \n",
    "from sklearn.preprocessing import StandardScaler\n",
    "from sklearn.metrics import mean_squared_error\n",
    "\n",
    "## https://indexes.nikkei.co.jp/nkave/historical/nikkei_stock_average_daily_jp.csv\n",
    "data_file = 'nikkei_stock_average_daily_jp.csv'\n",
    "\n",
    "## 당일 주가를 예측하기 위해 필요한 과거 일수\n",
    "window_size= 30 #window_size, kernel, sequence 다 같은 말 ~~ \n",
    "epochs = 10\n",
    "\n",
    "df = pd.read_csv(data_file, index_col=0) #index가 포함된 것이니까 사용하겠다\n",
    "\n",
    "\n",
    "#종가\n",
    "closing_price = df[['종가']].values #tolist()\n"
   ]
  },
  {
   "cell_type": "code",
   "execution_count": 25,
   "metadata": {},
   "outputs": [
    {
     "data": {
      "text/html": [
       "<div>\n",
       "<style scoped>\n",
       "    .dataframe tbody tr th:only-of-type {\n",
       "        vertical-align: middle;\n",
       "    }\n",
       "\n",
       "    .dataframe tbody tr th {\n",
       "        vertical-align: top;\n",
       "    }\n",
       "\n",
       "    .dataframe thead th {\n",
       "        text-align: right;\n",
       "    }\n",
       "</style>\n",
       "<table border=\"1\" class=\"dataframe\">\n",
       "  <thead>\n",
       "    <tr style=\"text-align: right;\">\n",
       "      <th></th>\n",
       "      <th>종가</th>\n",
       "      <th>시가</th>\n",
       "      <th>상한가</th>\n",
       "      <th>하한가</th>\n",
       "    </tr>\n",
       "  </thead>\n",
       "  <tbody>\n",
       "    <tr>\n",
       "      <td>count</td>\n",
       "      <td>809.000000</td>\n",
       "      <td>809.000000</td>\n",
       "      <td>809.000000</td>\n",
       "      <td>809.000000</td>\n",
       "    </tr>\n",
       "    <tr>\n",
       "      <td>mean</td>\n",
       "      <td>21378.655624</td>\n",
       "      <td>21381.374883</td>\n",
       "      <td>21478.512583</td>\n",
       "      <td>21268.651162</td>\n",
       "    </tr>\n",
       "    <tr>\n",
       "      <td>std</td>\n",
       "      <td>1505.910475</td>\n",
       "      <td>1506.048504</td>\n",
       "      <td>1497.724899</td>\n",
       "      <td>1519.507053</td>\n",
       "    </tr>\n",
       "    <tr>\n",
       "      <td>min</td>\n",
       "      <td>16552.830000</td>\n",
       "      <td>16570.570000</td>\n",
       "      <td>17049.030000</td>\n",
       "      <td>16358.190000</td>\n",
       "    </tr>\n",
       "    <tr>\n",
       "      <td>25%</td>\n",
       "      <td>20099.810000</td>\n",
       "      <td>20128.180000</td>\n",
       "      <td>20191.420000</td>\n",
       "      <td>20037.400000</td>\n",
       "    </tr>\n",
       "    <tr>\n",
       "      <td>50%</td>\n",
       "      <td>21535.250000</td>\n",
       "      <td>21541.180000</td>\n",
       "      <td>21639.120000</td>\n",
       "      <td>21425.790000</td>\n",
       "    </tr>\n",
       "    <tr>\n",
       "      <td>75%</td>\n",
       "      <td>22539.120000</td>\n",
       "      <td>22533.970000</td>\n",
       "      <td>22631.320000</td>\n",
       "      <td>22423.400000</td>\n",
       "    </tr>\n",
       "    <tr>\n",
       "      <td>max</td>\n",
       "      <td>24270.620000</td>\n",
       "      <td>24376.170000</td>\n",
       "      <td>24448.070000</td>\n",
       "      <td>24217.260000</td>\n",
       "    </tr>\n",
       "  </tbody>\n",
       "</table>\n",
       "</div>"
      ],
      "text/plain": [
       "                 종가            시가           상한가           하한가\n",
       "count    809.000000    809.000000    809.000000    809.000000\n",
       "mean   21378.655624  21381.374883  21478.512583  21268.651162\n",
       "std     1505.910475   1506.048504   1497.724899   1519.507053\n",
       "min    16552.830000  16570.570000  17049.030000  16358.190000\n",
       "25%    20099.810000  20128.180000  20191.420000  20037.400000\n",
       "50%    21535.250000  21541.180000  21639.120000  21425.790000\n",
       "75%    22539.120000  22533.970000  22631.320000  22423.400000\n",
       "max    24270.620000  24376.170000  24448.070000  24217.260000"
      ]
     },
     "execution_count": 25,
     "metadata": {},
     "output_type": "execute_result"
    }
   ],
   "source": [
    "df.describe()"
   ]
  },
  {
   "cell_type": "code",
   "execution_count": 26,
   "metadata": {},
   "outputs": [],
   "source": [
    "## 훈련, 검증, 테스트용 데이터 작성\n",
    "## 과거 30일분의 주가로부터 당일의 주가 계산\n",
    "def data_split(data, start, end, window_size ):\n",
    "    length = abs(start - end)\n",
    "    \n",
    "    #초기 선언\n",
    "    X=np.zeros((length, window_size)) # 240 이면 30이다?\n",
    "    y=np.zeros((length, 1))\n",
    "    \n",
    "    for i in range(length):\n",
    "        j = start - window_size +i\n",
    "        k = j + window_size\n",
    "        \n",
    "        X[i] = data[j:k, 0]\n",
    "        y[i] = data[k,0]\n",
    "    \n",
    "    return X, y "
   ]
  },
  {
   "cell_type": "code",
   "execution_count": 27,
   "metadata": {},
   "outputs": [],
   "source": [
    "## 훈련, 검증, 테스트용 데이터\n",
    "(X_train, y_train) = data_split(closing_price, -300, -60, window_size) #트레인 데이터 !!!! 는 과거 300일부터 과거 60일까지 !!!\n",
    "(X_valid, y_valid) = data_split(closing_price, -60, -30, window_size)\n",
    "(X_test, y_test) = data_split(closing_price, -30, 0, window_size)\n"
   ]
  },
  {
   "cell_type": "code",
   "execution_count": 28,
   "metadata": {},
   "outputs": [
    {
     "name": "stdout",
     "output_type": "stream",
     "text": [
      "(240, 30)\n",
      "(240, 1)\n",
      "(240, 30)\n",
      "(240, 1)\n",
      "[[21148.02 21602.75 21816.19 ... 20773.56 20649.   20664.64]\n",
      " [21602.75 21816.19 21374.83 ... 20649.   20664.64 20556.54]\n",
      " [21816.19 21374.83 21506.88 ... 20664.64 20556.54 20773.49]\n",
      " ...\n",
      " [23354.4  23430.7  23410.19 ... 23864.56 24031.35 23795.44]\n",
      " [23430.7  23410.19 23391.86 ... 24031.35 23795.44 23827.18]\n",
      " [23410.19 23391.86 23424.81 ... 23795.44 23827.18 23343.51]]\n"
     ]
    }
   ],
   "source": [
    "print(X_train.shape)\n",
    "print(y_train.shape)\n",
    "print(X_train.shape)\n",
    "print(y_train.shape)\n",
    "print(X_train)"
   ]
  },
  {
   "cell_type": "code",
   "execution_count": 29,
   "metadata": {},
   "outputs": [
    {
     "data": {
      "image/png": "[encoded data removed]",
      "text/plain": [
       "<Figure size 432x288 with 1 Axes>"
      ]
     },
     "metadata": {
      "needs_background": "light"
     },
     "output_type": "display_data"
    }
   ],
   "source": [
    "plt.title('Change in Stock Average(closing price)')\n",
    "plt.plot(range(len(closing_price)), closing_price)\n",
    "plt.show()"
   ]
  },
  {
   "cell_type": "code",
   "execution_count": 30,
   "metadata": {},
   "outputs": [],
   "source": [
    "## 표준화\n",
    "## X만 차원을 변환 (2차원 -> 3차원)\n",
    "\n",
    "scaler = StandardScaler()\n",
    "X_train_std = scaler.fit_transform(X_train)\n",
    "X_valid_std =scaler.fit_transform(X_valid)\n",
    "X_test_std =scaler.fit_transform(X_test)"
   ]
  },
  {
   "cell_type": "code",
   "execution_count": 31,
   "metadata": {},
   "outputs": [
    {
     "data": {
      "text/plain": [
       "array([[-0.4176016 ,  0.08396981,  0.311209  , ..., -1.06964087,\n",
       "        -1.19578908, -1.19046597],\n",
       "       [ 0.09525692,  0.32258367, -0.17767082, ..., -1.18926268,\n",
       "        -1.18084029, -1.29369264],\n",
       "       [ 0.33598114, -0.17083188, -0.03140342, ..., -1.17424273,\n",
       "        -1.28416279, -1.08652312],\n",
       "       ...,\n",
       "       [ 2.07082181,  2.12751467,  2.07682989, ...,  1.8988163 ,\n",
       "         2.03707732,  1.79919206],\n",
       "       [ 2.15687531,  2.10458564,  2.05652636, ...,  2.05899391,\n",
       "         1.8115934 ,  1.82950116],\n",
       "       [ 2.13374349,  2.08409374,  2.09302398, ...,  1.83243657,\n",
       "         1.84193065,  1.36763586]])"
      ]
     },
     "execution_count": 31,
     "metadata": {},
     "output_type": "execute_result"
    }
   ],
   "source": [
    "X_train_std # 표준화로 변환되었음 ~~ \n"
   ]
  },
  {
   "cell_type": "code",
   "execution_count": 32,
   "metadata": {},
   "outputs": [],
   "source": [
    "# scaler transform 사용\n",
    "\n",
    "\n",
    "y_train_std = scaler.fit_transform(y_train)\n",
    "y_valid_std =scaler.fit_transform(y_valid)\n",
    "y_test_std =scaler.fit_transform(y_test)\n"
   ]
  },
  {
   "cell_type": "code",
   "execution_count": 57,
   "metadata": {},
   "outputs": [
    {
     "data": {
      "text/plain": [
       "array([[[-0.4176016 ],\n",
       "        [ 0.08396981],\n",
       "        [ 0.311209  ],\n",
       "        ...,\n",
       "        [-1.06964087],\n",
       "        [-1.19578908],\n",
       "        [-1.19046597]],\n",
       "\n",
       "       [[ 0.09525692],\n",
       "        [ 0.32258367],\n",
       "        [-0.17767082],\n",
       "        ...,\n",
       "        [-1.18926268],\n",
       "        [-1.18084029],\n",
       "        [-1.29369264]],\n",
       "\n",
       "       [[ 0.33598114],\n",
       "        [-0.17083188],\n",
       "        [-0.03140342],\n",
       "        ...,\n",
       "        [-1.17424273],\n",
       "        [-1.28416279],\n",
       "        [-1.08652312]],\n",
       "\n",
       "       ...,\n",
       "\n",
       "       [[ 2.07082181],\n",
       "        [ 2.12751467],\n",
       "        [ 2.07682989],\n",
       "        ...,\n",
       "        [ 1.8988163 ],\n",
       "        [ 2.03707732],\n",
       "        [ 1.79919206]],\n",
       "\n",
       "       [[ 2.15687531],\n",
       "        [ 2.10458564],\n",
       "        [ 2.05652636],\n",
       "        ...,\n",
       "        [ 2.05899391],\n",
       "        [ 1.8115934 ],\n",
       "        [ 1.82950116]],\n",
       "\n",
       "       [[ 2.13374349],\n",
       "        [ 2.08409374],\n",
       "        [ 2.09302398],\n",
       "        ...,\n",
       "        [ 1.83243657],\n",
       "        [ 1.84193065],\n",
       "        [ 1.36763586]]])"
      ]
     },
     "execution_count": 57,
     "metadata": {},
     "output_type": "execute_result"
    }
   ],
   "source": [
    "# reshape (data개수, sequence, feature개수)\n",
    "# reshape(-1(지금가지고 있는 값 그대로 쓰겠다),30(window_size를 위에서 30으로 지정함.),1(종가 하나만 다루므로 1))\n",
    "\n",
    "X_valid_std=X_valid_std.reshape(-1, window_size, 1)\n",
    "X_test_std=X_test_std.reshape(-1, window_size, 1)\n",
    "X_train_std=X_train_std.reshape(-1, window_size, 1)\n",
    "\n",
    "X_train_std"
   ]
  },
  {
   "cell_type": "code",
   "execution_count": 34,
   "metadata": {},
   "outputs": [
    {
     "name": "stdout",
     "output_type": "stream",
     "text": [
      "WARNING:tensorflow:Entity <function standard_lstm at 0x0000023DAE517CA8> could not be transformed and will be executed as-is. Please report this to the AutoGraph team. When filing the bug, set the verbosity to 10 (on Linux, `export AUTOGRAPH_VERBOSITY=10`) and attach the full output. Cause: converting <function standard_lstm at 0x0000023DAE517CA8>: AttributeError: module 'gast' has no attribute 'Num'\n",
      "WARNING: Entity <function standard_lstm at 0x0000023DAE517CA8> could not be transformed and will be executed as-is. Please report this to the AutoGraph team. When filing the bug, set the verbosity to 10 (on Linux, `export AUTOGRAPH_VERBOSITY=10`) and attach the full output. Cause: converting <function standard_lstm at 0x0000023DAE517CA8>: AttributeError: module 'gast' has no attribute 'Num'\n",
      "WARNING:tensorflow:Entity <function cudnn_lstm at 0x0000023DAE517D38> could not be transformed and will be executed as-is. Please report this to the AutoGraph team. When filing the bug, set the verbosity to 10 (on Linux, `export AUTOGRAPH_VERBOSITY=10`) and attach the full output. Cause: converting <function cudnn_lstm at 0x0000023DAE517D38>: AttributeError: module 'gast' has no attribute 'Num'\n",
      "WARNING: Entity <function cudnn_lstm at 0x0000023DAE517D38> could not be transformed and will be executed as-is. Please report this to the AutoGraph team. When filing the bug, set the verbosity to 10 (on Linux, `export AUTOGRAPH_VERBOSITY=10`) and attach the full output. Cause: converting <function cudnn_lstm at 0x0000023DAE517D38>: AttributeError: module 'gast' has no attribute 'Num'\n",
      "Model: \"model_1\"\n",
      "_________________________________________________________________\n",
      "Layer (type)                 Output Shape              Param #   \n",
      "=================================================================\n",
      "input_2 (InputLayer)         [(None, 30, 1)]           0         \n",
      "_________________________________________________________________\n",
      "lstm_1 (LSTM)                (None, 128)               66560     \n",
      "_________________________________________________________________\n",
      "dense_1 (Dense)              (None, 1)                 129       \n",
      "=================================================================\n",
      "Total params: 66,689\n",
      "Trainable params: 66,689\n",
      "Non-trainable params: 0\n",
      "_________________________________________________________________\n"
     ]
    }
   ],
   "source": [
    "## 훈련 RNN (model -> LSTM)\n",
    "# Input -> LSTM(128) -> Dense\n",
    "# compile -> loss=mse, optimizer=adam, metrics = 'accuracy'\n",
    "\n",
    "\n",
    "\n",
    "\n",
    "i = Input(shape=(window_size, 1))\n",
    "\n",
    "x = LSTM(128)(i)\n",
    "x = Dense(1)(x)\n",
    "model = Model(i,x)\n",
    "\n",
    "model.compile(loss='mse',optimizer='adam',metrics=['accuracy'])\n",
    "\n",
    "\n",
    "model.summary()\n"
   ]
  },
  {
   "cell_type": "code",
   "execution_count": 35,
   "metadata": {},
   "outputs": [
    {
     "name": "stdout",
     "output_type": "stream",
     "text": [
      "Train on 240 samples, validate on 30 samples\n",
      "Epoch 1/100\n",
      "240/240 [==============================] - 3s 13ms/sample - loss: 0.6151 - accuracy: 0.0000e+00 - val_loss: 0.4240 - val_accuracy: 0.0000e+00\n",
      "Epoch 2/100\n",
      "240/240 [==============================] - 0s 819us/sample - loss: 0.1950 - accuracy: 0.0000e+00 - val_loss: 0.2203 - val_accuracy: 0.0000e+00\n",
      "Epoch 3/100\n",
      "240/240 [==============================] - 0s 997us/sample - loss: 0.1675 - accuracy: 0.0000e+00 - val_loss: 0.2112 - val_accuracy: 0.0000e+00\n",
      "Epoch 4/100\n",
      "240/240 [==============================] - 0s 1ms/sample - loss: 0.1302 - accuracy: 0.0000e+00 - val_loss: 0.2277 - val_accuracy: 0.0000e+00\n",
      "Epoch 5/100\n",
      "240/240 [==============================] - 0s 1ms/sample - loss: 0.1314 - accuracy: 0.0000e+00 - val_loss: 0.2200 - val_accuracy: 0.0000e+00\n",
      "Epoch 6/100\n",
      "240/240 [==============================] - 0s 802us/sample - loss: 0.1167 - accuracy: 0.0000e+00 - val_loss: 0.2010 - val_accuracy: 0.0000e+00\n",
      "Epoch 7/100\n",
      "240/240 [==============================] - 0s 665us/sample - loss: 0.1013 - accuracy: 0.0000e+00 - val_loss: 0.1873 - val_accuracy: 0.0000e+00\n",
      "Epoch 8/100\n",
      "240/240 [==============================] - 0s 789us/sample - loss: 0.1001 - accuracy: 0.0000e+00 - val_loss: 0.1866 - val_accuracy: 0.0000e+00\n",
      "Epoch 9/100\n",
      "240/240 [==============================] - 0s 736us/sample - loss: 0.0962 - accuracy: 0.0000e+00 - val_loss: 0.1892 - val_accuracy: 0.0000e+00\n",
      "Epoch 10/100\n",
      "240/240 [==============================] - 0s 744us/sample - loss: 0.0912 - accuracy: 0.0000e+00 - val_loss: 0.1910 - val_accuracy: 0.0000e+00\n",
      "Epoch 11/100\n",
      "240/240 [==============================] - 0s 736us/sample - loss: 0.0883 - accuracy: 0.0000e+00 - val_loss: 0.1867 - val_accuracy: 0.0000e+00\n",
      "Epoch 12/100\n",
      "240/240 [==============================] - 0s 823us/sample - loss: 0.0849 - accuracy: 0.0000e+00 - val_loss: 0.1839 - val_accuracy: 0.0000e+00\n",
      "Epoch 13/100\n",
      "240/240 [==============================] - 0s 1ms/sample - loss: 0.0827 - accuracy: 0.0000e+00 - val_loss: 0.1835 - val_accuracy: 0.0000e+00\n",
      "Epoch 14/100\n",
      "240/240 [==============================] - 0s 1ms/sample - loss: 0.0810 - accuracy: 0.0000e+00 - val_loss: 0.1853 - val_accuracy: 0.0000e+00\n",
      "Epoch 15/100\n",
      "240/240 [==============================] - 0s 952us/sample - loss: 0.0792 - accuracy: 0.0000e+00 - val_loss: 0.1874 - val_accuracy: 0.0000e+00\n",
      "Epoch 16/100\n",
      "240/240 [==============================] - 0s 745us/sample - loss: 0.0781 - accuracy: 0.0000e+00 - val_loss: 0.1883 - val_accuracy: 0.0000e+00\n",
      "Epoch 17/100\n",
      "240/240 [==============================] - 0s 989us/sample - loss: 0.0769 - accuracy: 0.0000e+00 - val_loss: 0.1859 - val_accuracy: 0.0000e+00\n",
      "Epoch 18/100\n",
      "240/240 [==============================] - 0s 1ms/sample - loss: 0.0753 - accuracy: 0.0000e+00 - val_loss: 0.1812 - val_accuracy: 0.0000e+00\n",
      "Epoch 19/100\n",
      "240/240 [==============================] - 0s 952us/sample - loss: 0.0747 - accuracy: 0.0000e+00 - val_loss: 0.1783 - val_accuracy: 0.0000e+00\n",
      "Epoch 20/100\n",
      "240/240 [==============================] - 0s 709us/sample - loss: 0.0737 - accuracy: 0.0000e+00 - val_loss: 0.1744 - val_accuracy: 0.0000e+00\n",
      "Epoch 21/100\n",
      "240/240 [==============================] - 0s 819us/sample - loss: 0.0722 - accuracy: 0.0000e+00 - val_loss: 0.1729 - val_accuracy: 0.0000e+00\n",
      "Epoch 22/100\n",
      "240/240 [==============================] - 0s 877us/sample - loss: 0.0716 - accuracy: 0.0000e+00 - val_loss: 0.1707 - val_accuracy: 0.0000e+00\n",
      "Epoch 23/100\n",
      "240/240 [==============================] - 0s 952us/sample - loss: 0.0706 - accuracy: 0.0000e+00 - val_loss: 0.1663 - val_accuracy: 0.0000e+00\n",
      "Epoch 24/100\n",
      "240/240 [==============================] - 0s 943us/sample - loss: 0.0693 - accuracy: 0.0000e+00 - val_loss: 0.1628 - val_accuracy: 0.0000e+00\n",
      "Epoch 25/100\n",
      "240/240 [==============================] - 0s 927us/sample - loss: 0.0686 - accuracy: 0.0000e+00 - val_loss: 0.1610 - val_accuracy: 0.0000e+00\n",
      "Epoch 26/100\n",
      "240/240 [==============================] - 0s 844us/sample - loss: 0.0675 - accuracy: 0.0000e+00 - val_loss: 0.1549 - val_accuracy: 0.0000e+00\n",
      "Epoch 27/100\n",
      "240/240 [==============================] - 0s 819us/sample - loss: 0.0670 - accuracy: 0.0000e+00 - val_loss: 0.1494 - val_accuracy: 0.0000e+00\n",
      "Epoch 28/100\n",
      "240/240 [==============================] - 0s 798us/sample - loss: 0.0665 - accuracy: 0.0000e+00 - val_loss: 0.1497 - val_accuracy: 0.0000e+00\n",
      "Epoch 29/100\n",
      "240/240 [==============================] - 0s 785us/sample - loss: 0.0651 - accuracy: 0.0000e+00 - val_loss: 0.1450 - val_accuracy: 0.0000e+00\n",
      "Epoch 30/100\n",
      "240/240 [==============================] - 0s 835us/sample - loss: 0.0642 - accuracy: 0.0000e+00 - val_loss: 0.1450 - val_accuracy: 0.0000e+00\n",
      "Epoch 31/100\n",
      "240/240 [==============================] - 0s 843us/sample - loss: 0.0628 - accuracy: 0.0000e+00 - val_loss: 0.1387 - val_accuracy: 0.0000e+00\n",
      "Epoch 32/100\n",
      "240/240 [==============================] - 0s 810us/sample - loss: 0.0620 - accuracy: 0.0000e+00 - val_loss: 0.1340 - val_accuracy: 0.0000e+00\n",
      "Epoch 33/100\n",
      "240/240 [==============================] - 0s 906us/sample - loss: 0.0616 - accuracy: 0.0000e+00 - val_loss: 0.1328 - val_accuracy: 0.0000e+00\n",
      "Epoch 34/100\n",
      "240/240 [==============================] - 0s 827us/sample - loss: 0.0604 - accuracy: 0.0000e+00 - val_loss: 0.1368 - val_accuracy: 0.0000e+00\n",
      "Epoch 35/100\n",
      "240/240 [==============================] - 0s 835us/sample - loss: 0.0595 - accuracy: 0.0000e+00 - val_loss: 0.1275 - val_accuracy: 0.0000e+00\n",
      "Epoch 36/100\n",
      "240/240 [==============================] - 0s 935us/sample - loss: 0.0586 - accuracy: 0.0000e+00 - val_loss: 0.1210 - val_accuracy: 0.0000e+00\n",
      "Epoch 37/100\n",
      "240/240 [==============================] - 0s 844us/sample - loss: 0.0574 - accuracy: 0.0000e+00 - val_loss: 0.1223 - val_accuracy: 0.0000e+00\n",
      "Epoch 38/100\n",
      "240/240 [==============================] - 0s 869us/sample - loss: 0.0562 - accuracy: 0.0000e+00 - val_loss: 0.1178 - val_accuracy: 0.0000e+00\n",
      "Epoch 39/100\n",
      "240/240 [==============================] - 0s 856us/sample - loss: 0.0549 - accuracy: 0.0000e+00 - val_loss: 0.1116 - val_accuracy: 0.0000e+00\n",
      "Epoch 40/100\n",
      "240/240 [==============================] - 0s 848us/sample - loss: 0.0544 - accuracy: 0.0000e+00 - val_loss: 0.1082 - val_accuracy: 0.0000e+00\n",
      "Epoch 41/100\n",
      "240/240 [==============================] - 0s 872us/sample - loss: 0.0532 - accuracy: 0.0000e+00 - val_loss: 0.1037 - val_accuracy: 0.0000e+00\n",
      "Epoch 42/100\n",
      "240/240 [==============================] - 0s 848us/sample - loss: 0.0506 - accuracy: 0.0000e+00 - val_loss: 0.0977 - val_accuracy: 0.0000e+00\n",
      "Epoch 43/100\n",
      "240/240 [==============================] - 0s 781us/sample - loss: 0.0481 - accuracy: 0.0000e+00 - val_loss: 0.0850 - val_accuracy: 0.0000e+00\n",
      "Epoch 44/100\n",
      "240/240 [==============================] - 0s 968us/sample - loss: 0.0486 - accuracy: 0.0000e+00 - val_loss: 0.0824 - val_accuracy: 0.0000e+00\n",
      "Epoch 45/100\n",
      "240/240 [==============================] - 0s 827us/sample - loss: 0.0466 - accuracy: 0.0000e+00 - val_loss: 0.0972 - val_accuracy: 0.0000e+00\n",
      "Epoch 46/100\n",
      "240/240 [==============================] - 0s 898us/sample - loss: 0.0472 - accuracy: 0.0000e+00 - val_loss: 0.0841 - val_accuracy: 0.0000e+00\n",
      "Epoch 47/100\n",
      "240/240 [==============================] - 0s 922us/sample - loss: 0.0463 - accuracy: 0.0000e+00 - val_loss: 0.0830 - val_accuracy: 0.0000e+00\n",
      "Epoch 48/100\n",
      "240/240 [==============================] - 0s 914us/sample - loss: 0.0432 - accuracy: 0.0000e+00 - val_loss: 0.0829 - val_accuracy: 0.0000e+00\n",
      "Epoch 49/100\n",
      "240/240 [==============================] - 0s 686us/sample - loss: 0.0438 - accuracy: 0.0000e+00 - val_loss: 0.0804 - val_accuracy: 0.0000e+00\n",
      "Epoch 50/100\n",
      "240/240 [==============================] - 0s 839us/sample - loss: 0.0415 - accuracy: 0.0000e+00 - val_loss: 0.0739 - val_accuracy: 0.0000e+00\n",
      "Epoch 51/100\n",
      "240/240 [==============================] - 0s 798us/sample - loss: 0.0413 - accuracy: 0.0000e+00 - val_loss: 0.0749 - val_accuracy: 0.0000e+00\n",
      "Epoch 52/100\n",
      "240/240 [==============================] - 0s 848us/sample - loss: 0.0405 - accuracy: 0.0000e+00 - val_loss: 0.0755 - val_accuracy: 0.0000e+00\n",
      "Epoch 53/100\n",
      "240/240 [==============================] - 0s 910us/sample - loss: 0.0398 - accuracy: 0.0000e+00 - val_loss: 0.0702 - val_accuracy: 0.0000e+00\n",
      "Epoch 54/100\n",
      "240/240 [==============================] - 0s 1ms/sample - loss: 0.0413 - accuracy: 0.0000e+00 - val_loss: 0.0727 - val_accuracy: 0.0000e+00\n",
      "Epoch 55/100\n",
      "240/240 [==============================] - 0s 918us/sample - loss: 0.0390 - accuracy: 0.0000e+00 - val_loss: 0.0724 - val_accuracy: 0.0000e+00\n",
      "Epoch 56/100\n",
      "240/240 [==============================] - 0s 852us/sample - loss: 0.0384 - accuracy: 0.0000e+00 - val_loss: 0.0759 - val_accuracy: 0.0000e+00\n",
      "Epoch 57/100\n",
      "240/240 [==============================] - 0s 881us/sample - loss: 0.0467 - accuracy: 0.0000e+00 - val_loss: 0.0691 - val_accuracy: 0.0000e+00\n",
      "Epoch 58/100\n",
      "240/240 [==============================] - 0s 728us/sample - loss: 0.0436 - accuracy: 0.0000e+00 - val_loss: 0.0765 - val_accuracy: 0.0000e+00\n",
      "Epoch 59/100\n",
      "240/240 [==============================] - 0s 794us/sample - loss: 0.0435 - accuracy: 0.0000e+00 - val_loss: 0.0766 - val_accuracy: 0.0000e+00\n",
      "Epoch 60/100\n",
      "240/240 [==============================] - 0s 931us/sample - loss: 0.0417 - accuracy: 0.0000e+00 - val_loss: 0.0760 - val_accuracy: 0.0000e+00\n",
      "Epoch 61/100\n",
      "240/240 [==============================] - 0s 869us/sample - loss: 0.0397 - accuracy: 0.0000e+00 - val_loss: 0.0795 - val_accuracy: 0.0000e+00\n",
      "Epoch 62/100\n",
      "240/240 [==============================] - 0s 918us/sample - loss: 0.0407 - accuracy: 0.0000e+00 - val_loss: 0.0711 - val_accuracy: 0.0000e+00\n",
      "Epoch 63/100\n",
      "240/240 [==============================] - 0s 785us/sample - loss: 0.0416 - accuracy: 0.0000e+00 - val_loss: 0.0693 - val_accuracy: 0.0000e+00\n",
      "Epoch 64/100\n",
      "240/240 [==============================] - 0s 823us/sample - loss: 0.0380 - accuracy: 0.0000e+00 - val_loss: 0.0753 - val_accuracy: 0.0000e+00\n",
      "Epoch 65/100\n",
      "240/240 [==============================] - 0s 968us/sample - loss: 0.0400 - accuracy: 0.0000e+00 - val_loss: 0.0676 - val_accuracy: 0.0000e+00\n",
      "Epoch 66/100\n",
      "240/240 [==============================] - 0s 906us/sample - loss: 0.0369 - accuracy: 0.0000e+00 - val_loss: 0.0679 - val_accuracy: 0.0000e+00\n",
      "Epoch 67/100\n",
      "240/240 [==============================] - 0s 856us/sample - loss: 0.0364 - accuracy: 0.0000e+00 - val_loss: 0.0632 - val_accuracy: 0.0000e+00\n",
      "Epoch 68/100\n",
      "240/240 [==============================] - 0s 852us/sample - loss: 0.0363 - accuracy: 0.0000e+00 - val_loss: 0.0658 - val_accuracy: 0.0000e+00\n",
      "Epoch 69/100\n",
      "240/240 [==============================] - 0s 806us/sample - loss: 0.0354 - accuracy: 0.0000e+00 - val_loss: 0.0610 - val_accuracy: 0.0000e+00\n",
      "Epoch 70/100\n",
      "240/240 [==============================] - 0s 769us/sample - loss: 0.0345 - accuracy: 0.0000e+00 - val_loss: 0.0604 - val_accuracy: 0.0000e+00\n",
      "Epoch 71/100\n",
      "240/240 [==============================] - 0s 848us/sample - loss: 0.0341 - accuracy: 0.0000e+00 - val_loss: 0.0600 - val_accuracy: 0.0000e+00\n",
      "Epoch 72/100\n",
      "240/240 [==============================] - 0s 823us/sample - loss: 0.0348 - accuracy: 0.0000e+00 - val_loss: 0.0596 - val_accuracy: 0.0000e+00\n",
      "Epoch 73/100\n",
      "240/240 [==============================] - 0s 781us/sample - loss: 0.0344 - accuracy: 0.0000e+00 - val_loss: 0.0583 - val_accuracy: 0.0000e+00\n",
      "Epoch 74/100\n",
      "240/240 [==============================] - 0s 860us/sample - loss: 0.0335 - accuracy: 0.0000e+00 - val_loss: 0.0597 - val_accuracy: 0.0000e+00\n",
      "Epoch 75/100\n",
      "240/240 [==============================] - 0s 922us/sample - loss: 0.0347 - accuracy: 0.0000e+00 - val_loss: 0.0594 - val_accuracy: 0.0000e+00\n",
      "Epoch 76/100\n",
      "240/240 [==============================] - 0s 918us/sample - loss: 0.0339 - accuracy: 0.0000e+00 - val_loss: 0.0584 - val_accuracy: 0.0000e+00\n",
      "Epoch 77/100\n",
      "240/240 [==============================] - 0s 785us/sample - loss: 0.0332 - accuracy: 0.0000e+00 - val_loss: 0.0696 - val_accuracy: 0.0000e+00\n",
      "Epoch 78/100\n",
      "240/240 [==============================] - 0s 760us/sample - loss: 0.0414 - accuracy: 0.0000e+00 - val_loss: 0.0578 - val_accuracy: 0.0000e+00\n",
      "Epoch 79/100\n",
      "240/240 [==============================] - 0s 794us/sample - loss: 0.0364 - accuracy: 0.0000e+00 - val_loss: 0.0612 - val_accuracy: 0.0000e+00\n",
      "Epoch 80/100\n",
      "240/240 [==============================] - 0s 810us/sample - loss: 0.0348 - accuracy: 0.0000e+00 - val_loss: 0.0577 - val_accuracy: 0.0000e+00\n",
      "Epoch 81/100\n",
      "240/240 [==============================] - 0s 902us/sample - loss: 0.0353 - accuracy: 0.0000e+00 - val_loss: 0.0570 - val_accuracy: 0.0000e+00\n",
      "Epoch 82/100\n",
      "240/240 [==============================] - 0s 898us/sample - loss: 0.0347 - accuracy: 0.0000e+00 - val_loss: 0.0621 - val_accuracy: 0.0000e+00\n",
      "Epoch 83/100\n",
      "240/240 [==============================] - 0s 765us/sample - loss: 0.0366 - accuracy: 0.0000e+00 - val_loss: 0.0592 - val_accuracy: 0.0000e+00\n",
      "Epoch 84/100\n",
      "240/240 [==============================] - 0s 860us/sample - loss: 0.0387 - accuracy: 0.0000e+00 - val_loss: 0.0629 - val_accuracy: 0.0000e+00\n",
      "Epoch 85/100\n",
      "240/240 [==============================] - 0s 873us/sample - loss: 0.0364 - accuracy: 0.0000e+00 - val_loss: 0.0595 - val_accuracy: 0.0000e+00\n",
      "Epoch 86/100\n",
      "240/240 [==============================] - 0s 794us/sample - loss: 0.0350 - accuracy: 0.0000e+00 - val_loss: 0.0585 - val_accuracy: 0.0000e+00\n",
      "Epoch 87/100\n",
      "240/240 [==============================] - 0s 977us/sample - loss: 0.0335 - accuracy: 0.0000e+00 - val_loss: 0.0618 - val_accuracy: 0.0000e+00\n",
      "Epoch 88/100\n",
      "240/240 [==============================] - 0s 935us/sample - loss: 0.0337 - accuracy: 0.0000e+00 - val_loss: 0.0577 - val_accuracy: 0.0000e+00\n",
      "Epoch 89/100\n",
      "240/240 [==============================] - 0s 977us/sample - loss: 0.0329 - accuracy: 0.0000e+00 - val_loss: 0.0597 - val_accuracy: 0.0000e+00\n",
      "Epoch 90/100\n",
      "240/240 [==============================] - 0s 960us/sample - loss: 0.0332 - accuracy: 0.0000e+00 - val_loss: 0.0579 - val_accuracy: 0.0000e+00\n",
      "Epoch 91/100\n",
      "240/240 [==============================] - 0s 823us/sample - loss: 0.0325 - accuracy: 0.0000e+00 - val_loss: 0.0577 - val_accuracy: 0.0000e+00\n",
      "Epoch 92/100\n",
      "240/240 [==============================] - 0s 802us/sample - loss: 0.0326 - accuracy: 0.0000e+00 - val_loss: 0.0564 - val_accuracy: 0.0000e+00\n",
      "Epoch 93/100\n",
      "240/240 [==============================] - 0s 824us/sample - loss: 0.0333 - accuracy: 0.0000e+00 - val_loss: 0.0583 - val_accuracy: 0.0000e+00\n",
      "Epoch 94/100\n",
      "240/240 [==============================] - 0s 835us/sample - loss: 0.0328 - accuracy: 0.0000e+00 - val_loss: 0.0552 - val_accuracy: 0.0000e+00\n",
      "Epoch 95/100\n",
      "240/240 [==============================] - 0s 960us/sample - loss: 0.0321 - accuracy: 0.0000e+00 - val_loss: 0.0586 - val_accuracy: 0.0000e+00\n",
      "Epoch 96/100\n",
      "240/240 [==============================] - 0s 829us/sample - loss: 0.0320 - accuracy: 0.0000e+00 - val_loss: 0.0546 - val_accuracy: 0.0000e+00\n",
      "Epoch 97/100\n",
      "240/240 [==============================] - 0s 835us/sample - loss: 0.0324 - accuracy: 0.0000e+00 - val_loss: 0.0560 - val_accuracy: 0.0000e+00\n",
      "Epoch 98/100\n",
      "240/240 [==============================] - 0s 948us/sample - loss: 0.0332 - accuracy: 0.0000e+00 - val_loss: 0.0581 - val_accuracy: 0.0000e+00\n",
      "Epoch 99/100\n",
      "240/240 [==============================] - 0s 785us/sample - loss: 0.0340 - accuracy: 0.0000e+00 - val_loss: 0.0541 - val_accuracy: 0.0000e+00\n",
      "Epoch 100/100\n",
      "240/240 [==============================] - 0s 798us/sample - loss: 0.0339 - accuracy: 0.0000e+00 - val_loss: 0.0549 - val_accuracy: 0.0000e+00\n"
     ]
    }
   ],
   "source": [
    "# Model 학습, epochs = 10\n",
    "\n",
    "\n",
    "r=model.fit(X_train_std, y_train_std, epochs=100, batch_size=64, shuffle=True, validation_data=((X_valid_std, y_valid_std)))"
   ]
  },
  {
   "cell_type": "markdown",
   "metadata": {},
   "source": [
    "## 훈련의 손실치를 그래프에 표시\n",
    "#history -> loss\n",
    "\n",
    "\n",
    "\n"
   ]
  },
  {
   "cell_type": "code",
   "execution_count": 36,
   "metadata": {},
   "outputs": [
    {
     "data": {
      "image/png": "[encoded data removed]",
      "text/plain": [
       "<Figure size 432x288 with 1 Axes>"
      ]
     },
     "metadata": {
      "needs_background": "light"
     },
     "output_type": "display_data"
    }
   ],
   "source": [
    "plt.title('Loss')\n",
    "plt.plot(r.history['loss'],'b',marker='.', label = 'loss')\n",
    "plt.plot(r.history['val_loss'],'r', label = 'val_loss')\n",
    "plt.xlabel('Epoch')\n",
    "plt.ylabel('Loss')\n",
    "\n",
    "plt.legend()\n",
    "plt.grid(True)\n",
    "plt.show()"
   ]
  },
  {
   "cell_type": "code",
   "execution_count": 56,
   "metadata": {},
   "outputs": [
    {
     "data": {
      "image/png": "[encoded data removed]",
      "text/plain": [
       "<Figure size 432x288 with 1 Axes>"
      ]
     },
     "metadata": {
      "needs_background": "light"
     },
     "output_type": "display_data"
    }
   ],
   "source": [
    "## 예측치\n",
    "p = model.predict(X_test_std)\n",
    "df_predict_std = pd.DataFrame(p, columns=['예측가격'])\n",
    "\n",
    "## 예측치 그래프로 표시\n",
    "predict = scaler.inverse_transform(df_predict_std['예측가격'].values)\n",
    "\n",
    "pre_date = df.index[-len(y_test):].values\n",
    "plt.title('Target close price and predict price')\n",
    "plt.plot(pre_date, y_test, 'b', marker='.', label='Target', linewidth=1) # 정답 데이터. \n",
    "plt.plot(pre_date, predict, 'r', marker='.', label='Train', linewidth=1) #예측한 데이터\n",
    "plt.xticks(rotation=70) # x축 이름들 각도. \n",
    "plt.grid()\n",
    "plt.legend()\n",
    "plt.show()"
   ]
  },
  {
   "cell_type": "code",
   "execution_count": 52,
   "metadata": {},
   "outputs": [
    {
     "data": {
      "text/plain": [
       "array(['2020/03/13', '2020/03/16', '2020/03/17', '2020/03/18',\n",
       "       '2020/03/19', '2020/03/23', '2020/03/24', '2020/03/25',\n",
       "       '2020/03/26', '2020/03/27', '2020/03/30', '2020/03/31',\n",
       "       '2020/04/01', '2020/04/02', '2020/04/03', '2020/04/06',\n",
       "       '2020/04/07', '2020/04/08', '2020/04/09', '2020/04/10',\n",
       "       '2020/04/13', '2020/04/14', '2020/04/15', '2020/04/16',\n",
       "       '2020/04/17', '2020/04/20', '2020/04/21', '2020/04/22',\n",
       "       '2020/04/23', '2020/04/24'], dtype=object)"
      ]
     },
     "execution_count": 52,
     "metadata": {},
     "output_type": "execute_result"
    }
   ],
   "source": [
    "df.index[-30:].values"
   ]
  },
  {
   "cell_type": "code",
   "execution_count": 45,
   "metadata": {},
   "outputs": [
    {
     "data": {
      "text/plain": [
       "-30"
      ]
     },
     "execution_count": 45,
     "metadata": {},
     "output_type": "execute_result"
    }
   ],
   "source": [
    "-len(y_test)"
   ]
  },
  {
   "cell_type": "code",
   "execution_count": null,
   "metadata": {},
   "outputs": [],
   "source": [
    "## RMSE 계산 (평균제곱근의 편차)\n"
   ]
  },
  {
   "cell_type": "code",
   "execution_count": null,
   "metadata": {},
   "outputs": [],
   "source": []
  }
 ],
 "metadata": {
  "kernelspec": {
   "display_name": "Python 3",
   "language": "python",
   "name": "python3"
  },
  "language_info": {
   "codemirror_mode": {
    "name": "ipython",
    "version": 3
   },
   "file_extension": ".py",
   "mimetype": "text/x-python",
   "name": "python",
   "nbconvert_exporter": "python",
   "pygments_lexer": "ipython3",
   "version": "3.7.4"
  }
 },
 "nbformat": 4,
 "nbformat_minor": 4
}
