{
 "cells": [
  {
   "cell_type": "code",
   "execution_count": 1,
   "metadata": {},
   "outputs": [],
   "source": [
    "import numpy as np\n",
    "import tensorflow as tf\n",
    "import matplotlib.pyplot as plt\n",
    "from tensorflow.keras.layers import Input, Conv2D, Dense, Flatten, Dropout, GlobalMaxPooling2D, MaxPooling2D, BatchNormalization\n",
    "from tensorflow.keras.models import Model"
   ]
  },
  {
   "cell_type": "code",
   "execution_count": 2,
   "metadata": {},
   "outputs": [
    {
     "name": "stdout",
     "output_type": "stream",
     "text": [
      "x_train.shape: (50000, 32, 32, 3)\n",
      "y_train.shape: (50000,)\n"
     ]
    }
   ],
   "source": [
    "# Load in the data\n",
    "cifar10 = tf.keras.datasets.cifar10\n",
    "\n",
    "(x_train, y_train), (x_test, y_test) = cifar10.load_data()\n",
    "x_train, x_test = x_train / 255.0, x_test / 255.0\n",
    "y_train, y_test = y_train.flatten(), y_test.flatten()\n",
    "print(\"x_train.shape:\", x_train.shape)\n",
    "print(\"y_train.shape:\", y_train.shape)"
   ]
  },
  {
   "cell_type": "code",
   "execution_count": 3,
   "metadata": {},
   "outputs": [
    {
     "name": "stdout",
     "output_type": "stream",
     "text": [
      "number of classes: 10\n"
     ]
    }
   ],
   "source": [
    "# number of classes\n",
    "K = len(set(y_train))\n",
    "print(\"number of classes:\", K)"
   ]
  },
  {
   "cell_type": "code",
   "execution_count": 4,
   "metadata": {},
   "outputs": [
    {
     "name": "stdout",
     "output_type": "stream",
     "text": [
      "(32, 32, 3)\n"
     ]
    }
   ],
   "source": [
    "print(x_train[0].shape)"
   ]
  },
  {
   "cell_type": "code",
   "execution_count": 5,
   "metadata": {},
   "outputs": [
    {
     "name": "stdout",
     "output_type": "stream",
     "text": [
      "Model: \"model\"\n",
      "_________________________________________________________________\n",
      "Layer (type)                 Output Shape              Param #   \n",
      "=================================================================\n",
      "input_1 (InputLayer)         [(None, 32, 32, 3)]       0         \n",
      "_________________________________________________________________\n",
      "conv2d (Conv2D)              (None, 15, 15, 32)        896       \n",
      "_________________________________________________________________\n",
      "conv2d_1 (Conv2D)            (None, 7, 7, 64)          18496     \n",
      "_________________________________________________________________\n",
      "conv2d_2 (Conv2D)            (None, 3, 3, 128)         73856     \n",
      "_________________________________________________________________\n",
      "flatten (Flatten)            (None, 1152)              0         \n",
      "_________________________________________________________________\n",
      "dropout (Dropout)            (None, 1152)              0         \n",
      "_________________________________________________________________\n",
      "dense (Dense)                (None, 1024)              1180672   \n",
      "_________________________________________________________________\n",
      "dropout_1 (Dropout)          (None, 1024)              0         \n",
      "_________________________________________________________________\n",
      "dense_1 (Dense)              (None, 10)                10250     \n",
      "=================================================================\n",
      "Total params: 1,284,170\n",
      "Trainable params: 1,284,170\n",
      "Non-trainable params: 0\n",
      "_________________________________________________________________\n"
     ]
    }
   ],
   "source": [
    "# Build the model using the functional API\n",
    "\n",
    "# input \n",
    "i = Input(shape=x_train[0].shape)\n",
    "\n",
    "x = Conv2D(32, (3, 3), strides=2, activation='relu')(i)\n",
    "x = Conv2D(64, (3, 3), strides=2, activation='relu')(x)\n",
    "x = Conv2D(128, (3, 3), strides=2, activation='relu')(x)\n",
    "\n",
    "# Flatten\n",
    "x = Flatten()(x)\n",
    "\n",
    "# Dropout\n",
    "x = Dropout(0.5)(x)\n",
    "\n",
    "# Dense(relu)\n",
    "x = Dense(1024, activation='relu')(x) #dense 많아졌다 -> 가중치도 많아진다 -> 열심히 학습한다. \n",
    "\n",
    "# Dropout\n",
    "x = Dropout(0.2)(x) #드롭아웃은 옵션사항. \n",
    "\n",
    "# Dense(softmax)\n",
    "x = Dense(K, activation='softmax')(x)\n",
    "\n",
    "\n",
    "model = Model(i,x)\n",
    "model.summary()\n"
   ]
  },
  {
   "cell_type": "code",
   "execution_count": 6,
   "metadata": {},
   "outputs": [
    {
     "name": "stdout",
     "output_type": "stream",
     "text": [
      "WARNING:tensorflow:From C:\\Users\\LGPC\\Anaconda3\\lib\\site-packages\\tensorflow\\python\\ops\\math_grad.py:1250: add_dispatch_support.<locals>.wrapper (from tensorflow.python.ops.array_ops) is deprecated and will be removed in a future version.\n",
      "Instructions for updating:\n",
      "Use tf.where in 2.0, which has the same broadcast rule as np.where\n",
      "Train on 50000 samples, validate on 10000 samples\n",
      "Epoch 1/10\n",
      "50000/50000 [==============================] - 52s 1ms/sample - loss: 1.5656 - accuracy: 0.4288 - val_loss: 1.2681 - val_accuracy: 0.5390\n",
      "Epoch 2/10\n",
      "50000/50000 [==============================] - 51s 1ms/sample - loss: 1.2704 - accuracy: 0.5425 - val_loss: 1.1431 - val_accuracy: 0.5886\n",
      "Epoch 3/10\n",
      "50000/50000 [==============================] - 52s 1ms/sample - loss: 1.1429 - accuracy: 0.5891 - val_loss: 1.0335 - val_accuracy: 0.6364\n",
      "Epoch 4/10\n",
      "50000/50000 [==============================] - 53s 1ms/sample - loss: 1.0519 - accuracy: 0.6238 - val_loss: 0.9696 - val_accuracy: 0.6575\n",
      "Epoch 5/10\n",
      "50000/50000 [==============================] - 53s 1ms/sample - loss: 0.9729 - accuracy: 0.6530 - val_loss: 0.9316 - val_accuracy: 0.6684\n",
      "Epoch 6/10\n",
      "50000/50000 [==============================] - 51s 1ms/sample - loss: 0.9158 - accuracy: 0.6745 - val_loss: 0.9023 - val_accuracy: 0.6805\n",
      "Epoch 7/10\n",
      "50000/50000 [==============================] - 49s 980us/sample - loss: 0.8624 - accuracy: 0.6924 - val_loss: 0.8505 - val_accuracy: 0.7052\n",
      "Epoch 8/10\n",
      "50000/50000 [==============================] - 48s 965us/sample - loss: 0.8195 - accuracy: 0.7062 - val_loss: 0.8483 - val_accuracy: 0.7062\n",
      "Epoch 9/10\n",
      "50000/50000 [==============================] - 49s 983us/sample - loss: 0.7799 - accuracy: 0.7216 - val_loss: 0.8389 - val_accuracy: 0.7057\n",
      "Epoch 10/10\n",
      "50000/50000 [==============================] - 49s 977us/sample - loss: 0.7478 - accuracy: 0.7362 - val_loss: 0.8506 - val_accuracy: 0.7070\n"
     ]
    }
   ],
   "source": [
    "# Compile and fit\n",
    "# Note: make sure you are using hte GPU for this!\n",
    "\n",
    "model.compile(optimizer='adam', loss='sparse_categorical_crossentropy',\n",
    "             metrics=['accuracy']) #sparse : categorical_crossentropy 를 거쳐서 나오는 값을 정수로 바꿔서 출력해라. \n",
    "\n",
    "result = model.fit(x_train, y_train,\n",
    "                  validation_data=(x_test,y_test),\n",
    "                   epochs=10)"
   ]
  },
  {
   "cell_type": "code",
   "execution_count": 12,
   "metadata": {},
   "outputs": [
    {
     "name": "stdout",
     "output_type": "stream",
     "text": [
      "50000\n",
      "1562\n"
     ]
    }
   ],
   "source": [
    "# Fit with data augmentation\n",
    "# Node: if you run this AFTER calling the previous model.fit(), it will CONTINUE training where it left off\n",
    "# data_generator = tf.keras.preprocessing.image.ImageDataGenerator(width_shift_range=0.1, height_shift_range=0.1, horizontal_flip=True)\n",
    "\n",
    "from tensorflow.keras.preprocessing.image import ImageDataGenerator\n",
    "batch_size = 32\n",
    "data_generator = ImageDataGenerator(\n",
    "width_shift_range=0.1,\n",
    "height_shift_range=0.1,\n",
    "horizontal_flip=True)\n",
    "\n",
    "print(x_train.shape[0])\n",
    "print(x_train.shape[0] // batch_size)\n"
   ]
  },
  {
   "cell_type": "code",
   "execution_count": 15,
   "metadata": {},
   "outputs": [
    {
     "name": "stdout",
     "output_type": "stream",
     "text": [
      "Epoch 1/10\n",
      "1562/1562 [==============================] - 80s 51ms/step - loss: 1.0612 - accuracy: 0.6244 - val_loss: 0.8874 - val_accuracy: 0.6956\n",
      "Epoch 2/10\n",
      "1562/1562 [==============================] - 79s 51ms/step - loss: 1.0282 - accuracy: 0.6376 - val_loss: 0.9153 - val_accuracy: 0.6795\n",
      "Epoch 3/10\n",
      "1562/1562 [==============================] - 80s 51ms/step - loss: 0.9990 - accuracy: 0.6461 - val_loss: 0.8233 - val_accuracy: 0.7199\n",
      "Epoch 4/10\n",
      "1562/1562 [==============================] - 78s 50ms/step - loss: 0.9889 - accuracy: 0.6504 - val_loss: 0.8805 - val_accuracy: 0.6931\n",
      "Epoch 5/10\n",
      "1562/1562 [==============================] - 80s 51ms/step - loss: 0.9680 - accuracy: 0.6589 - val_loss: 0.8612 - val_accuracy: 0.7075\n",
      "Epoch 6/10\n",
      "1562/1562 [==============================] - 93s 59ms/step - loss: 0.9638 - accuracy: 0.6604 - val_loss: 0.8697 - val_accuracy: 0.7025\n",
      "Epoch 7/10\n",
      "1562/1562 [==============================] - 91s 58ms/step - loss: 0.9519 - accuracy: 0.6630 - val_loss: 0.8359 - val_accuracy: 0.7206\n",
      "Epoch 8/10\n",
      "1562/1562 [==============================] - 84s 54ms/step - loss: 0.9425 - accuracy: 0.6702 - val_loss: 0.8054 - val_accuracy: 0.7319\n",
      "Epoch 9/10\n",
      "1562/1562 [==============================] - 82s 52ms/step - loss: 0.9402 - accuracy: 0.6703 - val_loss: 0.7962 - val_accuracy: 0.7264\n",
      "Epoch 10/10\n",
      "1562/1562 [==============================] - 88s 56ms/step - loss: 0.9220 - accuracy: 0.6764 - val_loss: 0.7956 - val_accuracy: 0.7341\n"
     ]
    }
   ],
   "source": [
    "train_generator = data_generator.flow(x_train, y_train, batch_size)\n",
    "step_per_epochs = x_train.shape[0] // batch_size\n",
    "result = model.fit_generator(train_generator,\n",
    "                            validation_data=(x_test, y_test),\n",
    "                            steps_per_epoch=step_per_epochs,\n",
    "                            epochs=10)"
   ]
  },
  {
   "cell_type": "code",
   "execution_count": null,
   "metadata": {},
   "outputs": [],
   "source": [
    "# Plot loss per iteration\n"
   ]
  },
  {
   "cell_type": "code",
   "execution_count": null,
   "metadata": {},
   "outputs": [],
   "source": [
    "# Plot accuracy per iteration\n"
   ]
  },
  {
   "cell_type": "code",
   "execution_count": null,
   "metadata": {},
   "outputs": [],
   "source": [
    "from sklearn.metrics import confusion_matrix\n",
    "import itertools\n",
    "def plot_confusion_matrix(cm, classes, \n",
    "                          normalize=False, \n",
    "                          title='Confusion matrix',\n",
    "                          cmap=plt.cm.Blues):\n",
    "  \"\"\"\n",
    "  This function prints and plots the confusion matrix.\n",
    "  Normalization can be appled by setting `normalize=True`.\n",
    "  \"\"\"\n",
    "  if normalize:\n",
    "    cm = cm.astype('float') / cm.sum(axis=1)[:, np.newaxis]\n",
    "    print(\"normalized confusion matrix\")\n",
    "  else:\n",
    "    print('Consusion matrix, without normalization')\n",
    "  print(cm)\n",
    "\n",
    "  plt.imshow(cm, interpolation='nearest', cmap=cmap)\n",
    "  plt.title(title)\n",
    "  plt.colorbar()\n",
    "  tick_marks = np.arange(len(classes))\n",
    "  plt.xticks(tick_marks, classes, rotation=45)\n",
    "  plt.yticks(tick_marks, classes)\n",
    "\n",
    "  fmt = '.2f' if normalize else 'd'\n",
    "  thresh = cm.max() / 2.\n",
    "  for i, j in itertools.product(range(cm.shape[0]), range(cm.shape[1])):\n",
    "    plt.text(j, i, format(cm[i, j], fmt),\n",
    "             horizontalalignment=\"center\",\n",
    "             color=\"white\" if cm[i, j] > thresh else \"black\")\n",
    "  \n",
    "  plt.tight_layout()\n",
    "  plt.ylabel('True label')\n",
    "  plt.xlabel('Predicted label')\n",
    "  plt.show()\n",
    "\n",
    "p_test = model.predict(x_test).argmax(axis=1)\n",
    "cm = confusion_matrix(y_test, p_test)\n",
    "plot_confusion_matrix(cm, list(range(10)))"
   ]
  },
  {
   "cell_type": "code",
   "execution_count": null,
   "metadata": {},
   "outputs": [],
   "source": [
    "# Label mapping\n"
   ]
  },
  {
   "cell_type": "code",
   "execution_count": null,
   "metadata": {},
   "outputs": [],
   "source": [
    "# Show some misclassified examples\n"
   ]
  },
  {
   "cell_type": "code",
   "execution_count": null,
   "metadata": {},
   "outputs": [],
   "source": [
    "# Now that the model is so large, it's useful to summarie it\n"
   ]
  },
  {
   "cell_type": "code",
   "execution_count": null,
   "metadata": {},
   "outputs": [],
   "source": []
  }
 ],
 "metadata": {
  "kernelspec": {
   "display_name": "Python 3",
   "language": "python",
   "name": "python3"
  },
  "language_info": {
   "codemirror_mode": {
    "name": "ipython",
    "version": 3
   },
   "file_extension": ".py",
   "mimetype": "text/x-python",
   "name": "python",
   "nbconvert_exporter": "python",
   "pygments_lexer": "ipython3",
   "version": "3.7.6"
  }
 },
 "nbformat": 4,
 "nbformat_minor": 4
}
