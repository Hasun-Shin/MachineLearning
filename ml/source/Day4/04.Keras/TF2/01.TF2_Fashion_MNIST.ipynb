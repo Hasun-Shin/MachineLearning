{
 "cells": [
  {
   "cell_type": "code",
   "execution_count": 1,
   "metadata": {},
   "outputs": [
    {
     "data": {
      "text/plain": [
       "'2.0.0-beta1'"
      ]
     },
     "execution_count": 1,
     "metadata": {},
     "output_type": "execute_result"
    }
   ],
   "source": [
    "import tensorflow as tf\n",
    "tf.__version__"
   ]
  },
  {
   "cell_type": "code",
   "execution_count": 3,
   "metadata": {},
   "outputs": [],
   "source": [
    "import numpy as np\n",
    "import matplotlib.pyplot as plt\n",
    "from tensorflow.keras.layers import Input, Conv2D, Dense, Flatten, Dropout\n",
    "from tensorflow.keras.models import Model"
   ]
  },
  {
   "cell_type": "code",
   "execution_count": 18,
   "metadata": {},
   "outputs": [
    {
     "name": "stdout",
     "output_type": "stream",
     "text": [
      "x_train.shape: (60000, 28, 28)\n"
     ]
    }
   ],
   "source": [
    "# Load in the data\n",
    "fashion_mnist = tf.keras.datasets.fashion_mnist\n",
    "\n",
    "(x_train, y_train), (x_test, y_test) = fashion_mnist.load_data()\n",
    "x_train, x_test = x_train / 255.0, x_test / 255.0\n",
    "print(\"x_train.shape:\", x_train.shape)"
   ]
  },
  {
   "cell_type": "code",
   "execution_count": 19,
   "metadata": {},
   "outputs": [
    {
     "name": "stdout",
     "output_type": "stream",
     "text": [
      "number of classes: 10\n"
     ]
    }
   ],
   "source": [
    "#num of classes\n",
    "K= len(set(y_train))\n",
    "print(\"number of classes:\", K)"
   ]
  },
  {
   "cell_type": "code",
   "execution_count": 20,
   "metadata": {},
   "outputs": [
    {
     "name": "stdout",
     "output_type": "stream",
     "text": [
      "(60000, 28, 28, 1)\n"
     ]
    }
   ],
   "source": [
    "# the data is only 2D\n",
    "# convolution expects height x width x color\n",
    "x_train = np.expand_dims(x_train, -1)\n",
    "x_test = np.expand_dims(x_test, -1)\n",
    "print(x_train.shape)"
   ]
  },
  {
   "cell_type": "code",
   "execution_count": 21,
   "metadata": {},
   "outputs": [
    {
     "name": "stdout",
     "output_type": "stream",
     "text": [
      "Model: \"model_1\"\n",
      "_________________________________________________________________\n",
      "Layer (type)                 Output Shape              Param #   \n",
      "=================================================================\n",
      "input_7 (InputLayer)         [(None, 28, 28, 1)]       0         \n",
      "_________________________________________________________________\n",
      "conv2d_8 (Conv2D)            (None, 13, 13, 32)        320       \n",
      "_________________________________________________________________\n",
      "conv2d_9 (Conv2D)            (None, 6, 6, 64)          18496     \n",
      "_________________________________________________________________\n",
      "conv2d_10 (Conv2D)           (None, 2, 2, 128)         73856     \n",
      "_________________________________________________________________\n",
      "flatten_1 (Flatten)          (None, 512)               0         \n",
      "_________________________________________________________________\n",
      "dropout_2 (Dropout)          (None, 512)               0         \n",
      "_________________________________________________________________\n",
      "dense_2 (Dense)              (None, 512)               262656    \n",
      "_________________________________________________________________\n",
      "dropout_3 (Dropout)          (None, 512)               0         \n",
      "_________________________________________________________________\n",
      "dense_3 (Dense)              (None, 10)                5130      \n",
      "=================================================================\n",
      "Total params: 360,458\n",
      "Trainable params: 360,458\n",
      "Non-trainable params: 0\n",
      "_________________________________________________________________\n"
     ]
    }
   ],
   "source": [
    "#Build the model using the functional API\n",
    "i = Input(shape=x_train[0].shape)\n",
    "x = Conv2D(32,(3,3), strides=2, activation='relu')(i) # x = f(i) 같은 표기법....\n",
    "\n",
    "#64, 128 추가해보기.\n",
    "x = Conv2D(64, (3,3), strides=2, activation='relu')(x)\n",
    "x = Conv2D(128, (3,3), strides=2, activation='relu')(x)\n",
    "\n",
    "#Flatten()\n",
    "x = Flatten()(x)\n",
    "\n",
    "#Dropout()\n",
    "x = Dropout(0.2)(x)\n",
    "\n",
    "#Dense() 레이어를 써서 -> softmax 사용하기\n",
    "# dense() 레이어는 모든것이 연결되어 있는 fully connected\n",
    "x = Dense(512, activation='relu')(x)\n",
    "x = Dropout(0.2)(x)\n",
    "x = Dense(K, activation='softmax')(x)\n",
    "\n",
    "\n",
    "model = Model(i,x)\n",
    "model.summary()\n",
    "\n",
    "# stride 2 는 사이즈가 줄어든다. signoid로 바꾸든가, stride 빼든가(그러면 오래 걸리겠지. )\n",
    "# 싸이킷런 api 에는 그리드 서치 cv? 는 최적의 파라미터를 찾아준다. "
   ]
  },
  {
   "cell_type": "code",
   "execution_count": 25,
   "metadata": {},
   "outputs": [
    {
     "name": "stdout",
     "output_type": "stream",
     "text": [
      "WARNING:tensorflow:From C:\\Users\\LGPC\\Anaconda3\\lib\\site-packages\\tensorflow\\python\\ops\\math_grad.py:1250: add_dispatch_support.<locals>.wrapper (from tensorflow.python.ops.array_ops) is deprecated and will be removed in a future version.\n",
      "Instructions for updating:\n",
      "Use tf.where in 2.0, which has the same broadcast rule as np.where\n",
      "Train on 60000 samples, validate on 10000 samples\n",
      "Epoch 1/15\n",
      "60000/60000 [==============================] - 29s 484us/sample - loss: 0.5221 - accuracy: 0.8080 - val_loss: 0.4088 - val_accuracy: 0.8501\n",
      "Epoch 2/15\n",
      "60000/60000 [==============================] - 29s 483us/sample - loss: 0.3609 - accuracy: 0.8640 - val_loss: 0.3394 - val_accuracy: 0.8765\n",
      "Epoch 3/15\n",
      "60000/60000 [==============================] - 25s 424us/sample - loss: 0.3118 - accuracy: 0.8823 - val_loss: 0.3239 - val_accuracy: 0.8843\n",
      "Epoch 4/15\n",
      "60000/60000 [==============================] - 28s 464us/sample - loss: 0.2791 - accuracy: 0.8954 - val_loss: 0.3003 - val_accuracy: 0.8897\n",
      "Epoch 5/15\n",
      "60000/60000 [==============================] - 28s 470us/sample - loss: 0.2527 - accuracy: 0.9049 - val_loss: 0.2990 - val_accuracy: 0.8886\n",
      "Epoch 6/15\n",
      "60000/60000 [==============================] - 28s 469us/sample - loss: 0.2331 - accuracy: 0.9114 - val_loss: 0.2964 - val_accuracy: 0.8940\n",
      "Epoch 7/15\n",
      "60000/60000 [==============================] - 29s 475us/sample - loss: 0.2130 - accuracy: 0.9192 - val_loss: 0.2856 - val_accuracy: 0.8993\n",
      "Epoch 8/15\n",
      "60000/60000 [==============================] - 28s 470us/sample - loss: 0.1982 - accuracy: 0.9246 - val_loss: 0.2984 - val_accuracy: 0.8974\n",
      "Epoch 9/15\n",
      "60000/60000 [==============================] - 29s 483us/sample - loss: 0.1822 - accuracy: 0.9299 - val_loss: 0.3108 - val_accuracy: 0.8959\n",
      "Epoch 10/15\n",
      "60000/60000 [==============================] - 29s 487us/sample - loss: 0.1722 - accuracy: 0.9346 - val_loss: 0.3029 - val_accuracy: 0.9008\n",
      "Epoch 11/15\n",
      "60000/60000 [==============================] - 29s 484us/sample - loss: 0.1595 - accuracy: 0.9392 - val_loss: 0.3115 - val_accuracy: 0.9045\n",
      "Epoch 12/15\n",
      "60000/60000 [==============================] - 29s 482us/sample - loss: 0.1513 - accuracy: 0.9414 - val_loss: 0.3318 - val_accuracy: 0.8952\n",
      "Epoch 13/15\n",
      "60000/60000 [==============================] - 28s 467us/sample - loss: 0.1418 - accuracy: 0.9460 - val_loss: 0.3373 - val_accuracy: 0.8977\n",
      "Epoch 14/15\n",
      "60000/60000 [==============================] - 27s 448us/sample - loss: 0.1351 - accuracy: 0.9480 - val_loss: 0.3434 - val_accuracy: 0.9009\n",
      "Epoch 15/15\n",
      "60000/60000 [==============================] - 28s 461us/sample - loss: 0.1294 - accuracy: 0.9499 - val_loss: 0.3485 - val_accuracy: 0.8993\n"
     ]
    }
   ],
   "source": [
    "# optimizer=adam, loss=categorical_crossentropy, metrics=accuracy \n",
    "model.compile(optimizer='adam', loss='sparse_categorical_crossentropy',\n",
    "             metrics=['accuracy']) #sparse : categorical_crossentropy 를 거쳐서 나오는 값을 정수로 바꿔서 출력해라. \n",
    "\n",
    "result = model.fit(x_train, y_train,\n",
    "                  validation_data=(x_test,y_test),\n",
    "                   epochs=15)\n"
   ]
  },
  {
   "cell_type": "code",
   "execution_count": null,
   "metadata": {},
   "outputs": [],
   "source": [
    "#Plot loss per iteration\n",
    "plt.plot(result.history['accuracy'], label='accuracy')\n",
    "plt.plot(result.history['val_accuracy'], label='val_accruacy')\n",
    "plt.legend()\n",
    "\n",
    "#val 이 정확할 수 도 있음. \n",
    "#loss 는 잘 되는데, acc는 왜 안나오는지 모르겠다. "
   ]
  },
  {
   "cell_type": "code",
   "execution_count": 69,
   "metadata": {},
   "outputs": [
    {
     "data": {
      "text/plain": [
       "<matplotlib.legend.Legend at 0x198744cf0c8>"
      ]
     },
     "execution_count": 69,
     "metadata": {},
     "output_type": "execute_result"
    },
    {
     "data": {
      "image/png": "[encoded data removed]",
      "text/plain": [
       "<Figure size 432x288 with 1 Axes>"
      ]
     },
     "metadata": {
      "needs_background": "light"
     },
     "output_type": "display_data"
    }
   ],
   "source": [
    "#Plot loss per iteration\n",
    "plt.plot(result.history['loss'], label='loss')\n",
    "plt.plot(result.history['val_loss'], label='val_loss')\n",
    "plt.legend()\n",
    "\n",
    "#val 이 정확할 수 도 있음. \n",
    "#loss 는 잘 되는데, acc는 왜 안나오는지 모르겠다. "
   ]
  },
  {
   "cell_type": "code",
   "execution_count": 31,
   "metadata": {},
   "outputs": [
    {
     "name": "stdout",
     "output_type": "stream",
     "text": [
      "Consusion matrix, without normalization\n",
      "[[850   1  23  21   2   1  91   0  10   1]\n",
      " [  3 978   0  12   3   0   2   0   2   0]\n",
      " [ 18   0 864  14  38   0  64   0   2   0]\n",
      " [ 10   7  17 909  34   0  23   0   0   0]\n",
      " [  0   1  73  25 827   0  70   0   4   0]\n",
      " [  0   0   0   0   0 964   0  18   0  18]\n",
      " [106   0  68  24  79   1 708   0  14   0]\n",
      " [  0   0   0   0   0  10   0 949   0  41]\n",
      " [  2   1   5   2   4   3   8   1 974   0]\n",
      " [  1   0   0   0   0   4   0  25   0 970]]\n"
     ]
    },
    {
     "data": {
      "image/png": "[encoded data removed]",
      "text/plain": [
       "<Figure size 432x288 with 2 Axes>"
      ]
     },
     "metadata": {
      "needs_background": "light"
     },
     "output_type": "display_data"
    }
   ],
   "source": [
    "from sklearn.metrics import confusion_matrix\n",
    "import itertools\n",
    "def plt_confusion_matrix(cm, classes, \n",
    "                          normalize=False, \n",
    "                          title='Confusion matrix',\n",
    "                          cmap=plt.cm.Blues):\n",
    "  '''\n",
    "  This function prints and plots the confusion matrix.\n",
    "  Normalization can be appled by setting `normalize=True`.\n",
    "  '''\n",
    "  if normalize:\n",
    "    cm = cm.astype('float') / cm.sum(axis=1)[:, np.newaxis]\n",
    "    print('normalized confusion matrix')\n",
    "  else:\n",
    "    print('Consusion matrix, without normalization')\n",
    "  print(cm)\n",
    "\n",
    "  plt.imshow(cm, interpolation='nearest', cmap=cmap)\n",
    "  plt.title(title)\n",
    "  plt.colorbar()\n",
    "  tick_marks = np.arange(len(classes))\n",
    "  plt.xticks(tick_marks, classes, rotation=45)\n",
    "  plt.yticks(tick_marks, classes)\n",
    "\n",
    "  fmt = '.2f' if normalize else 'd'\n",
    "  thresh = cm.max() / 2.\n",
    "  for i, j in itertools.product(range(cm.shape[0]), range(cm.shape[1])):\n",
    "    plt.text(j, i, format(cm[i, j], fmt),\n",
    "             horizontalalignment=\"center\",\n",
    "             color=\"white\" if cm[i, j] > thresh else \"black\")\n",
    "  \n",
    "  plt.tight_layout()\n",
    "  plt.ylabel('True label')\n",
    "  plt.xlabel('Predicted label')\n",
    "  plt.show()\n",
    "\n",
    "p_test = model.predict(x_test).argmax(axis=1)\n",
    "cm = confusion_matrix(y_test, p_test)\n",
    "plt_confusion_matrix(cm, list(range(10)))\n"
   ]
  },
  {
   "cell_type": "code",
   "execution_count": 55,
   "metadata": {},
   "outputs": [
    {
     "name": "stdout",
     "output_type": "stream",
     "text": [
      "['T-shirt/top', 'Trouser/pants', 'Pullover_shirt', 'Dress', 'Coat', 'Sandal', 'Shirt', 'Sneaker', 'Bag', 'Ankle', 'boot']\n"
     ]
    }
   ],
   "source": [
    "# Label mapping\n",
    "labels = '''\n",
    "T-shirt/top\n",
    "Trouser/pants\n",
    "Pullover_shirt\n",
    "Dress\n",
    "Coat\n",
    "Sandal\n",
    "Shirt\n",
    "Sneaker\n",
    "Bag\n",
    "Ankle boot'''.split()\n",
    "print(labels)\n"
   ]
  },
  {
   "cell_type": "code",
   "execution_count": 56,
   "metadata": {},
   "outputs": [
    {
     "name": "stdout",
     "output_type": "stream",
     "text": [
      "[  17   23   25 ... 9977 9981 9991]\n"
     ]
    }
   ],
   "source": [
    "# Show some misclassified examples\n",
    "misclassified_idx = np.where(p_test != y_test)[0]\n",
    "print(misclassified_idx)"
   ]
  },
  {
   "cell_type": "code",
   "execution_count": 66,
   "metadata": {},
   "outputs": [
    {
     "name": "stdout",
     "output_type": "stream",
     "text": [
      "3568\n"
     ]
    }
   ],
   "source": [
    "# show image\n",
    "temp_idx = np.random.choice(misclassified_idx\n",
    "                           )\n",
    "print(temp_idx)"
   ]
  },
  {
   "cell_type": "code",
   "execution_count": 67,
   "metadata": {},
   "outputs": [
    {
     "data": {
      "text/plain": [
       "Text(0.5, 1.0, 'True label: Coat, Predicted: Shirt')"
      ]
     },
     "execution_count": 67,
     "metadata": {},
     "output_type": "execute_result"
    },
    {
     "data": {
      "image/png": "[encoded data removed]",
      "text/plain": [
       "<Figure size 432x288 with 1 Axes>"
      ]
     },
     "metadata": {
      "needs_background": "light"
     },
     "output_type": "display_data"
    }
   ],
   "source": [
    "plt.imshow(x_test[temp_idx].reshape((28,28)),'gray')\n",
    "plt.title(\"True label: %s, Predicted: %s\" %(labels[y_test[temp_idx]], labels[p_test[temp_idx]]))"
   ]
  },
  {
   "cell_type": "code",
   "execution_count": null,
   "metadata": {},
   "outputs": [],
   "source": []
  }
 ],
 "metadata": {
  "kernelspec": {
   "display_name": "Python 3",
   "language": "python",
   "name": "python3"
  },
  "language_info": {
   "codemirror_mode": {
    "name": "ipython",
    "version": 3
   },
   "file_extension": ".py",
   "mimetype": "text/x-python",
   "name": "python",
   "nbconvert_exporter": "python",
   "pygments_lexer": "ipython3",
   "version": "3.7.6"
  }
 },
 "nbformat": 4,
 "nbformat_minor": 4
}
