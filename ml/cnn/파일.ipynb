{
 "cells": [
  {
   "cell_type": "code",
   "execution_count": 1,
   "metadata": {},
   "outputs": [
    {
     "name": "stdout",
     "output_type": "stream",
     "text": [
      "C:\\Users\\LGPC\\Desktop\\Study\\multicampus\\MachineLearning\\ml\\cnn_project\n"
     ]
    }
   ],
   "source": [
    "import os\n",
    "from os import rename\n",
    "print (os.getcwd()) \n",
    "\n",
    "\n",
    "# print (os.path.realpath(__file__))#파일\n",
    "# print (os.path.dirname(os.path.realpath(__file__)) )#파일이 위치한 디렉토리"
   ]
  },
  {
   "cell_type": "code",
   "execution_count": 6,
   "metadata": {},
   "outputs": [],
   "source": [
    "os.chdir('C:/Users/LGPC/Desktop/testset')"
   ]
  },
  {
   "cell_type": "code",
   "execution_count": 7,
   "metadata": {},
   "outputs": [],
   "source": [
    "path = \"./\"\n",
    "file_list = os.listdir(path)\n",
    "\n",
    "\n",
    "    \n"
   ]
  },
  {
   "cell_type": "code",
   "execution_count": 8,
   "metadata": {},
   "outputs": [],
   "source": [
    "# for i in file_list:\n",
    "#     ii = i.split('_')[1]\n",
    "#     iii = ii.split('.')[0]\n",
    "#     if(int(iii) > 1000) :\n",
    "#         os.remove(i)"
   ]
  },
  {
   "cell_type": "code",
   "execution_count": 10,
   "metadata": {},
   "outputs": [],
   "source": [
    "count = [0, 0, 0, 0, 0, 0, 0]\n",
    "\n",
    "dir = 'C:/Users/LGPC/Desktop/testset'\n",
    "for i in file_list :\n",
    "    count_curindex = 0\n",
    "    if 'baemin' in i :\n",
    "        count_curindex = 0\n",
    "    elif 'cafe24' in i:\n",
    "        count_curindex = 1\n",
    "    elif 'chosun' in i:\n",
    "        count_curindex = 2\n",
    "    elif 'mapo' in i:\n",
    "        count_curindex = 3\n",
    "    elif 'nanumpen' in i:\n",
    "        count_curindex = 4\n",
    "    elif 'nanumsquare' in i:\n",
    "        count_curindex = 5\n",
    "    elif 'others' in i:\n",
    "        count_curindex = 6\n",
    "    else : continue\n",
    "    new = i.replace(str(i),'0' + str(count_curindex) +'_'+str(count[count_curindex])+'.jpg')\n",
    "    os.rename(i, new)\n",
    "    count[count_curindex] = count[count_curindex]+1"
   ]
  },
  {
   "cell_type": "code",
   "execution_count": null,
   "metadata": {},
   "outputs": [],
   "source": []
  }
 ],
 "metadata": {
  "kernelspec": {
   "display_name": "Python 3",
   "language": "python",
   "name": "python3"
  },
  "language_info": {
   "codemirror_mode": {
    "name": "ipython",
    "version": 3
   },
   "file_extension": ".py",
   "mimetype": "text/x-python",
   "name": "python",
   "nbconvert_exporter": "python",
   "pygments_lexer": "ipython3",
   "version": "3.7.4"
  }
 },
 "nbformat": 4,
 "nbformat_minor": 4
}
