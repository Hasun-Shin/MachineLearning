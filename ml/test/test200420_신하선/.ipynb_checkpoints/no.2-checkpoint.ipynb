{
 "cells": [
  {
   "cell_type": "code",
   "execution_count": 1,
   "metadata": {},
   "outputs": [
    {
     "name": "stderr",
     "output_type": "stream",
     "text": [
      "Using Theano backend.\n"
     ]
    }
   ],
   "source": [
    "# import os\n",
    "# import cv2\n",
    "# import numpy as np\n",
    "# import matplotlib.pyplot as plt\n",
    "# from keras.utils.np_utils import to_categorical\n",
    "# from keras.layers import Conv2D, Dense, Flatten, MaxPooling2D, Dropout\n",
    "# from keras.models import Sequential\n",
    "# from tensorflow.python.keras.utils.vis_utils import plot_model"
   ]
  },
  {
   "cell_type": "code",
   "execution_count": null,
   "metadata": {},
   "outputs": [],
   "source": [
    "# 모델 정의\n",
    "model = Sequential()\n",
    "#same 은 원본 크기 보존 ~ \n",
    "\n",
    "#CNN -1\n",
    "model.add(Conv2D(input_shape=(64,64,3),filters=32, kernel_size=(3,3), padding='same', strides=(1,1), activation='relu'))\n",
    "model.add(MaxPooling2D(pool_size=(2,2))).\n",
    "\n",
    "#CNN-2\n",
    "model.add(Conv2D(input_shape=(32,32,3),filters=32, kernel_size=(3,3), padding='same', strides=(1,1), activation='relu'))\n",
    "model.add(MaxPooling2D(pool_size=(2,2)))\n",
    "model.add(Dropout(0.01))\n",
    "\n",
    "#CNN-3\n",
    "model.add(Conv2D(input_shape=(16,16,3),filters=64, kernel_size=(3,3), padding='same', strides=(1,1), activation='relu'))\n",
    "model.add(MaxPooling2D(pool_size=(2,2)))\n",
    "model.add(Dropout(0.05))\n",
    "\n",
    "# Flatten() + Dense\n",
    "model.add(Flatten())\n",
    "model.add(Dense(512, activation='relu'))\n",
    "model.add(Dense(128, activation='relu')) \n",
    "model.add(Dense(2, activation='softmax'))\n",
    "\n",
    "model.summary()\n",
    "\n",
    "\n"
   ]
  }
 ],
 "metadata": {
  "kernelspec": {
   "display_name": "Python 3",
   "language": "python",
   "name": "python3"
  },
  "language_info": {
   "codemirror_mode": {
    "name": "ipython",
    "version": 3
   },
   "file_extension": ".py",
   "mimetype": "text/x-python",
   "name": "python",
   "nbconvert_exporter": "python",
   "pygments_lexer": "ipython3",
   "version": "3.7.6"
  }
 },
 "nbformat": 4,
 "nbformat_minor": 4
}
