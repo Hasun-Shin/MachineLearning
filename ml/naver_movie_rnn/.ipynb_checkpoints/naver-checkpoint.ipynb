{
 "cells": [
  {
   "cell_type": "code",
   "execution_count": null,
   "metadata": {},
   "outputs": [],
   "source": [
    "# 코랩으로 돌리면 이거 실행하기 (코랩만)\n",
    "\n",
    "# !apt-get update\n",
    "\n",
    "# !apt-get install g++ openjdk-8-jdk python-dev python3-dev\n",
    "\n",
    "# !pip3 install JPype1-py3\n",
    "\n",
    "# !pip3 install konlpy\n",
    "\n",
    "# !JAVA_HOME=\"/usr/lib/jvm/java-8-openjdk-amd64\""
   ]
  },
  {
   "cell_type": "code",
   "execution_count": 2,
   "metadata": {},
   "outputs": [],
   "source": [
    "import pandas as pd\n",
    "import numpy as np\n",
    "%matplotlib inline\n",
    "import matplotlib.pyplot as plt\n",
    "import re\n",
    "from tensorflow.keras.preprocessing.text import Tokenizer\n",
    "from tensorflow.keras.preprocessing.sequence import pad_sequences\n",
    "from konlpy.tag import Okt"
   ]
  },
  {
   "cell_type": "code",
   "execution_count": 3,
   "metadata": {},
   "outputs": [],
   "source": [
    "# pip install konlpy"
   ]
  },
  {
   "cell_type": "code",
   "execution_count": 4,
   "metadata": {},
   "outputs": [
    {
     "data": {
      "text/html": [
       "<div>\n",
       "<style scoped>\n",
       "    .dataframe tbody tr th:only-of-type {\n",
       "        vertical-align: middle;\n",
       "    }\n",
       "\n",
       "    .dataframe tbody tr th {\n",
       "        vertical-align: top;\n",
       "    }\n",
       "\n",
       "    .dataframe thead th {\n",
       "        text-align: right;\n",
       "    }\n",
       "</style>\n",
       "<table border=\"1\" class=\"dataframe\">\n",
       "  <thead>\n",
       "    <tr style=\"text-align: right;\">\n",
       "      <th></th>\n",
       "      <th>score</th>\n",
       "      <th>review</th>\n",
       "    </tr>\n",
       "  </thead>\n",
       "  <tbody>\n",
       "    <tr>\n",
       "      <td>0</td>\n",
       "      <td>10</td>\n",
       "      <td>최고의 영화, 정말 감동입니다</td>\n",
       "    </tr>\n",
       "    <tr>\n",
       "      <td>1</td>\n",
       "      <td>10</td>\n",
       "      <td>오랜만에 좋은 영화봤네요</td>\n",
       "    </tr>\n",
       "    <tr>\n",
       "      <td>2</td>\n",
       "      <td>10</td>\n",
       "      <td>다 보고 박수 쳤습니다.</td>\n",
       "    </tr>\n",
       "    <tr>\n",
       "      <td>3</td>\n",
       "      <td>10</td>\n",
       "      <td>평점낮을이유전혀없어요.. 재미있게 잘봤습니다.</td>\n",
       "    </tr>\n",
       "    <tr>\n",
       "      <td>4</td>\n",
       "      <td>10</td>\n",
       "      <td>와  넷플릭스 요즘 영화 정말 잘 만든다. 최고~~!!</td>\n",
       "    </tr>\n",
       "    <tr>\n",
       "      <td>5</td>\n",
       "      <td>1</td>\n",
       "      <td>평점이 9.5 실화냐? 미친 눈깔이 쳐 뼈뿐나?</td>\n",
       "    </tr>\n",
       "    <tr>\n",
       "      <td>6</td>\n",
       "      <td>10</td>\n",
       "      <td>마지막 장면을 위해서 보는 영화. 처음엔 진지가 무섭고 싫었는데</td>\n",
       "    </tr>\n",
       "    <tr>\n",
       "      <td>7</td>\n",
       "      <td>5</td>\n",
       "      <td>솔직히 이거도 OO같은영화는 맞는데 최근에나온 라이즈오즈스카이워커인지 설정파괴 스카...</td>\n",
       "    </tr>\n",
       "    <tr>\n",
       "      <td>8</td>\n",
       "      <td>10</td>\n",
       "      <td>민주화운동 영화 중에서 제일 웰메이드로 만든거 같다 모든 아시아국들이 봤으면 좋겠다...</td>\n",
       "    </tr>\n",
       "    <tr>\n",
       "      <td>9</td>\n",
       "      <td>9</td>\n",
       "      <td>영화에서 현실성을 따지는 사람은 대체 뭘까?</td>\n",
       "    </tr>\n",
       "  </tbody>\n",
       "</table>\n",
       "</div>"
      ],
      "text/plain": [
       "   score                                             review\n",
       "0     10                                  최고의 영화, 정말 감동입니다 \n",
       "1     10                                     오랜만에 좋은 영화봤네요 \n",
       "2     10                                     다 보고 박수 쳤습니다. \n",
       "3     10                         평점낮을이유전혀없어요.. 재미있게 잘봤습니다. \n",
       "4     10                    와  넷플릭스 요즘 영화 정말 잘 만든다. 최고~~!! \n",
       "5      1                        평점이 9.5 실화냐? 미친 눈깔이 쳐 뼈뿐나? \n",
       "6     10               마지막 장면을 위해서 보는 영화. 처음엔 진지가 무섭고 싫었는데 \n",
       "7      5  솔직히 이거도 OO같은영화는 맞는데 최근에나온 라이즈오즈스카이워커인지 설정파괴 스카...\n",
       "8     10  민주화운동 영화 중에서 제일 웰메이드로 만든거 같다 모든 아시아국들이 봤으면 좋겠다...\n",
       "9      9                          영화에서 현실성을 따지는 사람은 대체 뭘까? "
      ]
     },
     "execution_count": 4,
     "metadata": {},
     "output_type": "execute_result"
    }
   ],
   "source": [
    "train_data = pd.read_csv('result_1_1000.csv', sep=\",\", encoding='utf-8')  # 파일 이름 바꾸기, 파일&코드 위치에 있기\n",
    "train_data.head(10)"
   ]
  },
  {
   "cell_type": "code",
   "execution_count": 5,
   "metadata": {},
   "outputs": [
    {
     "name": "stdout",
     "output_type": "stream",
     "text": [
      "<class 'pandas.core.frame.DataFrame'>\n",
      "RangeIndex: 10000 entries, 0 to 9999\n",
      "Data columns (total 2 columns):\n",
      "score     10000 non-null int64\n",
      "review    8976 non-null object\n",
      "dtypes: int64(1), object(1)\n",
      "memory usage: 156.4+ KB\n"
     ]
    }
   ],
   "source": [
    "train_data.info()"
   ]
  },
  {
   "cell_type": "code",
   "execution_count": 6,
   "metadata": {},
   "outputs": [],
   "source": [
    "train_data = train_data.dropna(how='any')"
   ]
  },
  {
   "cell_type": "code",
   "execution_count": 8,
   "metadata": {},
   "outputs": [
    {
     "data": {
      "text/html": [
       "<div>\n",
       "<style scoped>\n",
       "    .dataframe tbody tr th:only-of-type {\n",
       "        vertical-align: middle;\n",
       "    }\n",
       "\n",
       "    .dataframe tbody tr th {\n",
       "        vertical-align: top;\n",
       "    }\n",
       "\n",
       "    .dataframe thead th {\n",
       "        text-align: right;\n",
       "    }\n",
       "</style>\n",
       "<table border=\"1\" class=\"dataframe\">\n",
       "  <thead>\n",
       "    <tr style=\"text-align: right;\">\n",
       "      <th></th>\n",
       "      <th>score</th>\n",
       "      <th>review</th>\n",
       "    </tr>\n",
       "  </thead>\n",
       "  <tbody>\n",
       "    <tr>\n",
       "      <td>0</td>\n",
       "      <td>10</td>\n",
       "      <td>최고의 영화, 정말 감동입니다</td>\n",
       "    </tr>\n",
       "    <tr>\n",
       "      <td>1</td>\n",
       "      <td>10</td>\n",
       "      <td>오랜만에 좋은 영화봤네요</td>\n",
       "    </tr>\n",
       "    <tr>\n",
       "      <td>2</td>\n",
       "      <td>10</td>\n",
       "      <td>다 보고 박수 쳤습니다.</td>\n",
       "    </tr>\n",
       "  </tbody>\n",
       "</table>\n",
       "</div>"
      ],
      "text/plain": [
       "   score             review\n",
       "0     10  최고의 영화, 정말 감동입니다 \n",
       "1     10     오랜만에 좋은 영화봤네요 \n",
       "2     10     다 보고 박수 쳤습니다. "
      ]
     },
     "execution_count": 8,
     "metadata": {},
     "output_type": "execute_result"
    }
   ],
   "source": [
    "train_data[:3]"
   ]
  },
  {
   "cell_type": "code",
   "execution_count": 9,
   "metadata": {},
   "outputs": [
    {
     "data": {
      "text/plain": [
       "8976"
      ]
     },
     "execution_count": 9,
     "metadata": {},
     "output_type": "execute_result"
    }
   ],
   "source": [
    "len(train_data)"
   ]
  },
  {
   "cell_type": "code",
   "execution_count": 10,
   "metadata": {},
   "outputs": [],
   "source": [
    "# label\n",
    "def labeling(x):\n",
    "    if x >= 7:\n",
    "        x = 1\n",
    "    elif x <= 4:\n",
    "        x = 0\n",
    "    else:\n",
    "        x = None\n",
    "    return x\n",
    "\n",
    "train_data['score'] = train_data['score'].apply(labeling)"
   ]
  },
  {
   "cell_type": "code",
   "execution_count": 11,
   "metadata": {},
   "outputs": [
    {
     "name": "stdout",
     "output_type": "stream",
     "text": [
      "<class 'pandas.core.frame.DataFrame'>\n",
      "Int64Index: 8976 entries, 0 to 9999\n",
      "Data columns (total 2 columns):\n",
      "score     8240 non-null float64\n",
      "review    8976 non-null object\n",
      "dtypes: float64(1), object(1)\n",
      "memory usage: 210.4+ KB\n"
     ]
    }
   ],
   "source": [
    "train_data.info()"
   ]
  },
  {
   "cell_type": "code",
   "execution_count": 12,
   "metadata": {},
   "outputs": [
    {
     "data": {
      "text/html": [
       "<div>\n",
       "<style scoped>\n",
       "    .dataframe tbody tr th:only-of-type {\n",
       "        vertical-align: middle;\n",
       "    }\n",
       "\n",
       "    .dataframe tbody tr th {\n",
       "        vertical-align: top;\n",
       "    }\n",
       "\n",
       "    .dataframe thead th {\n",
       "        text-align: right;\n",
       "    }\n",
       "</style>\n",
       "<table border=\"1\" class=\"dataframe\">\n",
       "  <thead>\n",
       "    <tr style=\"text-align: right;\">\n",
       "      <th></th>\n",
       "      <th>score</th>\n",
       "      <th>review</th>\n",
       "    </tr>\n",
       "  </thead>\n",
       "  <tbody>\n",
       "    <tr>\n",
       "      <td>0</td>\n",
       "      <td>1.0</td>\n",
       "      <td>최고의 영화, 정말 감동입니다</td>\n",
       "    </tr>\n",
       "    <tr>\n",
       "      <td>1</td>\n",
       "      <td>1.0</td>\n",
       "      <td>오랜만에 좋은 영화봤네요</td>\n",
       "    </tr>\n",
       "    <tr>\n",
       "      <td>2</td>\n",
       "      <td>1.0</td>\n",
       "      <td>다 보고 박수 쳤습니다.</td>\n",
       "    </tr>\n",
       "    <tr>\n",
       "      <td>3</td>\n",
       "      <td>1.0</td>\n",
       "      <td>평점낮을이유전혀없어요.. 재미있게 잘봤습니다.</td>\n",
       "    </tr>\n",
       "    <tr>\n",
       "      <td>4</td>\n",
       "      <td>1.0</td>\n",
       "      <td>와  넷플릭스 요즘 영화 정말 잘 만든다. 최고~~!!</td>\n",
       "    </tr>\n",
       "    <tr>\n",
       "      <td>...</td>\n",
       "      <td>...</td>\n",
       "      <td>...</td>\n",
       "    </tr>\n",
       "    <tr>\n",
       "      <td>9994</td>\n",
       "      <td>0.0</td>\n",
       "      <td>음...스토리풀게 ㅈㄹ많을 것 같았는데 영화시간이 10분남은걸보고 망작의 스멜이 났...</td>\n",
       "    </tr>\n",
       "    <tr>\n",
       "      <td>9995</td>\n",
       "      <td>0.0</td>\n",
       "      <td>파수꾼배우들! 기대하는 마음 티비켰는데 리얼 남는건 실망뿐... 아 이게 무슨 얘기...</td>\n",
       "    </tr>\n",
       "    <tr>\n",
       "      <td>9996</td>\n",
       "      <td>1.0</td>\n",
       "      <td>진짜 먹먹해지는 영화 ㅠ 쓰다만 데이브의 이름이 미치도록 짠하고 우울하다 ㅠ 명작</td>\n",
       "    </tr>\n",
       "    <tr>\n",
       "      <td>9997</td>\n",
       "      <td>1.0</td>\n",
       "      <td>난 재밌게 봤다.존윅 개봉 당시 재밌다고 추천 도 하고 했는데 ,사실 존윅 2보면 ...</td>\n",
       "    </tr>\n",
       "    <tr>\n",
       "      <td>9999</td>\n",
       "      <td>1.0</td>\n",
       "      <td>크리스틴이 팬텀에게 자꾸 음악의 천사 음악의 천사 하지만 본인이 천사가 아니신지.,...</td>\n",
       "    </tr>\n",
       "  </tbody>\n",
       "</table>\n",
       "<p>8240 rows × 2 columns</p>\n",
       "</div>"
      ],
      "text/plain": [
       "      score                                             review\n",
       "0       1.0                                  최고의 영화, 정말 감동입니다 \n",
       "1       1.0                                     오랜만에 좋은 영화봤네요 \n",
       "2       1.0                                     다 보고 박수 쳤습니다. \n",
       "3       1.0                         평점낮을이유전혀없어요.. 재미있게 잘봤습니다. \n",
       "4       1.0                    와  넷플릭스 요즘 영화 정말 잘 만든다. 최고~~!! \n",
       "...     ...                                                ...\n",
       "9994    0.0  음...스토리풀게 ㅈㄹ많을 것 같았는데 영화시간이 10분남은걸보고 망작의 스멜이 났...\n",
       "9995    0.0  파수꾼배우들! 기대하는 마음 티비켰는데 리얼 남는건 실망뿐... 아 이게 무슨 얘기...\n",
       "9996    1.0     진짜 먹먹해지는 영화 ㅠ 쓰다만 데이브의 이름이 미치도록 짠하고 우울하다 ㅠ 명작 \n",
       "9997    1.0  난 재밌게 봤다.존윅 개봉 당시 재밌다고 추천 도 하고 했는데 ,사실 존윅 2보면 ...\n",
       "9999    1.0  크리스틴이 팬텀에게 자꾸 음악의 천사 음악의 천사 하지만 본인이 천사가 아니신지.,...\n",
       "\n",
       "[8240 rows x 2 columns]"
      ]
     },
     "execution_count": 12,
     "metadata": {},
     "output_type": "execute_result"
    }
   ],
   "source": [
    "train_data = train_data.dropna(how='any')\n",
    "train_data"
   ]
  },
  {
   "cell_type": "code",
   "execution_count": 13,
   "metadata": {},
   "outputs": [],
   "source": [
    "train_data['score'] = pd.to_numeric(train_data['score'], downcast='integer')"
   ]
  },
  {
   "cell_type": "code",
   "execution_count": 14,
   "metadata": {},
   "outputs": [
    {
     "data": {
      "text/plain": [
       "1    5676\n",
       "0    2564\n",
       "Name: score, dtype: int64"
      ]
     },
     "execution_count": 14,
     "metadata": {},
     "output_type": "execute_result"
    }
   ],
   "source": [
    "train_data['score'].value_counts()"
   ]
  },
  {
   "cell_type": "code",
   "execution_count": 15,
   "metadata": {},
   "outputs": [
    {
     "data": {
      "text/plain": [
       "<matplotlib.axes._subplots.AxesSubplot at 0x201fbb36448>"
      ]
     },
     "execution_count": 15,
     "metadata": {},
     "output_type": "execute_result"
    },
    {
     "data": {
      "image/png": "[encoded data removed]",
      "text/plain": [
       "<Figure size 432x288 with 1 Axes>"
      ]
     },
     "metadata": {
      "needs_background": "light"
     },
     "output_type": "display_data"
    }
   ],
   "source": [
    "train_data['score'].value_counts().plot(kind='bar')"
   ]
  },
  {
   "cell_type": "code",
   "execution_count": 126,
   "metadata": {},
   "outputs": [],
   "source": [
    "# 공백 data 삭제하기\n",
    "# re.sub(r'[^a-zA-Z]', '', text) : 영어일 경우\n",
    "# ㄱ~ㅎ: U3131 ~ U314E\n",
    "# ㅏ~ㅣ:...\n",
    "# 가~: UAC00..."
   ]
  },
  {
   "cell_type": "code",
   "execution_count": 16,
   "metadata": {},
   "outputs": [
    {
     "data": {
      "text/html": [
       "<div>\n",
       "<style scoped>\n",
       "    .dataframe tbody tr th:only-of-type {\n",
       "        vertical-align: middle;\n",
       "    }\n",
       "\n",
       "    .dataframe tbody tr th {\n",
       "        vertical-align: top;\n",
       "    }\n",
       "\n",
       "    .dataframe thead th {\n",
       "        text-align: right;\n",
       "    }\n",
       "</style>\n",
       "<table border=\"1\" class=\"dataframe\">\n",
       "  <thead>\n",
       "    <tr style=\"text-align: right;\">\n",
       "      <th></th>\n",
       "      <th>score</th>\n",
       "      <th>review</th>\n",
       "    </tr>\n",
       "  </thead>\n",
       "  <tbody>\n",
       "    <tr>\n",
       "      <td>0</td>\n",
       "      <td>1</td>\n",
       "      <td>최고의영화정말감동입니다</td>\n",
       "    </tr>\n",
       "    <tr>\n",
       "      <td>1</td>\n",
       "      <td>1</td>\n",
       "      <td>오랜만에좋은영화봤네요</td>\n",
       "    </tr>\n",
       "    <tr>\n",
       "      <td>2</td>\n",
       "      <td>1</td>\n",
       "      <td>다보고박수쳤습니다</td>\n",
       "    </tr>\n",
       "    <tr>\n",
       "      <td>3</td>\n",
       "      <td>1</td>\n",
       "      <td>평점낮을이유전혀없어요재미있게잘봤습니다</td>\n",
       "    </tr>\n",
       "    <tr>\n",
       "      <td>4</td>\n",
       "      <td>1</td>\n",
       "      <td>와넷플릭스요즘영화정말잘만든다최고</td>\n",
       "    </tr>\n",
       "    <tr>\n",
       "      <td>...</td>\n",
       "      <td>...</td>\n",
       "      <td>...</td>\n",
       "    </tr>\n",
       "    <tr>\n",
       "      <td>9994</td>\n",
       "      <td>0</td>\n",
       "      <td>음스토리풀게ㅈㄹ많을것같았는데영화시간이분남은걸보고망작의스멜이났다편이나오지않고서야이건뭔...</td>\n",
       "    </tr>\n",
       "    <tr>\n",
       "      <td>9995</td>\n",
       "      <td>0</td>\n",
       "      <td>파수꾼배우들기대하는마음티비켰는데리얼남는건실망뿐아이게무슨얘기임대쳌ㅋㅋ</td>\n",
       "    </tr>\n",
       "    <tr>\n",
       "      <td>9996</td>\n",
       "      <td>1</td>\n",
       "      <td>진짜먹먹해지는영화ㅠ쓰다만데이브의이름이미치도록짠하고우울하다ㅠ명작</td>\n",
       "    </tr>\n",
       "    <tr>\n",
       "      <td>9997</td>\n",
       "      <td>1</td>\n",
       "      <td>난재밌게봤다존윅개봉당시재밌다고추천도하고했는데사실존윅보면총검술이무용같지않냐예전중국영화...</td>\n",
       "    </tr>\n",
       "    <tr>\n",
       "      <td>9999</td>\n",
       "      <td>1</td>\n",
       "      <td>크리스틴이팬텀에게자꾸음악의천사음악의천사하지만본인이천사가아니신지하는굿굿베리굿잡영화였습...</td>\n",
       "    </tr>\n",
       "  </tbody>\n",
       "</table>\n",
       "<p>8240 rows × 2 columns</p>\n",
       "</div>"
      ],
      "text/plain": [
       "      score                                             review\n",
       "0         1                                       최고의영화정말감동입니다\n",
       "1         1                                        오랜만에좋은영화봤네요\n",
       "2         1                                          다보고박수쳤습니다\n",
       "3         1                               평점낮을이유전혀없어요재미있게잘봤습니다\n",
       "4         1                                  와넷플릭스요즘영화정말잘만든다최고\n",
       "...     ...                                                ...\n",
       "9994      0  음스토리풀게ㅈㄹ많을것같았는데영화시간이분남은걸보고망작의스멜이났다편이나오지않고서야이건뭔...\n",
       "9995      0              파수꾼배우들기대하는마음티비켰는데리얼남는건실망뿐아이게무슨얘기임대쳌ㅋㅋ\n",
       "9996      1                 진짜먹먹해지는영화ㅠ쓰다만데이브의이름이미치도록짠하고우울하다ㅠ명작\n",
       "9997      1  난재밌게봤다존윅개봉당시재밌다고추천도하고했는데사실존윅보면총검술이무용같지않냐예전중국영화...\n",
       "9999      1  크리스틴이팬텀에게자꾸음악의천사음악의천사하지만본인이천사가아니신지하는굿굿베리굿잡영화였습...\n",
       "\n",
       "[8240 rows x 2 columns]"
      ]
     },
     "execution_count": 16,
     "metadata": {},
     "output_type": "execute_result"
    }
   ],
   "source": [
    "train_data['review'] = train_data['review'].str.replace(\"[^ㄱ-ㅎㅏ-ㅣ가-힇]\", \"\")\n",
    "train_data"
   ]
  },
  {
   "cell_type": "code",
   "execution_count": 17,
   "metadata": {},
   "outputs": [
    {
     "data": {
      "text/plain": [
       "score      0\n",
       "review    52\n",
       "dtype: int64"
      ]
     },
     "execution_count": 17,
     "metadata": {},
     "output_type": "execute_result"
    }
   ],
   "source": [
    "train_data['review'].replace('', np.nan, inplace=True)\n",
    "train_data.isnull().sum()"
   ]
  },
  {
   "cell_type": "code",
   "execution_count": 18,
   "metadata": {},
   "outputs": [],
   "source": [
    "train_data = train_data.dropna(how='any')"
   ]
  },
  {
   "cell_type": "code",
   "execution_count": 19,
   "metadata": {},
   "outputs": [
    {
     "data": {
      "text/plain": [
       "score     0\n",
       "review    0\n",
       "dtype: int64"
      ]
     },
     "execution_count": 19,
     "metadata": {},
     "output_type": "execute_result"
    }
   ],
   "source": [
    "train_data.isnull().sum()"
   ]
  },
  {
   "cell_type": "markdown",
   "metadata": {},
   "source": [
    "# 종류 > 다들 한 개씩 골라서 돌리고, 저장된 파일보고 stopword 판별해서 리스트와 md 수정\n",
    "- Kkma > 태완\n",
    "- Komoran > 하선\n",
    "- Hannanum > 나은\n",
    "- Okt > 민정"
   ]
  },
  {
   "cell_type": "code",
   "execution_count": 22,
   "metadata": {},
   "outputs": [],
   "source": [
    "okt = Okt() "
   ]
  },
  {
   "cell_type": "code",
   "execution_count": 18,
   "metadata": {},
   "outputs": [
    {
     "name": "stdout",
     "output_type": "stream",
     "text": [
      "[['최고', '의', '영화', '정말', '감동', '이다'], ['오랜', '만', '에', '좋다', '영화', '보다'], ['다', '보고', '박수', '치다'], ['평점', '낮', '을', '이유', '전혀', '없다', '재미있다', '보다'], ['오다', '넷플릭스', '요즘', '영화', '정말', '잘만', '든', '다', '최고']]\n"
     ]
    }
   ],
   "source": [
    "\n",
    "\n",
    "X_train = []\n",
    "for sentence in train_data['review']:\n",
    "    temp_x = []\n",
    "    temp_x = okt.morphs(sentence, stem=True) # Tokenizing\n",
    "    X_train.append(temp_x)\n",
    "print(X_train[:5])"
   ]
  },
  {
   "cell_type": "code",
   "execution_count": 19,
   "metadata": {},
   "outputs": [],
   "source": [
    "# 저장해주세요!! 다영님~\n",
    "# train_data.to_csv('data_preprocessing.csv', sep=',', encoding='utf-8', index=False)\n",
    "pd.DataFrame(X_train).to_csv('after_okt_hs.csv', sep=',', encoding='utf-8', index=False)"
   ]
  },
  {
   "cell_type": "markdown",
   "metadata": {},
   "source": [
    "# 이거 전까지 돌려서 아래 stopword 고치기!!\n",
    "<br>\n",
    "## stopwords -> 한국어의 조사와 같이 의미가 없을 것 같은 단어 목록 <br>\n",
    "- 여기에 추가하고 나서 아래 코드 고치기!! <br>\n",
    "- stopwords=[여기에 적어오기]"
   ]
  },
  {
   "cell_type": "code",
   "execution_count": 23,
   "metadata": {},
   "outputs": [],
   "source": [
    "# stopwords -> 한국어의 조사, 은,는,이,가,을,를,잘,도...\n",
    "stopwords=['의','가','이','는','은','들','잘','좀','과','도','을','를','으로','한','하다','에','이다 ']"
   ]
  },
  {
   "cell_type": "code",
   "execution_count": 24,
   "metadata": {},
   "outputs": [
    {
     "name": "stdout",
     "output_type": "stream",
     "text": [
      "[['최고', '영화', '정말', '감동', '이다'], ['오랜', '만', '좋다', '영화', '보다'], ['다', '보고', '박수', '치다'], ['평점', '낮', '이유', '전혀', '없다', '재미있다', '보다'], ['오다', '넷플릭스', '요즘', '영화', '정말', '잘만', '든', '다', '최고']]\n"
     ]
    }
   ],
   "source": [
    "# 불용어 제거, 형태소 토큰화 작업\n",
    "X_train = []\n",
    "for sentences in train_data['review']:\n",
    "    temp_x = []\n",
    "    temp_x = okt.morphs(sentences, stem=True) #tokenizing\n",
    "    temp_x = [word for word in temp_x if not word in stopwords] # stop word \n",
    "    X_train.append(temp_x)\n",
    "print(X_train[:5])"
   ]
  },
  {
   "cell_type": "code",
   "execution_count": 25,
   "metadata": {},
   "outputs": [],
   "source": [
    "# 저장해주세요!! 다영님~\n",
    "# train_data.to_csv('data_preprocessing.csv', sep=',', encoding='utf-8', index=False)\n",
    "pd.DataFrame(X_train).to_csv('after_okt_stop_hs.csv', sep=',', encoding='utf-8', index=False)"
   ]
  },
  {
   "cell_type": "markdown",
   "metadata": {},
   "source": [
    "# 여기 아래는 건들지 맙시다~~"
   ]
  },
  {
   "cell_type": "code",
   "execution_count": null,
   "metadata": {},
   "outputs": [],
   "source": []
  },
  {
   "cell_type": "code",
   "execution_count": null,
   "metadata": {},
   "outputs": [],
   "source": []
  },
  {
   "cell_type": "code",
   "execution_count": null,
   "metadata": {},
   "outputs": [],
   "source": []
  },
  {
   "cell_type": "code",
   "execution_count": null,
   "metadata": {},
   "outputs": [],
   "source": []
  },
  {
   "cell_type": "code",
   "execution_count": 40,
   "metadata": {},
   "outputs": [
    {
     "ename": "KeyboardInterrupt",
     "evalue": "",
     "output_type": "error",
     "traceback": [
      "\u001b[1;31m---------------------------------------------------------------------------\u001b[0m",
      "\u001b[1;31mKeyboardInterrupt\u001b[0m                         Traceback (most recent call last)",
      "\u001b[1;32m<ipython-input-40-994d09a34cf2>\u001b[0m in \u001b[0;36m<module>\u001b[1;34m\u001b[0m\n\u001b[0;32m      3\u001b[0m \u001b[1;32mfor\u001b[0m \u001b[0msentence\u001b[0m \u001b[1;32min\u001b[0m \u001b[0mtrain_data\u001b[0m\u001b[1;33m[\u001b[0m\u001b[1;34m'document'\u001b[0m\u001b[1;33m]\u001b[0m\u001b[1;33m:\u001b[0m\u001b[1;33m\u001b[0m\u001b[1;33m\u001b[0m\u001b[0m\n\u001b[0;32m      4\u001b[0m     \u001b[0mtemp_x\u001b[0m \u001b[1;33m=\u001b[0m \u001b[1;33m[\u001b[0m\u001b[1;33m]\u001b[0m\u001b[1;33m\u001b[0m\u001b[1;33m\u001b[0m\u001b[0m\n\u001b[1;32m----> 5\u001b[1;33m     \u001b[0mtemp_x\u001b[0m \u001b[1;33m=\u001b[0m \u001b[0mokt\u001b[0m\u001b[1;33m.\u001b[0m\u001b[0mmorphs\u001b[0m\u001b[1;33m(\u001b[0m\u001b[0msentence\u001b[0m\u001b[1;33m,\u001b[0m \u001b[0mstem\u001b[0m\u001b[1;33m=\u001b[0m\u001b[1;32mTrue\u001b[0m\u001b[1;33m)\u001b[0m \u001b[1;31m# Tokenizing\u001b[0m\u001b[1;33m\u001b[0m\u001b[1;33m\u001b[0m\u001b[0m\n\u001b[0m\u001b[0;32m      6\u001b[0m     \u001b[0mtemp_x\u001b[0m \u001b[1;33m=\u001b[0m \u001b[1;33m[\u001b[0m\u001b[0mword\u001b[0m \u001b[1;32mfor\u001b[0m \u001b[0mword\u001b[0m \u001b[1;32min\u001b[0m \u001b[0mtemp_x\u001b[0m \u001b[1;32mif\u001b[0m \u001b[1;32mnot\u001b[0m \u001b[0mword\u001b[0m \u001b[1;32min\u001b[0m \u001b[0mstopwords\u001b[0m\u001b[1;33m]\u001b[0m \u001b[1;31m# 불용어\u001b[0m\u001b[1;33m\u001b[0m\u001b[1;33m\u001b[0m\u001b[0m\n\u001b[0;32m      7\u001b[0m     \u001b[0mX_train\u001b[0m\u001b[1;33m.\u001b[0m\u001b[0mappend\u001b[0m\u001b[1;33m(\u001b[0m\u001b[0mtemp_x\u001b[0m\u001b[1;33m)\u001b[0m\u001b[1;33m\u001b[0m\u001b[1;33m\u001b[0m\u001b[0m\n",
      "\u001b[1;32m~\\Anaconda3\\envs\\keras\\lib\\site-packages\\konlpy\\tag\\_okt.py\u001b[0m in \u001b[0;36mmorphs\u001b[1;34m(self, phrase, norm, stem)\u001b[0m\n\u001b[0;32m     76\u001b[0m         \u001b[1;34m\"\"\"Parse phrase to morphemes.\"\"\"\u001b[0m\u001b[1;33m\u001b[0m\u001b[1;33m\u001b[0m\u001b[0m\n\u001b[0;32m     77\u001b[0m \u001b[1;33m\u001b[0m\u001b[0m\n\u001b[1;32m---> 78\u001b[1;33m         \u001b[1;32mreturn\u001b[0m \u001b[1;33m[\u001b[0m\u001b[0ms\u001b[0m \u001b[1;32mfor\u001b[0m \u001b[0ms\u001b[0m\u001b[1;33m,\u001b[0m \u001b[0mt\u001b[0m \u001b[1;32min\u001b[0m \u001b[0mself\u001b[0m\u001b[1;33m.\u001b[0m\u001b[0mpos\u001b[0m\u001b[1;33m(\u001b[0m\u001b[0mphrase\u001b[0m\u001b[1;33m,\u001b[0m \u001b[0mnorm\u001b[0m\u001b[1;33m=\u001b[0m\u001b[0mnorm\u001b[0m\u001b[1;33m,\u001b[0m \u001b[0mstem\u001b[0m\u001b[1;33m=\u001b[0m\u001b[0mstem\u001b[0m\u001b[1;33m)\u001b[0m\u001b[1;33m]\u001b[0m\u001b[1;33m\u001b[0m\u001b[1;33m\u001b[0m\u001b[0m\n\u001b[0m\u001b[0;32m     79\u001b[0m \u001b[1;33m\u001b[0m\u001b[0m\n\u001b[0;32m     80\u001b[0m     \u001b[1;32mdef\u001b[0m \u001b[0mphrases\u001b[0m\u001b[1;33m(\u001b[0m\u001b[0mself\u001b[0m\u001b[1;33m,\u001b[0m \u001b[0mphrase\u001b[0m\u001b[1;33m)\u001b[0m\u001b[1;33m:\u001b[0m\u001b[1;33m\u001b[0m\u001b[1;33m\u001b[0m\u001b[0m\n",
      "\u001b[1;32m~\\Anaconda3\\envs\\keras\\lib\\site-packages\\konlpy\\tag\\_okt.py\u001b[0m in \u001b[0;36mpos\u001b[1;34m(self, phrase, norm, stem, join)\u001b[0m\n\u001b[0;32m     61\u001b[0m                     \u001b[0mphrase\u001b[0m\u001b[1;33m,\u001b[0m\u001b[1;33m\u001b[0m\u001b[1;33m\u001b[0m\u001b[0m\n\u001b[0;32m     62\u001b[0m                     \u001b[0mjpype\u001b[0m\u001b[1;33m.\u001b[0m\u001b[0mjava\u001b[0m\u001b[1;33m.\u001b[0m\u001b[0mlang\u001b[0m\u001b[1;33m.\u001b[0m\u001b[0mBoolean\u001b[0m\u001b[1;33m(\u001b[0m\u001b[0mnorm\u001b[0m\u001b[1;33m)\u001b[0m\u001b[1;33m,\u001b[0m\u001b[1;33m\u001b[0m\u001b[1;33m\u001b[0m\u001b[0m\n\u001b[1;32m---> 63\u001b[1;33m                     jpype.java.lang.Boolean(stem)).toArray()\n\u001b[0m\u001b[0;32m     64\u001b[0m         \u001b[1;32mif\u001b[0m \u001b[0mjoin\u001b[0m\u001b[1;33m:\u001b[0m\u001b[1;33m\u001b[0m\u001b[1;33m\u001b[0m\u001b[0m\n\u001b[0;32m     65\u001b[0m             \u001b[1;32mreturn\u001b[0m \u001b[1;33m[\u001b[0m\u001b[0mt\u001b[0m \u001b[1;32mfor\u001b[0m \u001b[0mt\u001b[0m \u001b[1;32min\u001b[0m \u001b[0mtokens\u001b[0m\u001b[1;33m]\u001b[0m\u001b[1;33m\u001b[0m\u001b[1;33m\u001b[0m\u001b[0m\n",
      "\u001b[1;31mKeyboardInterrupt\u001b[0m: "
     ]
    }
   ],
   "source": [
    "# 불용어 제거, 형태소 토큰화 작업\n",
    "X_train = []\n",
    "for sentence in train_data['review']:\n",
    "    temp_x = []\n",
    "    temp_x = okt.morphs(sentence, stem=True) # Tokenizing\n",
    "    temp_x = [word for word in temp_x if not word in stopwords] # 불용어\n",
    "    X_train.append(temp_x)\n",
    "print(X_train[:5])"
   ]
  },
  {
   "cell_type": "code",
   "execution_count": null,
   "metadata": {},
   "outputs": [],
   "source": [
    "tokenizer = Tokenizer()\n",
    "tokenizer.fit_on_texts(X_train)\n",
    "print(tokenizer.word_index)"
   ]
  },
  {
   "cell_type": "code",
   "execution_count": null,
   "metadata": {},
   "outputs": [],
   "source": [
    "# token_size or vector_size\n",
    "threshold = 3 # 빈도수\n",
    "total_cnt = len(tokenizer.word_index) # 단어수\n",
    "rare_cnt = 0 # 빈도수가 threshold보다 작은 단어수\n",
    "total_freq = 0 # 훈련 data 전체 단어 빈도수 총 합\n",
    "rate_freq = 0 # 빈도수가 threshold보다 작은 단어들의 총 합\n",
    "\n",
    "# 단어와 빈도수의 pair를 key, value로 처리\n",
    "for key, value in tokenizer.word_index.items():\n",
    "    total_freq = total_freq + value\n",
    "    # 단어 빈도수가 threschold 보다 작은 값 처리\n",
    "    if (value < threshold):\n",
    "        rare_cnt += 1\n",
    "        rate_freq += value"
   ]
  },
  {
   "cell_type": "code",
   "execution_count": null,
   "metadata": {},
   "outputs": [],
   "source": [
    "print(\"총 단어 수 (vocabulary) :\", total_cnt)\n",
    "print(\"빈도수 낮은 단어 :\", rare_cnt)\n",
    "print(\"단어 집합에서 빈도수가 낮은 단어의 비율 :\", (rare_cnt/total_cnt)*100 )\n",
    "print(\"전체 출현 단어에서 빈도수가 낮은 단어 비율  :\", (rare_cnt/total_freq)*100 )\n",
    "\n",
    "# 전체 단어 수 중 빈도수가 3 이하인 단어 제거\n",
    "vocab_size = total_cnt - rara_cnt + 1\n",
    "print(\"단어 집합의 크기: \", vocab_size)"
   ]
  },
  {
   "cell_type": "code",
   "execution_count": null,
   "metadata": {},
   "outputs": [],
   "source": [
    "tokenizer = Tokenizer(vocab_size)\n",
    "tokenizer.fit_on_texts(X_train)\n",
    "X_train = tokenizer.texts_to_sequences(X_train)\n",
    "X_test = tokenizer.texts_to_sequences(X_test)\n",
    "print(X_train[:3]) #[[150, 12, 434, 5, 454, ...]]"
   ]
  },
  {
   "cell_type": "code",
   "execution_count": null,
   "metadata": {},
   "outputs": [],
   "source": [
    "Y_train = np.array(train_data['label']) \n",
    "Y_test = np.array(test_data['label'])"
   ]
  },
  {
   "cell_type": "code",
   "execution_count": null,
   "metadata": {},
   "outputs": [],
   "source": [
    "# 빈 샘플 데이터 제거"
   ]
  },
  {
   "cell_type": "code",
   "execution_count": null,
   "metadata": {},
   "outputs": [],
   "source": [
    "# 패딩 처리\n",
    "# 최대 리뷰 길이, 평균 리뷰 길이 구하기\n",
    "max_review_length = max(len(x) for x in X_train)\n",
    "print(\"최대:\", max_review_length)\n",
    "# mean(len(x) for x in X_train)\n",
    "mean_review_length = sum(map(len, X_train)) / len(X_train)\n",
    "print(\"평균:\", mean_review_length)\n",
    "\n",
    "\n",
    "plt.hist((len(s) for s in X_train), bin=50)\n",
    "plt.xlabel('length of samples')\n",
    "plt.ylabel('number of samples')"
   ]
  },
  {
   "cell_type": "code",
   "execution_count": null,
   "metadata": {},
   "outputs": [],
   "source": [
    "max_length = 30\n",
    "X_train = pad_sequences(X_train, maxlen=max_length)\n",
    "X_test = pad_sequences(X_test, maxlen=max_length)"
   ]
  },
  {
   "cell_type": "markdown",
   "metadata": {},
   "source": [
    "# LSTM을 이용한 리뷰 모델 생성"
   ]
  },
  {
   "cell_type": "code",
   "execution_count": null,
   "metadata": {},
   "outputs": [],
   "source": [
    "from tensorflow.keras.layers import Embedding, Dense, LSTM, Input\n",
    "from tensorflow.keras.models import Model\n",
    "# EarlyStopping : 지정 epochs 횟수 전에 과적합의 모습을 보이면 멈추게 함\n",
    "# ModelCheckpoint : 이전 모델보다 성능이 좋을 때만 저장한다.\n",
    "from tensorflow.keras.callbacks import EarlyStopping, ModelCheckpoint"
   ]
  },
  {
   "cell_type": "code",
   "execution_count": null,
   "metadata": {},
   "outputs": [],
   "source": [
    "T = X_train.shape[1] # 30\n",
    "i = Input(shape=(T,))\n",
    "x = Embedding(X_train.shape[0] + 1, 100)(i)\n",
    "x = LSTM(128)(x)\n",
    "x = Dense(1, activation='sigmoid')(x)\n",
    "mode = Model(i, x)\n",
    "model.summary()"
   ]
  },
  {
   "cell_type": "code",
   "execution_count": null,
   "metadata": {},
   "outputs": [],
   "source": [
    "eStop = EarlyStopping(monitor='val_loss',\n",
    "                      mode='min',\n",
    "                      verbose = 1, # log 찍기\n",
    "                      patience=5) # 5번 연속 떨어지면 멈춤\n",
    "\n",
    "mCheck = ModelCheckpoint('best_model.h5',\n",
    "                        monitor='val_acc',\n",
    "                        mode='max',\n",
    "                        verbose=1,\n",
    "                        save_best_only=True)"
   ]
  },
  {
   "cell_type": "code",
   "execution_count": null,
   "metadata": {},
   "outputs": [],
   "source": [
    "model.complie(loss='binary_crossentropy',\n",
    "             optimizer='adam',\n",
    "             matrics=['accuracy'])\n",
    "model.fit(X_train, Y_train, epochs=10, validation_split=0.2, batch_size=60,\n",
    "          callbacks=[eStop, mCheck])"
   ]
  },
  {
   "cell_type": "code",
   "execution_count": null,
   "metadata": {},
   "outputs": [],
   "source": [
    "print(\"테스트 정확도:\", model.evaluate(X_test, Y_test)[1])"
   ]
  },
  {
   "cell_type": "code",
   "execution_count": null,
   "metadata": {},
   "outputs": [],
   "source": []
  }
 ],
 "metadata": {
  "kernelspec": {
   "display_name": "Python 3",
   "language": "python",
   "name": "python3"
  },
  "language_info": {
   "codemirror_mode": {
    "name": "ipython",
    "version": 3
   },
   "file_extension": ".py",
   "mimetype": "text/x-python",
   "name": "python",
   "nbconvert_exporter": "python",
   "pygments_lexer": "ipython3",
   "version": "3.7.6"
  }
 },
 "nbformat": 4,
 "nbformat_minor": 4
}
