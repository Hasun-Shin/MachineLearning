{
 "cells": [
  {
   "cell_type": "code",
   "execution_count": null,
   "metadata": {
    "colab": {},
    "colab_type": "code",
    "id": "oI689i_l19ZU"
   },
   "outputs": [],
   "source": [
    "import requests\n",
    "from bs4 import BeautifulSoup\n",
    "import pandas as pd"
   ]
  },
  {
   "cell_type": "code",
   "execution_count": null,
   "metadata": {
    "colab": {},
    "colab_type": "code",
    "id": "IR4lyW6K9vUd"
   },
   "outputs": [],
   "source": [
    "def naver_movie(start, end):\n",
    "  score_list =[]\n",
    "  review_list = []\n",
    "  for page in range(start, end+1):\n",
    "    url= f\"https://movie.naver.com/movie/point/af/list.nhn?&page={page}\"\n",
    "    request = requests.get(url).text\n",
    "    soup = BeautifulSoup(request, 'html.parser')\n",
    "    elements = soup.select(\".title \" )\n",
    "\n",
    "    for review in elements:\n",
    "      # print(review.get_text().split(\"\\n\")[5])\n",
    "      review_list.append(review.get_text().split(\"\\n\")[5])\n",
    "      score_list.append(review.find('em').text)\n",
    "\n",
    "\n",
    "  result=pd.DataFrame(list(zip(score_list,review_list)), columns=['score', 'review']) \n",
    "  return result"
   ]
  },
  {
   "cell_type": "code",
   "execution_count": 5,
   "metadata": {
    "colab": {
     "base_uri": "https://localhost:8080/",
     "height": 662
    },
    "colab_type": "code",
    "id": "u5t3vksn-a9c",
    "outputId": "7cf00bc0-e339-4a76-b73b-904a5d90fe3d"
   },
   "outputs": [
    {
     "data": {
      "text/html": [
       "<div>\n",
       "<style scoped>\n",
       "    .dataframe tbody tr th:only-of-type {\n",
       "        vertical-align: middle;\n",
       "    }\n",
       "\n",
       "    .dataframe tbody tr th {\n",
       "        vertical-align: top;\n",
       "    }\n",
       "\n",
       "    .dataframe thead th {\n",
       "        text-align: right;\n",
       "    }\n",
       "</style>\n",
       "<table border=\"1\" class=\"dataframe\">\n",
       "  <thead>\n",
       "    <tr style=\"text-align: right;\">\n",
       "      <th></th>\n",
       "      <th>score</th>\n",
       "      <th>review</th>\n",
       "    </tr>\n",
       "  </thead>\n",
       "  <tbody>\n",
       "    <tr>\n",
       "      <th>0</th>\n",
       "      <td>6</td>\n",
       "      <td>투박하고 구식이다 그러나 마지막에 추기경님의 얼굴과 어린배우의 표정이 그리도 겹처보...</td>\n",
       "    </tr>\n",
       "    <tr>\n",
       "      <th>1</th>\n",
       "      <td>10</td>\n",
       "      <td>영화 참좋네요 작품상받아도 손색 없을듯 합니다  훌륭해요</td>\n",
       "    </tr>\n",
       "    <tr>\n",
       "      <th>2</th>\n",
       "      <td>10</td>\n",
       "      <td>약간 뻔한 스토리인거 같은 느낌이 다소 있지만 가볍게 웃으며 보기 좋은 영화. 클로...</td>\n",
       "    </tr>\n",
       "    <tr>\n",
       "      <th>3</th>\n",
       "      <td>10</td>\n",
       "      <td>다시 봐도 가슴이 뜨거워지는 영화입니다</td>\n",
       "    </tr>\n",
       "    <tr>\n",
       "      <th>4</th>\n",
       "      <td>8</td>\n",
       "      <td>보면 볼수록 이 영화는 단순하다. 자존심 때문에 세상물정 모르고 집을 나와버린 아이...</td>\n",
       "    </tr>\n",
       "    <tr>\n",
       "      <th>5</th>\n",
       "      <td>8</td>\n",
       "      <td></td>\n",
       "    </tr>\n",
       "    <tr>\n",
       "      <th>6</th>\n",
       "      <td>10</td>\n",
       "      <td></td>\n",
       "    </tr>\n",
       "    <tr>\n",
       "      <th>7</th>\n",
       "      <td>10</td>\n",
       "      <td>용훈아 영화개봉시기도 그렇구 국뽕관람객의 수준낮은 평점이 젓같지만상심마라 나도 평식...</td>\n",
       "    </tr>\n",
       "    <tr>\n",
       "      <th>8</th>\n",
       "      <td>7</td>\n",
       "      <td>영상미는 완전 내 스타일 눈 즐겁게 봤어요감독님 좀비영화 잘 만드실고 같은뎈ㅋㅋㅋㅋ</td>\n",
       "    </tr>\n",
       "    <tr>\n",
       "      <th>9</th>\n",
       "      <td>7</td>\n",
       "      <td>심박수 65-69인데 영화보면서 87까지 올랐다 스토리는 없지만 보는내내 긴장감과 ...</td>\n",
       "    </tr>\n",
       "    <tr>\n",
       "      <th>10</th>\n",
       "      <td>7</td>\n",
       "      <td>해질녘 사라의 OST... 걍 갑 of 갑!!!</td>\n",
       "    </tr>\n",
       "    <tr>\n",
       "      <th>11</th>\n",
       "      <td>10</td>\n",
       "      <td>금연영화로 강력추천 ㅋ</td>\n",
       "    </tr>\n",
       "    <tr>\n",
       "      <th>12</th>\n",
       "      <td>10</td>\n",
       "      <td>어린이들을 위한 어벤져스!</td>\n",
       "    </tr>\n",
       "    <tr>\n",
       "      <th>13</th>\n",
       "      <td>10</td>\n",
       "      <td></td>\n",
       "    </tr>\n",
       "    <tr>\n",
       "      <th>14</th>\n",
       "      <td>1</td>\n",
       "      <td>댓글 안다는 일인이 달아봅니다 무료로 보여줘도 시간 아까울 영화 그리고 똥싸면서 봐...</td>\n",
       "    </tr>\n",
       "    <tr>\n",
       "      <th>15</th>\n",
       "      <td>10</td>\n",
       "      <td>너무 혹평당하는거 같아요.. 소재 괜찮고 스토리 중심아닌 캐릭터 사건중심으로 따라가...</td>\n",
       "    </tr>\n",
       "    <tr>\n",
       "      <th>16</th>\n",
       "      <td>10</td>\n",
       "      <td>너무 재미있어요. 특히 로운님과 웬디님이 연기를 잘해주셔서 더 몰입감이 있었어요</td>\n",
       "    </tr>\n",
       "    <tr>\n",
       "      <th>17</th>\n",
       "      <td>6</td>\n",
       "      <td>개연성은 없지만 몰입감은 좋다. 약간은 엽기적인 소재였지만오락성은 좋았다.</td>\n",
       "    </tr>\n",
       "    <tr>\n",
       "      <th>18</th>\n",
       "      <td>10</td>\n",
       "      <td>웃기고 재미있다...</td>\n",
       "    </tr>\n",
       "    <tr>\n",
       "      <th>19</th>\n",
       "      <td>10</td>\n",
       "      <td>OST 너무좋다 스토리도 나쁘지않구.</td>\n",
       "    </tr>\n",
       "  </tbody>\n",
       "</table>\n",
       "</div>"
      ],
      "text/plain": [
       "   score                                             review\n",
       "0      6  투박하고 구식이다 그러나 마지막에 추기경님의 얼굴과 어린배우의 표정이 그리도 겹처보...\n",
       "1     10                   영화 참좋네요 작품상받아도 손색 없을듯 합니다  훌륭해요 \n",
       "2     10  약간 뻔한 스토리인거 같은 느낌이 다소 있지만 가볍게 웃으며 보기 좋은 영화. 클로...\n",
       "3     10                             다시 봐도 가슴이 뜨거워지는 영화입니다 \n",
       "4      8  보면 볼수록 이 영화는 단순하다. 자존심 때문에 세상물정 모르고 집을 나와버린 아이...\n",
       "5      8                                                   \n",
       "6     10                                                   \n",
       "7     10  용훈아 영화개봉시기도 그렇구 국뽕관람객의 수준낮은 평점이 젓같지만상심마라 나도 평식...\n",
       "8      7    영상미는 완전 내 스타일 눈 즐겁게 봤어요감독님 좀비영화 잘 만드실고 같은뎈ㅋㅋㅋㅋ \n",
       "9      7  심박수 65-69인데 영화보면서 87까지 올랐다 스토리는 없지만 보는내내 긴장감과 ...\n",
       "10     7                        해질녘 사라의 OST... 걍 갑 of 갑!!! \n",
       "11    10                                      금연영화로 강력추천 ㅋ \n",
       "12    10                                    어린이들을 위한 어벤져스! \n",
       "13    10                                                   \n",
       "14     1  댓글 안다는 일인이 달아봅니다 무료로 보여줘도 시간 아까울 영화 그리고 똥싸면서 봐...\n",
       "15    10  너무 혹평당하는거 같아요.. 소재 괜찮고 스토리 중심아닌 캐릭터 사건중심으로 따라가...\n",
       "16    10      너무 재미있어요. 특히 로운님과 웬디님이 연기를 잘해주셔서 더 몰입감이 있었어요 \n",
       "17     6         개연성은 없지만 몰입감은 좋다. 약간은 엽기적인 소재였지만오락성은 좋았다. \n",
       "18    10                                       웃기고 재미있다... \n",
       "19    10                              OST 너무좋다 스토리도 나쁘지않구. "
      ]
     },
     "execution_count": 5,
     "metadata": {
      "tags": []
     },
     "output_type": "execute_result"
    }
   ],
   "source": [
    "# 실행하기\n",
    "result = naver_movie(1,2)\n",
    "print(result)\n",
    "\n",
    "#저장하기\n",
    "result.to_csv('result.csv', sep=',', encoding='utf-8')"
   ]
  },
  {
   "cell_type": "markdown",
   "metadata": {
    "colab_type": "text",
    "id": "w5o7CiAu-p3N"
   },
   "source": [
    "# 이 아래는 테스트할때만 쓰세여"
   ]
  },
  {
   "cell_type": "code",
   "execution_count": null,
   "metadata": {
    "colab": {},
    "colab_type": "code",
    "id": "yNn6GTk919ZZ"
   },
   "outputs": [],
   "source": [
    "url= \"https://movie.naver.com/movie/point/af/list.nhn?&page=2\"\n"
   ]
  },
  {
   "cell_type": "code",
   "execution_count": null,
   "metadata": {
    "colab": {},
    "colab_type": "code",
    "id": "BO_CiECc2Tkm"
   },
   "outputs": [],
   "source": [
    "request = requests.get(url).text"
   ]
  },
  {
   "cell_type": "code",
   "execution_count": null,
   "metadata": {
    "colab": {
     "base_uri": "https://localhost:8080/",
     "height": 299
    },
    "colab_type": "code",
    "id": "hwC9g9-119Zg",
    "outputId": "d7aec029-4ba4-4fa4-f434-a9803e7c9a60"
   },
   "outputs": [
    {
     "data": {
      "text/plain": [
       "<td class=\"title\">\n",
       "<a class=\"movie color_b\" href=\"?st=mcode&amp;sword=181414&amp;target=after\">어스</a>\n",
       "<div class=\"list_netizen_score\">\n",
       "<span class=\"st_off\"><span class=\"st_on\" style=\"width:10%\">별점 - 총 10점 중</span></span><em>1</em>\n",
       "</div>\n",
       "<br/>그래서 결론이 뭐야..? 결론이 대체 뭔지 모르겠는 영화. 엔딩보면서 뭘 어쩌라는건지 하고 되뇌임 \n",
       "\t\t\t\n",
       "\t\t\t\n",
       "\t\t\t\n",
       "\t\t\t\t\n",
       "\t\t\t\t\n",
       "\t\t\t\t\n",
       "\t\t\t\t<a class=\"report\" href=\"javascript:report('hoyo****', '7vIUSXCNIstKAybBuvuJvCFUaVgPVvcklImnUIUtfNs=', '그래서 결론이 뭐야..? 결론이 대체 뭔지 모르겠는 영화. 엔딩보면서 뭘 어쩌라는건지 하고 되뇌임', '16849576', 'point_after');\" style=\"color:#8F8F8F\" title=\"새 창\">신고</a>\n",
       "</td>"
      ]
     },
     "execution_count": 104,
     "metadata": {
      "tags": []
     },
     "output_type": "execute_result"
    }
   ],
   "source": [
    "soup = BeautifulSoup(request, 'html.parser')\n",
    "\n",
    "# elements = soup.select(\"#old_content > table\" )\n",
    "elements = soup.select(\".title \" )\n",
    "elements[0]"
   ]
  },
  {
   "cell_type": "code",
   "execution_count": null,
   "metadata": {
    "colab": {
     "base_uri": "https://localhost:8080/",
     "height": 36
    },
    "colab_type": "code",
    "id": "PFb-UoN_3qUD",
    "outputId": "482b4917-0c99-4880-bd7e-980b72437aa7"
   },
   "outputs": [
    {
     "data": {
      "text/plain": [
       "'그래서 결론이 뭐야..? 결론이 대체 뭔지 모르겠는 영화. 엔딩보면서 뭘 어쩌라는건지 하고 되뇌임 '"
      ]
     },
     "execution_count": 105,
     "metadata": {
      "tags": []
     },
     "output_type": "execute_result"
    }
   ],
   "source": [
    "# elements[0].find_all('a')\n",
    "elements[0].get_text().split(\"\\n\")[5]"
   ]
  },
  {
   "cell_type": "code",
   "execution_count": null,
   "metadata": {
    "colab": {
     "base_uri": "https://localhost:8080/",
     "height": 36
    },
    "colab_type": "code",
    "id": "aM64tIrb8FLe",
    "outputId": "94bdd159-88cf-4880-cb94-3f779851a69e"
   },
   "outputs": [
    {
     "data": {
      "text/plain": [
       "'1'"
      ]
     },
     "execution_count": 110,
     "metadata": {
      "tags": []
     },
     "output_type": "execute_result"
    }
   ],
   "source": [
    "elements[0].find('em').text"
   ]
  },
  {
   "cell_type": "code",
   "execution_count": null,
   "metadata": {
    "colab": {
     "base_uri": "https://localhost:8080/",
     "height": 224
    },
    "colab_type": "code",
    "id": "hW-lGO8i7dp_",
    "outputId": "4a2696c6-3ae4-4dd0-d916-f2f193095ab0"
   },
   "outputs": [
    {
     "data": {
      "text/plain": [
       "['그래서 결론이 뭐야..? 결론이 대체 뭔지 모르겠는 영화. 엔딩보면서 뭘 어쩌라는건지 하고 되뇌임 ',\n",
       " '이게 재밌다고?진부한 복싱영화더 이상 발전 못하는 복싱영화 드라고란 괴물을 창조해서 한순간 잘못된 노선으로 말아먹은 작가와 연출가 진짜 네이버 평점 이러지 말자 다 조선족 짱깨들이냐?차라리 1편이 그나마 나았다 ',\n",
       " '최근에 너무 재미없는게 많아서 그런지 뻔해도 재밌게 느껴졌음ㅋㅋㅋ 심심할 때 볼만한 공포영화로 딱임 ',\n",
       " '피임 교육 영화인가싶고. 콘돔광고 같기도 하고..사이비종교 조심하라는 내용같기도 하고...윌스미스보면서 자기관리 하라는 거 같기도 하고.. 살면서 누군가 내가 니 애비다 그러면 아 그래요? 아버지!! 그럴사람이 몇이나 될까 싶기도 하고 ',\n",
       " '기대안하고봤는데 재밌잖아 전도연은 진짜명불허전 매력 쩐다!! 정우성도 연기잘하고 ',\n",
       " '영상미, OST는 좋았으나연출 및 스토리는 최악남자 고딩은 웃길려고 나온거죠?연기력 무엇? ',\n",
       " '매우 잘만든 스릴러 영화, 스토리보다도 언론과 여론형성의 무서움에 관해 더 잘 보여준듯.그래도 별 하나를 빼고싶은데 일단 에이미의 알리바이에는 몇가지 허점이 있음. 영화도 이것을 알고 모든 의문들에 대해 에이미가 형사를 비난하고 머리아프다며 넘어가는걸로 보여줌. 반면 남편측과 경찰이 에이미의 자작극 시나리오 입증을 포기하는 과정이 설득력 있었는지는 의문임. 물론 이건 감독보다는 원작 소설의 영향을 받은듯 ',\n",
       " '개봉날 못본아쉬움.지금이라도 봐서 천만다행.허진호식 고결 청초한 멜로.우와 우왕 우아 이작가님.정배우는 곤란한 심정이게 멋지심. ',\n",
       " '살면서 처음으로 네이버 평점이 궁금해서 들어와봤고 뭔가 댓글부대들의 컨셉이 \"난 재밋던데 왜들난리?\"하나로 통일되고 있는 것 같아서 매우 안타깝다...아 처참하다 이영화 진짴ㅋㅋ마케팅까지... ',\n",
       " '연기자들의 연기는 그야말로 빈틈없었고 친절하지 않은 스토리 구성도 정말 세련됐다고 생각합니다. 여긴 왜 이리 평점 낮은지 이해가 잘안되네요... ']"
      ]
     },
     "execution_count": 112,
     "metadata": {
      "tags": []
     },
     "output_type": "execute_result"
    }
   ],
   "source": [
    "score_list =[]\n",
    "review_list = []\n",
    "for review in elements:\n",
    "  # print(review.get_text().split(\"\\n\")[5])\n",
    "  review_list.append(review.get_text().split(\"\\n\")[5])\n",
    "  score_list.append(review.find('em').text)\n",
    "\n",
    "\n",
    "review_list"
   ]
  },
  {
   "cell_type": "code",
   "execution_count": null,
   "metadata": {
    "colab": {
     "base_uri": "https://localhost:8080/",
     "height": 36
    },
    "colab_type": "code",
    "id": "_IOhpYbx8dBS",
    "outputId": "760056e5-fc18-43c7-b7b1-8790bbef4520"
   },
   "outputs": [
    {
     "data": {
      "text/plain": [
       "['1', '1', '7', '6', '10', '3', '9', '9', '1', '10']"
      ]
     },
     "execution_count": 113,
     "metadata": {
      "tags": []
     },
     "output_type": "execute_result"
    }
   ],
   "source": [
    "score_list"
   ]
  },
  {
   "cell_type": "code",
   "execution_count": null,
   "metadata": {
    "colab": {},
    "colab_type": "code",
    "id": "NLIUC9G88eQS"
   },
   "outputs": [],
   "source": [
    "import pandas as pd\n",
    "result=pd.DataFrame(list(zip(score_list,review_list)), columns=['score', 'review'])"
   ]
  },
  {
   "cell_type": "code",
   "execution_count": null,
   "metadata": {
    "colab": {},
    "colab_type": "code",
    "id": "tKaQh3KV8jTg"
   },
   "outputs": [],
   "source": [
    "result.to_csv('result.csv', sep=',', encoding='utf-8')"
   ]
  },
  {
   "cell_type": "code",
   "execution_count": null,
   "metadata": {
    "colab": {},
    "colab_type": "code",
    "id": "60A5zB5T9BmP"
   },
   "outputs": [],
   "source": []
  }
 ],
 "metadata": {
  "colab": {
   "collapsed_sections": [],
   "name": "naver_movie_crawling.ipynb",
   "provenance": [],
   "toc_visible": true
  },
  "kernelspec": {
   "display_name": "Python 3",
   "language": "python",
   "name": "python3"
  },
  "language_info": {
   "codemirror_mode": {
    "name": "ipython",
    "version": 3
   },
   "file_extension": ".py",
   "mimetype": "text/x-python",
   "name": "python",
   "nbconvert_exporter": "python",
   "pygments_lexer": "ipython3",
   "version": "3.7.6"
  }
 },
 "nbformat": 4,
 "nbformat_minor": 4
}
