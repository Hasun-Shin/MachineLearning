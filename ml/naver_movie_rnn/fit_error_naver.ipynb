{
 "cells": [
  {
   "cell_type": "code",
   "execution_count": 1,
   "metadata": {},
   "outputs": [
    {
     "name": "stderr",
     "output_type": "stream",
     "text": [
      "'apt-get'��(��) ���� �Ǵ� �ܺ� ����, ������ �� �ִ� ���α׷�, �Ǵ�\n",
      "��ġ ������ �ƴմϴ�.\n",
      "'apt-get'��(��) ���� �Ǵ� �ܺ� ����, ������ �� �ִ� ���α׷�, �Ǵ�\n",
      "��ġ ������ �ƴմϴ�.\n",
      "'pip3'��(��) ���� �Ǵ� �ܺ� ����, ������ �� �ִ� ���α׷�, �Ǵ�\n",
      "��ġ ������ �ƴմϴ�.\n",
      "'pip3'��(��) ���� �Ǵ� �ܺ� ����, ������ �� �ִ� ���α׷�, �Ǵ�\n",
      "��ġ ������ �ƴմϴ�.\n",
      "'JAVA_HOME'��(��) ���� �Ǵ� �ܺ� ����, ������ �� �ִ� ���α׷�, �Ǵ�\n",
      "��ġ ������ �ƴմϴ�.\n"
     ]
    }
   ],
   "source": [
    "# 코랩으로 돌리면 이거 실행하기 (코랩만)\n",
    "\n",
    "!apt-get update\n",
    "\n",
    "!apt-get install g++ openjdk-8-jdk python-dev python3-dev\n",
    "\n",
    "!pip3 install JPype1-py3\n",
    "\n",
    "!pip3 install konlpy\n",
    "\n",
    "!JAVA_HOME=\"/usr/lib/jvm/java-8-openjdk-amd64\""
   ]
  },
  {
   "cell_type": "code",
   "execution_count": 2,
   "metadata": {},
   "outputs": [],
   "source": [
    "import pandas as pd\n",
    "import numpy as np\n",
    "%matplotlib inline\n",
    "import matplotlib.pyplot as plt\n",
    "import re\n",
    "from tensorflow.keras.preprocessing.text import Tokenizer\n",
    "from tensorflow.keras.preprocessing.sequence import pad_sequences\n",
    "from konlpy.tag import Okt"
   ]
  },
  {
   "cell_type": "code",
   "execution_count": 3,
   "metadata": {},
   "outputs": [
    {
     "data": {
      "text/html": [
       "<div>\n",
       "<style scoped>\n",
       "    .dataframe tbody tr th:only-of-type {\n",
       "        vertical-align: middle;\n",
       "    }\n",
       "\n",
       "    .dataframe tbody tr th {\n",
       "        vertical-align: top;\n",
       "    }\n",
       "\n",
       "    .dataframe thead th {\n",
       "        text-align: right;\n",
       "    }\n",
       "</style>\n",
       "<table border=\"1\" class=\"dataframe\">\n",
       "  <thead>\n",
       "    <tr style=\"text-align: right;\">\n",
       "      <th></th>\n",
       "      <th>Unnamed: 0</th>\n",
       "      <th>score</th>\n",
       "      <th>review</th>\n",
       "    </tr>\n",
       "  </thead>\n",
       "  <tbody>\n",
       "    <tr>\n",
       "      <th>0</th>\n",
       "      <td>0</td>\n",
       "      <td>10</td>\n",
       "      <td>민주화운동 영화 중에서 제일 웰메이드로 만든거 같다 모든 아시아국들이 봤으면 좋겠다...</td>\n",
       "    </tr>\n",
       "    <tr>\n",
       "      <th>1</th>\n",
       "      <td>1</td>\n",
       "      <td>9</td>\n",
       "      <td>영화에서 현실성을 따지는 사람은 대체 뭘까?</td>\n",
       "    </tr>\n",
       "    <tr>\n",
       "      <th>2</th>\n",
       "      <td>2</td>\n",
       "      <td>7</td>\n",
       "      <td>후반부에 병원 탈출 방식이라던가 담배씬이라던가 너무 억지로 꿰어맞추는 부분등이 눈에...</td>\n",
       "    </tr>\n",
       "    <tr>\n",
       "      <th>3</th>\n",
       "      <td>3</td>\n",
       "      <td>10</td>\n",
       "      <td>NaN</td>\n",
       "    </tr>\n",
       "    <tr>\n",
       "      <th>4</th>\n",
       "      <td>4</td>\n",
       "      <td>10</td>\n",
       "      <td>보는 내내 개빡치네 독재정권 OOO들</td>\n",
       "    </tr>\n",
       "    <tr>\n",
       "      <th>5</th>\n",
       "      <td>5</td>\n",
       "      <td>10</td>\n",
       "      <td>최고에요 우울한시국에 잠깐이나마 즐길수있는 영화</td>\n",
       "    </tr>\n",
       "    <tr>\n",
       "      <th>6</th>\n",
       "      <td>6</td>\n",
       "      <td>9</td>\n",
       "      <td>최근에 넷플릭스 영화중에 가장 재밌게 본 단순한 스토리를 실감나는 액션과 연출,연기...</td>\n",
       "    </tr>\n",
       "    <tr>\n",
       "      <th>7</th>\n",
       "      <td>7</td>\n",
       "      <td>1</td>\n",
       "      <td>과거 정부가 독재엿엇다 인정한다. 하지만 학생운동,운동권운동이 미화 됫다. 주사파사...</td>\n",
       "    </tr>\n",
       "    <tr>\n",
       "      <th>8</th>\n",
       "      <td>8</td>\n",
       "      <td>1</td>\n",
       "      <td>평점 조작으로 말아먹은 영화고~  휴대폰으로 보고 판단해야겠네;;일단 평점 조작한게...</td>\n",
       "    </tr>\n",
       "    <tr>\n",
       "      <th>9</th>\n",
       "      <td>9</td>\n",
       "      <td>1</td>\n",
       "      <td>이 영화때문에 막가파가 생겨서 사람죽고.. 사회 좀먹는 영화일세.. 좋은거는 아무것...</td>\n",
       "    </tr>\n",
       "  </tbody>\n",
       "</table>\n",
       "</div>"
      ],
      "text/plain": [
       "   Unnamed: 0  score                                             review\n",
       "0           0     10  민주화운동 영화 중에서 제일 웰메이드로 만든거 같다 모든 아시아국들이 봤으면 좋겠다...\n",
       "1           1      9                          영화에서 현실성을 따지는 사람은 대체 뭘까? \n",
       "2           2      7  후반부에 병원 탈출 방식이라던가 담배씬이라던가 너무 억지로 꿰어맞추는 부분등이 눈에...\n",
       "3           3     10                                                NaN\n",
       "4           4     10                              보는 내내 개빡치네 독재정권 OOO들 \n",
       "5           5     10                        최고에요 우울한시국에 잠깐이나마 즐길수있는 영화 \n",
       "6           6      9  최근에 넷플릭스 영화중에 가장 재밌게 본 단순한 스토리를 실감나는 액션과 연출,연기...\n",
       "7           7      1  과거 정부가 독재엿엇다 인정한다. 하지만 학생운동,운동권운동이 미화 됫다. 주사파사...\n",
       "8           8      1  평점 조작으로 말아먹은 영화고~  휴대폰으로 보고 판단해야겠네;;일단 평점 조작한게...\n",
       "9           9      1  이 영화때문에 막가파가 생겨서 사람죽고.. 사회 좀먹는 영화일세.. 좋은거는 아무것..."
      ]
     },
     "execution_count": 3,
     "metadata": {},
     "output_type": "execute_result"
    }
   ],
   "source": [
    "train_data = pd.read_csv('result_1_100.csv', sep=\",\", encoding='utf-8')  # 파일 이름 바꾸기, 파일&코드 위치에 있기\n",
    "train_data.head(10)"
   ]
  },
  {
   "cell_type": "code",
   "execution_count": 4,
   "metadata": {},
   "outputs": [
    {
     "name": "stdout",
     "output_type": "stream",
     "text": [
      "<class 'pandas.core.frame.DataFrame'>\n",
      "RangeIndex: 1000 entries, 0 to 999\n",
      "Data columns (total 3 columns):\n",
      " #   Column      Non-Null Count  Dtype \n",
      "---  ------      --------------  ----- \n",
      " 0   Unnamed: 0  1000 non-null   int64 \n",
      " 1   score       1000 non-null   int64 \n",
      " 2   review      879 non-null    object\n",
      "dtypes: int64(2), object(1)\n",
      "memory usage: 23.6+ KB\n"
     ]
    }
   ],
   "source": [
    "train_data.info()"
   ]
  },
  {
   "cell_type": "code",
   "execution_count": 5,
   "metadata": {},
   "outputs": [],
   "source": [
    "train_data = train_data.dropna(how='any')"
   ]
  },
  {
   "cell_type": "code",
   "execution_count": 6,
   "metadata": {},
   "outputs": [
    {
     "data": {
      "text/html": [
       "<div>\n",
       "<style scoped>\n",
       "    .dataframe tbody tr th:only-of-type {\n",
       "        vertical-align: middle;\n",
       "    }\n",
       "\n",
       "    .dataframe tbody tr th {\n",
       "        vertical-align: top;\n",
       "    }\n",
       "\n",
       "    .dataframe thead th {\n",
       "        text-align: right;\n",
       "    }\n",
       "</style>\n",
       "<table border=\"1\" class=\"dataframe\">\n",
       "  <thead>\n",
       "    <tr style=\"text-align: right;\">\n",
       "      <th></th>\n",
       "      <th>Unnamed: 0</th>\n",
       "      <th>score</th>\n",
       "      <th>review</th>\n",
       "    </tr>\n",
       "  </thead>\n",
       "  <tbody>\n",
       "    <tr>\n",
       "      <th>0</th>\n",
       "      <td>0</td>\n",
       "      <td>10</td>\n",
       "      <td>민주화운동 영화 중에서 제일 웰메이드로 만든거 같다 모든 아시아국들이 봤으면 좋겠다...</td>\n",
       "    </tr>\n",
       "    <tr>\n",
       "      <th>1</th>\n",
       "      <td>1</td>\n",
       "      <td>9</td>\n",
       "      <td>영화에서 현실성을 따지는 사람은 대체 뭘까?</td>\n",
       "    </tr>\n",
       "    <tr>\n",
       "      <th>2</th>\n",
       "      <td>2</td>\n",
       "      <td>7</td>\n",
       "      <td>후반부에 병원 탈출 방식이라던가 담배씬이라던가 너무 억지로 꿰어맞추는 부분등이 눈에...</td>\n",
       "    </tr>\n",
       "  </tbody>\n",
       "</table>\n",
       "</div>"
      ],
      "text/plain": [
       "   Unnamed: 0  score                                             review\n",
       "0           0     10  민주화운동 영화 중에서 제일 웰메이드로 만든거 같다 모든 아시아국들이 봤으면 좋겠다...\n",
       "1           1      9                          영화에서 현실성을 따지는 사람은 대체 뭘까? \n",
       "2           2      7  후반부에 병원 탈출 방식이라던가 담배씬이라던가 너무 억지로 꿰어맞추는 부분등이 눈에..."
      ]
     },
     "execution_count": 6,
     "metadata": {},
     "output_type": "execute_result"
    }
   ],
   "source": [
    "train_data[:3]"
   ]
  },
  {
   "cell_type": "code",
   "execution_count": 7,
   "metadata": {},
   "outputs": [
    {
     "data": {
      "text/plain": [
       "879"
      ]
     },
     "execution_count": 7,
     "metadata": {},
     "output_type": "execute_result"
    }
   ],
   "source": [
    "len(train_data)"
   ]
  },
  {
   "cell_type": "code",
   "execution_count": 8,
   "metadata": {},
   "outputs": [],
   "source": [
    "# label\n",
    "def labeling(x):\n",
    "    if x >= 7:\n",
    "        x = 1\n",
    "    elif x <= 4:\n",
    "        x = 0\n",
    "    else:\n",
    "        x = None\n",
    "    return x\n",
    "\n",
    "train_data['score'] = train_data['score'].apply(labeling)"
   ]
  },
  {
   "cell_type": "code",
   "execution_count": 9,
   "metadata": {},
   "outputs": [
    {
     "name": "stdout",
     "output_type": "stream",
     "text": [
      "<class 'pandas.core.frame.DataFrame'>\n",
      "Int64Index: 879 entries, 0 to 999\n",
      "Data columns (total 3 columns):\n",
      " #   Column      Non-Null Count  Dtype  \n",
      "---  ------      --------------  -----  \n",
      " 0   Unnamed: 0  879 non-null    int64  \n",
      " 1   score       802 non-null    float64\n",
      " 2   review      879 non-null    object \n",
      "dtypes: float64(1), int64(1), object(1)\n",
      "memory usage: 27.5+ KB\n"
     ]
    }
   ],
   "source": [
    "train_data.info()"
   ]
  },
  {
   "cell_type": "code",
   "execution_count": 10,
   "metadata": {},
   "outputs": [
    {
     "data": {
      "text/html": [
       "<div>\n",
       "<style scoped>\n",
       "    .dataframe tbody tr th:only-of-type {\n",
       "        vertical-align: middle;\n",
       "    }\n",
       "\n",
       "    .dataframe tbody tr th {\n",
       "        vertical-align: top;\n",
       "    }\n",
       "\n",
       "    .dataframe thead th {\n",
       "        text-align: right;\n",
       "    }\n",
       "</style>\n",
       "<table border=\"1\" class=\"dataframe\">\n",
       "  <thead>\n",
       "    <tr style=\"text-align: right;\">\n",
       "      <th></th>\n",
       "      <th>Unnamed: 0</th>\n",
       "      <th>score</th>\n",
       "      <th>review</th>\n",
       "    </tr>\n",
       "  </thead>\n",
       "  <tbody>\n",
       "    <tr>\n",
       "      <th>0</th>\n",
       "      <td>0</td>\n",
       "      <td>1.0</td>\n",
       "      <td>민주화운동 영화 중에서 제일 웰메이드로 만든거 같다 모든 아시아국들이 봤으면 좋겠다...</td>\n",
       "    </tr>\n",
       "    <tr>\n",
       "      <th>1</th>\n",
       "      <td>1</td>\n",
       "      <td>1.0</td>\n",
       "      <td>영화에서 현실성을 따지는 사람은 대체 뭘까?</td>\n",
       "    </tr>\n",
       "    <tr>\n",
       "      <th>2</th>\n",
       "      <td>2</td>\n",
       "      <td>1.0</td>\n",
       "      <td>후반부에 병원 탈출 방식이라던가 담배씬이라던가 너무 억지로 꿰어맞추는 부분등이 눈에...</td>\n",
       "    </tr>\n",
       "    <tr>\n",
       "      <th>4</th>\n",
       "      <td>4</td>\n",
       "      <td>1.0</td>\n",
       "      <td>보는 내내 개빡치네 독재정권 OOO들</td>\n",
       "    </tr>\n",
       "    <tr>\n",
       "      <th>5</th>\n",
       "      <td>5</td>\n",
       "      <td>1.0</td>\n",
       "      <td>최고에요 우울한시국에 잠깐이나마 즐길수있는 영화</td>\n",
       "    </tr>\n",
       "    <tr>\n",
       "      <th>...</th>\n",
       "      <td>...</td>\n",
       "      <td>...</td>\n",
       "      <td>...</td>\n",
       "    </tr>\n",
       "    <tr>\n",
       "      <th>995</th>\n",
       "      <td>995</td>\n",
       "      <td>0.0</td>\n",
       "      <td>장난스러운 키스, 나의 소녀시대 진짜 재밌게 봤는데 이번 영화는 진짜 뇌절했네 돈 ...</td>\n",
       "    </tr>\n",
       "    <tr>\n",
       "      <th>996</th>\n",
       "      <td>996</td>\n",
       "      <td>1.0</td>\n",
       "      <td>영화를 몰입하게 하는 힘이 있다.레이는 음악가 사업가이며 시행착오 실수를 반복한다아...</td>\n",
       "    </tr>\n",
       "    <tr>\n",
       "      <th>997</th>\n",
       "      <td>997</td>\n",
       "      <td>1.0</td>\n",
       "      <td>이런 미친 영화 뭐하나 빼놓을 수 있는 장르가 없다.로맨스 액션 정치 뭐 다들어가있...</td>\n",
       "    </tr>\n",
       "    <tr>\n",
       "      <th>998</th>\n",
       "      <td>998</td>\n",
       "      <td>1.0</td>\n",
       "      <td>너무 울다가 나왔네요.. 아이를 키우고 있는 엄마라 더 감정이입이 되었던것 같습니다...</td>\n",
       "    </tr>\n",
       "    <tr>\n",
       "      <th>999</th>\n",
       "      <td>999</td>\n",
       "      <td>1.0</td>\n",
       "      <td>코로나 때문에 집에만 있어서 삶이 무기력하고 의욕이 없던 나. 사냥의 시간 보고 긴...</td>\n",
       "    </tr>\n",
       "  </tbody>\n",
       "</table>\n",
       "<p>802 rows × 3 columns</p>\n",
       "</div>"
      ],
      "text/plain": [
       "     Unnamed: 0  score                                             review\n",
       "0             0    1.0  민주화운동 영화 중에서 제일 웰메이드로 만든거 같다 모든 아시아국들이 봤으면 좋겠다...\n",
       "1             1    1.0                          영화에서 현실성을 따지는 사람은 대체 뭘까? \n",
       "2             2    1.0  후반부에 병원 탈출 방식이라던가 담배씬이라던가 너무 억지로 꿰어맞추는 부분등이 눈에...\n",
       "4             4    1.0                              보는 내내 개빡치네 독재정권 OOO들 \n",
       "5             5    1.0                        최고에요 우울한시국에 잠깐이나마 즐길수있는 영화 \n",
       "..          ...    ...                                                ...\n",
       "995         995    0.0  장난스러운 키스, 나의 소녀시대 진짜 재밌게 봤는데 이번 영화는 진짜 뇌절했네 돈 ...\n",
       "996         996    1.0  영화를 몰입하게 하는 힘이 있다.레이는 음악가 사업가이며 시행착오 실수를 반복한다아...\n",
       "997         997    1.0  이런 미친 영화 뭐하나 빼놓을 수 있는 장르가 없다.로맨스 액션 정치 뭐 다들어가있...\n",
       "998         998    1.0  너무 울다가 나왔네요.. 아이를 키우고 있는 엄마라 더 감정이입이 되었던것 같습니다...\n",
       "999         999    1.0  코로나 때문에 집에만 있어서 삶이 무기력하고 의욕이 없던 나. 사냥의 시간 보고 긴...\n",
       "\n",
       "[802 rows x 3 columns]"
      ]
     },
     "execution_count": 10,
     "metadata": {},
     "output_type": "execute_result"
    }
   ],
   "source": [
    "train_data = train_data.dropna(how='any')\n",
    "train_data"
   ]
  },
  {
   "cell_type": "code",
   "execution_count": 11,
   "metadata": {},
   "outputs": [],
   "source": [
    "train_data['score'] = pd.to_numeric(train_data['score'], downcast='integer')"
   ]
  },
  {
   "cell_type": "code",
   "execution_count": 12,
   "metadata": {},
   "outputs": [
    {
     "data": {
      "text/plain": [
       "1    584\n",
       "0    218\n",
       "Name: score, dtype: int64"
      ]
     },
     "execution_count": 12,
     "metadata": {},
     "output_type": "execute_result"
    }
   ],
   "source": [
    "train_data['score'].value_counts()"
   ]
  },
  {
   "cell_type": "code",
   "execution_count": 13,
   "metadata": {},
   "outputs": [
    {
     "data": {
      "text/plain": [
       "<matplotlib.axes._subplots.AxesSubplot at 0x12da96467c8>"
      ]
     },
     "execution_count": 13,
     "metadata": {},
     "output_type": "execute_result"
    },
    {
     "data": {
      "image/png": "[encoded data removed]",
      "text/plain": [
       "<Figure size 432x288 with 1 Axes>"
      ]
     },
     "metadata": {
      "needs_background": "light"
     },
     "output_type": "display_data"
    }
   ],
   "source": [
    "train_data['score'].value_counts().plot(kind='bar')"
   ]
  },
  {
   "cell_type": "code",
   "execution_count": 14,
   "metadata": {},
   "outputs": [],
   "source": [
    "# 공백 data 삭제하기\n",
    "# re.sub(r'[^a-zA-Z]', '', text) : 영어일 경우\n",
    "# ㄱ~ㅎ: U3131 ~ U314E\n",
    "# ㅏ~ㅣ:...\n",
    "# 가~: UAC00..."
   ]
  },
  {
   "cell_type": "code",
   "execution_count": 15,
   "metadata": {},
   "outputs": [
    {
     "data": {
      "text/html": [
       "<div>\n",
       "<style scoped>\n",
       "    .dataframe tbody tr th:only-of-type {\n",
       "        vertical-align: middle;\n",
       "    }\n",
       "\n",
       "    .dataframe tbody tr th {\n",
       "        vertical-align: top;\n",
       "    }\n",
       "\n",
       "    .dataframe thead th {\n",
       "        text-align: right;\n",
       "    }\n",
       "</style>\n",
       "<table border=\"1\" class=\"dataframe\">\n",
       "  <thead>\n",
       "    <tr style=\"text-align: right;\">\n",
       "      <th></th>\n",
       "      <th>Unnamed: 0</th>\n",
       "      <th>score</th>\n",
       "      <th>review</th>\n",
       "    </tr>\n",
       "  </thead>\n",
       "  <tbody>\n",
       "    <tr>\n",
       "      <th>0</th>\n",
       "      <td>0</td>\n",
       "      <td>1</td>\n",
       "      <td>민주화운동영화중에서제일웰메이드로만든거같다모든아시아국들이봤으면좋겠다아시아에서유일하게민...</td>\n",
       "    </tr>\n",
       "    <tr>\n",
       "      <th>1</th>\n",
       "      <td>1</td>\n",
       "      <td>1</td>\n",
       "      <td>영화에서현실성을따지는사람은대체뭘까</td>\n",
       "    </tr>\n",
       "    <tr>\n",
       "      <th>2</th>\n",
       "      <td>2</td>\n",
       "      <td>1</td>\n",
       "      <td>후반부에병원탈출방식이라던가담배씬이라던가너무억지로꿰어맞추는부분등이눈에거슬림박찬욱이분명...</td>\n",
       "    </tr>\n",
       "    <tr>\n",
       "      <th>4</th>\n",
       "      <td>4</td>\n",
       "      <td>1</td>\n",
       "      <td>보는내내개빡치네독재정권들</td>\n",
       "    </tr>\n",
       "    <tr>\n",
       "      <th>5</th>\n",
       "      <td>5</td>\n",
       "      <td>1</td>\n",
       "      <td>최고에요우울한시국에잠깐이나마즐길수있는영화</td>\n",
       "    </tr>\n",
       "    <tr>\n",
       "      <th>...</th>\n",
       "      <td>...</td>\n",
       "      <td>...</td>\n",
       "      <td>...</td>\n",
       "    </tr>\n",
       "    <tr>\n",
       "      <th>995</th>\n",
       "      <td>995</td>\n",
       "      <td>0</td>\n",
       "      <td>장난스러운키스나의소녀시대진짜재밌게봤는데이번영화는진짜뇌절했네돈아까움</td>\n",
       "    </tr>\n",
       "    <tr>\n",
       "      <th>996</th>\n",
       "      <td>996</td>\n",
       "      <td>1</td>\n",
       "      <td>영화를몰입하게하는이있다레이는음악가사업가이며시행착오실수를반복한다아내비의내조음악에대한재...</td>\n",
       "    </tr>\n",
       "    <tr>\n",
       "      <th>997</th>\n",
       "      <td>997</td>\n",
       "      <td>1</td>\n",
       "      <td>이런미친영화뭐하나빼놓을수있는장르가없다로맨스액션정치뭐다들어가있네최근본영화중가정감명깊다</td>\n",
       "    </tr>\n",
       "    <tr>\n",
       "      <th>998</th>\n",
       "      <td>998</td>\n",
       "      <td>1</td>\n",
       "      <td>너무울다가나왔네요아이를키우고있는엄마라더감정이입이되었던것같습니다너무가슴아프고삶이란뜻대...</td>\n",
       "    </tr>\n",
       "    <tr>\n",
       "      <th>999</th>\n",
       "      <td>999</td>\n",
       "      <td>1</td>\n",
       "      <td>코로나때문에집에만있어서삶이무기력하고의욕이없던나사냥의시간보고긴장감이넘쳐서덕분에심장이다...</td>\n",
       "    </tr>\n",
       "  </tbody>\n",
       "</table>\n",
       "<p>802 rows × 3 columns</p>\n",
       "</div>"
      ],
      "text/plain": [
       "     Unnamed: 0  score                                             review\n",
       "0             0      1  민주화운동영화중에서제일웰메이드로만든거같다모든아시아국들이봤으면좋겠다아시아에서유일하게민...\n",
       "1             1      1                                 영화에서현실성을따지는사람은대체뭘까\n",
       "2             2      1  후반부에병원탈출방식이라던가담배씬이라던가너무억지로꿰어맞추는부분등이눈에거슬림박찬욱이분명...\n",
       "4             4      1                                      보는내내개빡치네독재정권들\n",
       "5             5      1                             최고에요우울한시국에잠깐이나마즐길수있는영화\n",
       "..          ...    ...                                                ...\n",
       "995         995      0               장난스러운키스나의소녀시대진짜재밌게봤는데이번영화는진짜뇌절했네돈아까움\n",
       "996         996      1  영화를몰입하게하는이있다레이는음악가사업가이며시행착오실수를반복한다아내비의내조음악에대한재...\n",
       "997         997      1     이런미친영화뭐하나빼놓을수있는장르가없다로맨스액션정치뭐다들어가있네최근본영화중가정감명깊다\n",
       "998         998      1  너무울다가나왔네요아이를키우고있는엄마라더감정이입이되었던것같습니다너무가슴아프고삶이란뜻대...\n",
       "999         999      1  코로나때문에집에만있어서삶이무기력하고의욕이없던나사냥의시간보고긴장감이넘쳐서덕분에심장이다...\n",
       "\n",
       "[802 rows x 3 columns]"
      ]
     },
     "execution_count": 15,
     "metadata": {},
     "output_type": "execute_result"
    }
   ],
   "source": [
    "train_data['review'] = train_data['review'].str.replace(\"[^ㄱ-ㅎㅏ-ㅣ가-힇]\", \"\")\n",
    "train_data"
   ]
  },
  {
   "cell_type": "code",
   "execution_count": 16,
   "metadata": {},
   "outputs": [
    {
     "data": {
      "text/plain": [
       "Unnamed: 0    0\n",
       "score         0\n",
       "review        4\n",
       "dtype: int64"
      ]
     },
     "execution_count": 16,
     "metadata": {},
     "output_type": "execute_result"
    }
   ],
   "source": [
    "train_data['review'].replace('', np.nan, inplace=True)\n",
    "train_data.isnull().sum()"
   ]
  },
  {
   "cell_type": "code",
   "execution_count": 17,
   "metadata": {},
   "outputs": [],
   "source": [
    "train_data = train_data.dropna(how='any')"
   ]
  },
  {
   "cell_type": "code",
   "execution_count": 18,
   "metadata": {},
   "outputs": [
    {
     "data": {
      "text/plain": [
       "Unnamed: 0    0\n",
       "score         0\n",
       "review        0\n",
       "dtype: int64"
      ]
     },
     "execution_count": 18,
     "metadata": {},
     "output_type": "execute_result"
    }
   ],
   "source": [
    "train_data.isnull().sum()"
   ]
  },
  {
   "cell_type": "markdown",
   "metadata": {},
   "source": [
    "# 종류 > 다들 한 개씩 골라서 돌리고, 저장된 파일보고 stopword 판별해서 리스트와 md 수정\n",
    "- Kkma > 태완\n",
    "- Komoran > 하선\n",
    "- Hannanum > 나은\n",
    "- Okt > 민정"
   ]
  },
  {
   "cell_type": "code",
   "execution_count": 19,
   "metadata": {},
   "outputs": [
    {
     "name": "stdout",
     "output_type": "stream",
     "text": [
      "[['민주화', '운동', '영화', '중', '에서', '제일', '웰', '메이드', '로', '만들다', '같다', '모든', '아시아', '국', '들', '이', '보다', '좋다', '아시아', '에서', '유일하다', '민주화', '성공하다', '나라', '라는', '자부심', '을', '느끼다', '해주다', '영화'], ['영화', '에서', '현실', '성', '을', '따지다', '사람', '은', '대체', '뭘', '끄다'], ['후반', '부', '에', '병원', '탈출', '방식', '이', '라던가', '담배', '씬', '이', '라던가', '너무', '억지로', '꿰', '어', '맞추다', '부분', '등', '이', '눈', '에', '거슬리다', '박찬욱', '이분', '명', '봉준호', '보다는', '나은', '점', '이남', '의', '것안베', '끼다', '거', '스스로', '창작', '을', '하다', '한다는', '점', '그리고', '후반', '부', '뒷', '심', '이분', '명', '더', '나은', '데', '반면', '에', '봉준호', '는', '나쁘다', '의미', '로', '서태지', '류임', '올드보이', '때', '도', '그렇다', '이영화', '보고', '나다', '더', '잘만', '들', '수', '있다', '이렇다', '느낌', '이', '강하다', '프로덕션', '디자인', '은', '오스카', '수상하다', '납득', '이', '되다', '한', '수준', '이고', '하정우', '가', '옥에티', '임'], ['보다', '내내', '개', '빡치다', '네', '독재정', '권', '들다'], ['최고', '에요', '우울하다', '시국', '에', '잠깐', '이나마', '즐기다', '영화']]\n"
     ]
    }
   ],
   "source": [
    "okt = Okt() \n",
    "\n",
    "X_train = []\n",
    "for sentence in train_data['review']:\n",
    "    temp_x = []\n",
    "    temp_x = okt.morphs(sentence, stem=True) # Tokenizing\n",
    "    X_train.append(temp_x)\n",
    "print(X_train[:5])"
   ]
  },
  {
   "cell_type": "code",
   "execution_count": 20,
   "metadata": {},
   "outputs": [],
   "source": [
    "# 저장해주세요!! 다영님~\n",
    "# train_data.to_csv('data_preprocessing.csv', sep=',', encoding='utf-8', index=False)\n",
    "pd.DataFrame(X_train).to_csv('after_okt.csv', sep=',', encoding='utf-8', index=False)"
   ]
  },
  {
   "cell_type": "markdown",
   "metadata": {},
   "source": [
    "# 이거 전까지 돌려서 아래 stopword 고치기!!\n",
    "<br>\n",
    "## stopwords -> 한국어의 조사와 같이 의미가 없을 것 같은 단어 목록 <br>\n",
    "- 여기에 추가하고 나서 아래 코드 고치기!! <br>\n",
    "- stopwords=[여기에 적어오기]"
   ]
  },
  {
   "cell_type": "code",
   "execution_count": 21,
   "metadata": {},
   "outputs": [],
   "source": [
    "# stopwords -> 한국어의 조사, 은,는,이,가,을,를,잘,도...\n",
    "stopwords=['의','가','이','는','은','들','잘','좀','과','도','을','를','으로','한','하다','에']"
   ]
  },
  {
   "cell_type": "markdown",
   "metadata": {},
   "source": [
    "# 여기 아래는 건들지 맙시다~~"
   ]
  },
  {
   "cell_type": "code",
   "execution_count": 22,
   "metadata": {},
   "outputs": [
    {
     "name": "stdout",
     "output_type": "stream",
     "text": [
      "[['민주화', '운동', '영화', '중', '에서', '제일', '웰', '메이드', '로', '만들다', '같다', '모든', '아시아', '국', '보다', '좋다', '아시아', '에서', '유일하다', '민주화', '성공하다', '나라', '라는', '자부심', '느끼다', '해주다', '영화'], ['영화', '에서', '현실', '성', '따지다', '사람', '대체', '뭘', '끄다'], ['후반', '부', '병원', '탈출', '방식', '라던가', '담배', '씬', '라던가', '너무', '억지로', '꿰', '어', '맞추다', '부분', '등', '눈', '거슬리다', '박찬욱', '이분', '명', '봉준호', '보다는', '나은', '점', '이남', '것안베', '끼다', '거', '스스로', '창작', '한다는', '점', '그리고', '후반', '부', '뒷', '심', '이분', '명', '더', '나은', '데', '반면', '봉준호', '나쁘다', '의미', '로', '서태지', '류임', '올드보이', '때', '그렇다', '이영화', '보고', '나다', '더', '잘만', '수', '있다', '이렇다', '느낌', '강하다', '프로덕션', '디자인', '오스카', '수상하다', '납득', '되다', '수준', '이고', '하정우', '옥에티', '임'], ['보다', '내내', '개', '빡치다', '네', '독재정', '권', '들다'], ['최고', '에요', '우울하다', '시국', '잠깐', '이나마', '즐기다', '영화']]\n"
     ]
    }
   ],
   "source": [
    "# 불용어 제거, 형태소 토큰화 작업\n",
    "X_train = []\n",
    "for sentence in train_data['review']:\n",
    "    temp_x = []\n",
    "    temp_x = okt.morphs(sentence, stem=True) # Tokenizing\n",
    "    temp_x = [word for word in temp_x if not word in stopwords] # 불용어\n",
    "    X_train.append(temp_x)\n",
    "print(X_train[:5])"
   ]
  },
  {
   "cell_type": "code",
   "execution_count": 23,
   "metadata": {},
   "outputs": [
    {
     "name": "stdout",
     "output_type": "stream",
     "text": [
      "{'영화': 1, '보다': 2, '너무': 3, '이다': 4, '좋다': 5, '없다': 6, '같다': 7, '있다': 8, '하': 9, '스토리': 10, '재밌다': 11, '다': 12, '되다': 13, '연기': 14, '생각': 15, '에서': 16, '로': 17, '않다': 18, '아니다': 19, '진짜': 20, '만': 21, '적': 22, '나': 23, '배우': 24, '들다': 25, '하고': 26, '와': 27, '평점': 28, '내': 29, '긴장감': 30, '정말': 31, '그': 32, '게': 33, '만들다': 34, '인': 35, '때': 36, '까지': 37, '보고': 38, '액션': 39, '그냥': 40, '이영화': 41, '최고': 42, '가다': 43, '연출': 44, '고': 45, '시간': 46, '요': 47, '못': 48, '정도': 49, '사람': 50, '나오다': 51, '왜': 52, '감독': 53, '느낌': 54, '네': 55, '것': 56, '자다': 57, '점': 58, '그렇다': 59, '오다': 60, '많다': 61, '처음': 62, '더': 63, '이런': 64, '개': 65, '분': 66, '대': 67, '주다': 68, '되어다': 69, '싶다': 70, '이나': 71, 'ㅠㅠ': 72, '지': 73, '인데': 74, '화': 75, '끝': 76, 'ㅋㅋ': 77, '많이': 78, '말': 79, '모르다': 80, '저': 81, '면': 82, '중': 83, '그리고': 84, '아깝다': 85, '재미있다': 86, '마지막': 87, '개봉': 88, '아쉽다': 89, '추천': 90, '부분': 91, '뻔하다': 92, '님': 93, '감동': 94, '라': 95, '주인공': 96, '어떻다': 97, '알다': 98, 'ㅠ': 99, '노잼': 100, '나다': 101, '장': 102, '본': 103, '연기력': 104, '두': 105, '받다': 106, '몰입': 107, '남다': 108, '인생': 109, '없이': 110, '장면': 111, '보기': 112, '놈': 113, '영상': 114, '이렇게': 115, '마음': 116, '수준': 117, '이고': 118, '맞다': 119, '괜찮다': 120, '지금': 121, '부터': 122, '걸': 123, '더빙': 124, '넘다': 125, '돈': 126, '초반': 127, '음악': 128, '하나': 129, '성': 130, '거': 131, '임': 132, '때문': 133, '죽다': 134, '버리다': 135, '한국': 136, '재미': 137, '기': 138, '난': 139, '에게': 140, '이랑': 141, '쓰다': 142, '지루하다': 143, '이야기': 144, '좋아하다': 145, '엔': 146, '느끼다': 147, '끄다': 148, '눈': 149, '먹다': 150, '아이': 151, 'ㅋㅋㅋ': 152, '꼭': 153, '처럼': 154, '중간': 155, '영화관': 156, '해주다': 157, '보이다': 158, '작품': 159, '귀엽다': 160, '일본': 161, '아': 162, '영': 163, '살다': 164, '서': 165, '안': 166, '기대': 167, '년': 168, '해보다': 169, '높다': 170, '상': 171, '뭐': 172, '보여주다': 173, '한번': 174, '급': 175, '공포영화': 176, '집': 177, '끝나다': 178, '내용': 179, '대한': 180, '듯': 181, '사랑': 182, '슬프다': 183, '감': 184, '또': 185, '랑': 186, '나쁘다': 187, '크다': 188, '식': 189, '니': 190, '완전': 191, '눈물': 192, '남자': 193, '에는': 194, '연': 195, '믿다': 196, '무섭다': 197, '노래': 198, '긴장': 199, '써다': 200, '액션영화': 201, '별': 202, '모든': 203, '현실': 204, '잘만': 205, '이렇다': 206, '늘다': 207, '빠지다': 208, '훌륭하다': 209, '약간': 210, '라고': 211, '매력': 212, '결말': 213, '이해': 214, '감정': 215, '대사': 216, '명작': 217, '미치다': 218, '시작': 219, '다른': 220, '야하다': 221, '내다': 222, '자체': 223, '씬': 224, '에요': 225, '넷플릭스': 226, 'ㅋㅋㅋㅋ': 227, '다시': 228, '영화로': 229, '네이버': 230, '재미없다': 231, '제': 232, '시키다': 233, '전': 234, '가족': 235, '볼': 236, '감상': 237, '사냥': 238, 'ㅎㅎ': 239, '시대': 240, '배경': 241, '모두': 242, '들어가다': 243, '제목': 244, '찍다': 245, '인지': 246, '남기다': 247, '제일': 248, '부': 249, '명': 250, '의미': 251, '들이다': 252, '진심': 253, '몰입도': 254, '캐릭터': 255, '봄': 256, '기억': 257, '무엇': 258, '든': 259, '력': 260, '말다': 261, '근데': 262, '기대하다': 263, '이라': 264, '씨': 265, '계속': 266, '여자': 267, '우리': 268, '한테': 269, '시': 270, '너': 271, '상황': 272, '간': 273, '다가': 274, '신나다': 275, '표현': 276, '떨어지다': 277, '총': 278, '라는': 279, '어': 280, '수': 281, '아무': 282, '상미': 283, 'ㅋ': 284, '사건': 285, '웬디': 286, '밖에': 287, '겠다': 288, '놀라다': 289, '느껴지다': 290, '빼다': 291, '극': 292, '뭔가': 293, '돼다': 294, '보지': 295, '뒤': 296, '기도': 297, '나름': 298, '멋지다': 299, '안되다': 300, '누구': 301, '지만': 302, '용이': 303, '어른': 304, '어느': 305, '번': 306, '삶': 307, '코로나': 308, '이지': 309, '딱': 310, '해': 311, '드리다': 312, '신': 313, '전개': 314, '데': 315, '최근': 316, '자': 317, '조작': 318, '웃다': 319, '전쟁': 320, '나가다': 321, '낮다': 322, '평': 323, '한국영': 324, '위': 325, '댓글': 326, '서다': 327, '완벽하다': 328, '건지다': 329, '이상': 330, '작가': 331, '차라리': 332, '형': 333, '그래도': 334, '허다': 335, '알': 336, '함께': 337, '감사하다': 338, '알바': 339, '교훈': 340, '어색하다': 341, '잔인하다': 342, '충분': 343, '그렇게': 344, '아름답다': 345, '중국': 346, '잊다': 347, '그리다': 348, '엄마': 349, '모습': 350, '오랜': 351, '편': 352, '개인': 353, '이라는': 354, '치다': 355, '극장': 356, '래': 357, '분위기': 358, '무슨': 359, '일': 360, '재다': 361, '쯤': 362, '특': 363, '예상': 364, '트롤': 365, '사실': 366, '좀더': 367, '가능하다': 368, '이시언': 369, '그런': 370, '건': 371, '일단': 372, 'ㅡㅡ': 373, '가볍다': 374, '세상': 375, '제발': 376, '똥': 377, '욕': 378, '새롭다': 379, '잘못': 380, '매우': 381, '연기자': 382, '진실': 383, '에나': 384, '설정': 385, '노력': 386, '냥': 387, '반전': 388, '꽤': 389, '건가': 390, '도안': 391, '속': 392, '신선하다': 393, '이건': 394, '전혀': 395, '뜨다': 396, '전체': 397, '이유': 398, '여': 399, '앞': 400, '곳': 401, '위해': 402, '햄': 403, '함': 404, '간만': 405, '다르다': 406, '우리나라': 407, '깊다': 408, '희망': 409, '이상하다': 410, '오랜만': 411, '에도': 412, '촬영': 413, '자신': 414, '료': 415, '냐': 416, '대박': 417, '년대': 418, '해도': 419, '절대': 420, '후반': 421, '맞추다': 422, '등': 423, '오락': 424, '순': 425, '서점': 426, '안타깝다': 427, '무조건': 428, '개연': 429, '카메라': 430, '만하': 431, '역시': 432, '야': 433, '뭔': 434, '란': 435, '스릴러': 436, '무서움': 437, '몇': 438, '가지': 439, '이라도': 440, '배우다': 441, '중반': 442, '뿐': 443, '바라보다': 444, '학생': 445, '엄청': 446, '가보다': 447, '피': 448, '존나': 449, '별로': 450, '용도': 451, '꿈': 452, '추억': 453, '온': 454, '세': 455, '애': 456, '얘기': 457, '혼자': 458, '이제훈': 459, '대다': 460, '구': 461, '비': 462, '라면': 463, '보': 464, '살': 465, '재': 466, '억': 467, '반': 468, '예': 469, '풀다': 470, '여기': 471, '는걸': 472, '여운': 473, '크게': 474, '어울리다': 475, '후': 476, '아직': 477, '따다': 478, '기분': 479, '물': 480, '멋있다': 481, '클리셰': 482, '작': 483, '줄': 484, '나서다': 485, '스릴': 486, '요시': 487, '당시': 488, '관객': 489, '몇번': 490, '원작': 491, '어리다': 492, '다행': 493, '마다': 494, '뭘': 495, '보다는': 496, '즐기다': 497, '과거': 498, '독재': 499, '검찰': 500, '경찰': 501, '쓰레기': 502, '차다': 503, '가슴': 504, '연결': 505, '망하다': 506, '당하다': 507, '소재': 508, '역대': 509, '최악': 510, '미모': 511, '대해': 512, '결론': 513, '엔딩': 514, '정우성': 515, '의문': 516, '살짝': 517, '분들': 518, '갈수록': 519, 'ㅜㅜ': 520, '막판': 521, '죽': 522, 'ㅎ': 523, '이후': 524, '데이': 525, '관람': 526, '국내': 527, '이란': 528, '시리즈': 529, '만점': 530, '충분하다': 531, '역사': 532, '이라고': 533, '집중': 534, '대로': 535, '영화인': 536, '길다': 537, '훨씬': 538, '메세지': 539, '그림': 540, '공감': 541, '로맨스': 542, '생각나다': 543, '다가오다': 544, '이끌다': 545, '존재': 546, '여러': 547, '통해': 548, '요즘': 549, '솔직': 550, '바꾸다': 551, '전쟁영화': 552, '친구': 553, '멀다': 554, '인간': 555, '행복하다': 556, '스럽다': 557, '가능': 558, '독특하다': 559, '인상': 560, '뛰어나다': 561, '자막': 562, '같이': 563, '그때': 564, 'ㅜ': 565, '터': 566, '밉다': 567, '울다': 568, '출연': 569, '이딴': 570, '댓글알바': 571, '당': 572, '게임': 573, '연휴': 574, '순간': 575, '둘': 576, '범죄': 577, '제작비': 578, '에서만': 579, '분량': 580, '야마자키': 581, '역할': 582, '가면': 583, '보고오다': 584, '날': 585, '귀': 586, '인가': 587, '기다리다': 588, '코미디': 589, '소설': 590, '도시': 591, '판': 592, '오': 593, '니까': 594, '제대로': 595, '결국': 596, '단': 597, '뛰다': 598, '문제': 599, '따르다': 600, '기다': 601, '그나마': 602, '안보': 603, '행동': 604, '찌다': 605, '소리': 606, '나르다': 607, '관계': 608, '쓰래': 609, '움': 610, '민주화': 611, '나라': 612, '대체': 613, '탈출': 614, '방식': 615, '봉준호': 616, '한다는': 617, '강하다': 618, '내내': 619, '커버': 620, '하지만': 621, '장악': 622, '린': 623, '사회': 624, '시기': 625, '깔다': 626, '싸다': 627, '따라가다': 628, '화가': 629, '참다': 630, '지모': 631, '르': 632, '드': 633, '이르다': 634, '편이': 635, '웃기다': 636, '아프다': 637, '넘어가다': 638, '궁금하다': 639, '들어오다': 640, '구성': 641, '라그': 642, '으로서': 643, '만나다': 644, '마사미': 645, '포인트': 646, '짜다': 647, '리뷰': 648, '문화': 649, '실제': 650, '감성': 651, '이제': 652, '판타지': 653, '라도': 654, '꾸다': 655, '바라다': 656, '바뀌다': 657, '엉망': 658, '어린시절': 659, '빨갱이': 660, '또한': 661, '눈빛': 662, '다시다': 663, '아빠': 664, '충격': 665, '다그': 666, '블랙': 667, '여주': 668, '누가': 669, '필요없다': 670, '던지다': 671, '혹시': 672, '시보': 673, '메시지': 674, '갖다': 675, '갈다': 676, '곱씹다': 677, '경험': 678, '그것': 679, '어렵다': 680, '준': 681, '아직도': 682, '답답하다': 683, '번은': 684, '식이': 685, '꾼': 686, '슬픔': 687, 'ㅠㅠㅠㅠ': 688, '공부': 689, '면서': 690, '따뜻하다': 691, '노인': 692, '없어지다': 693, '불편하다': 694, '찾아보다': 695, '떡밥': 696, '드라마': 697, '킬링타임': 698, '비극': 699, '그걸': 700, '거리': 701, '도대체': 702, '두다': 703, '소녀': 704, '주연': 705, '걸다': 706, '총알': 707, '필요하다': 708, '가장': 709, '연성': 710, '싫다': 711, '짧다': 712, '결과': 713, '점점': 714, '원': 715, '채우다': 716, '오글거리다': 717, '싸우다': 718, '부족하다': 719, '마치': 720, '누군가': 721, '성룡': 722, '항상': 723, '으로도': 724, '그러나': 725, '만이': 726, '레드': 727, '벨벳': 728, '흥행': 729, '놀래다': 730, '진부하다': 731, '여성': 732, '찾다': 733, '오늘': 734, '유치하다': 735, '넘치다': 736, '걸작': 737, '웃음': 738, '쿡': 739, '킬러': 740, '에만': 741, '주제': 742, '자기': 743, '이기': 744, '흘리다': 745, '에다': 746, '로는': 747, '배우진': 748, '설명': 749, '이니': 750, '화려하다': 751, '예측': 752, '마블': 753, '탄탄하다': 754, '주변': 755, '적절하다': 756, '깔끔하다': 757, '라니': 758, '보단': 759, '의대': 760, '타': 761, '이선균': 762, '코믹': 763, '이아': 764, '물론': 765, '의도': 766, '증거': 767, '보시': 768, '길': 769, '살아가다': 770, '소중하다': 771, '흥미롭다': 772, '싸움': 773, '빛': 774, '총기': 775, '답': 776, '일이': 777, '조': 778, '이라서': 779, '기대다': 780, '완벽': 781, '예고편': 782, '고리': 783, '운동': 784, '성공하다': 785, '라던가': 786, '담배': 787, '이분': 788, '끼다': 789, '에가': 790, '퀄리티': 791, '인정': 792, '낫다': 793, '좌빨': 794, '며': 795, '망': 796, '현재': 797, '생기다': 798, '더욱': 799, '포기': 800, '인거': 801, '다소': 802, '뽕': 803, '말고': 804, '젠': 805, '즐겁다': 806, '좀비': 807, '오르다': 808, '긴박': 809, '감다': 810, '약하다': 811, '걍': 812, '어벤져스': 813, '일인': 814, '달': 815, '중심': 816, '볼거리': 817, '연애': 818, '그래서': 819, '이냐': 820, '대안': 821, '고딩': 822, '덥다': 823, '머리': 824, '시나리오': 825, '돋다': 826, '날다': 827, '아쉬움': 828, '재밋': 829, '시원하다': 830, '줍다': 831, '맘': 832, '애니': 833, '실망': 834, '김재규': 835, '선생님': 836, '호흡': 837, '고스': 838, '단지': 839, '보스': 840, '대가리': 841, '지는': 842, '구멍': 843, '어거지': 844, '가리다': 845, '지키다': 846, '채': 847, '지고': 848, '숨쉬다': 849, '예요': 850, '몰다': 851, '들보': 852, '로맨스영화': 853, '링': 854, '얻다': 855, '얼마나': 856, '과의': 857, '담기다': 858, '언제나': 859, '션': 860, '어쩔': 861, '교수': 862, '떠나다': 863, '승희': 864, '동안': 865, '책임': 866, '삼': 867, '천하다': 868, '첨': 869, '마르다': 870, '마무리': 871, '뻔': 872, '굉': 873, '심하다': 874, '완성': 875, '진행': 876, '장르': 877, '만들어지다': 878, '연관': 879, '대한민국': 880, '무게': 881, '담다': 882, '정서': 883, '서사': 884, '스러운': 885, '잘살다': 886, '잼': 887, '외국': 888, '파수': 889, '어디': 890, '흥미': 891, '송': 892, '위룡': 893, '얼굴': 894, '빛나다': 895, '질질': 896, '평이': 897, '저런': 898, '전하': 899, '닮다': 900, '선택': 901, '상상': 902, '살인': 903, '갈등': 904, '만화': 905, '감정이입': 906, '오버': 907, '항': 908, '마력': 909, '키우다': 910, '지다': 911, '놓다': 912, '에게는': 913, '희망이': 914, '틈': 915, '장난': 916, '가안': 917, '소년': 918, '아주': 919, '조금': 920, '옛날': 921, '능력': 922, '애니메이션': 923, '올해': 924, '용': 925, '까지도': 926, '분명': 927, '전투씬': 928, '고해': 929, '용기': 930, '그런데': 931, '일반': 932, '독하다': 933, '너무나': 934, '밋': 935, '참혹하다': 936, '망치다': 937, '공허하다': 938, '전부': 939, '졸리다': 940, '낭비하다': 941, '제작': 942, '실망하다': 943, '비다': 944, '평가': 945, '박수': 946, '쪽': 947, '딸': 948, '다음': 949, '어떤': 950, '로운': 951, '켄토': 952, '왕': 953, '달다': 954, '리': 955, '더보': 956, '수작': 957, '엄청나다': 958, '에겐': 959, '억지': 960, '멍청하다': 961, '단어': 962, '언제': 963, '온갖': 964, '재료': 965, '변기': 966, '어디서': 967, '낮추다': 968, '모으다': 969, '불다': 970, '속이다': 971, '어설프다': 972, '확실': 973, '미국': 974, '맨': 975, '뿌리다': 976, '왠': 977, '밑': 978, '주차장': 979, '추격': 980, '부모님': 981, '드럽다': 982, '볼때': 983, '타임': 984, '의지': 985, '접': 986, '돌려주다': 987, '께': 988, '짜증': 989, '신파': 990, '테이크': 991, '화면': 992, '시청': 993, '군': 994, '천재': 995, '쓸데없다': 996, '나타나다': 997, '케': 998, '킹덤': 999, '으': 1000, '반복': 1001, '짜증나다': 1002, '엉': 1003, '흥미진진': 1004, '이점': 1005, '화보': 1006, '아무리': 1007, '까지는': 1008, '오지': 1009, '액션연기': 1010, '글': 1011, '하여간': 1012, '이여': 1013, '이번': 1014, '베스트': 1015, '땀': 1016, '해내다': 1017, '시도': 1018, '근래': 1019, '태양': 1020, '멘스': 1021, '역': 1022, '우아하다': 1023, '넷': 1024, '플': 1025, '편집': 1026, '동': 1027, '죽이다': 1028, '근': 1029, '성인': 1030, '가나': 1031, '주지': 1032, '이기다': 1033, '펼쳐지다': 1034, '게살': 1035, '땜': 1036, '그대로': 1037, '다시금': 1038, '헴스워스': 1039, '토르': 1040, '반하다': 1041, '뿐이다': 1042, '하늘': 1043, '안나': 1044, '잔잔하다': 1045, '타이타닉': 1046, '화중': 1047, '테러': 1048, '존윅': 1049, '을제': 1050, '스승': 1051, '어둠': 1052, '본영': 1053, '복잡하다': 1054, '이제야': 1055, '가왜': 1056, '한나': 1057, '장국영': 1058, '신경': 1059, '마동석': 1060, '표정': 1061, '필요': 1062, '이네': 1063, '티비': 1064, '이의': 1065, '우희': 1066, '웰': 1067, '메이드': 1068, '아시아': 1069, '병원': 1070, '억지로': 1071, '거슬리다': 1072, '나은': 1073, '이남': 1074, '스스로': 1075, '심': 1076, '반면': 1077, '디자인': 1078, '오스카': 1079, '수상하다': 1080, '납득': 1081, '하정우': 1082, '빡치다': 1083, '권': 1084, '우울하다': 1085, '잠깐': 1086, '단순': 1087, '실감': 1088, '정부': 1089, '엿': 1090, '다공': 1091, '정권': 1092, '언론': 1093, '법': 1094, '고치': 1095, '국가': 1096, '트리': 1097, '국군': 1098, '경제': 1099, '무': 1100, '해이': 1101, '소': 1102, '아이큐': 1103, '말아먹다': 1104, '휴대폰': 1105, '막': 1106, '시각': 1107, '손색': 1108, '고집': 1109, '영화개봉': 1110, '관람객': 1111, '만큼의': 1112, '군더더기': 1113, '절제': 1114, '천': 1115, '이름': 1116, '스타일': 1117, '작다': 1118, '사라': 1119, '어린이': 1120, '무료': 1121, '혹평': 1122, '웃기': 1123, '틀니': 1124, '흔': 1125, '엽기': 1126, '명불허전': 1127, '각': 1128, '캐': 1129, '몰아치다': 1130, '만족': 1131, '와이프': 1132, '스칼렛요한슨': 1133, '야마': 1134, '만세': 1135, '쩌': 1136, '복싱': 1137, '발전': 1138, '심심하다': 1139, '전도연': 1140, '에이미': 1141, '형사': 1142, '과정': 1143, '설득': 1144, '소름': 1145, '중요하다': 1146, '하니': 1147, '심정': 1148, '던데': 1149, '처참하다': 1150, '마케팅': 1151, '그야말로': 1152, '세련': 1153, '여기다': 1154, '이리': 1155, '잘알다': 1156, '졸다': 1157, '욕망': 1158, '서로': 1159, '에서의': 1160, '꿈꾸다': 1161, '욕심': 1162, '들어주다': 1163, '살리다': 1164, '급하다': 1165, '편하다': 1166, '진짜진짜': 1167, '인제': 1168, '한참': 1169, '만은': 1170, '이지만': 1171, '쏠쏠하다': 1172, '최후': 1173, '휘': 1174, '어진': 1175, '새끼': 1176, '목': 1177, '칼': 1178, '사오다': 1179, '이쁘다': 1180, '겁나다': 1181, '의사': 1182, '쿠키': 1183, '여태껏': 1184, '하루': 1185, '일수': 1186, '대혁명': 1187, '중국역사': 1188, '혼란': 1189, '비판': 1190, '비참하다': 1191, '빠져들다': 1192, '양': 1193, '산영': 1194, '으로만': 1195, '선동': 1196, '취향': 1197, '강렬하다': 1198, '일지': 1199, '부끄럽다': 1200, '대단하다': 1201, '해리포터': 1202, '당연하다': 1203, '세계': 1204, '사하다': 1205, '금뭘': 1206, '만으로': 1207, '멈추다': 1208, '불': 1209, '넘기다': 1210, '의식': 1211, '흐름': 1212, '보이스': 1213, '짱': 1214, '무재': 1215, '요추': 1216, '게뭐': 1217, '인류': 1218, '체': 1219, '색감': 1220, '메': 1221, '지내다': 1222, '몇몇': 1223, '평이하다': 1224, '혼나다': 1225, '방영': 1226, '폭발': 1227, '몸부림': 1228, '호불호': 1229, '갈리다': 1230, '상영': 1231, '무크': 1232, '가하다': 1233, '젊다': 1234, '박해': 1235, '조합': 1236, '군상': 1237, '살아나다': 1238, '묵직하다': 1239, '후기': 1240, '신분': 1241, '편의': 1242, '영화롭다': 1243, '자극': 1244, '헐리우드': 1245, '고양이': 1246, '굳다': 1247, '전세계': 1248, '잇다': 1249, '백': 1250, '영광': 1251, '천만': 1252, '무릎': 1253, '잃다': 1254, '깨우다': 1255, '쩔다': 1256, '인하다': 1257, '기쁨': 1258, '팬': 1259, '톰': 1260, '세월': 1261, '잘생기다': 1262, '사이': 1263, '핸드폰': 1264, '만에': 1265, '산채': 1266, 'ㅈ': 1267, '동생': 1268, '어로': 1269, '불가': 1270, '직': 1271, '한적': 1272, '저렇게': 1273, '이루다': 1274, '놓치다': 1275, '애정': 1276, '방해': 1277, '괴롭다': 1278, '더럽다': 1279, '혐오': 1280, '올리다': 1281, '일어나다': 1282, '견디다': 1283, '가끔': 1284, '철학': 1285, '도아': 1286, '만족스럽다': 1287, '다정': 1288, 'ㅉㅉ': 1289, '다만': 1290, '욕설': 1291, '가르치다': 1292, '바쁘다': 1293, '회사': 1294, '목숨': 1295, '스물': 1296, '명의': 1297, '추격자': 1298, '쌍욕': 1299, '치고': 1300, '부실하다': 1301, '신의한수': 1302, '면욕': 1303, '쓸다': 1304, '아기': 1305, '목소리': 1306, '따로': 1307, '칭찬': 1308, '환': 1309, '서너': 1310, '무오': 1311, '도하': 1312, '걸이': 1313, '거기': 1314, '주위': 1315, '가점': 1316, '만의': 1317, '고생': 1318, '상상력': 1319, '만두': 1320, '반지의제왕': 1321, '처럼만': 1322, '증명': 1323, '나마': 1324, '뭐라다': 1325, '여서': 1326, '노랗다': 1327, '정도영': 1328, '당신': 1329, '오랫': 1330, '공포': 1331, '어우러지다': 1332, '특수': 1333, '인공': 1334, '아역': 1335, '시골': 1336, '하울': 1337, '부럽다': 1338, '올': 1339, '그립다': 1340, '논리': 1341, '맨날': 1342, '운영': 1343, '봣': 1344, '노리다': 1345, '조직': 1346, '호주': 1347, '합작': 1348, '매번': 1349, '무려': 1350, '달러': 1351, '투자': 1352, '절하': 1353, '나이': 1354, '이하고': 1355, '오직': 1356, '케이팝': 1357, '입덕': 1358, '터지다': 1359, '맡다': 1360, '숨': 1361, '대사도': 1362, '고다': 1363, '유머': 1364, '본인': 1365, '실화': 1366, '눈가': 1367, '막다': 1368, '듣다': 1369, '깃': 1370, '주의': 1371, '달리다': 1372, '보라': 1373, '전설': 1374, '높이': 1375, '가서영': 1376, '빨다': 1377, '가기': 1378, '예쁘다': 1379, '스럽게': 1380, '똑같다': 1381, '요리': 1382, '그게': 1383, '물이': 1384, '정체': 1385, '맥주': 1386, '고작': 1387, '중년': 1388, '참나': 1389, '아침': 1390, '누': 1391, '어딨다': 1392, '갑자기': 1393, '생기': 1394, '인물': 1395, '틀다': 1396, '껏': 1397, '낮': 1398, '내기': 1399, '고본': 1400, '어찌': 1401, '정이': 1402, '다한': 1403, '자식': 1404, '용서': 1405, '고맙다': 1406, '존잘': 1407, '전형': 1408, '켜다': 1409, '한심하다': 1410, '입사': 1411, '버릇': 1412, '기전': 1413, '어이없다': 1414, '수입': 1415, '굿': 1416, '주제가': 1417, '마을': 1418, '어머니': 1419, '부끄러움': 1420, '남': 1421, '아오이': 1422, '으로나': 1423, '평생': 1424, '최고다': 1425, '무기': 1426, 'ㄹㅇ': 1427, '중병': 1428, '애초': 1429, '섬세하다': 1430, '도망': 1431, '사운드': 1432, '용다': 1433, '숨다': 1434, '타다': 1435, '남녀': 1436, '치열하다': 1437, '경쟁': 1438, '위대하다': 1439, '씻다': 1440, '드물다': 1441, '미안하다': 1442, '레이': 1443, '함정': 1444, '점도': 1445, '깜짝': 1446, '심리': 1447, '뇌리': 1448, '레알': 1449, '유쾌하다': 1450, '전반': 1451, '대감': 1452, '은하': 1453, '달라': 1454, '크리스': 1455, '샘': 1456, '부가': 1457, '자신감': 1458, '유익하다': 1459, '수능': 1460, '하나로': 1461, '밀고': 1462, '다감': 1463, '겨울왕국': 1464, '미도': 1465, '부르다': 1466, '바람': 1467, '포스터': 1468, '큰일': 1469, '갚다': 1470, '일도': 1471, '성하다': 1472, '들어서다': 1473, '비롯': 1474, '난하다': 1475, '부턴': 1476, '허무하다': 1477, '고시생': 1478, '건너': 1479, '차이': 1480, '차태현': 1481, '이별': 1482, '벌다': 1483, '반대': 1484, '조정': 1485, '작년': 1486, '전편': 1487, '스': 1488, '윌스미스': 1489, '사람과': 1490, '마약': 1491, '흑백': 1492, '깨달음': 1493, '토록': 1494, '입장': 1495, '떼다': 1496, '금': 1497, '마땅하다': 1498, '아라곤': 1499, '불가능': 1500, '비교': 1501, '짐': 1502, '척': 1503, '저지르다': 1504, '오는': 1505, '회상': 1506, '싫어하다': 1507, '깎다': 1508, '붕괴': 1509, '편도': 1510, '밀려오다': 1511, '떠오르다': 1512, '데이터': 1513, '공포물': 1514, '시점': 1515, '흘러가다': 1516, '심장': 1517, '위로': 1518, '호소': 1519, '정보': 1520, '이며': 1521, '케미': 1522, '잇몸': 1523, '여인': 1524, '확장': 1525, '가족영화': 1526, 'ㅇㅇ': 1527, '우정': 1528, '돌리다': 1529, '이병헌': 1530, '연예인': 1531, '거르': 1532, '구분': 1533, '선하다': 1534, '에서는': 1535, '이안': 1536, '탓': 1537, '이에요': 1538, '때리다': 1539, '유명하다': 1540, '사용': 1541, '디스토피아': 1542, '미래': 1543, '흠': 1544, '인기': 1545, '로안': 1546, '겨우': 1547, '해진': 1548, '이시영': 1549, '패': 1550, '달리': 1551, '죠': 1552, '다리': 1553, '경우': 1554, '아저씨': 1555, '보내다': 1556, '다치다': 1557, '폰': 1558, '고등학생': 1559, '설마': 1560, '월드': 1561, '명확하다': 1562, '명징함': 1563, '드러내다': 1564, '사다': 1565, '제공': 1566, '부도': 1567, '공': 1568, '갑': 1569, '걸리다': 1570, '검색': 1571, '밀수': 1572, '년뒤': 1573, '아카데미': 1574, '미장센': 1575, '에서도': 1576, '스크린': 1577, '도르다': 1578, '그린': 1579, '꺼내다': 1580, '에그': 1581, '가대': 1582, '개코': 1583, '암튼': 1584, '덕후': 1585, 'ㄷㄷ': 1586, '발생': 1587, '받아들이다': 1588, '확실하다': 1589, '바로': 1590, '엘리': 1591, '돋보이다': 1592, '바르다': 1593, '캐다': 1594, '권상우': 1595, '감안': 1596, '중후': 1597, '바': 1598, '속편': 1599, '의하다': 1600, '이실': 1601, '부부': 1602, '교육': 1603, '태어나다': 1604, '절망': 1605, '눈물샘': 1606, '끊임없다': 1607, '밝다': 1608, '가가': 1609, '어둡다': 1610, '선사': 1611, '모': 1612, '노바': 1613, '평범': 1614, '배': 1615, '음': 1616, '아내': 1617, '땐뽀': 1618, '진시황': 1619, '캐릭': 1620, '연상': 1621, '왕기': 1622, '말투': 1623, '요소': 1624, '가내': 1625, '청춘': 1626, '츠코': 1627, '서평': 1628, '고난': 1629, '러시아': 1630, '육아': 1631, '포화': 1632, '일상': 1633, '정신차리다': 1634, '주작': 1635, '불쌍하다': 1636, '케릭': 1637, '차원': 1638, '점수': 1639, '레오': 1640, '언': 1641, '방금': 1642, '어이': 1643, '왤다': 1644, '후회': 1645, '울부짖다': 1646, '몸': 1647, '쫓다': 1648, '왠만하다': 1649, '스릴러물': 1650, '쏘다': 1651, '기법': 1652, '조성': 1653, '맞닿다': 1654, '만으로도': 1655, '라서': 1656, '고요': 1657, '강추': 1658, '블룸': 1659, '하우스': 1660, '쓴다': 1661, '오마주': 1662, '잡': 1663, '띵작': 1664, '호강': 1665, '발견': 1666, '좌파': 1667, '독재자': 1668, '붙다': 1669, '어수선하다': 1670, '랄': 1671, '다이하드': 1672, '류': 1673, '공효진': 1674, '보신': 1675, '한편': 1676, '올라가다': 1677, '찍기': 1678, '고증': 1679, '철저하다': 1680, '지도': 1681, '군대': 1682, '바보': 1683, '만큼': 1684, '성찰': 1685, 'ㅈㄴ': 1686, '행복': 1687, '장난없다': 1688, '평범하다': 1689, '쫓기다': 1690, '마저': 1691, '대본': 1692, '보임': 1693, '흔하다': 1694, '제외': 1695, '흐흐': 1696, '도박장': 1697, '허용': 1698, '이지나': 1699, '빌런': 1700, '박정민': 1701, '낳다': 1702, '소개': 1703, '묘': 1704, '캐스팅': 1705, '너무하다': 1706, '오라버니': 1707, '청': 1708, '샬': 1709, '사하나': 1710, '국': 1711, '유일하다': 1712, '자부심': 1713, '따지다': 1714, '꿰': 1715, '박찬욱': 1716, '것안베': 1717, '창작': 1718, '뒷': 1719, '서태지': 1720, '류임': 1721, '올드보이': 1722, '프로덕션': 1723, '옥에티': 1724, '독재정': 1725, '시국': 1726, '이나마': 1727, '엇': 1728, '학생운동': 1729, '운동권': 1730, '이미화': 1731, '됫': 1732, '주사파': 1733, '사상': 1734, '산사': 1735, '잡고': 1736, '방송국': 1737, '국정원': 1738, '보안': 1739, '망치': 1740, '너트': 1741, '현정': 1742, '다언': 1743, '론': 1744, '민노총': 1745, '전교조': 1746, '기업': 1747, '중소기업': 1748, '상공': 1749, '등망': 1750, '가트': 1751, '렷': 1752, '깨우치다': 1753, '판단': 1754, '줌': 1755, '파가': 1756, '불평': 1757, '불행하다': 1758, '콜맨': 1759, '블루베리': 1760, '뜨겁다': 1761, '단순하다': 1762, '자존심': 1763, '물정': 1764, '용훈': 1765, '구국': 1766, '젓': 1767, '만상': 1768, '심마': 1769, '라나': 1770, '짜임새': 1771, '휼륭하다': 1772, '꼭흥해': 1773, '실패하다': 1774, '타협': 1775, '국뽕': 1776, '응원': 1777, '널': 1778, '뎈': 1779, '심박수': 1780, '이외': 1781, '동기': 1782, '해질녘': 1783, '갑갑': 1784, '금연': 1785, '강력': 1786, '안다': 1787, '특로운': 1788, '잘해주다': 1789, '심지어': 1790, '조연': 1791, '친일': 1792, '토왜': 1793, '거나': 1794, '신천지': 1795, '베충': 1796, '합': 1797, '활약': 1798, '조화': 1799, '물량': 1800, '투입': 1801, '무도': 1802, '독채': 1803, '관': 1804, '뒤늦다': 1805, '매기': 1806, '독립': 1807, '뇌임': 1808, '고진부': 1809, '괴물': 1810, '창조': 1811, '한순간': 1812, '노선': 1813, '연출가': 1814, '조선족': 1815, '짱깨': 1816, '그나': 1817, '마나': 1818, '았': 1819, '때볼': 1820, '딱이다': 1821, '쩐다': 1822, '및': 1823, '보다도': 1824, '여론': 1825, '성의': 1826, '관해': 1827, '별하나': 1828, '알리바이': 1829, '고모': 1830, '비난': 1831, '남편': 1832, '측': 1833, '이에이미': 1834, '자작': 1835, '입증': 1836, '이기도': 1837, '천만다행': 1838, '허진호': 1839, '고결': 1840, '청초하다': 1841, '멜로': 1842, '우와': 1843, '우왕': 1844, '우아': 1845, '정': 1846, '곤란하다': 1847, '멋': 1848, '지심': 1849, '부대': 1850, '컨셉': 1851, '리하나': 1852, '통일': 1853, '진짴': 1854, '빈틈': 1855, '친절하다': 1856, '깨다': 1857, '발바닥': 1858, '간지럽다': 1859, '긁다': 1860, '손가락': 1861, '에드': 1862, '외전': 1863, '전의': 1864, '정확': 1865, '육': 1866, '정중': 1867, '인간성': 1868, '파멸': 1869, '지름길': 1870, '최민식': 1871, '한석규': 1872, '로그': 1873, '전해지다': 1874, '뵙다': 1875, '무능하다': 1876, '대처': 1877, '숨기': 1878, '려': 1879, '의정부': 1880, '지옥': 1881, '가라': 1882, '조금씩': 1883, '사서': 1884, '잡다': 1885, '청소년': 1886, '버겁다': 1887, '어떠하다': 1888, '이아린': 1889, '납치': 1890, '부패하다': 1891, '대량학살': 1892, '저격': 1893, '수놈': 1894, '가터': 1895, '뒈지다': 1896, '뺑코': 1897, '카레': 1898, '박아': 1899, '어서': 1900, '수로': 1901, '뿜어내다': 1902, '출정': 1903, '즈': 1904, '도슨': 1905, '송강호': 1906, '입': 1907, '암것': 1908, '무거': 1909, '접영': 1910, '월날': 1911, '따로따로': 1912, '놀수': 1913, '검토': 1914, '개막': 1915, '삼류': 1916, '따위': 1917, '말리': 1918, '복지': 1919, '복지사': 1920, '약자': 1921, '돕다': 1922, '다짐': 1923, '국공내전': 1924, '까지의': 1925, '거대하다': 1926, '둘리': 1927, '절개': 1928, '날카롭다': 1929, '날리다': 1930, '애절하다': 1931, '개돼지': 1932, '간첩': 1933, '들끓다': 1934, '그저': 1935, '역겹다': 1936, '맘대로': 1937, '거재': 1938, '번하다': 1939, '리본': 1940, '랏': 1941, '성우': 1942, '귀신의집': 1943, '자세하다': 1944, '적다': 1945, '스포': 1946, '세용': 1947, '아우르다': 1948, '흘러나오다': 1949, '망상': 1950, '죄': 1951, '밝히다': 1952, '자본': 1953, '할리우드영화': 1954, '진창': 1955, '시궁창': 1956, '사례': 1957, '개폭망': 1958, '매년': 1959, '어느덧다': 1960, '만치': 1961, '멀어지다': 1962, '마법': 1963, '동심': 1964, '에게선': 1965, '들개': 1966, '혐': 1967, '우리네': 1968, '김주혁': 1969, '아련하다': 1970, '가방': 1971, '때우다': 1972, '참전': 1973, '로그인': 1974, '메이': 1975, '성범죄자': 1976, '인하': 1977, '대학교': 1978, '거실': 1979, '열': 1980, '절대로': 1981, '일어나지': 1982, '한마디': 1983, '신뢰': 1984, '떠들다': 1985, '갯지렁이': 1986, '끼': 1987, '펜': 1988, '스키': 1989, '나른하다': 1990, '블펜': 1991, '어도': 1992, '지루': 1993, '인피니티': 1994, '워': 1995, '음가': 1996, '미지': 1997, '분류': 1998, '안감': 1999, '폭풍': 2000, '오열': 2001, '천주교': 2002, '신자': 2003, '지그': 2004, '케이블': 2005, '대도': 2006, 'ㅠㅜㅜㅜ': 2007, '차승원': 2008, '리폼': 2009, '항하': 2010, '개척': 2011, '치유': 2012, '클래식': 2013, '판타스틱': 2014, '밀도': 2015, '따름': 2016, '부각': 2017, '이슈': 2018, '반작용': 2019, '수라': 2020, '거의': 2021, '좌절': 2022, '곧차': 2023, '쉬다': 2024, '가선': 2025, '이로': 2026, '에서야': 2027, '새기다': 2028, '정착': 2029, '돌아오다': 2030, '이윤': 2031, '진정하다': 2032, '파라다이스': 2033, '한윤': 2034, '으로는': 2035, '로사': 2036, '아키라': 2037, '종일': 2038, '고양이이야기': 2039, '적기가': 2040, '재방송': 2041, '가벼워지다': 2042, '그날': 2043, '계': 2044, '훌륭': 2045, '제작자': 2046, '열렬': 2047, '불안': 2048, '기술': 2049, '서스펜스': 2050, '무척': 2051, '깊이': 2052, '남다르다': 2053, '애처롭다': 2054, '한영': 2055, '이형': 2056, '익스': 2057, '트랙': 2058, '조카': 2059, '지수': 2060, '돌아가다': 2061, '도열': 2062, '돈값': 2063, '개멋': 2064, 'ㅜㅠ': 2065, '떨리다': 2066, '까먹다': 2067, '시그널': 2068, '탁': 2069, '트래블러': 2070, '시일': 2071, '구도': 2072, '도개': 2073, '공유': 2074, '천국': 2075, '행크': 2076, '쓰이다': 2077, '살좀빼': 2078, '뭘더바': 2079, '써주다': 2080, '이훈': 2081, '훈자': 2082, '극적': 2083, '콧물': 2084, '쏟다': 2085, '발리': 2086, '조인성': 2087, '빙의': 2088, '달래': 2089, '한쪽': 2090, '그나저나': 2091, '할머님': 2092, '보살': 2093, '당장': 2094, '노르웨이': 2095, '청년': 2096, '갱스터': 2097, '짜지다': 2098, '기해': 2099, '졸작': 2100, '손익': 2101, '분기점': 2102, '불속': 2103, '고우리': 2104, '갇': 2105, '몰드': 2106, '동심파괴': 2107, '초이': 2108, '무상함': 2109, '스푼': 2110, '위주': 2111, '물임': 2112, '서어': 2113, '거해': 2114, '팔이': 2115, '약': 2116, '첫': 2117, '번째': 2118, '해봤다': 2119, '날때': 2120, '꼴통': 2121, '문어': 2122, '호의': 2123, '욧': 2124, '이인상': 2125, '솔직하다': 2126, '해하': 2127, '려고': 2128, '참사': 2129, '가막': 2130, '고또': 2131, '지게': 2132, '클레멘타인': 2133, '도전': 2134, '레벨': 2135, '미스': 2136, '터주': 2137, '미소': 2138, '풀기': 2139, '벌어지다': 2140, '은자': 2141, '신이보고': 2142, '지켜보다': 2143, '은영': 2144, '얘깃': 2145, '도담': 2146, '젠안': 2147, '고프다': 2148, '찰떡': 2149, '미가': 2150, '남습': 2151, '일본사람': 2152, '웬만하다': 2153, '무과': 2154, '한지민': 2155, '돌보다': 2156, '과극': 2157, '우연': 2158, '돌아다니다': 2159, '짤': 2160, '과연': 2161, '궁합': 2162, '사주팔자': 2163, '가깝다': 2164, '연인': 2165, '이성': 2166, '방': 2167, '구석': 2168, '눕다': 2169, '편안': 2170, '희생': 2171, '수채화': 2172, '이차': 2173, '논란': 2174, '여대생': 2175, '거부': 2176, '유지태': 2177, '순수하다': 2178, '서른': 2179, '이를': 2180, '이연희': 2181, '배역': 2182, '비현실적': 2183, '순수': 2184, '필름': 2185, '학습': 2186, '도둑': 2187, '왼쪽': 2188, '어깨': 2189, '점퍼': 2190, '햇': 2191, '덜덜': 2192, '이하나': 2193, '앉다': 2194, '도듬': 2195, '망인': 2196, '영화사': 2197, '건개': 2198, '비약': 2199, '투성이': 2200, '덕': 2201, '어쩌면': 2202, '제값': 2203, '전문성': 2204, '우좀': 2205, '놀다': 2206, '댓': 2207, '박다': 2208, '이욕': 2209, '년전': 2210, '때론': 2211, '들키다': 2212, '지노': 2213, '카지노': 2214, '빠르다': 2215, '포커스': 2216, '둬': 2217, '부각시키다': 2218, '치중': 2219, '가져오다': 2220, '웟': 2221, '지하': 2222, '이입': 2223, '쫄깃': 2224, '맛': 2225, '곧': 2226, '주성치': 2227, '경의': 2228, '가게': 2229, '플래쉬몹': 2230, '은허': 2231, '찌르다': 2232, '압축': 2233, '작정': 2234, '도로': 2235, '펑펑': 2236, '만용': 2237, '무모하다': 2238, '결백': 2239, '관철': 2240, '모성애': 2241, '만추': 2242, '솔찍': 2243, '가라데': 2244, '덩어리': 2245, '도데': 2246, '인가요': 2247, '티켓': 2248, '이월': 2249, '예매': 2250, '이감': 2251, '호러영화': 2252, '현': 2253, '실적': 2254, '전환': 2255, '설리': 2256, '도보': 2257, '가운데': 2258, '이따금': 2259, '등장': 2260, '광경': 2261, '황금': 2262, 'ㄴ': 2263, '잼임': 2264, '효과': 2265, '꿀잼': 2266, '여자애': 2267, '경치': 2268, '동요': 2269, '차분하다': 2270, '배경음': 2271, '에든': 2272, '주인': 2273, '공소': 2274, '어여쁘다': 2275, '지겹다': 2276, '디지털': 2277, '년도': 2278, '드팬': 2279, '목마름': 2280, '아날로그': 2281, '루소': 2282, '과채': 2283, '드웍': 2284, '감사': 2285, '불렛': 2286, '제다이': 2287, '상급': 2288, '무사': 2289, '젠러': 2290, '접다': 2291, '나하': 2292, '다다': 2293, '고간': 2294, 'ㅈㄹ': 2295, '분리수거': 2296, '화점': 2297, '초대형': 2298, '배후': 2299, '생체': 2300, '병기': 2301, '권위자': 2302, '음모': 2303, '맞서다': 2304, '주무': 2305, '이강하': 2306, '남아': 2307, '가만': 2308, '가성': 2309, '그렇다고': 2310, '장사': 2311, '로서': 2312, '맹활약': 2313, '자격': 2314, '비중': 2315, '향': 2316, '아버지': 2317, '이그': 2318, '훈훈하다': 2319, '숫자': 2320, '불과하다': 2321, '한물가다': 2322, '생': 2323, '마감': 2324, '로써': 2325, '대우': 2326, '맛깔나다': 2327, '다양하다': 2328, '갱': 2329, '포스': 2330, '궁': 2331, '탈환': 2332, '벗다': 2333, '박력': 2334, '가녀리다': 2335, '팔뚝': 2336, '막히다': 2337, '뭐임': 2338, '음향': 2339, '구림': 2340, '디렉팅': 2341, '문': 2342, '이불': 2343, '일견': 2344, '전적': 2345, '오롯': 2346, '짊': 2347, '어질다': 2348, '고귀': 2349, '장산': 2350, '범': 2351, '엔드게임': 2352, '너무나도': 2353, '남발': 2354, '껄끄러웠': 2355, '소식': 2356, '쫄깃함': 2357, '이상은': 2358, '쫄쫄': 2359, '좀뒤': 2360, '엥': 2361, '양양': 2362, '고속도로': 2363, '아우토반': 2364, '최저임금': 2365, '퀸': 2366, 'ㅠㅅㅠ': 2367, '콘서트': 2368, '대리': 2369, '땅크': 2370, '일베': 2371, '스무살': 2372, '생일': 2373, '으앙': 2374, '비록': 2375, '강동원': 2376, '이군': 2377, '쓰러지다': 2378, '아이엠': 2379, '겐점': 2380, '끼리': 2381, '펭귄': 2382, '졸': 2383, '엽문': 2384, '체벌': 2385, '심각하다': 2386, '게다': 2387, '들어맞다': 2388, '두시': 2389, '대고': 2390, '이주': 2391, '이이해해': 2392, '예외': 2393, '꽂히다': 2394, '대충': 2395, '만만': 2396, '싱겁다': 2397, '비꼬기': 2398, '배틀로얄': 2399, '생존': 2400, '적의': 2401, '김': 2402, '꼴': 2403, '월': 2404, '훈련': 2405, '고위': 2406, '화장실': 2407, '세면대': 2408, '오줌': 2409, '공사': 2410, '앞두다': 2411, '양치질': 2412, '넌마츠코': 2413, '지보면': 2414, '맴돔각': 2415, '막상': 2416, '안재홍': 2417, '천식': 2418, '치료': 2419, '기손': 2420, '대치': 2421, '시재': 2422, '이온': 2423, '결코': 2424, '차': 2425, '은우': 2426, '서강준': 2427, '정해': 2428, '혁': 2429, '내자': 2430, '가도': 2431, '대만': 2432, '정지': 2433, '망작': 2434, '풀이': 2435, '존엄사': 2436, '빙자': 2437, '신데렐라': 2438, '서툴다': 2439, '필자': 2440, '쫄보': 2441, '도용': 2442, '벌써': 2443, '째': 2444, '불치': 2445, '병': 2446, '훔치다': 2447, '발노': 2448, '할렘': 2449, '더더': 2450, '중국사람': 2451, '인척': 2452, '뤼': 2453, '김빠진콜라': 2454, '따갑다': 2455, '대미': 2456, '한국판': 2457, '옮기다': 2458, '터미네이터': 2459, '우리말': 2460, '무심하다': 2461, '원제': 2462, '함부로': 2463, '고마치': 2464, '듯이': 2465, '사': 2466, '연한': 2467, '나쁜손': 2468, '눈앞': 2469, '김수환': 2470, '추기경': 2471, '고향': 2472, '정경': 2473, '무인': 2474, '미남': 2475, '고싸움': 2476, '고도': 2477, '고통': 2478, '이미': 2479, '헤아리다': 2480, '선량하다': 2481, '마음씨': 2482, '세작': 2483, '품다': 2484, '유우': 2485, '젤남': 2486, '밖': 2487, '양념': 2488, '비비고': 2489, '찌질': 2490, '이만': 2491, '거너': 2492, '매가': 2493, '박스': 2494, '미저리': 2495, '꿀': 2496, '풋풋하다': 2497, '쵸': 2498, '림': 2499, '가이거': 2500, '정화': 2501, 'ㄱㅅ': 2502, '화려': 2503, '모시다': 2504, '고급': 2505, '마냥': 2506, '무리': 2507, '전무후무': 2508, '쌈': 2509, '광고': 2510, '서기대': 2511, '비싸다': 2512, '을사': 2513, '용하다': 2514, '융합': 2515, '책상': 2516, '손': 2517, '아슬아슬하다': 2518, '으로가': 2519, '지갑': 2520, '애가': 2521, '압박': 2522, '테이큰': 2523, '치밀하다': 2524, '색조': 2525, '래야': 2526, '디즈니': 2527, '에게의': 2528, '미련': 2529, '스핑': 2530, '스냅': 2531, '사라지다': 2532, '참으로': 2533, '어버이날': 2534, '입금': 2535, '완료': 2536, '루크': 2537, '팰퍼틴': 2538, '집안': 2539, '가문': 2540, '덟': 2541, '아나킨': 2542, '눈감다': 2543, '지못미': 2544, '닥쵸': 2545, '넷플': 2546, '릭스': 2547, '성해': 2548, '후회되다': 2549, '모자라다': 2550, 'ㅜㅜㅠ': 2551, '멍하다': 2552, '어물': 2553, '러닝': 2554, '분분': 2555, '지점': 2556, '하이라이트': 2557, '난이': 2558, '고민': 2559, '그래도좋아': 2560, '열광하다': 2561, '매너리즘': 2562, '묻다': 2563, '주모': 2564, '은피': 2565, '토나오다': 2566, '실컷': 2567, '강': 2568, '추하다': 2569, '욕먹다': 2570, '무방': 2571, '뺏다': 2572, '반도': 2573, '아무런': 2574, '권해': 2575, '군인': 2576, '인칭': 2577, '으로서의': 2578, '오래오래': 2579, '굿굿': 2580, '여러분': 2581, '이영환': 2582, '홥니': 2583, '롱': 2584, '굵직하다': 2585, '날렵하다': 2586, '메다': 2587, '더스': 2588, '역쉬': 2589, '교전': 2590, '다원컨': 2591, '디뉴': 2592, '스샷': 2593, '몇배': 2594, '고등학교': 2595, '방송': 2596, '윤': 2597, '편제': 2598, '부탁드리다': 2599, '도감': 2600, '헌터': 2601, '언스토퍼블': 2602, '이드': 2603, '러시안룰렛': 2604, '문도': 2605, '파피': 2606, '이어지다': 2607, '시즌': 2608, '찡하다': 2609, '눈물나다': 2610, '가상': 2611, '뛰어넘다': 2612, '이상준': 2613, '죄다': 2614, '관계자': 2615, '개다': 2616, '고정': 2617, '주행': 2618, '겄': 2619, '영구': 2620, '땡': 2621, '칠이': 2622, '라푼젤': 2623, '바다': 2624, '갈라지다': 2625, '로컬': 2626, '더니': 2627, '수상하니': 2628, '감개': 2629, '무량': 2630, '함박': 2631, '소파': 2632, '의거': 2633, '지기': 2634, '데리다': 2635, '검': 2636, '심사': 2637, '토': 2638, '루킹': 2639, '덤': 2640, '켄토승': 2641, '분대': 2642, '사보다': 2643, '수백억': 2644, '로코': 2645, '서재': 2646, '밋엇어': 2647, '능글맞다': 2648, '이세영': 2649, '안정감': 2650, '박평': 2651, '베트맨': 2652, '다크나이트': 2653, '준걸': 2654, '다해': 2655, '에서가': 2656, '장흥': 2657, '행': 2658, '실': 2659, '제한': 2660, '국도': 2661, '푸다': 2662, '말씀드리다': 2663, '그만': 2664, '팔자': 2665, '허가윤': 2666, '사장': 2667, '일반인': 2668, '뛰어들다': 2669, '무말': 2670, '실력': 2671, '헀': 2672, '예산': 2673, '가위': 2674, '광팬': 2675, '가난': 2676, '비슷하다': 2677, '가세': 2678, '예의': 2679, '사과': 2680, '수억': 2681, '평론가': 2682, '하향': 2683, '거대': 2684, '만족하다': 2685, '도루': 2686, '마무': 2687, '거래': 2688, '외모': 2689, '호구': 2690, '왜케': 2691, '구려': 2692, '마커': 2693, '은퇴': 2694, '마이크': 2695, '대립': 2696, '기적': 2697, '극복': 2698, '진': 2699, '모자': 2700, '프로필': 2701, '판이': 2702, '퇴마': 2703, '오브': 2704, '진땀': 2705, '조정석': 2706, '에손': 2707, '쥐다': 2708, '하기는': 2709, '번봄': 2710, '돌': 2711, '봉사': 2712, '기부': 2713, '판타지영화': 2714, '부작임': 2715, '불구': 2716, '내정': 2717, '모험': 2718, '프로도': 2719, '피핀': 2720, '메리': 2721, '별보': 2722, '이첨': 2723, '만만해': 2724, '끝없다': 2725, '존중': 2726, '현명하다': 2727, '꿇다': 2728, '곤도르': 2729, '절': 2730, '라모': 2731, '생명체': 2732, '마법사': 2733, '간달프': 2734, '난쟁이': 2735, '엘프': 2736, '레골라스': 2737, '사람인': 2738, '파라': 2739, '미르': 2740, '등등': 2741, '역경': 2742, '고이': 2743, '찬사': 2744, '호빗': 2745, '통제': 2746, '온몸': 2747, '이돌': 2748, '감격': 2749, '원하다': 2750, '얕다': 2751, '덕이': 2752, '반지': 2753, '선영': 2754, '장퀄리티': 2755, '흡입': 2756, '영화계': 2757, '보아': 2758, '병맛': 2759, '걸왜': 2760, '박진': 2761, '남친': 2762, '럭': 2763, '볼땐': 2764, '가감': 2765, '자시다': 2766, '봉안': 2767, '여친': 2768, '해외': 2769, '수출': 2770, '염두': 2771, '에두': 2772, '부와': 2773, '부로': 2774, '나뉘다': 2775, '어찌어찌': 2776, '부터는': 2777, '해결': 2778, '이러하다': 2779, '지나치다': 2780, '현상': 2781, '니나': 2782, '작업': 2783, '티남': 2784, '수지': 2785, '한국사': 2786, '녹다': 2787, '맙시': 2788, '적극': 2789, '시한': 2790, '뤽베송': 2791, '사이비과학': 2792, '유미': 2793, '이뤄지다': 2794, '문외한': 2795, '쏙쏙빼박': 2796, '자료': 2797, '분석': 2798, '추출': 2799, '합리': 2800, '의심': 2801, '입부': 2802, '중국어': 2803, '통': 2804, '번역': 2805, '샷': 2806, '특별하다': 2807, '와는': 2808, '확연': 2809, '상치': 2810, '스포일러': 2811, '영웅': 2812, '뒤지다': 2813, '다완': 2814, '조절': 2815, '도의': 2816, '평화': 2817, '쥐': 2818, '락펴락': 2819, '디테일': 2820, '오점': 2821, '찾기': 2822, '기생충': 2823, '조여': 2824, '공통': 2825, '두근두근': 2826, '진중하다': 2827, '동물': 2828, '쩌구': 2829, '분명하다': 2830, '명화': 2831, '편견': 2832, '과학': 2833, '철처몇년': 2834, '대조': 2835, '밝혀내다': 2836, '다루다': 2837, '규명': 2838, '연극': 2839, '고영': 2840, '아기자기하다': 2841, '반갑다': 2842, '미끼': 2843, '한복': 2844, '수전': 2845, '멀티': 2846, '스킵': 2847, '해고': 2848, '순위': 2849, '요원': 2850, '넘사벽': 2851, '치': 2852, '감시': 2853, '대상': 2854, '진알': 2855, '부족': 2856, '늪': 2857, '사치': 2858, '에터': 2859, '명대사': 2860, '고르다': 2861, '동시': 2862, '커리어': 2863, '탱크': 2864, '텀블러': 2865, '레트로': 2866, '곡선': 2867, '배트': 2868, '모빌': 2869, '팀': 2870, '버튼': 2871, '기괴하다': 2872, '동화': 2873, '게국룰': 2874, '간시': 2875, '어제': 2876, '할리퀸': 2877, '선악': 2878, '경계': 2879, '악한': 2880, '깡패': 2881, '무대': 2882, '텀': 2883, '이구': 2884, '등심': 2885, '확': 2886, '떨다': 2887, '만가': 2888, '안정': 2889, '나머지': 2890, '중하': 2891, '고재': 2892, '흥겹다': 2893, '사랑스럽다': 2894, '뮤지컬': 2895, '분홍': 2896, '빨강': 2897, '노랑': 2898, '흰색': 2899, '원색': 2900, '느드뇌브': 2901, '프라이머리': 2902, '차량': 2903, '투시': 2904, '아디다스': 2905, '저지': 2906, '스트릿': 2907, '패션': 2908, '상당하다': 2909, '예전': 2910, '빨': 2911, '놀람': 2912, '아무나': 2913, '엽': 2914, '자단': 2915, '밝혀지다': 2916, '야합': 2917, '리얼': 2918, '기기': 2919, '불친절하다': 2920, '아찔하다': 2921, '참고': 2922, '자리': 2923, '오래': 2924, '피시방': 2925, '백수': 2926, '차도': 2927, '운전': 2928, '짜개': 2929, '일진': 2930, '빌다': 2931, '계획': 2932, '위험': 2933, '아슬아슬': 2934, '데비': 2935, '곧잘': 2936, '계획성': 2937, '즉흥': 2938, '덤비다': 2939, '방법': 2940, '팔': 2941, '강간': 2942, '도와주다': 2943, '망정': 2944, '정의': 2945, '금지': 2946, '가처분': 2947, '신청': 2948, '이해도': 2949, '잠들다': 2950, '서번': 2951, '쳐다보다': 2952, '강아지': 2953, '오토바이': 2954, '고가': 2955, '공간': 2956, '분다': 2957, '플렉스': 2958, '팝컴': 2959, '플레이': 2960, '앨범': 2961, '귀환': 2962, '투어': 2963, '순차': 2964, '떠벌리다': 2965, '삿대질': 2966, '상징': 2967, '이또': 2968, '발': 2969, '주스': 2970, '되게': 2971, '귀신': 2972, '로고': 2973, '호텔': 2974, '아줌마': 2975, '캐리': 2976, '경': 2977, '금융': 2978, '슈카': 2979, '리만브라더스': 2980, '관련': 2981, '개암': 2982, '저렴하다': 2983, '비용': 2984, '얼': 2985, '마안': 2986, '새벽': 2987, '은진': 2988, '짝': 2989, '팔팔하다': 2990, '왜왜왜': 2991, '은한': 2992, '뻘뻘': 2993, '부하': 2994, '당구': 2995, '일부러': 2996, '천천': 2997, '오드': 2998, '왜왜': 2999, '쌍둥이': 3000, '형님': 3001, '전활': 3002, '준석': 3003, '전화': 3004, '에야': 3005, '후시': 3006, '녹음': 3007, '별천지': 3008, '신기하다': 3009, '무국': 3010, '금보': 3011, '폭우': 3012, '댄스': 3013, '탭댄스': 3014, '최곤데': 3015, '고서': 3016, '오늘이': 3017, '보고서': 3018, 'ㅎㅎㅎ': 3019, '조폭': 3020, '아들': 3021, '뭣': 3022, '윗': 3023, '임무': 3024, '인력': 3025, '우후죽순': 3026, '쫌': 3027, '일텐데': 3028, '돼지': 3029, '쿵쾅': 3030, '원빈': 3031, '느님': 3032, '유튜브': 3033, '영화리뷰': 3034, '초등학교': 3035, '땐': 3036, '소이': 3037, '생전': 3038, '가구': 3039, '내쫓다': 3040, '바람결': 3041, '튀어나오다': 3042, '간소': 3043, '찬': 3044, '가까이': 3045, '금은': 3046, '유승호': 3047, '김향기': 3048, '이역': 3049, '달이다': 3050, '생으로': 3051, '무지개다리': 3052, '건너다': 3053, '요왕': 3054, '대륙': 3055, '초': 3056, '매': 3057, '에이스': 3058, '소화': 3059, '영환': 3060, '불륜': 3061, '조센징': 3062, '허리우드': 3063, '잊혀지다': 3064, '최민수': 3065, '잭니콜슨': 3066, '발각': 3067, '반응': 3068, '뚝': 3069, '놀란': 3070, '간호사': 3071, '비상': 3072, '벨': 3073, '울리다': 3074, '도망가다': 3075, '글점': 3076, '아영': 3077, '화평': 3078, '하라': 3079, '어줍다': 3080, '은사상': 3081, '쉬': 3082, '첫날': 3083, '가서일': 3084, '게더': 3085, '정신건강': 3086, '후련하다': 3087, '속보': 3088, '후쿠시': 3089, '소우': 3090, '여행': 3091, '짠하다': 3092, '마스터피스': 3093, '땔수': 3094, '백윤식': 3095, '재희': 3096, '자꾸': 3097, '돌아보다': 3098, '올리버': 3099, '이요': 3100, '이철': 3101, '성장하다': 3102, '깨닫다': 3103, '의상': 3104, '그간': 3105, '해오다': 3106, '로또': 3107, '대로의': 3108, '었': 3109, '나대다': 3110, '간의': 3111, '질문': 3112, '여건': 3113, '묘사': 3114, '가디': 3115, '테일': 3116, '열연': 3117, '비평': 3118, '펴다': 3119, '훼': 3120, '이기대': 3121, '스텝': 3122, '사모': 3123, '한보람': 3124, '오늘날': 3125, '최대': 3126, '빗겨': 3127, '에반스': 3128, '전남자친구': 3129, '피다': 3130, '미비': 3131, '포유': 3132, '되살리다': 3133, '에서나': 3134, '최우': 3135, '선적': 3136, '노트북': 3137, '늙다': 3138, '이이경': 3139, '정준호': 3140, '외삼촌': 3141, '모형': 3142, '깨': 3143, '열리다': 3144, '영재': 3145, '성격': 3146, '뇌': 3147, '비우다': 3148, '반부': 3149, '지침': 3150, '조미료': 3151, '담백하다': 3152, '깔리다': 3153, '디지다': 3154, '트': 3155, '안성맞춤': 3156, '비굴하다': 3157, '소리내다': 3158, '깔깔': 3159, '거린': 3160, '통역': 3161, '발음': 3162, '이왕': 3163, '하자': 3164, '출중하다': 3165, '끝내다': 3166, 'ㅡ': 3167, '진행형': 3168, '연령': 3169, '줄알': 3170, '착각': 3171, '에세': 3172, '느리다': 3173, '가물': 3174, '씬나다': 3175, '박하다': 3176, '껄': 3177, '상관': 3178, '조화롭다': 3179, '다재': 3180, '반드시': 3181, '암살': 3182, '제로': 3183, '대통령': 3184, '중앙': 3185, '장이': 3186, '라이': 3187, '녹취': 3188, '중정부': 3189, '미화': 3190, '의역': 3191, '사도': 3192, '일주일': 3193, '박히다': 3194, '국회의원선거': 3195, '김어준': 3196, '음모론': 3197, '기안': 3198, '고조': 3199, '계시다': 3200, '아이디어': 3201, '선거': 3202, '실행': 3203, '명백하다': 3204, '여태': 3205, '수사': 3206, '갖추다': 3207, '집단': 3208, '개혁': 3209, '드라마영화': 3210, '헬렌': 3211, '앤': 3212, '설리반': 3213, '인도판': 3214, '각색': 3215, '감싸다': 3216, '일어서다': 3217, '줄기': 3218, '그녀': 3219, '상속': 3220, '서무': 3221, '미처': 3222, '나타내다': 3223, '색깔': 3224, '뚫다': 3225, '맞이': 3226, '관문': 3227, '불씨': 3228, '잉태': 3229, '선물': 3230, '라신': 3231, '성스럽다': 3232, '아마도': 3233, '고비': 3234, '뚫어지다': 3235, '기진': 3236, '부여': 3237, '유치': 3238, '뽀짝': 3239, '배드': 3240, '이프': 3241, '익다': 3242, '신훈': 3243, '문정': 3244, '빨리': 3245, '기증': 3246, '가득': 3247, '안고': 3248, '초때': 3249, '선생': 3250, '와이어': 3251, '잘리다': 3252, '제야': 3253, '성함': 3254, '회': 3255, '차라': 3256, '정리': 3257, '슴': 3258, '시절': 3259, '자의': 3260, '하루하루': 3261, '각자': 3262, '사정': 3263, '제자': 3264, '불성실하다': 3265, '원동력': 3266, '즐거움': 3267, '난생처음': 3268, '밤새우다': 3269, '일본만화': 3270, '바하': 3271, '날아다니다': 3272, '유의': 3273, '한신': 3274, '음영': 3275, '정역': 3276, '광기': 3277, '나중': 3278, '가사': 3279, '씬스틸러': 3280, '우수': 3281, '하시모토': 3282, '칸나': 3283, '민폐': 3284, '특촬물': 3285, '꼭흥': 3286, '이확': 3287, '실파': 3288, '해치다': 3289, 'ㅅㅂ': 3290, '꼬맹이': 3291, '이웃': 3292, '주민': 3293, '소소하다': 3294, '곳곳': 3295, '랩': 3296, '만해': 3297, '관심': 3298, '공짜': 3299, '표': 3300, '건마': 3301, '라마': 3302, '뱅': 3303, '외로움': 3304, '허덕이다': 3305, '찢다': 3306, '발기다': 3307, '난치': 3308, '하든': 3309, '검다': 3310, '유로': 3311, '가스': 3312, '토리': 3313, '건데': 3314, '의향': 3315, '볼수': 3316, '켄': 3317, '간건데': 3318, '어쨌든': 3319, '만을': 3320, '추구': 3321, '칸': 3322, '유년기': 3323, '징기스칸': 3324, '정복기': 3325, '에너지': 3326, '가짜': 3327, '몽골': 3328, '듭니': 3329, '장영': 3330, '끝내주다': 3331, '평정': 3332, '후려치다': 3333, '악당': 3334, '태연하다': 3335, '걔': 3336, '줄어들다': 3337, '앞뒤': 3338, '배경미': 3339, '헷갈리다': 3340, '본명': 3341, '빨갛다': 3342, '드레스': 3343, '여생': 3344, '막연': 3345, '한기대': 3346, '묵묵': 3347, '머릿속': 3348, '촌스럽다': 3349, '야말로': 3350, '드라마연출': 3351, '므': 3352, '소통': 3353, '갈래': 3354, '나누어지다': 3355, '탐구': 3356, '만큼은': 3357, '용가리': 3358, '버티다': 3359, '듣기': 3360, '사업': 3361, '모조리': 3362, '이반': 3363, '쏙': 3364, '고아': 3365, '누지': 3366, '임파': 3367, '상식': 3368, '이하': 3369, '탑': 3370, '더러워지다': 3371, '주네': 3372, '와중': 3373, '이처': 3374, '거임': 3375, '거지': 3376, 'ㅅㅐ': 3377, '끼들': 3378, '판치다': 3379, '기니': 3380, '을해': 3381, '구글': 3382, '야후': 3383, '태': 3384, '밀리다': 3385, '웹툰': 3386, '포털사이트': 3387, '티어': 3388, '만도': 3389, '랜': 3390, '기이': 3391, '버': 3392, '표절': 3393, 'ㄴㄴ': 3394, 'ㄱㄱ': 3395, '뭘말': 3396, '열일': 3397, '도영': 3398, '에이': 3399, '런가': 3400, '끌리다': 3401, '긴박하다': 3402, '끌': 3403, '늘리다': 3404, '줄다': 3405, '듬': 3406, '굳이': 3407, '암': 3408, '쉬이': 3409, '이이이': 3410, '벌럼': 3411, '먼저': 3412, '읽다': 3413, '낮아지다': 3414, '함루': 3415, '이자': 3416, '해일': 3417, '성실하다': 3418, '족도': 3419, '공존': 3420, '경극': 3421, '통한': 3422, '서사시': 3423, '서인': 3424, '또다른': 3425, '현장': 3426, '참담하다': 3427, '당혹하다': 3428, '서러움': 3429, '잔인함': 3430, '의정': 3431, '해수': 3432, '교차': 3433, '이단하': 3434, '그런대로': 3435, '도해': 3436, '이래서': 3437, '구나': 3438, '틀림없다': 3439, '음공': 3440, '로미오': 3441, '줄리엣': 3442, '환상': 3443, '마틴': 3444, '정말로': 3445, '세포': 3446, '요뇌': 3447, '그랬는데': 3448, '선': 3449, '호감': 3450, '동려아': 3451, '미연': 3452, '기력': 3453, '구경': 3454, '보리': 3455, '넹개띵': 3456, '케다': 3457, '난리': 3458, '낑기다': 3459, '안함': 3460, 'ㄱ': 3461, '집합': 3462, '구영': 3463, '피고': 3464, '눙': 3465, '그만큼': 3466, '명연기': 3467, '크리스탈': 3468, 'ㅣ': 3469, '재밋어': 3470, '방부제': 3471, 'ㅋㄱ': 3472, '십': 3473, '수년': 3474, '흘': 3475, '흐르다': 3476, '늙음': 3477, '달라지다': 3478, '근사하다': 3479, '승민': 3480, '도자기': 3481, '집문': 3482, '고치다': 3483, '어디가': 3484, '신건': 3485, '가요': 3486, '총총': 3487, '한없이': 3488, '불로': 3489, '가능성': 3490, '우주선': 3491, '부모': 3492, '헤어': 3493, '렸': 3494, '더라면': 3495, '속물': 3496, '지난': 3497, '더손': 3498, '중학생': 3499, '이야': 3500, '마': 3501, '보삼': 3502, '우뢰': 3503, '볼껄': 3504, '그럭저럭': 3505, '처': 3506, '키': 3507, '식상하다': 3508, '듬번': 3509, '곡성': 3510, '들레다': 3511, '된거': 3512, '아오': 3513, '특다': 3514, '오프닝': 3515, '정신': 3516, '게실': 3517, '살인마': 3518, '자서전': 3519, '용납': 3520, '한옆': 3521, '혀': 3522, '두르다': 3523, '잔': 3524, '이오': 3525, '괴담': 3526, '초점': 3527, '그렇지만': 3528, '고지전': 3529, '만족감': 3530, '띵짝임': 3531, '어쩌다': 3532, '그동안': 3533, '혹은': 3534, '이접': 3535, '고개': 3536, '갸웃하다': 3537, '다큐멘터리': 3538, '명품': 3539, '보통': 3540, '포함': 3541, '일치': 3542, '움직이다': 3543, '무수': 3544, '도두': 3545, '해석': 3546, '그래비티': 3547, '견': 3548, '주어': 3549, '재난영화': 3550, '차별': 3551, '임신': 3552, '출산': 3553, '불문': 3554, '수의': 3555, '변신': 3556, '제기': 3557, '승부': 3558, '강점': 3559, '주': 3560, '본전': 3561, '뽑다': 3562, '쿠': 3563, '틴': 3564, '페이크': 3565, '킬빌': 3566, '애니매이션': 3567, '처절하다': 3568, '론데저': 3569, '감추다': 3570, '의선': 3571, '박만': 3572, '규모': 3573, '은세계': 3574, '딱하다': 3575, '일루미나티': 3576, '지소': 3577, '로소': 3578, '할부': 3579, '플러스': 3580, '아역배우': 3581, '보수': 3582, '하고도': 3583, '롯': 3584, '어감': 3585, '뜬금없이': 3586, '배경음악': 3587, '레옹': 3588, '에코': 3589, '나로': 3590, '자주': 3591, '다니다': 3592, '마이': 3593, '스파이': 3594, '꿀잼각': 3595, '소피': 3596, '톰과제리': 3597, '둥': 3598, '응': 3599, '샤이닝': 3600, '워낙': 3601, '어휴': 3602, '띄다': 3603, '엄띄엄': 3604, '양자물리학': 3605, '겨산겨': 3606, '에스티': 3607, '외우다': 3608, '노래방': 3609, '결제': 3610, '취소': 3611, '한가지': 3612, '복합': 3613, '미묘하다': 3614, '드넓다': 3615, '갯뻘': 3616, '진주': 3617, '에게나': 3618, '말고는': 3619, '외출': 3620, '택시': 3621, '운전사': 3622, '남산': 3623, '부장': 3624, '공통점': 3625, '민주당': 3626, '환타지': 3627, '가불': 3628, '경제력': 3629, '대부분': 3630, '지도자': 3631, '이크': 3632, '과도': 3633, '과를': 3634, '부풀리다': 3635, '인식': 3636, '박정희': 3637, '컴플렉스': 3638, '인분': 3639, '탕질': 3640, '요미': 3641, '요일': 3642, '청잼': 3643, '잘나다': 3644, '졸졸': 3645, '따라다니다': 3646, '저렇다': 3647, '당일': 3648, '결혼식': 3649, '스트레스': 3650, '로라': 3651, '이해해': 3652, '차리다': 3653, '리그': 3654, '두꺼비': 3655, '정이오': 3656, '라보': 3657, '다나': 3658, '을듯': 3659, '미셸': 3660, '안젤리나': 3661, '졸리': 3662, '정선': 3663, '암시': 3664, '맥락': 3665, '려원': 3666, '젠장': 3667, '게머선': 3668, '잔인': 3669, '툭툭': 3670, '이세': 3671, '다애': 3672, 'ㅠㅠㅠ': 3673, '디시': 3674, '이래': 3675, '람보': 3676, '코만도': 3677, '수많다': 3678, '출근길': 3679, '걸깨': 3680, '어떻': 3681, '게이': 3682, '해해': 3683, '난감': 3684, '재연배우': 3685, '한술': 3686, '이라고도': 3687, '시스템': 3688, '저예산영화': 3689, '다운': 3690, '밤': 3691, '일간': 3692, '잠': 3693, '못자다': 3694, '흡': 3695, '엔딩크레딧': 3696, '습': 3697, '양심': 3698, '또다시': 3699, '상이': 3700, '빗나가다': 3701, '다년': 3702, '끊다': 3703, '견자단': 3704, '노고': 3705, '가보': 3706, '톡특': 3707, '환경': 3708, '께서': 3709, '군사': 3710, '전문가': 3711, '특수부대': 3712, '출신': 3713, '자문': 3714, '경솔하다': 3715, '이루어지다': 3716, '소총': 3717, '단발': 3718, '템포': 3719, '도무지': 3720, '권총': 3721, '다녀오다': 3722, '구심': 3723, '헐리웃': 3724, '삼은': 3725, '코': 3726, '무시': 3727, '오만하다': 3728, '행위': 3729, '주요': 3730, '훼손': 3731, '분점': 3732, '다른사람': 3733, '초등학생': 3734, '미필': 3735, '확정': 3736, '한계': 3737, '집착': 3738, '숲': 3739, '아악': 3740, '나이스': 3741, '투밋추': 3742, '런닝': 3743, '남미': 3744, '암울하다': 3745, '뒷골목': 3746, '배경영': 3747, '생생하다': 3748, '기준': 3749, '무니': 3750, '내리다': 3751, '상쇄': 3752, '정모': 3753, '장보원': 3754, '과제': 3755, '죽음': 3756, '한새': 3757, '다니엘': 3758, '총명하다': 3759, '눈동자': 3760, '페북': 3761, '떠가다': 3762, '볼라': 3763, '자마자': 3764, '애기': 3765, '꽁': 3766, '쫄깃쫄': 3767, '회수': 3768, '연연하다': 3769, '추가': 3770, '블랙코미디': 3771, '조그만': 3772, '연결하다': 3773, '똥마려': 3774, '나타': 3775, '내려다보다': 3776, '개그': 3777, '옴': 3778, '박': 3779, '아무래도': 3780, '술': 3781, '극한': 3782, '직업': 3783, '보너스': 3784, '마저도': 3785, '평소': 3786, '타입': 3787, '미덕': 3788, '기억나다': 3789, '리스트': 3790, '들것': 3791, '쩜추격씬': 3792, '좀비랜드': 3793, '선도': 3794, '외계인': 3795, '취급': 3796, '맨인블랙': 3797, '문근영': 3798, '재아': 3799, '씹다': 3800, '드림': 3801, '출연료': 3802, '억원': 3803, '깃털': 3804, '이제일': 3805, '손해': 3806, '제작사': 3807, '위너': 3808, '음개': 3809, '한텐': 3810, '행운': 3811, '형제': 3812, '털깡': 3813, '제인': 3814, '듯총': 3815, '카리': 3816, '와이': 3817, '연발': 3818, '에반게리온': 3819, '여전': 3820, '위안': 3821, '부비': 3822, '라일': 3823, '발언': 3824, '공식': 3825, '오타쿠': 3826, '같': 3827, '틀어놓다': 3828, '이어폰': 3829, '줄이다': 3830, '꽉': 3831, '어색': 3832, '한복선': 3833, '번번번': 3834, '아토': 3835, '믹': 3836, '블론드': 3837, '시간여행': 3838, '화도': 3839, '더디다': 3840, '인간미': 3841, '백투더퓨처': 3842, '트릴로지': 3843, '사랑받다': 3844, '열광': 3845, '문화유산': 3846, '과언': 3847, '대신': 3848, '발족': 3849, '최강': 3850, '자랑': 3851, '오합지졸': 3852, '커서': 3853, '위정': 3854, '쉬리': 3855, '다임': 3856, '의심스럽다': 3857, '앞서': 3858, '에소': 3859, '바라냐': 3860, '다실': 3861, '파스': 3862, '스스': 3863, '애매하다': 3864, '쌓이다': 3865, '에보니': 3866, '희수': 3867, '풍부하다': 3868, '무한리필': 3869, '춤': 3870, '데넘': 3871, '파': 3872, '이모': 3873, '탄생': 3874, '낮잠': 3875, '깨어지다': 3876, '음날': 3877, '저녁': 3878, '분간': 3879, '잠시': 3880, '머물다': 3881, '똑똑하다': 3882, '개뿔': 3883, '충만': 3884, '안치우': 3885, '악평': 3886, '권력자': 3887, '정해지다': 3888, '갑지': 3889, '바랬던': 3890, '은기': 3891, '은사': 3892, '설경구': 3893, '일직선': 3894, '폭주기관차': 3895, '게왜': 3896, '리까': 3897, '풍경': 3898, '월일': 3899, '재개': 3900, '봉하': 3901, '안좋다': 3902, '우린': 3903, '임기태': 3904, '혼잡하다': 3905, '어지럽다': 3906, '거품': 3907, '평남': 3908, '간이': 3909, '어린이날': 3910, '특집': 3911, '화나다': 3912, '한치': 3913, '겁니다': 3914, '그지같다': 3915, '매일': 3916, '씩': 3917, '무고': 3918, '퀄': 3919, '좋아지다': 3920, '상처': 3921, '로비': 3922, '툴': 3923, '잡히다': 3924, '사토': 3925, '케루': 3926, '무표정': 3927, '팡': 3928, '곤': 3929, '가뭘': 3930, '아치': 3931, '미리': 3932, '여유': 3933, '탕': 3934, '골로': 3935, '정면': 3936, '돌파': 3937, '하란': 3938, '돈퍼': 3939, '여당': 3940, '모럴해저드': 3941, '파다': 3942, '까지만': 3943, '유사': 3944, '열거': 3945, '영화제': 3946, '정상': 3947, '단내': 3948, '이래저래': 3949, '하드캐리': 3950, '오금': 3951, '또잉': 3952, '요전': 3953, '인신공격': 3954, '가망': 3955, '와나': 3956, '크레딧': 3957, '멍': 3958, '신부': 3959, '호아킨': 3960, '피닉스': 3961, '안남': 3962, '조커': 3963, '리즈시절': 3964, '물고기': 3965, '테': 3966, '가무': 3967, '졸음': 3968, '싹': 3969, '순삭': 3970, '단물': 3971, '껌': 3972, '뱉다': 3973, '후속작': 3974, '황당하다': 3975, '간지나다': 3976, '해소': 3977, '더욱더': 3978, '존': 3979, '지리다': 3980, '테스트': 3981, '부족함': 3982, '낭비': 3983, '오감': 3984, '국영': 3985, '문탁': 3986, '타짜': 3987, '마돈나': 3988, '애틋하다': 3989, '말장난': 3990, '늘어놓다': 3991, '년치': 3992, '쾌감': 3993, '린다': 3994, '낯설다': 3995, '분장': 3996, '재판': 3997, '돌다': 3998, '아리다': 3999, '다모': 4000, '내주다': 4001, '에게도': 4002, '배신': 4003, '빼앗기다': 4004, '거짓말': 4005, '중얼거리다': 4006, '다비': 4007, '추다': 4008, '다분': 4009, '여년': 4010, '최애영': 4011, '꼽': 4012, '해상전투': 4013, '이순신장군': 4014, '지략': 4015, '질리': 4016, '장난스럽다': 4017, '키스': 4018, '소녀시대': 4019, '번영': 4020, '뇌절': 4021, '음악가': 4022, '사업가': 4023, '시행착오': 4024, '실수': 4025, '내조': 4026, '재능': 4027, '흑인': 4028, '빼놓다': 4029, '정치': 4030, '정감': 4031, '울': 4032, '뜻': 4033, '로되': 4034, '이무기': 4035, '의욕': 4036, '덕분': 4037}\n"
     ]
    }
   ],
   "source": [
    "tokenizer = Tokenizer()\n",
    "tokenizer.fit_on_texts(X_train)\n",
    "print(tokenizer.word_index)"
   ]
  },
  {
   "cell_type": "code",
   "execution_count": 24,
   "metadata": {},
   "outputs": [],
   "source": [
    "# token_size or vector_size\n",
    "threshold = 3 # 빈도수\n",
    "total_cnt = len(tokenizer.word_index) # 단어수\n",
    "rare_cnt = 0 # 빈도수가 threshold보다 작은 단어수\n",
    "total_freq = 0 # 훈련 data 전체 단어 빈도수 총 합\n",
    "rate_freq = 0 # 빈도수가 threshold보다 작은 단어들의 총 합\n",
    "\n",
    "# 단어와 빈도수의 pair를 key, value로 처리\n",
    "for key, value in tokenizer.word_index.items():\n",
    "    total_freq = total_freq + value\n",
    "    # 단어 빈도수가 threschold 보다 작은 값 처리\n",
    "    if (value < threshold):\n",
    "        rare_cnt += 1\n",
    "        rate_freq += value"
   ]
  },
  {
   "cell_type": "code",
   "execution_count": 26,
   "metadata": {},
   "outputs": [
    {
     "name": "stdout",
     "output_type": "stream",
     "text": [
      "[[611, 784, 1, 83, 16, 248, 1067, 1068, 17, 34, 7, 203, 1069, 1711, 2, 5, 1069, 16, 1712, 611, 785, 612, 279, 1713, 147, 157, 1], [1, 16, 204, 130, 1714, 50, 613, 495, 148], [421, 249, 1070, 614, 615, 786, 787, 224, 786, 3, 1071, 1715, 280, 422, 91, 423, 149, 1072, 1716, 788, 250, 616, 496, 1073, 58, 1074, 1717, 789, 131, 1075, 1718, 617, 58, 84, 421, 249, 1719, 1076, 788, 250, 63, 1073, 315, 1077, 616, 187, 251, 17, 1720, 1721, 1722, 36, 59, 41, 38, 101, 63, 205, 281, 8, 206, 54, 618, 1723, 1078, 1079, 1080, 1081, 13, 117, 118, 1082, 1724, 132]]\n"
     ]
    }
   ],
   "source": [
    "tokenizer = Tokenizer(vocab_size)\n",
    "tokenizer.fit_on_texts(X_train)\n",
    "X_train = tokenizer.texts_to_sequences(X_train)\n",
    "print(X_train[:3]) #[[150, 12, 434, 5, 454, ...]]"
   ]
  },
  {
   "cell_type": "code",
   "execution_count": 27,
   "metadata": {},
   "outputs": [],
   "source": [
    "Y_train = np.array(train_data['score']) "
   ]
  },
  {
   "cell_type": "code",
   "execution_count": 28,
   "metadata": {},
   "outputs": [
    {
     "name": "stdout",
     "output_type": "stream",
     "text": [
      "최대: 186\n",
      "평균: 19.194235588972433\n"
     ]
    }
   ],
   "source": [
    "# 패딩 처리\n",
    "# 최대 리뷰 길이, 평균 리뷰 길이 구하기\n",
    "max_review_length = max(len(x) for x in X_train)\n",
    "print(\"최대:\", max_review_length)\n",
    "mean_review_length = sum(map(len, X_train)) / len(X_train)\n",
    "print(\"평균:\", mean_review_length)\n",
    "\n",
    "\n",
    "# plt.hist((len(s) for s in X_train), bin=50)\n",
    "# plt.xlabel('length of samples')\n",
    "# plt.ylabel('number of samples')"
   ]
  },
  {
   "cell_type": "code",
   "execution_count": 29,
   "metadata": {},
   "outputs": [],
   "source": [
    "max_length = 30\n",
    "X_train = pad_sequences(X_train, maxlen=max_length)"
   ]
  },
  {
   "cell_type": "markdown",
   "metadata": {},
   "source": [
    "# LSTM을 이용한 리뷰 모델 생성"
   ]
  },
  {
   "cell_type": "code",
   "execution_count": 30,
   "metadata": {},
   "outputs": [],
   "source": [
    "from tensorflow.keras.layers import Embedding, Dense, LSTM, Input\n",
    "from tensorflow.keras.models import Model\n",
    "# EarlyStopping : 지정 epochs 횟수 전에 과적합의 모습을 보이면 멈추게 함\n",
    "# ModelCheckpoint : 이전 모델보다 성능이 좋을 때만 저장한다.\n",
    "from tensorflow.keras.callbacks import EarlyStopping, ModelCheckpoint"
   ]
  },
  {
   "cell_type": "code",
   "execution_count": 31,
   "metadata": {},
   "outputs": [
    {
     "name": "stdout",
     "output_type": "stream",
     "text": [
      "Model: \"model\"\n",
      "_________________________________________________________________\n",
      "Layer (type)                 Output Shape              Param #   \n",
      "=================================================================\n",
      "input_1 (InputLayer)         [(None, 30)]              0         \n",
      "_________________________________________________________________\n",
      "embedding (Embedding)        (None, 30, 100)           403600    \n",
      "_________________________________________________________________\n",
      "lstm (LSTM)                  (None, 128)               117248    \n",
      "_________________________________________________________________\n",
      "dense (Dense)                (None, 1)                 129       \n",
      "=================================================================\n",
      "Total params: 520,977\n",
      "Trainable params: 520,977\n",
      "Non-trainable params: 0\n",
      "_________________________________________________________________\n"
     ]
    }
   ],
   "source": [
    "T = X_train.shape[1] # 30\n",
    "i = Input(shape=(T,))\n",
    "x = Embedding(vocab_size, 100)(i) \n",
    "x = LSTM(128)(x)\n",
    "x = Dense(1, activation='sigmoid')(x)\n",
    "model = Model(i, x)\n",
    "model.summary()"
   ]
  },
  {
   "cell_type": "code",
   "execution_count": 32,
   "metadata": {},
   "outputs": [],
   "source": [
    "eStop = EarlyStopping(monitor='val_loss',\n",
    "                      mode='min',\n",
    "                      verbose = 1, # log 찍기\n",
    "                      patience=5) # 5번 연속 떨어지면 멈춤\n",
    "\n",
    "mCheck = ModelCheckpoint('best_model.h5',\n",
    "                        monitor='val_acc',\n",
    "                        mode='max',\n",
    "                        verbose=1,\n",
    "                        save_best_only=True)"
   ]
  },
  {
   "cell_type": "code",
   "execution_count": 33,
   "metadata": {},
   "outputs": [],
   "source": [
    "eStop = EarlyStopping(monitor='val_loss', mode='min', verbose=1, patience=4)\n",
    "mCheck = ModelCheckpoint('best_model.h5', monitor='val_acc', mode='max', \n",
    "                     verbose=1, save_best_only=True)"
   ]
  },
  {
   "cell_type": "code",
   "execution_count": 34,
   "metadata": {},
   "outputs": [
    {
     "data": {
      "text/plain": [
       "(798, 30)"
      ]
     },
     "execution_count": 34,
     "metadata": {},
     "output_type": "execute_result"
    }
   ],
   "source": [
    "X_train.shape"
   ]
  },
  {
   "cell_type": "code",
   "execution_count": 35,
   "metadata": {},
   "outputs": [
    {
     "data": {
      "text/plain": [
       "(798,)"
      ]
     },
     "execution_count": 35,
     "metadata": {},
     "output_type": "execute_result"
    }
   ],
   "source": [
    "Y_train.shape"
   ]
  },
  {
   "cell_type": "code",
   "execution_count": 36,
   "metadata": {},
   "outputs": [
    {
     "name": "stdout",
     "output_type": "stream",
     "text": [
      "Train on 798 samples\n",
      "798/798 [==============================] - 4s 5ms/sample - loss: 0.6070 - accuracy: 0.7218\n"
     ]
    }
   ],
   "source": [
    "model.compile(optimizer='adam', loss='binary_crossentropy', metrics=['accuracy'])\n",
    "history = model.fit(X_train, Y_train)\n",
    "#                     , epochs=15)\n",
    "#                     callbacks=[eStop, mCheck], batch_size=60, validation_split=0.2)"
   ]
  },
  {
   "cell_type": "code",
   "execution_count": 37,
   "metadata": {},
   "outputs": [
    {
     "name": "stdout",
     "output_type": "stream",
     "text": [
      "Train on 638 samples, validate on 160 samples\n",
      "540/638 [========================>.....] - ETA: 0s - loss: 0.5645 - accuracy: 0.7204WARNING:tensorflow:Can save best model only with val_acc available, skipping.\n",
      "638/638 [==============================] - 2s 4ms/sample - loss: 0.5549 - accuracy: 0.7288 - val_loss: 0.5523 - val_accuracy: 0.7188\n"
     ]
    },
    {
     "data": {
      "text/plain": [
       "<tensorflow.python.keras.callbacks.History at 0x12dc3579a88>"
      ]
     },
     "execution_count": 37,
     "metadata": {},
     "output_type": "execute_result"
    }
   ],
   "source": [
    "model.compile(loss='binary_crossentropy',\n",
    "             optimizer='adam',\n",
    "             metrics=['accuracy'])\n",
    "model.fit(X_train, Y_train, epochs=1, validation_split=0.2, batch_size=60, callbacks=[eStop, mCheck])"
   ]
  },
  {
   "cell_type": "code",
   "execution_count": null,
   "metadata": {},
   "outputs": [],
   "source": []
  }
 ],
 "metadata": {
  "kernelspec": {
   "display_name": "Python 3",
   "language": "python",
   "name": "python3"
  },
  "language_info": {
   "codemirror_mode": {
    "name": "ipython",
    "version": 3
   },
   "file_extension": ".py",
   "mimetype": "text/x-python",
   "name": "python",
   "nbconvert_exporter": "python",
   "pygments_lexer": "ipython3",
   "version": "3.7.6"
  }
 },
 "nbformat": 4,
 "nbformat_minor": 4
}
